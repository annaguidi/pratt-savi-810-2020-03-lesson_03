{
 "cells": [
  {
   "cell_type": "markdown",
   "metadata": {},
   "source": [
    "# Lesson 03\n",
    "\n",
    "# If-Elif-Else Conditionals, Spatial Data Models, Introduction to Pandas, GeoPandas\n",
    "\n",
    "\n",
    "![http://www.pratt.edu/tiny_mce/plugins/imagemanager/files/Light_brown_blue22.jpg](http://www.pratt.edu/tiny_mce/plugins/imagemanager/files/Light_brown_blue22.jpg)"
   ]
  },
  {
   "cell_type": "markdown",
   "metadata": {},
   "source": [
    "# Class Links\n",
    "\n",
    "* [Syllabus](https://docs.google.com/document/d/1KHxT-NkaoXXdSNkK8JlzL2FFgmNoxPQ25fwgtXPnbrY)\n",
    "\n",
    "* [Class Google Spreadsheet](https://docs.google.com/spreadsheets/d/1t481r7HjQBbjNtFOABSOlcckzQhdrh12TCzpSYKurI0/edit?usp=sharing)\n",
    "\n",
    "* [Google Meetup Video Hangout](https://meet.google.com/aym-kxae-bzr)\n",
    "\n",
    "  * For United States Dial +1 \n",
    "    * (669) 220-6376\n",
    "  * Enter this PIN when prompted: \n",
    "    * 891 126 706 #\n",
    "  \n",
    "* [GitHub Organization](https://github.com/pratt-savi-810)\n",
    "\n",
    "* [Slack Organization](https://app.slack.com/client/T01068MA75X/C010J3Q2QET)\n",
    "\n",
    "* [Resources](https://github.com/pratt-savi-810/resources)"
   ]
  },
  {
   "cell_type": "markdown",
   "metadata": {
    "toc": true
   },
   "source": [
    "<h1>Table of Contents<span class=\"tocSkip\"></span></h1>\n",
    "<div class=\"toc\"><ul class=\"toc-item\"><li><span><a href=\"#Lesson-03\" data-toc-modified-id=\"Lesson-03-1\">Lesson 03</a></span></li><li><span><a href=\"#If-Elif-Else-Conditionals,-Spatial-Data-Models,-Introduction-to-Pandas,-GeoPandas\" data-toc-modified-id=\"If-Elif-Else-Conditionals,-Spatial-Data-Models,-Introduction-to-Pandas,-GeoPandas-2\">If-Elif-Else Conditionals, Spatial Data Models, Introduction to Pandas, GeoPandas</a></span></li><li><span><a href=\"#Class-Links\" data-toc-modified-id=\"Class-Links-3\">Class Links</a></span></li><li><span><a href=\"#Learning-Objectives\" data-toc-modified-id=\"Learning-Objectives-4\">Learning Objectives</a></span><ul class=\"toc-item\"><li><ul class=\"toc-item\"><li><span><a href=\"#Fork-this-Lesson-Repo\" data-toc-modified-id=\"Fork-this-Lesson-Repo-4.0.1\">Fork this Lesson Repo</a></span></li></ul></li></ul></li><li><span><a href=\"#A-quick-overview-of-Terminal\" data-toc-modified-id=\"A-quick-overview-of-Terminal-5\">A quick overview of Terminal</a></span><ul class=\"toc-item\"><li><ul class=\"toc-item\"><li><ul class=\"toc-item\"><li><span><a href=\"#Open-Your-Terminal\" data-toc-modified-id=\"Open-Your-Terminal-5.0.0.1\">Open Your Terminal</a></span></li></ul></li></ul></li></ul></li><li><span><a href=\"#Geospatial-Data-Models\" data-toc-modified-id=\"Geospatial-Data-Models-6\">Geospatial Data Models</a></span><ul class=\"toc-item\"><li><ul class=\"toc-item\"><li><span><a href=\"#Install-GeoPandas\" data-toc-modified-id=\"Install-GeoPandas-6.0.1\">Install GeoPandas</a></span><ul class=\"toc-item\"><li><span><a href=\"#Command-to-Install-Geopandas\" data-toc-modified-id=\"Command-to-Install-Geopandas-6.0.1.1\">Command to Install Geopandas</a></span></li></ul></li></ul></li><li><span><a href=\"#Geospatial-Data-Models\" data-toc-modified-id=\"Geospatial-Data-Models-6.1\">Geospatial Data Models</a></span><ul class=\"toc-item\"><li><span><a href=\"#Vector-Data-Model\" data-toc-modified-id=\"Vector-Data-Model-6.1.1\">Vector Data Model</a></span></li><li><span><a href=\"#Shapely\" data-toc-modified-id=\"Shapely-6.1.2\">Shapely</a></span></li><li><span><a href=\"#Points\" data-toc-modified-id=\"Points-6.1.3\">Points</a></span></li><li><span><a href=\"#Lines---(LineString)\" data-toc-modified-id=\"Lines---(LineString)-6.1.4\">Lines - (LineString)</a></span></li><li><span><a href=\"#Intersection-of-Two-LineString-Objects\" data-toc-modified-id=\"Intersection-of-Two-LineString-Objects-6.1.5\">Intersection of Two LineString Objects</a></span></li><li><span><a href=\"#Polygons\" data-toc-modified-id=\"Polygons-6.1.6\">Polygons</a></span><ul class=\"toc-item\"><li><span><a href=\"#MultiPoint\" data-toc-modified-id=\"MultiPoint-6.1.6.1\">MultiPoint</a></span></li></ul></li></ul></li><li><span><a href=\"#Folium-(Python---Leaflet)-Mapping-Example\" data-toc-modified-id=\"Folium-(Python---Leaflet)-Mapping-Example-6.2\">Folium (Python - Leaflet) Mapping Example</a></span><ul class=\"toc-item\"><li><ul class=\"toc-item\"><li><span><a href=\"#First-let's-pip-install-folium.\" data-toc-modified-id=\"First-let's-pip-install-folium.-6.2.0.1\">First let's pip install folium.</a></span></li><li><span><a href=\"#Now-let's-save-this-Leaflet-map-as-an-html-webpage.\" data-toc-modified-id=\"Now-let's-save-this-Leaflet-map-as-an-html-webpage.-6.2.0.2\">Now let's save this Leaflet map as an html webpage.</a></span></li></ul></li></ul></li></ul></li><li><span><a href=\"#Finishing-up-From-Lecture-02\" data-toc-modified-id=\"Finishing-up-From-Lecture-02-7\">Finishing up From Lecture 02</a></span><ul class=\"toc-item\"><li><span><a href=\"#Python-Functions-Quick-Review\" data-toc-modified-id=\"Python-Functions-Quick-Review-7.1\">Python Functions Quick Review</a></span><ul class=\"toc-item\"><li><span><a href=\"#Define-your-own-Python-Functions\" data-toc-modified-id=\"Define-your-own-Python-Functions-7.1.1\">Define your own Python Functions</a></span></li><li><span><a href=\"#Python-Package-US---US-state-meta-information\" data-toc-modified-id=\"Python-Package-US---US-state-meta-information-7.1.2\">Python Package US - US state meta information</a></span></li><li><span><a href=\"#Python-function-Print-vs.-Return\" data-toc-modified-id=\"Python-function-Print-vs.-Return-7.1.3\">Python function Print vs. Return</a></span></li></ul></li><li><span><a href=\"#If---Elif---Else-Condition-Flow\" data-toc-modified-id=\"If---Elif---Else-Condition-Flow-7.2\">If - Elif - Else Condition Flow</a></span><ul class=\"toc-item\"><li><span><a href=\"#Now-let's-put-these-conditions-into-a-function\" data-toc-modified-id=\"Now-let's-put-these-conditions-into-a-function-7.2.1\">Now let's put these conditions into a function</a></span></li></ul></li></ul></li><li><span><a href=\"#Introduction-to-Pandas\" data-toc-modified-id=\"Introduction-to-Pandas-8\">Introduction to Pandas</a></span><ul class=\"toc-item\"><li><span><a href=\"#Pandas-DataFrame\" data-toc-modified-id=\"Pandas-DataFrame-8.1\">Pandas DataFrame</a></span></li><li><span><a href=\"#Pandas-Input-Data-Types\" data-toc-modified-id=\"Pandas-Input-Data-Types-8.2\">Pandas Input Data Types</a></span><ul class=\"toc-item\"><li><span><a href=\"#Reading-and-Writing-Pandas-Data\" data-toc-modified-id=\"Reading-and-Writing-Pandas-Data-8.2.1\">Reading and Writing Pandas Data</a></span><ul class=\"toc-item\"><li><span><a href=\"#Let's-import-the-pandas-library-as-pd\" data-toc-modified-id=\"Let's-import-the-pandas-library-as-pd-8.2.1.1\">Let's import the <code>pandas</code> library as <code>pd</code></a></span></li></ul></li><li><span><a href=\"#Let's-work-with-some-real-world-data!!!\" data-toc-modified-id=\"Let's-work-with-some-real-world-data!!!-8.2.2\">Let's work with some real-world data!!!</a></span></li></ul></li><li><span><a href=\"#US-Hospitals-Data\" data-toc-modified-id=\"US-Hospitals-Data-8.3\">US Hospitals Data</a></span></li></ul></li><li><span><a href=\"#Geopandas\" data-toc-modified-id=\"Geopandas-9\">Geopandas</a></span><ul class=\"toc-item\"><li><ul class=\"toc-item\"><li><span><a href=\"#Geopandas-Description\" data-toc-modified-id=\"Geopandas-Description-9.0.1\">Geopandas Description</a></span><ul class=\"toc-item\"><li><span><a href=\"#Geopandas-Installation\" data-toc-modified-id=\"Geopandas-Installation-9.0.1.1\">Geopandas Installation</a></span></li></ul></li><li><span><a href=\"#(THREAD)-Where-have-we-seen-this-POINT-(-...-)-thing-before???\" data-toc-modified-id=\"(THREAD)-Where-have-we-seen-this-POINT-(-...-)-thing-before???-9.0.2\">(THREAD) Where have we seen this <code>POINT ( ... )</code> thing before???</a></span><ul class=\"toc-item\"><li><span><a href=\"#You-can-now-take-a-look-at-our-file-in-QGIS-or-some-other-package!\" data-toc-modified-id=\"You-can-now-take-a-look-at-our-file-in-QGIS-or-some-other-package!-9.0.2.1\">You can now take a look at our file in QGIS or some other package!</a></span></li></ul></li></ul></li></ul></li></ul></div>"
   ]
  },
  {
   "cell_type": "markdown",
   "metadata": {},
   "source": [
    "# Learning Objectives\n",
    "\n",
    "* Spatial Data Models\n",
    "* If-Elif-Else Conditionals  \n",
    "* Introduction to Pandas\n",
    "* Introduction to GeoPandas\n"
   ]
  },
  {
   "cell_type": "markdown",
   "metadata": {},
   "source": [
    "\n",
    "### Fork this Lesson Repo\n",
    "\n",
    "https://github.com/pratt-savi-810/pratt-savi-810-2020-03-lesson_03\n"
   ]
  },
  {
   "cell_type": "markdown",
   "metadata": {},
   "source": [
    "# A quick overview of Terminal\n",
    "\n",
    "\n",
    "##### Going forward let's install libraries at the commandline. \n",
    "\n",
    "#### Open Your Terminal \n",
    "\n",
    "##### Mac\n",
    "\n",
    "To open Terminal.app on your Mac hit COMMAND + SPACE for search, then type `Terminal` to search for and open. Or go to `Applications/Utilities/Terminal.app`.\n",
    "\n",
    "![terminal_mac](https://cdn.macpaw.com/uploads/images/Screen%20Shot%202018-10-17%20at%2018.14.23.png)\n",
    "_Terminal app on Mac_\n",
    "\n",
    "\n",
    "##### Windows\n",
    "\n",
    "For Windows you can use [Powershell](https://docs.microsoft.com/en-us/powershell/scripting/getting-started/getting-started-with-windows-powershell?view=powershell-7) or the Anaconda Powershell install app\n",
    "\n",
    "![powershell_anaconda](https://www.anaconda.com/wp-content/uploads/2020/03/Navigator-screenshot-1024x551.png)\n",
    "_Anaconda has its own Powershell app_\n",
    "\n",
    "# Geospatial Data Models \n",
    "\n",
    "\n",
    "### Install GeoPandas\n",
    "\n",
    "\n",
    "#### Command to Install Geopandas\n",
    "\n",
    "**Make sure you are in the correct [Conda virtual environment](https://docs.conda.io/projects/conda/en/latest/user-guide/concepts/environments.html) (here we are using `geospatial`.)**\n",
    "\n",
    "```\n",
    "(geospatial) $ conda install geopandas \n",
    "```\n",
    "\n",
    "> A data model is a way of defining and representing real world surfaces and characteristics in GIS. There are two primary types of spatial data models: Vector and Raster.\n",
    "  * Vector data represents features as discrete points, lines, and polygons\n",
    "  * Raster data represents features as a rectangular matrix of square cells (pixels)\n",
    "    \n",
    "    Source: http://gsp.humboldt.edu/OLM/Courses/GSP_216_Online/lesson3-1/data-models.html\n",
    "\n",
    "\n",
    "## Geospatial Data Models \n",
    "\n",
    "### Vector Data Model\n",
    "\n",
    "> Vector data is very common, and is often used to represent features like roads and boundaries. Vector data comes in the form of points and lines that are geometrically and mathematically associated.  \n",
    "\n",
    "> * Points:\n",
    "    * One pair of coordinates defines the location of a point feature.\n",
    "    * Individual X,Y\n",
    "\n",
    "> * Polylines (LineStrings):\n",
    "    * Two or more pairs of coordinates that are connected define a line feature.\n",
    "    * A series of connected points - Actually, a set of series of connected points.\n",
    "\n",
    "> * Polygons:\n",
    "    * Multiple pairs of coordinates that are connected and closed define a polygon feature.\n",
    "    * A series of connected points that loop back to the first point\n",
    "      * Multiple \"polygons\" can exist in one layer\n",
    "      * Polygons can have internal polygons or \"holes\"\n",
    "      * The beginning and ending coordinates for a polygon are the same.\n",
    "      \n",
    "      Source: http://gsp.humboldt.edu/OLM/Courses/GSP_216_Online/lesson3-1/data-models.html\n",
    "\n",
    "\n",
    "\n",
    "### Shapely\n",
    "One dependency (another Python Library GeoPandas depends on) is [Shapely](https://shapely.readthedocs.io/en/latest/manual.html)\n",
    "\n",
    "> Deterministic spatial analysis is an important component of computational approaches to problems in agriculture, ecology, epidemiology, sociology, and many other fields. What is the surveyed perimeter/area ratio of these patches of animal habitat? Which properties in this town intersect with the 50-year flood contour from this new flooding model? What are the extents of findspots for ancient ceramic wares with maker’s marks “A” and “B”, and where do the extents overlap? What’s the path from home to office that best skirts identified zones of location based spam? These are just a few of the possible questions addressable using non-statistical spatial analysis, and more specifically, computational geometry.\n",
    "\n",
    "> Shapely is a Python package for set-theoretic analysis and manipulation of planar features using (via Python’s ctypes module) functions from the well known and widely deployed GEOS library. GEOS, a port of the Java Topology Suite (JTS), is the geometry engine of the PostGIS spatial extension for the PostgreSQL RDBMS. The designs of JTS and GEOS are largely guided by the Open Geospatial Consortium’s Simple Features Access Specification 1 and Shapely adheres mainly to the same set of standard classes and operations. Shapely is thereby deeply rooted in the conventions of the geographic information systems (GIS) world, but aspires to be equally useful to programmers working on non-conventional problems.\n",
    "\n",
    "> The first premise of Shapely is that Python programmers should be able to perform PostGIS type geometry operations outside of an RDBMS. Not all geographic data originate or reside in a RDBMS or are best processed using SQL. We can load data into a spatial RDBMS to do work, but if there’s no mandate to manage (the “M” in “RDBMS”) the data over time in the database we’re using the wrong tool for the job. The second premise is that the persistence, serialization, and map projection of features are significant, but orthogonal problems. You may not need a hundred GIS format readers and writers or the multitude of State Plane projections, and Shapely doesn’t burden you with them. The third premise is that Python idioms trump GIS (or Java, in this case, since the GEOS library is derived from JTS, a Java project) idioms.\n",
    "\n",
    "> If you enjoy and profit from idiomatic Python, appreciate packages that do one thing well, and agree that a spatially enabled RDBMS is often enough the wrong tool for your computational geometry job, Shapely might be for you. Source: https://shapely.readthedocs.io/en/latest/manual.html\n",
    "\n"
   ]
  },
  {
   "cell_type": "markdown",
   "metadata": {},
   "source": [
    "### Points"
   ]
  },
  {
   "cell_type": "code",
   "execution_count": 46,
   "metadata": {},
   "outputs": [],
   "source": [
    "from shapely.geometry import Point\n",
    "import matplotlib.pyplot as plt"
   ]
  },
  {
   "cell_type": "code",
   "execution_count": 47,
   "metadata": {},
   "outputs": [
    {
     "data": {
      "image/svg+xml": [
       "<svg xmlns=\"http://www.w3.org/2000/svg\" xmlns:xlink=\"http://www.w3.org/1999/xlink\" width=\"100.0\" height=\"100.0\" viewBox=\"-1.0 -1.0 2.0 2.0\" preserveAspectRatio=\"xMinYMin meet\"><g transform=\"matrix(1,0,0,-1,0,0.0)\"><circle cx=\"0.0\" cy=\"0.0\" r=\"0.06\" stroke=\"#555555\" stroke-width=\"0.02\" fill=\"#66cc99\" opacity=\"0.6\" /></g></svg>"
      ],
      "text/plain": [
       "<shapely.geometry.point.Point at 0x7faf229011d0>"
      ]
     },
     "execution_count": 47,
     "metadata": {},
     "output_type": "execute_result"
    }
   ],
   "source": [
    "point_1 = Point(0.0, 0.0)\n",
    "point_1"
   ]
  },
  {
   "cell_type": "code",
   "execution_count": 48,
   "metadata": {},
   "outputs": [
    {
     "data": {
      "image/svg+xml": [
       "<svg xmlns=\"http://www.w3.org/2000/svg\" xmlns:xlink=\"http://www.w3.org/1999/xlink\" width=\"100.0\" height=\"100.0\" viewBox=\"44.0 99.0 2.0 2.0\" preserveAspectRatio=\"xMinYMin meet\"><g transform=\"matrix(1,0,0,-1,0,200.0)\"><circle cx=\"45.0\" cy=\"100.0\" r=\"0.06\" stroke=\"#555555\" stroke-width=\"0.02\" fill=\"#66cc99\" opacity=\"0.6\" /></g></svg>"
      ],
      "text/plain": [
       "<shapely.geometry.point.Point at 0x7faf229016d0>"
      ]
     },
     "execution_count": 48,
     "metadata": {},
     "output_type": "execute_result"
    }
   ],
   "source": [
    "point_2 = Point(45.0, 100.0)\n",
    "point_2"
   ]
  },
  {
   "cell_type": "code",
   "execution_count": 49,
   "metadata": {},
   "outputs": [
    {
     "data": {
      "image/png": "[encoded data removed]",
      "text/plain": [
       "<Figure size 432x288 with 1 Axes>"
      ]
     },
     "metadata": {
      "needs_background": "light"
     },
     "output_type": "display_data"
    }
   ],
   "source": [
    "p_1x, p_1y = point_1.xy\n",
    "p_2x, p_2y = point_2.xy\n",
    "\n",
    "plt.scatter(p_1x, p_1y)\n",
    "plt.scatter(p_2x, p_2y)\n",
    "plt.show();"
   ]
  },
  {
   "cell_type": "markdown",
   "metadata": {},
   "source": [
    "### Lines - (LineString)"
   ]
  },
  {
   "cell_type": "code",
   "execution_count": 30,
   "metadata": {},
   "outputs": [],
   "source": [
    "from shapely.geometry import LineString"
   ]
  },
  {
   "cell_type": "code",
   "execution_count": 31,
   "metadata": {},
   "outputs": [
    {
     "data": {
      "image/svg+xml": [
       "<svg xmlns=\"http://www.w3.org/2000/svg\" xmlns:xlink=\"http://www.w3.org/1999/xlink\" width=\"100.0\" height=\"100.0\" viewBox=\"-0.08 -0.08 2.16 2.16\" preserveAspectRatio=\"xMinYMin meet\"><g transform=\"matrix(1,0,0,-1,0,2.0)\"><polyline fill=\"none\" stroke=\"#66cc99\" stroke-width=\"0.0432\" points=\"0.0,0.0 2.0,2.0\" opacity=\"0.8\" /></g></svg>"
      ],
      "text/plain": [
       "<shapely.geometry.linestring.LineString at 0x7faf00726210>"
      ]
     },
     "execution_count": 31,
     "metadata": {},
     "output_type": "execute_result"
    }
   ],
   "source": [
    "line = LineString([(0, 0), (2, 2)])\n",
    "line"
   ]
  },
  {
   "cell_type": "code",
   "execution_count": 32,
   "metadata": {},
   "outputs": [],
   "source": [
    "a = LineString([(0, 0), (1, 1), (1,2), (2,2)])\n",
    "b = LineString([(0, 0), (1, 1), (2,1), (2,2)])"
   ]
  },
  {
   "cell_type": "code",
   "execution_count": 33,
   "metadata": {},
   "outputs": [
    {
     "data": {
      "image/svg+xml": [
       "<svg xmlns=\"http://www.w3.org/2000/svg\" xmlns:xlink=\"http://www.w3.org/1999/xlink\" width=\"100.0\" height=\"100.0\" viewBox=\"-0.08 -0.08 2.16 2.16\" preserveAspectRatio=\"xMinYMin meet\"><g transform=\"matrix(1,0,0,-1,0,2.0)\"><polyline fill=\"none\" stroke=\"#66cc99\" stroke-width=\"0.0432\" points=\"0.0,0.0 1.0,1.0 1.0,2.0 2.0,2.0\" opacity=\"0.8\" /></g></svg>"
      ],
      "text/plain": [
       "<shapely.geometry.linestring.LineString at 0x7faf006dd110>"
      ]
     },
     "execution_count": 33,
     "metadata": {},
     "output_type": "execute_result"
    }
   ],
   "source": [
    "a"
   ]
  },
  {
   "cell_type": "code",
   "execution_count": 34,
   "metadata": {},
   "outputs": [
    {
     "data": {
      "image/svg+xml": [
       "<svg xmlns=\"http://www.w3.org/2000/svg\" xmlns:xlink=\"http://www.w3.org/1999/xlink\" width=\"100.0\" height=\"100.0\" viewBox=\"-0.08 -0.08 2.16 2.16\" preserveAspectRatio=\"xMinYMin meet\"><g transform=\"matrix(1,0,0,-1,0,2.0)\"><polyline fill=\"none\" stroke=\"#66cc99\" stroke-width=\"0.0432\" points=\"0.0,0.0 1.0,1.0 2.0,1.0 2.0,2.0\" opacity=\"0.8\" /></g></svg>"
      ],
      "text/plain": [
       "<shapely.geometry.linestring.LineString at 0x7faf006dd4d0>"
      ]
     },
     "execution_count": 34,
     "metadata": {},
     "output_type": "execute_result"
    }
   ],
   "source": [
    "b"
   ]
  },
  {
   "cell_type": "markdown",
   "metadata": {},
   "source": [
    "### Intersection of Two LineString Objects"
   ]
  },
  {
   "cell_type": "code",
   "execution_count": 35,
   "metadata": {},
   "outputs": [
    {
     "data": {
      "image/svg+xml": [
       "<svg xmlns=\"http://www.w3.org/2000/svg\" xmlns:xlink=\"http://www.w3.org/1999/xlink\" width=\"100.0\" height=\"100.0\" viewBox=\"-0.08 -0.08 2.16 2.16\" preserveAspectRatio=\"xMinYMin meet\"><g transform=\"matrix(1,0,0,-1,0,2.0)\"><g><circle cx=\"2.0\" cy=\"2.0\" r=\"0.0648\" stroke=\"#555555\" stroke-width=\"0.0216\" fill=\"#66cc99\" opacity=\"0.6\" /><polyline fill=\"none\" stroke=\"#66cc99\" stroke-width=\"0.0432\" points=\"0.0,0.0 1.0,1.0\" opacity=\"0.8\" /></g></g></svg>"
      ],
      "text/plain": [
       "<shapely.geometry.collection.GeometryCollection at 0x7faf22087b90>"
      ]
     },
     "execution_count": 35,
     "metadata": {},
     "output_type": "execute_result"
    }
   ],
   "source": [
    "x = a.intersection(b)  # geoprocessing operation\n",
    "x"
   ]
  },
  {
   "cell_type": "markdown",
   "metadata": {},
   "source": [
    "### Polygons"
   ]
  },
  {
   "cell_type": "code",
   "execution_count": 36,
   "metadata": {},
   "outputs": [],
   "source": [
    "from shapely.geometry import Polygon"
   ]
  },
  {
   "cell_type": "code",
   "execution_count": 37,
   "metadata": {},
   "outputs": [],
   "source": [
    "c = Polygon([[1, 1], [-1, 3], [3, 3], [3, 1]])\n",
    "d = Polygon([[0, 0], [0, 4], [4, 4], [4, 0]])"
   ]
  },
  {
   "cell_type": "code",
   "execution_count": 38,
   "metadata": {},
   "outputs": [
    {
     "data": {
      "image/svg+xml": [
       "<svg xmlns=\"http://www.w3.org/2000/svg\" xmlns:xlink=\"http://www.w3.org/1999/xlink\" width=\"100.0\" height=\"100.0\" viewBox=\"-1.16 0.84 4.32 2.3200000000000003\" preserveAspectRatio=\"xMinYMin meet\"><g transform=\"matrix(1,0,0,-1,0,4.0)\"><path fill-rule=\"evenodd\" fill=\"#66cc99\" stroke=\"#555555\" stroke-width=\"0.0864\" opacity=\"0.6\" d=\"M 1.0,1.0 L -1.0,3.0 L 3.0,3.0 L 3.0,1.0 L 1.0,1.0 z\" /></g></svg>"
      ],
      "text/plain": [
       "<shapely.geometry.polygon.Polygon at 0x7faee0f77c90>"
      ]
     },
     "execution_count": 38,
     "metadata": {},
     "output_type": "execute_result"
    }
   ],
   "source": [
    "c"
   ]
  },
  {
   "cell_type": "code",
   "execution_count": 39,
   "metadata": {},
   "outputs": [
    {
     "data": {
      "image/svg+xml": [
       "<svg xmlns=\"http://www.w3.org/2000/svg\" xmlns:xlink=\"http://www.w3.org/1999/xlink\" width=\"100.0\" height=\"100.0\" viewBox=\"-0.16 -0.16 4.32 4.32\" preserveAspectRatio=\"xMinYMin meet\"><g transform=\"matrix(1,0,0,-1,0,4.0)\"><path fill-rule=\"evenodd\" fill=\"#66cc99\" stroke=\"#555555\" stroke-width=\"0.0864\" opacity=\"0.6\" d=\"M 0.0,0.0 L 0.0,4.0 L 4.0,4.0 L 4.0,0.0 L 0.0,0.0 z\" /></g></svg>"
      ],
      "text/plain": [
       "<shapely.geometry.polygon.Polygon at 0x7faee0f77590>"
      ]
     },
     "execution_count": 39,
     "metadata": {},
     "output_type": "execute_result"
    }
   ],
   "source": [
    "d"
   ]
  },
  {
   "cell_type": "code",
   "execution_count": 40,
   "metadata": {},
   "outputs": [
    {
     "data": {
      "text/plain": [
       "6.0"
      ]
     },
     "execution_count": 40,
     "metadata": {},
     "output_type": "execute_result"
    }
   ],
   "source": [
    "c.area"
   ]
  },
  {
   "cell_type": "code",
   "execution_count": 41,
   "metadata": {},
   "outputs": [
    {
     "data": {
      "image/svg+xml": [
       "<svg xmlns=\"http://www.w3.org/2000/svg\" xmlns:xlink=\"http://www.w3.org/1999/xlink\" width=\"100.0\" height=\"100.0\" viewBox=\"-0.12 0.88 3.24 2.24\" preserveAspectRatio=\"xMinYMin meet\"><g transform=\"matrix(1,0,0,-1,0,4.0)\"><path fill-rule=\"evenodd\" fill=\"#66cc99\" stroke=\"#555555\" stroke-width=\"0.06480000000000001\" opacity=\"0.6\" d=\"M 1.0,1.0 L 0.0,2.0 L 0.0,3.0 L 3.0,3.0 L 3.0,1.0 L 1.0,1.0 z\" /></g></svg>"
      ],
      "text/plain": [
       "<shapely.geometry.polygon.Polygon at 0x7faee0f77890>"
      ]
     },
     "execution_count": 41,
     "metadata": {},
     "output_type": "execute_result"
    }
   ],
   "source": [
    "x = c.intersection(d)\n",
    "x"
   ]
  },
  {
   "cell_type": "markdown",
   "metadata": {},
   "source": [
    "#### MultiPoint "
   ]
  },
  {
   "cell_type": "code",
   "execution_count": 42,
   "metadata": {},
   "outputs": [],
   "source": [
    "from shapely.geometry import MultiPoint"
   ]
  },
  {
   "cell_type": "code",
   "execution_count": 43,
   "metadata": {},
   "outputs": [
    {
     "data": {
      "image/svg+xml": [
       "<svg xmlns=\"http://www.w3.org/2000/svg\" xmlns:xlink=\"http://www.w3.org/1999/xlink\" width=\"100.0\" height=\"100.0\" viewBox=\"-0.08 -1.08 1.1600000000000001 2.16\" preserveAspectRatio=\"xMinYMin meet\"><g transform=\"matrix(1,0,0,-1,0,0.0)\"><g><circle cx=\"0.0\" cy=\"0.0\" r=\"0.0648\" stroke=\"#555555\" stroke-width=\"0.0216\" fill=\"#66cc99\" opacity=\"0.6\" /><circle cx=\"1.0\" cy=\"1.0\" r=\"0.0648\" stroke=\"#555555\" stroke-width=\"0.0216\" fill=\"#66cc99\" opacity=\"0.6\" /><circle cx=\"1.0\" cy=\"-1.0\" r=\"0.0648\" stroke=\"#555555\" stroke-width=\"0.0216\" fill=\"#66cc99\" opacity=\"0.6\" /></g></g></svg>"
      ],
      "text/plain": [
       "<shapely.geometry.multipoint.MultiPoint at 0x7faf221bdf10>"
      ]
     },
     "execution_count": 43,
     "metadata": {},
     "output_type": "execute_result"
    }
   ],
   "source": [
    "e = MultiPoint([(0, 0), (1, 1), (1, -1)])\n",
    "e"
   ]
  },
  {
   "cell_type": "code",
   "execution_count": 45,
   "metadata": {},
   "outputs": [
    {
     "data": {
      "image/svg+xml": [
       "<svg xmlns=\"http://www.w3.org/2000/svg\" xmlns:xlink=\"http://www.w3.org/1999/xlink\" width=\"100.0\" height=\"100.0\" viewBox=\"-0.08 -1.08 1.1600000000000001 2.16\" preserveAspectRatio=\"xMinYMin meet\"><g transform=\"matrix(1,0,0,-1,0,0.0)\"><path fill-rule=\"evenodd\" fill=\"#66cc99\" stroke=\"#555555\" stroke-width=\"0.0432\" opacity=\"0.6\" d=\"M 1.0,-1.0 L 0.0,0.0 L 1.0,1.0 L 1.0,-1.0 z\" /></g></svg>"
      ],
      "text/plain": [
       "<shapely.geometry.polygon.Polygon at 0x7faf30af16d0>"
      ]
     },
     "execution_count": 45,
     "metadata": {},
     "output_type": "execute_result"
    }
   ],
   "source": [
    "e.convex_hull  # minimum bounding geometry"
   ]
  },
  {
   "cell_type": "markdown",
   "metadata": {},
   "source": [
    "## Folium (Python - Leaflet) Mapping Example\n",
    "\n",
    "#### First let's pip install folium. \n",
    "Or you can try `conda`. \n",
    "\n",
    "```\n",
    "$ pip install folium\n",
    "```"
   ]
  },
  {
   "cell_type": "code",
   "execution_count": 51,
   "metadata": {},
   "outputs": [],
   "source": [
    "import folium "
   ]
  },
  {
   "cell_type": "code",
   "execution_count": 52,
   "metadata": {},
   "outputs": [
    {
     "data": {
      "text/html": [
       "<div style=\"width:100%;\"><div style=\"position:relative;width:100%;height:0;padding-bottom:60%;\"><iframe src=\"data:text/html;charset=utf-8;base64,PCFET0NUWVBFIGh0bWw+CjxoZWFkPiAgICAKICAgIDxtZXRhIGh0dHAtZXF1aXY9ImNvbnRlbnQtdHlwZSIgY29udGVudD0idGV4dC9odG1sOyBjaGFyc2V0PVVURi04IiAvPgogICAgCiAgICAgICAgPHNjcmlwdD4KICAgICAgICAgICAgTF9OT19UT1VDSCA9IGZhbHNlOwogICAgICAgICAgICBMX0RJU0FCTEVfM0QgPSBmYWxzZTsKICAgICAgICA8L3NjcmlwdD4KICAgIAogICAgPHNjcmlwdCBzcmM9Imh0dHBzOi8vY2RuLmpzZGVsaXZyLm5ldC9ucG0vbGVhZmxldEAxLjUuMS9kaXN0L2xlYWZsZXQuanMiPjwvc2NyaXB0PgogICAgPHNjcmlwdCBzcmM9Imh0dHBzOi8vY29kZS5qcXVlcnkuY29tL2pxdWVyeS0xLjEyLjQubWluLmpzIj48L3NjcmlwdD4KICAgIDxzY3JpcHQgc3JjPSJodHRwczovL21heGNkbi5ib290c3RyYXBjZG4uY29tL2Jvb3RzdHJhcC8zLjIuMC9qcy9ib290c3RyYXAubWluLmpzIj48L3NjcmlwdD4KICAgIDxzY3JpcHQgc3JjPSJodHRwczovL2NkbmpzLmNsb3VkZmxhcmUuY29tL2FqYXgvbGlicy9MZWFmbGV0LmF3ZXNvbWUtbWFya2Vycy8yLjAuMi9sZWFmbGV0LmF3ZXNvbWUtbWFya2Vycy5qcyI+PC9zY3JpcHQ+CiAgICA8bGluayByZWw9InN0eWxlc2hlZXQiIGhyZWY9Imh0dHBzOi8vY2RuLmpzZGVsaXZyLm5ldC9ucG0vbGVhZmxldEAxLjUuMS9kaXN0L2xlYWZsZXQuY3NzIi8+CiAgICA8bGluayByZWw9InN0eWxlc2hlZXQiIGhyZWY9Imh0dHBzOi8vbWF4Y2RuLmJvb3RzdHJhcGNkbi5jb20vYm9vdHN0cmFwLzMuMi4wL2Nzcy9ib290c3RyYXAubWluLmNzcyIvPgogICAgPGxpbmsgcmVsPSJzdHlsZXNoZWV0IiBocmVmPSJodHRwczovL21heGNkbi5ib290c3RyYXBjZG4uY29tL2Jvb3RzdHJhcC8zLjIuMC9jc3MvYm9vdHN0cmFwLXRoZW1lLm1pbi5jc3MiLz4KICAgIDxsaW5rIHJlbD0ic3R5bGVzaGVldCIgaHJlZj0iaHR0cHM6Ly9tYXhjZG4uYm9vdHN0cmFwY2RuLmNvbS9mb250LWF3ZXNvbWUvNC42LjMvY3NzL2ZvbnQtYXdlc29tZS5taW4uY3NzIi8+CiAgICA8bGluayByZWw9InN0eWxlc2hlZXQiIGhyZWY9Imh0dHBzOi8vY2RuanMuY2xvdWRmbGFyZS5jb20vYWpheC9saWJzL0xlYWZsZXQuYXdlc29tZS1tYXJrZXJzLzIuMC4yL2xlYWZsZXQuYXdlc29tZS1tYXJrZXJzLmNzcyIvPgogICAgPGxpbmsgcmVsPSJzdHlsZXNoZWV0IiBocmVmPSJodHRwczovL3Jhd2Nkbi5naXRoYWNrLmNvbS9weXRob24tdmlzdWFsaXphdGlvbi9mb2xpdW0vbWFzdGVyL2ZvbGl1bS90ZW1wbGF0ZXMvbGVhZmxldC5hd2Vzb21lLnJvdGF0ZS5jc3MiLz4KICAgIDxzdHlsZT5odG1sLCBib2R5IHt3aWR0aDogMTAwJTtoZWlnaHQ6IDEwMCU7bWFyZ2luOiAwO3BhZGRpbmc6IDA7fTwvc3R5bGU+CiAgICA8c3R5bGU+I21hcCB7cG9zaXRpb246YWJzb2x1dGU7dG9wOjA7Ym90dG9tOjA7cmlnaHQ6MDtsZWZ0OjA7fTwvc3R5bGU+CiAgICAKICAgICAgICAgICAgPG1ldGEgbmFtZT0idmlld3BvcnQiIGNvbnRlbnQ9IndpZHRoPWRldmljZS13aWR0aCwKICAgICAgICAgICAgICAgIGluaXRpYWwtc2NhbGU9MS4wLCBtYXhpbXVtLXNjYWxlPTEuMCwgdXNlci1zY2FsYWJsZT1ubyIgLz4KICAgICAgICAgICAgPHN0eWxlPgogICAgICAgICAgICAgICAgI21hcF80NmJmZmY1NTdkNGM0NDU2YTZlZjI4MDI1NDBjMzU2NiB7CiAgICAgICAgICAgICAgICAgICAgcG9zaXRpb246IHJlbGF0aXZlOwogICAgICAgICAgICAgICAgICAgIHdpZHRoOiAxMDAuMCU7CiAgICAgICAgICAgICAgICAgICAgaGVpZ2h0OiAxMDAuMCU7CiAgICAgICAgICAgICAgICAgICAgbGVmdDogMC4wJTsKICAgICAgICAgICAgICAgICAgICB0b3A6IDAuMCU7CiAgICAgICAgICAgICAgICB9CiAgICAgICAgICAgIDwvc3R5bGU+CiAgICAgICAgCjwvaGVhZD4KPGJvZHk+ICAgIAogICAgCiAgICAgICAgICAgIDxkaXYgY2xhc3M9ImZvbGl1bS1tYXAiIGlkPSJtYXBfNDZiZmZmNTU3ZDRjNDQ1NmE2ZWYyODAyNTQwYzM1NjYiID48L2Rpdj4KICAgICAgICAKPC9ib2R5Pgo8c2NyaXB0PiAgICAKICAgIAogICAgICAgICAgICB2YXIgbWFwXzQ2YmZmZjU1N2Q0YzQ0NTZhNmVmMjgwMjU0MGMzNTY2ID0gTC5tYXAoCiAgICAgICAgICAgICAgICAibWFwXzQ2YmZmZjU1N2Q0YzQ0NTZhNmVmMjgwMjU0MGMzNTY2IiwKICAgICAgICAgICAgICAgIHsKICAgICAgICAgICAgICAgICAgICBjZW50ZXI6IFs0NS4zNzIsIC0xMjEuNjk3Ml0sCiAgICAgICAgICAgICAgICAgICAgY3JzOiBMLkNSUy5FUFNHMzg1NywKICAgICAgICAgICAgICAgICAgICB6b29tOiAzLAogICAgICAgICAgICAgICAgICAgIHpvb21Db250cm9sOiB0cnVlLAogICAgICAgICAgICAgICAgICAgIHByZWZlckNhbnZhczogZmFsc2UsCiAgICAgICAgICAgICAgICB9CiAgICAgICAgICAgICk7CgogICAgICAgICAgICAKCiAgICAgICAgCiAgICAKICAgICAgICAgICAgdmFyIHRpbGVfbGF5ZXJfMmY4NzA4N2QyNGVmNDAxYTgyNmQ0ZDQ3YzJjNGQ2NjkgPSBMLnRpbGVMYXllcigKICAgICAgICAgICAgICAgICJodHRwczovL3N0YW1lbi10aWxlcy17c30uYS5zc2wuZmFzdGx5Lm5ldC90ZXJyYWluL3t6fS97eH0ve3l9LmpwZyIsCiAgICAgICAgICAgICAgICB7ImF0dHJpYnV0aW9uIjogIk1hcCB0aWxlcyBieSBcdTAwM2NhIGhyZWY9XCJodHRwOi8vc3RhbWVuLmNvbVwiXHUwMDNlU3RhbWVuIERlc2lnblx1MDAzYy9hXHUwMDNlLCB1bmRlciBcdTAwM2NhIGhyZWY9XCJodHRwOi8vY3JlYXRpdmVjb21tb25zLm9yZy9saWNlbnNlcy9ieS8zLjBcIlx1MDAzZUNDIEJZIDMuMFx1MDAzYy9hXHUwMDNlLiBEYXRhIGJ5IFx1MDAyNmNvcHk7IFx1MDAzY2EgaHJlZj1cImh0dHA6Ly9vcGVuc3RyZWV0bWFwLm9yZ1wiXHUwMDNlT3BlblN0cmVldE1hcFx1MDAzYy9hXHUwMDNlLCB1bmRlciBcdTAwM2NhIGhyZWY9XCJodHRwOi8vY3JlYXRpdmVjb21tb25zLm9yZy9saWNlbnNlcy9ieS1zYS8zLjBcIlx1MDAzZUNDIEJZIFNBXHUwMDNjL2FcdTAwM2UuIiwgImRldGVjdFJldGluYSI6IGZhbHNlLCAibWF4TmF0aXZlWm9vbSI6IDE4LCAibWF4Wm9vbSI6IDE4LCAibWluWm9vbSI6IDAsICJub1dyYXAiOiBmYWxzZSwgIm9wYWNpdHkiOiAxLCAic3ViZG9tYWlucyI6ICJhYmMiLCAidG1zIjogZmFsc2V9CiAgICAgICAgICAgICkuYWRkVG8obWFwXzQ2YmZmZjU1N2Q0YzQ0NTZhNmVmMjgwMjU0MGMzNTY2KTsKICAgICAgICAKICAgIAogICAgICAgICAgICB2YXIgbWFya2VyX2I0NmQ5ODQwOWViMzQyNDNiMjA3M2E0YzhlZTY3NWY5ID0gTC5tYXJrZXIoCiAgICAgICAgICAgICAgICBbNjMuMDY5LCAtMTUxLjAwNjNdLAogICAgICAgICAgICAgICAge30KICAgICAgICAgICAgKS5hZGRUbyhtYXBfNDZiZmZmNTU3ZDRjNDQ1NmE2ZWYyODAyNTQwYzM1NjYpOwogICAgICAgIAogICAgCiAgICAgICAgdmFyIHBvcHVwX2Y2MDcwZjhiNGZkYTQxYmJhZTQ4ZWU1ZDJlNDEyNTA0ID0gTC5wb3B1cCh7Im1heFdpZHRoIjogIjEwMCUifSk7CgogICAgICAgIAogICAgICAgICAgICB2YXIgaHRtbF8wM2FmNGU2ODRmYjg0MDM2OGFiYzI2YjljZWUwMWY4YSA9ICQoYDxkaXYgaWQ9Imh0bWxfMDNhZjRlNjg0ZmI4NDAzNjhhYmMyNmI5Y2VlMDFmOGEiIHN0eWxlPSJ3aWR0aDogMTAwLjAlOyBoZWlnaHQ6IDEwMC4wJTsiPjxpPkRlbmFsaTwvaT48L2Rpdj5gKVswXTsKICAgICAgICAgICAgcG9wdXBfZjYwNzBmOGI0ZmRhNDFiYmFlNDhlZTVkMmU0MTI1MDQuc2V0Q29udGVudChodG1sXzAzYWY0ZTY4NGZiODQwMzY4YWJjMjZiOWNlZTAxZjhhKTsKICAgICAgICAKCiAgICAgICAgbWFya2VyX2I0NmQ5ODQwOWViMzQyNDNiMjA3M2E0YzhlZTY3NWY5LmJpbmRQb3B1cChwb3B1cF9mNjA3MGY4YjRmZGE0MWJiYWU0OGVlNWQyZTQxMjUwNCkKICAgICAgICA7CgogICAgICAgIAogICAgCiAgICAKICAgICAgICAgICAgdmFyIG1hcmtlcl80NWVhOTE3N2NhYzc0YjdkYmIzZThiODc1OTBjYzZiZCA9IEwubWFya2VyKAogICAgICAgICAgICAgICAgWzM2LjU3ODYsIC0xMTguMjkyXSwKICAgICAgICAgICAgICAgIHt9CiAgICAgICAgICAgICkuYWRkVG8obWFwXzQ2YmZmZjU1N2Q0YzQ0NTZhNmVmMjgwMjU0MGMzNTY2KTsKICAgICAgICAKICAgIAogICAgICAgIHZhciBwb3B1cF83NWVjZGZiNjljOTg0YjM3YTI1ZDBjNzBkNzE4MDg1YSA9IEwucG9wdXAoeyJtYXhXaWR0aCI6ICIxMDAlIn0pOwoKICAgICAgICAKICAgICAgICAgICAgdmFyIGh0bWxfNTlhZmFiNzdmMjVhNDNmMThmNWRjMDVmNWE1NGQwMjIgPSAkKGA8ZGl2IGlkPSJodG1sXzU5YWZhYjc3ZjI1YTQzZjE4ZjVkYzA1ZjVhNTRkMDIyIiBzdHlsZT0id2lkdGg6IDEwMC4wJTsgaGVpZ2h0OiAxMDAuMCU7Ij48Yj5Nb3VudCBXaGl0bmV5PC9iPjwvZGl2PmApWzBdOwogICAgICAgICAgICBwb3B1cF83NWVjZGZiNjljOTg0YjM3YTI1ZDBjNzBkNzE4MDg1YS5zZXRDb250ZW50KGh0bWxfNTlhZmFiNzdmMjVhNDNmMThmNWRjMDVmNWE1NGQwMjIpOwogICAgICAgIAoKICAgICAgICBtYXJrZXJfNDVlYTkxNzdjYWM3NGI3ZGJiM2U4Yjg3NTkwY2M2YmQuYmluZFBvcHVwKHBvcHVwXzc1ZWNkZmI2OWM5ODRiMzdhMjVkMGM3MGQ3MTgwODVhKQogICAgICAgIDsKCiAgICAgICAgCiAgICAKPC9zY3JpcHQ+\" style=\"position:absolute;width:100%;height:100%;left:0;top:0;border:none !important;\" allowfullscreen webkitallowfullscreen mozallowfullscreen></iframe></div></div>"
      ],
      "text/plain": [
       "<folium.folium.Map at 0x7faee13331d0>"
      ]
     },
     "execution_count": 52,
     "metadata": {},
     "output_type": "execute_result"
    }
   ],
   "source": [
    "m = folium.Map(\n",
    "    location=[45.372, -121.6972],\n",
    "    zoom_start=3,\n",
    "    tiles='Stamen Terrain'\n",
    ")\n",
    "\n",
    "folium.Marker(\n",
    "    [63.0690, -151.0063], \n",
    "    popup='<i>Denali</i>',\n",
    ").add_to(m)\n",
    "\n",
    "folium.Marker(\n",
    "    [36.5786, -118.2920], \n",
    "    popup='<b>Mount Whitney</b>',\n",
    ").add_to(m)\n",
    "\n",
    "m"
   ]
  },
  {
   "cell_type": "markdown",
   "metadata": {},
   "source": [
    "#### Now let's save this Leaflet map as an html webpage. "
   ]
  },
  {
   "cell_type": "code",
   "execution_count": 53,
   "metadata": {},
   "outputs": [],
   "source": [
    "m.save('index.html')"
   ]
  },
  {
   "cell_type": "markdown",
   "metadata": {},
   "source": [
    "# Finishing up From Lecture 02"
   ]
  },
  {
   "cell_type": "markdown",
   "metadata": {},
   "source": [
    "## Python Functions Quick Review\n",
    "\n",
    "\n",
    "### Define your own Python Functions\n",
    "\n",
    "\n",
    "Use `def` prior to your function name, and follow with a colon to close in the function. \n",
    "\n",
    "### Python Package US - US state meta information\n",
    "\n",
    "> A package for easily working with US and state metadata. \n",
    "* all US states and territories\n",
    "* postal abbreviations\n",
    "* Associated Press style abbreviations\n",
    "* FIPS codes\n",
    "* capitals\n",
    "* years of statehood\n",
    "* time zones\n",
    "* phonetic state name lookup\n",
    "* is contiguous or continental\n",
    "* URLs to shapefiles for state, census, congressional districts,\n",
    "  counties, and census tracts - Source: https://pypi.org/project/us/"
   ]
  },
  {
   "cell_type": "code",
   "execution_count": 97,
   "metadata": {},
   "outputs": [
    {
     "name": "stdout",
     "output_type": "stream",
     "text": [
      "Requirement already satisfied: us in /Users/danielmsheehan/opt/anaconda3/envs/dsi/lib/python3.7/site-packages (1.0.0)\r\n",
      "Requirement already satisfied: jellyfish==0.5.6 in /Users/danielmsheehan/opt/anaconda3/envs/dsi/lib/python3.7/site-packages (from us) (0.5.6)\r\n"
     ]
    }
   ],
   "source": [
    "!pip install us"
   ]
  },
  {
   "cell_type": "code",
   "execution_count": 101,
   "metadata": {},
   "outputs": [],
   "source": [
    "# import us\n",
    "import us"
   ]
  },
  {
   "cell_type": "code",
   "execution_count": 107,
   "metadata": {},
   "outputs": [
    {
     "data": {
      "text/plain": [
       "<State:New York>"
      ]
     },
     "execution_count": 107,
     "metadata": {},
     "output_type": "execute_result"
    }
   ],
   "source": [
    "us.states.NY"
   ]
  },
  {
   "cell_type": "code",
   "execution_count": 109,
   "metadata": {},
   "outputs": [
    {
     "data": {
      "text/plain": [
       "'New York'"
      ]
     },
     "execution_count": 109,
     "metadata": {},
     "output_type": "execute_result"
    }
   ],
   "source": [
    "us.states.NY.name"
   ]
  },
  {
   "cell_type": "code",
   "execution_count": 138,
   "metadata": {},
   "outputs": [
    {
     "data": {
      "text/plain": [
       "'36'"
      ]
     },
     "execution_count": 138,
     "metadata": {},
     "output_type": "execute_result"
    }
   ],
   "source": [
    "# get fips code\n",
    "us.states.NY.fips"
   ]
  },
  {
   "cell_type": "code",
   "execution_count": 139,
   "metadata": {},
   "outputs": [
    {
     "data": {
      "text/plain": [
       "'https://www2.census.gov/geo/tiger/TIGER2010/COUNTY/2010/tl_2010_36_county10.zip'"
      ]
     },
     "execution_count": 139,
     "metadata": {},
     "output_type": "execute_result"
    }
   ],
   "source": [
    "# can access the shapefile url for ny state counties. \n",
    "us.states.NY.shapefile_urls('county')"
   ]
  },
  {
   "cell_type": "markdown",
   "metadata": {},
   "source": [
    "### Python function Print vs. Return\n",
    "\n",
    "> **`print`** just shows the human user a string representing what is going on inside the computer. The computer cannot make use of that printing. **`return`** is how a function gives back a value. This value is often unseen by the human user, but it can be used by the computer in further functions. Source: https://www.codecademy.com/forum_questions/518ffbfeb3f05c44fe001395"
   ]
  },
  {
   "cell_type": "code",
   "execution_count": 124,
   "metadata": {},
   "outputs": [],
   "source": [
    "def get_state_fips(abbrev):\n",
    "    state_obj = us.states.lookup(abbrev)\n",
    "    fips_code = state_obj.fips\n",
    "    print(fips_code)"
   ]
  },
  {
   "cell_type": "code",
   "execution_count": 126,
   "metadata": {},
   "outputs": [
    {
     "name": "stdout",
     "output_type": "stream",
     "text": [
      "36\n"
     ]
    }
   ],
   "source": [
    "get_state_fips('NY')"
   ]
  },
  {
   "cell_type": "code",
   "execution_count": 127,
   "metadata": {},
   "outputs": [
    {
     "name": "stdout",
     "output_type": "stream",
     "text": [
      "36\n"
     ]
    }
   ],
   "source": [
    "f = get_state_fips('NY')"
   ]
  },
  {
   "cell_type": "code",
   "execution_count": 130,
   "metadata": {},
   "outputs": [],
   "source": [
    "# b/c its print, f is meaningless\n",
    "f"
   ]
  },
  {
   "cell_type": "code",
   "execution_count": 133,
   "metadata": {},
   "outputs": [],
   "source": [
    "def get_state_fips(abbrev):\n",
    "    fips_code = us.states.lookup(abbrev).fips\n",
    "    return fips_code"
   ]
  },
  {
   "cell_type": "code",
   "execution_count": 136,
   "metadata": {},
   "outputs": [],
   "source": [
    "f = get_state_fips('NY')"
   ]
  },
  {
   "cell_type": "code",
   "execution_count": 137,
   "metadata": {},
   "outputs": [
    {
     "data": {
      "text/plain": [
       "'36'"
      ]
     },
     "execution_count": 137,
     "metadata": {},
     "output_type": "execute_result"
    }
   ],
   "source": [
    "f"
   ]
  },
  {
   "cell_type": "markdown",
   "metadata": {},
   "source": [
    "## If - Elif - Else Condition Flow\n",
    "\n",
    "Let's say we have a variable called speed, which is your driving speed. "
   ]
  },
  {
   "cell_type": "code",
   "execution_count": null,
   "metadata": {},
   "outputs": [],
   "source": [
    "speed = 40"
   ]
  },
  {
   "cell_type": "code",
   "execution_count": null,
   "metadata": {},
   "outputs": [],
   "source": [
    "if speed >= 70:\n",
    "    print(\"Slow Down - you're breaking the speed limit!\")\n",
    "elif speed >= 50:\n",
    "    print(\"You're between 50 and 70, good speed for the highway\")\n",
    "elif speed >= 30:\n",
    "    print(\"You're going b/n 30 and 50\")\n",
    "else:\n",
    "    print(\"You're stopped, on a local street, or stuff in really bad traffic.\")"
   ]
  },
  {
   "cell_type": "markdown",
   "metadata": {},
   "source": [
    "### Now let's put these conditions into a function"
   ]
  },
  {
   "cell_type": "code",
   "execution_count": null,
   "metadata": {},
   "outputs": [],
   "source": [
    "def speed_function(speed):\n",
    "    ### Now let's put these conditions into a function\n",
    "    if speed >= 70:\n",
    "        print(\"Slow Down - you're breaking the speed limit!\")\n",
    "    elif speed >= 50:\n",
    "        print(\"You're between 50 and 70, good speed for the highway\")\n",
    "    elif speed >= 30:\n",
    "        print(\"You're going b/n 30 and 50\")\n",
    "    else:\n",
    "        print(\"You're stopped, on a local street, or stuff in really bad traffic.\")"
   ]
  },
  {
   "cell_type": "code",
   "execution_count": null,
   "metadata": {},
   "outputs": [],
   "source": [
    "speed_function(10)"
   ]
  },
  {
   "cell_type": "code",
   "execution_count": null,
   "metadata": {},
   "outputs": [],
   "source": [
    "speed_function(100)"
   ]
  },
  {
   "cell_type": "code",
   "execution_count": null,
   "metadata": {},
   "outputs": [],
   "source": [
    "speed_function(35)"
   ]
  },
  {
   "cell_type": "markdown",
   "metadata": {},
   "source": [
    "# Introduction to Pandas\n",
    "\n",
    "> pandas is an open source, BSD-licensed library providing high-performance, easy-to-use data structures and data analysis tools for the Python programming language. Source: https://pandas.pydata.org/pandas-docs/stable/index.html\n",
    "\n",
    "You can think of Pandas as the table (.dbf) of a Shapefile or as a Sheet in Excel or Google Spreadsheet. \n",
    "\n",
    "## Pandas DataFrame\n",
    "> DataFrame is a 2-dimensional labeled data structure with columns of potentially different types. You can think of it like a spreadsheet or SQL table, or a dict of Series objects. It is generally the most commonly used pandas object. Like Series, DataFrame accepts many different kinds of input. Source: https://pandas.pydata.org/pandas-docs/stable/getting_started/dsintro.html\n",
    "\n",
    "\n",
    "![pandas_dataframe](https://pandas.pydata.org/pandas-docs/stable/_images/01_table_dataframe.svg)\n",
    "<center> Source: https://pandas.pydata.org/pandas-docs/stable/getting_started </center>\n",
    "\n",
    "## Pandas Input Data Types "
   ]
  },
  {
   "cell_type": "code",
   "execution_count": 67,
   "metadata": {},
   "outputs": [
    {
     "data": {
      "text/html": [
       "\n",
       "        <iframe\n",
       "            width=\"700\"\n",
       "            height=\"300\"\n",
       "            src=\"https://pandas.pydata.org/pandas-docs/stable/user_guide/io.html#io-tools-text-csv-hdf5\"\n",
       "            frameborder=\"0\"\n",
       "            allowfullscreen\n",
       "        ></iframe>\n",
       "        "
      ],
      "text/plain": [
       "<IPython.lib.display.IFrame at 0x7faf30c62110>"
      ]
     },
     "execution_count": 67,
     "metadata": {},
     "output_type": "execute_result"
    }
   ],
   "source": [
    "from IPython.display import IFrame\n",
    "IFrame(src='https://pandas.pydata.org/pandas-docs/stable/user_guide/io.html#io-tools-text-csv-hdf5', width=700, height=300)"
   ]
  },
  {
   "attachments": {
    "image.png": {
     "image/png": "[encoded data removed]"
    }
   },
   "cell_type": "markdown",
   "metadata": {},
   "source": [
    "### Reading and Writing Pandas Data \n",
    "\n",
    "![image.png](attachment:image.png)\n",
    "\n",
    "> Pandas supports the integration with many file formats or data sources out of the box (csv, excel, sql, json, parquet,…). Importing data from each of these data sources is provided by function with the prefix read_*. Similarly, the to_* methods are used to store data. Source: https://pandas.pydata.org/pandas-docs/stable/getting_started/index.html#getting-started\n",
    "\n",
    "\n",
    "#### Let's import the `pandas` library as `pd`"
   ]
  },
  {
   "cell_type": "code",
   "execution_count": null,
   "metadata": {},
   "outputs": [],
   "source": [
    "import pandas as pd  # import pandas"
   ]
  },
  {
   "cell_type": "markdown",
   "metadata": {},
   "source": [
    "### Let's work with some real-world data!!!"
   ]
  },
  {
   "cell_type": "markdown",
   "metadata": {},
   "source": [
    "## US Hospitals Data\n",
    "\n",
    "> This feature class/shapefile contains locations of Hospitals for 50 US states, Washington D.C., US territories of Puerto Rico, Guam, American Samoa, Northern Mariana Islands, Palau, and Virgin Islands. The dataset only includes hospital facilities based on data acquired from various state departments or federal sources which has been referenced in the SOURCE field. Hospital facilities which do not occur in these sources will be not present in the database. The source data was available in a variety of formats (pdfs, tables, webpages, etc.) which was cleaned and geocoded and then converted into a spatial database. The database does not contain nursing homes or health centers. Hospitals have been categorized into children, chronic disease, critical access, general acute care, long term care, military, psychiatric, rehabilitation, special, and women based on the range of the available values from the various sources after removing similarities. In this update the TRAUMA field was populated for 172 additional hospitals and helipad presence were verified for all hospitals. Source: https://hifld-geoplatform.opendata.arcgis.com/datasets/hospitals\n",
    "\n",
    "[![hospitals](https://raw.githubusercontent.com/pratt-savi-810/images/master/us_hospitals.png)](https://hifld-geoplatform.opendata.arcgis.com/datasets/hospitals)"
   ]
  },
  {
   "cell_type": "code",
   "execution_count": 69,
   "metadata": {},
   "outputs": [],
   "source": [
    "csv_url = 'https://opendata.arcgis.com/datasets/6ac5e325468c4cb9b905f1728d6fbf0f_0.csv?outSR=%7B%22latestWkid%22%3A3857%2C%22wkid%22%3A102100%7D'\n",
    "# here's an api url for hospitals data from dept. homeland security"
   ]
  },
  {
   "cell_type": "code",
   "execution_count": 71,
   "metadata": {},
   "outputs": [],
   "source": [
    "df = pd.read_csv(csv_url)"
   ]
  },
  {
   "cell_type": "code",
   "execution_count": 73,
   "metadata": {},
   "outputs": [
    {
     "data": {
      "text/plain": [
       "pandas.core.frame.DataFrame"
      ]
     },
     "execution_count": 73,
     "metadata": {},
     "output_type": "execute_result"
    }
   ],
   "source": [
    "type(df)"
   ]
  },
  {
   "cell_type": "code",
   "execution_count": 74,
   "metadata": {},
   "outputs": [
    {
     "data": {
      "text/html": [
       "<div>\n",
       "<style scoped>\n",
       "    .dataframe tbody tr th:only-of-type {\n",
       "        vertical-align: middle;\n",
       "    }\n",
       "\n",
       "    .dataframe tbody tr th {\n",
       "        vertical-align: top;\n",
       "    }\n",
       "\n",
       "    .dataframe thead th {\n",
       "        text-align: right;\n",
       "    }\n",
       "</style>\n",
       "<table border=\"1\" class=\"dataframe\">\n",
       "  <thead>\n",
       "    <tr style=\"text-align: right;\">\n",
       "      <th></th>\n",
       "      <th>X</th>\n",
       "      <th>Y</th>\n",
       "      <th>OBJECTID</th>\n",
       "      <th>ID</th>\n",
       "      <th>NAME</th>\n",
       "      <th>ADDRESS</th>\n",
       "      <th>CITY</th>\n",
       "      <th>STATE</th>\n",
       "      <th>ZIP</th>\n",
       "      <th>ZIP4</th>\n",
       "      <th>...</th>\n",
       "      <th>VAL_DATE</th>\n",
       "      <th>WEBSITE</th>\n",
       "      <th>STATE_ID</th>\n",
       "      <th>ALT_NAME</th>\n",
       "      <th>ST_FIPS</th>\n",
       "      <th>OWNER</th>\n",
       "      <th>TTL_STAFF</th>\n",
       "      <th>BEDS</th>\n",
       "      <th>TRAUMA</th>\n",
       "      <th>HELIPAD</th>\n",
       "    </tr>\n",
       "  </thead>\n",
       "  <tbody>\n",
       "    <tr>\n",
       "      <td>0</td>\n",
       "      <td>-114.617494</td>\n",
       "      <td>34.833066</td>\n",
       "      <td>1001</td>\n",
       "      <td>7892363</td>\n",
       "      <td>COLORADO RIVER MEDICAL CENTER</td>\n",
       "      <td>1401 BAILEY AVENUE</td>\n",
       "      <td>NEEDLES</td>\n",
       "      <td>CA</td>\n",
       "      <td>92363</td>\n",
       "      <td>NOT AVAILABLE</td>\n",
       "      <td>...</td>\n",
       "      <td>2014-02-10T00:00:00.000Z</td>\n",
       "      <td>http://www.cityofneedles.com/Hospitals.asp</td>\n",
       "      <td>NOT AVAILABLE</td>\n",
       "      <td>NOT AVAILABLE</td>\n",
       "      <td>6</td>\n",
       "      <td>GOVERNMENT - LOCAL</td>\n",
       "      <td>-999</td>\n",
       "      <td>25</td>\n",
       "      <td>NOT AVAILABLE</td>\n",
       "      <td>Y</td>\n",
       "    </tr>\n",
       "    <tr>\n",
       "      <td>1</td>\n",
       "      <td>-117.057065</td>\n",
       "      <td>32.776586</td>\n",
       "      <td>1002</td>\n",
       "      <td>1392120</td>\n",
       "      <td>ALVARADO HOSPITAL MEDICAL CENTER</td>\n",
       "      <td>6655 ALVARADO ROAD</td>\n",
       "      <td>SAN DIEGO</td>\n",
       "      <td>CA</td>\n",
       "      <td>92120</td>\n",
       "      <td>NOT AVAILABLE</td>\n",
       "      <td>...</td>\n",
       "      <td>2014-02-10T00:00:00.000Z</td>\n",
       "      <td>http://www.alvaradohospital.com</td>\n",
       "      <td>NOT AVAILABLE</td>\n",
       "      <td>NOT AVAILABLE</td>\n",
       "      <td>6</td>\n",
       "      <td>PROPRIETARY</td>\n",
       "      <td>-999</td>\n",
       "      <td>226</td>\n",
       "      <td>NOT AVAILABLE</td>\n",
       "      <td>N</td>\n",
       "    </tr>\n",
       "    <tr>\n",
       "      <td>2</td>\n",
       "      <td>-117.044162</td>\n",
       "      <td>32.774632</td>\n",
       "      <td>1003</td>\n",
       "      <td>1591942</td>\n",
       "      <td>ALVARADO PARKWAY INSTITUTE B.H.S.</td>\n",
       "      <td>7050 PARKWAY DRIVE</td>\n",
       "      <td>LA MESA</td>\n",
       "      <td>CA</td>\n",
       "      <td>91942</td>\n",
       "      <td>NOT AVAILABLE</td>\n",
       "      <td>...</td>\n",
       "      <td>2014-02-10T00:00:00.000Z</td>\n",
       "      <td>http://www.apibhs.com</td>\n",
       "      <td>NOT AVAILABLE</td>\n",
       "      <td>NOT AVAILABLE</td>\n",
       "      <td>6</td>\n",
       "      <td>PROPRIETARY</td>\n",
       "      <td>-999</td>\n",
       "      <td>66</td>\n",
       "      <td>NOT AVAILABLE</td>\n",
       "      <td>N</td>\n",
       "    </tr>\n",
       "    <tr>\n",
       "      <td>3</td>\n",
       "      <td>-117.144645</td>\n",
       "      <td>32.756384</td>\n",
       "      <td>1004</td>\n",
       "      <td>23292104</td>\n",
       "      <td>KINDRED HOSPITAL - SAN DIEGO</td>\n",
       "      <td>1940 EL CAJON BOULEVARD</td>\n",
       "      <td>SAN DIEGO</td>\n",
       "      <td>CA</td>\n",
       "      <td>92104</td>\n",
       "      <td>NOT AVAILABLE</td>\n",
       "      <td>...</td>\n",
       "      <td>2014-02-10T00:00:00.000Z</td>\n",
       "      <td>http://www.kindredsandiego.com</td>\n",
       "      <td>NOT AVAILABLE</td>\n",
       "      <td>NOT AVAILABLE</td>\n",
       "      <td>6</td>\n",
       "      <td>PROPRIETARY</td>\n",
       "      <td>-999</td>\n",
       "      <td>70</td>\n",
       "      <td>NOT AVAILABLE</td>\n",
       "      <td>N</td>\n",
       "    </tr>\n",
       "    <tr>\n",
       "      <td>4</td>\n",
       "      <td>-117.082337</td>\n",
       "      <td>32.685341</td>\n",
       "      <td>1005</td>\n",
       "      <td>34392050</td>\n",
       "      <td>PARADISE VALLEY HOSPITAL</td>\n",
       "      <td>2400 EAST FOURTH STREET</td>\n",
       "      <td>NATIONAL CITY</td>\n",
       "      <td>CA</td>\n",
       "      <td>92050</td>\n",
       "      <td>NOT AVAILABLE</td>\n",
       "      <td>...</td>\n",
       "      <td>2014-02-10T00:00:00.000Z</td>\n",
       "      <td>http://www.paradisevalleyhospital.org</td>\n",
       "      <td>NOT AVAILABLE</td>\n",
       "      <td>NOT AVAILABLE</td>\n",
       "      <td>6</td>\n",
       "      <td>PROPRIETARY</td>\n",
       "      <td>-999</td>\n",
       "      <td>227</td>\n",
       "      <td>NOT AVAILABLE</td>\n",
       "      <td>N</td>\n",
       "    </tr>\n",
       "  </tbody>\n",
       "</table>\n",
       "<p>5 rows × 34 columns</p>\n",
       "</div>"
      ],
      "text/plain": [
       "            X          Y  OBJECTID        ID  \\\n",
       "0 -114.617494  34.833066      1001   7892363   \n",
       "1 -117.057065  32.776586      1002   1392120   \n",
       "2 -117.044162  32.774632      1003   1591942   \n",
       "3 -117.144645  32.756384      1004  23292104   \n",
       "4 -117.082337  32.685341      1005  34392050   \n",
       "\n",
       "                                NAME                  ADDRESS           CITY  \\\n",
       "0      COLORADO RIVER MEDICAL CENTER       1401 BAILEY AVENUE        NEEDLES   \n",
       "1   ALVARADO HOSPITAL MEDICAL CENTER       6655 ALVARADO ROAD      SAN DIEGO   \n",
       "2  ALVARADO PARKWAY INSTITUTE B.H.S.       7050 PARKWAY DRIVE        LA MESA   \n",
       "3       KINDRED HOSPITAL - SAN DIEGO  1940 EL CAJON BOULEVARD      SAN DIEGO   \n",
       "4           PARADISE VALLEY HOSPITAL  2400 EAST FOURTH STREET  NATIONAL CITY   \n",
       "\n",
       "  STATE    ZIP           ZIP4  ...                  VAL_DATE  \\\n",
       "0    CA  92363  NOT AVAILABLE  ...  2014-02-10T00:00:00.000Z   \n",
       "1    CA  92120  NOT AVAILABLE  ...  2014-02-10T00:00:00.000Z   \n",
       "2    CA  91942  NOT AVAILABLE  ...  2014-02-10T00:00:00.000Z   \n",
       "3    CA  92104  NOT AVAILABLE  ...  2014-02-10T00:00:00.000Z   \n",
       "4    CA  92050  NOT AVAILABLE  ...  2014-02-10T00:00:00.000Z   \n",
       "\n",
       "                                      WEBSITE       STATE_ID       ALT_NAME  \\\n",
       "0  http://www.cityofneedles.com/Hospitals.asp  NOT AVAILABLE  NOT AVAILABLE   \n",
       "1             http://www.alvaradohospital.com  NOT AVAILABLE  NOT AVAILABLE   \n",
       "2                       http://www.apibhs.com  NOT AVAILABLE  NOT AVAILABLE   \n",
       "3              http://www.kindredsandiego.com  NOT AVAILABLE  NOT AVAILABLE   \n",
       "4       http://www.paradisevalleyhospital.org  NOT AVAILABLE  NOT AVAILABLE   \n",
       "\n",
       "  ST_FIPS               OWNER TTL_STAFF  BEDS         TRAUMA  HELIPAD  \n",
       "0       6  GOVERNMENT - LOCAL      -999    25  NOT AVAILABLE        Y  \n",
       "1       6         PROPRIETARY      -999   226  NOT AVAILABLE        N  \n",
       "2       6         PROPRIETARY      -999    66  NOT AVAILABLE        N  \n",
       "3       6         PROPRIETARY      -999    70  NOT AVAILABLE        N  \n",
       "4       6         PROPRIETARY      -999   227  NOT AVAILABLE        N  \n",
       "\n",
       "[5 rows x 34 columns]"
      ]
     },
     "execution_count": 74,
     "metadata": {},
     "output_type": "execute_result"
    }
   ],
   "source": [
    "df.head(5)"
   ]
  },
  {
   "cell_type": "code",
   "execution_count": 76,
   "metadata": {},
   "outputs": [
    {
     "data": {
      "text/html": [
       "<div>\n",
       "<style scoped>\n",
       "    .dataframe tbody tr th:only-of-type {\n",
       "        vertical-align: middle;\n",
       "    }\n",
       "\n",
       "    .dataframe tbody tr th {\n",
       "        vertical-align: top;\n",
       "    }\n",
       "\n",
       "    .dataframe thead th {\n",
       "        text-align: right;\n",
       "    }\n",
       "</style>\n",
       "<table border=\"1\" class=\"dataframe\">\n",
       "  <thead>\n",
       "    <tr style=\"text-align: right;\">\n",
       "      <th></th>\n",
       "      <th>X</th>\n",
       "      <th>Y</th>\n",
       "      <th>OBJECTID</th>\n",
       "      <th>ID</th>\n",
       "      <th>NAME</th>\n",
       "      <th>ADDRESS</th>\n",
       "      <th>CITY</th>\n",
       "      <th>STATE</th>\n",
       "      <th>ZIP</th>\n",
       "      <th>ZIP4</th>\n",
       "      <th>...</th>\n",
       "      <th>VAL_DATE</th>\n",
       "      <th>WEBSITE</th>\n",
       "      <th>STATE_ID</th>\n",
       "      <th>ALT_NAME</th>\n",
       "      <th>ST_FIPS</th>\n",
       "      <th>OWNER</th>\n",
       "      <th>TTL_STAFF</th>\n",
       "      <th>BEDS</th>\n",
       "      <th>TRAUMA</th>\n",
       "      <th>HELIPAD</th>\n",
       "    </tr>\n",
       "  </thead>\n",
       "  <tbody>\n",
       "    <tr>\n",
       "      <td>7576</td>\n",
       "      <td>-74.592513</td>\n",
       "      <td>39.313967</td>\n",
       "      <td>5996</td>\n",
       "      <td>110408244</td>\n",
       "      <td>SHORE MEDICAL CENTER</td>\n",
       "      <td>100 MEDICAL CENTER WAY</td>\n",
       "      <td>SOMERS POINT</td>\n",
       "      <td>NJ</td>\n",
       "      <td>8244</td>\n",
       "      <td>NOT AVAILABLE</td>\n",
       "      <td>...</td>\n",
       "      <td>2015-02-09T00:00:00.000Z</td>\n",
       "      <td>http://www.shoremedicalcenter.org</td>\n",
       "      <td>NJ310047</td>\n",
       "      <td>NOT AVAILABLE</td>\n",
       "      <td>34</td>\n",
       "      <td>NON-PROFIT</td>\n",
       "      <td>-999</td>\n",
       "      <td>297</td>\n",
       "      <td>NOT AVAILABLE</td>\n",
       "      <td>Y</td>\n",
       "    </tr>\n",
       "    <tr>\n",
       "      <td>7577</td>\n",
       "      <td>-74.624164</td>\n",
       "      <td>40.340362</td>\n",
       "      <td>5997</td>\n",
       "      <td>110508536</td>\n",
       "      <td>UNIV MEDICAL CENTER OF PRINCETON AT PLAINSBORO</td>\n",
       "      <td>ONE PLAINSBORO ROAD</td>\n",
       "      <td>PLAINSBORO</td>\n",
       "      <td>NJ</td>\n",
       "      <td>8536</td>\n",
       "      <td>NOT AVAILABLE</td>\n",
       "      <td>...</td>\n",
       "      <td>2015-02-09T00:00:00.000Z</td>\n",
       "      <td>http://www.princetonhcs.org/</td>\n",
       "      <td>NJ11103</td>\n",
       "      <td>NOT AVAILABLE</td>\n",
       "      <td>34</td>\n",
       "      <td>NON-PROFIT</td>\n",
       "      <td>-999</td>\n",
       "      <td>430</td>\n",
       "      <td>NOT AVAILABLE</td>\n",
       "      <td>N</td>\n",
       "    </tr>\n",
       "    <tr>\n",
       "      <td>7578</td>\n",
       "      <td>-81.223012</td>\n",
       "      <td>41.535709</td>\n",
       "      <td>5998</td>\n",
       "      <td>123244024</td>\n",
       "      <td>REHAB HOSPITAL AT HEATHER HILL CARE COMMUNITIES</td>\n",
       "      <td>12340 BASS LAKE ROAD</td>\n",
       "      <td>CHARDON</td>\n",
       "      <td>OH</td>\n",
       "      <td>44024</td>\n",
       "      <td>NOT AVAILABLE</td>\n",
       "      <td>...</td>\n",
       "      <td>2015-03-10T00:00:00.000Z</td>\n",
       "      <td>http://www.heatherhillcare.com/</td>\n",
       "      <td>1420</td>\n",
       "      <td>NOT AVAILABLE</td>\n",
       "      <td>39</td>\n",
       "      <td>PROPRIETARY</td>\n",
       "      <td>-999</td>\n",
       "      <td>56</td>\n",
       "      <td>NOT AVAILABLE</td>\n",
       "      <td>N</td>\n",
       "    </tr>\n",
       "    <tr>\n",
       "      <td>7579</td>\n",
       "      <td>-106.639071</td>\n",
       "      <td>35.084911</td>\n",
       "      <td>5999</td>\n",
       "      <td>4587102</td>\n",
       "      <td>ALBUQUERQUE - AMG SPECIALTY HOSPITAL LLC</td>\n",
       "      <td>235 ELM STREET NORTHEAST</td>\n",
       "      <td>ALBUQUERQUE</td>\n",
       "      <td>NM</td>\n",
       "      <td>87102</td>\n",
       "      <td>NOT AVAILABLE</td>\n",
       "      <td>...</td>\n",
       "      <td>2014-02-10T00:00:00.000Z</td>\n",
       "      <td>http://www.amgalbuquerque.com/</td>\n",
       "      <td>NOT AVAILABLE</td>\n",
       "      <td>NOT AVAILABLE</td>\n",
       "      <td>35</td>\n",
       "      <td>PROPRIETARY</td>\n",
       "      <td>-999</td>\n",
       "      <td>25</td>\n",
       "      <td>NOT AVAILABLE</td>\n",
       "      <td>N</td>\n",
       "    </tr>\n",
       "    <tr>\n",
       "      <td>7580</td>\n",
       "      <td>-65.650255</td>\n",
       "      <td>18.332016</td>\n",
       "      <td>6000</td>\n",
       "      <td>6600738</td>\n",
       "      <td>CARIBBEAN MEDICAL CENTER</td>\n",
       "      <td>151 OSVALDO AVENUE</td>\n",
       "      <td>FAJARDO</td>\n",
       "      <td>PR</td>\n",
       "      <td>738</td>\n",
       "      <td>NOT AVAILABLE</td>\n",
       "      <td>...</td>\n",
       "      <td>2014-02-10T00:00:00.000Z</td>\n",
       "      <td>www.caribbeanmedicalcenter.com</td>\n",
       "      <td>85</td>\n",
       "      <td>NOT AVAILABLE</td>\n",
       "      <td>72</td>\n",
       "      <td>NOT AVAILABLE</td>\n",
       "      <td>-999</td>\n",
       "      <td>38</td>\n",
       "      <td>NOT AVAILABLE</td>\n",
       "      <td>N</td>\n",
       "    </tr>\n",
       "  </tbody>\n",
       "</table>\n",
       "<p>5 rows × 34 columns</p>\n",
       "</div>"
      ],
      "text/plain": [
       "               X          Y  OBJECTID         ID  \\\n",
       "7576  -74.592513  39.313967      5996  110408244   \n",
       "7577  -74.624164  40.340362      5997  110508536   \n",
       "7578  -81.223012  41.535709      5998  123244024   \n",
       "7579 -106.639071  35.084911      5999    4587102   \n",
       "7580  -65.650255  18.332016      6000    6600738   \n",
       "\n",
       "                                                 NAME  \\\n",
       "7576                             SHORE MEDICAL CENTER   \n",
       "7577   UNIV MEDICAL CENTER OF PRINCETON AT PLAINSBORO   \n",
       "7578  REHAB HOSPITAL AT HEATHER HILL CARE COMMUNITIES   \n",
       "7579         ALBUQUERQUE - AMG SPECIALTY HOSPITAL LLC   \n",
       "7580                         CARIBBEAN MEDICAL CENTER   \n",
       "\n",
       "                       ADDRESS          CITY STATE    ZIP           ZIP4  ...  \\\n",
       "7576    100 MEDICAL CENTER WAY  SOMERS POINT    NJ   8244  NOT AVAILABLE  ...   \n",
       "7577       ONE PLAINSBORO ROAD    PLAINSBORO    NJ   8536  NOT AVAILABLE  ...   \n",
       "7578      12340 BASS LAKE ROAD       CHARDON    OH  44024  NOT AVAILABLE  ...   \n",
       "7579  235 ELM STREET NORTHEAST   ALBUQUERQUE    NM  87102  NOT AVAILABLE  ...   \n",
       "7580        151 OSVALDO AVENUE       FAJARDO    PR    738  NOT AVAILABLE  ...   \n",
       "\n",
       "                      VAL_DATE                            WEBSITE  \\\n",
       "7576  2015-02-09T00:00:00.000Z  http://www.shoremedicalcenter.org   \n",
       "7577  2015-02-09T00:00:00.000Z       http://www.princetonhcs.org/   \n",
       "7578  2015-03-10T00:00:00.000Z    http://www.heatherhillcare.com/   \n",
       "7579  2014-02-10T00:00:00.000Z     http://www.amgalbuquerque.com/   \n",
       "7580  2014-02-10T00:00:00.000Z     www.caribbeanmedicalcenter.com   \n",
       "\n",
       "           STATE_ID       ALT_NAME ST_FIPS          OWNER TTL_STAFF  BEDS  \\\n",
       "7576       NJ310047  NOT AVAILABLE      34     NON-PROFIT      -999   297   \n",
       "7577        NJ11103  NOT AVAILABLE      34     NON-PROFIT      -999   430   \n",
       "7578           1420  NOT AVAILABLE      39    PROPRIETARY      -999    56   \n",
       "7579  NOT AVAILABLE  NOT AVAILABLE      35    PROPRIETARY      -999    25   \n",
       "7580             85  NOT AVAILABLE      72  NOT AVAILABLE      -999    38   \n",
       "\n",
       "             TRAUMA  HELIPAD  \n",
       "7576  NOT AVAILABLE        Y  \n",
       "7577  NOT AVAILABLE        N  \n",
       "7578  NOT AVAILABLE        N  \n",
       "7579  NOT AVAILABLE        N  \n",
       "7580  NOT AVAILABLE        N  \n",
       "\n",
       "[5 rows x 34 columns]"
      ]
     },
     "execution_count": 76,
     "metadata": {},
     "output_type": "execute_result"
    }
   ],
   "source": [
    "df.tail(5)"
   ]
  },
  {
   "cell_type": "code",
   "execution_count": 77,
   "metadata": {},
   "outputs": [
    {
     "data": {
      "text/plain": [
       "(7581, 34)"
      ]
     },
     "execution_count": 77,
     "metadata": {},
     "output_type": "execute_result"
    }
   ],
   "source": [
    "# rows and columns\n",
    "df.shape"
   ]
  },
  {
   "cell_type": "code",
   "execution_count": 79,
   "metadata": {},
   "outputs": [
    {
     "data": {
      "text/html": [
       "<div>\n",
       "<style scoped>\n",
       "    .dataframe tbody tr th:only-of-type {\n",
       "        vertical-align: middle;\n",
       "    }\n",
       "\n",
       "    .dataframe tbody tr th {\n",
       "        vertical-align: top;\n",
       "    }\n",
       "\n",
       "    .dataframe thead th {\n",
       "        text-align: right;\n",
       "    }\n",
       "</style>\n",
       "<table border=\"1\" class=\"dataframe\">\n",
       "  <thead>\n",
       "    <tr style=\"text-align: right;\">\n",
       "      <th></th>\n",
       "      <th>NAME</th>\n",
       "      <th>STATE</th>\n",
       "    </tr>\n",
       "  </thead>\n",
       "  <tbody>\n",
       "    <tr>\n",
       "      <td>0</td>\n",
       "      <td>COLORADO RIVER MEDICAL CENTER</td>\n",
       "      <td>CA</td>\n",
       "    </tr>\n",
       "    <tr>\n",
       "      <td>1</td>\n",
       "      <td>ALVARADO HOSPITAL MEDICAL CENTER</td>\n",
       "      <td>CA</td>\n",
       "    </tr>\n",
       "    <tr>\n",
       "      <td>2</td>\n",
       "      <td>ALVARADO PARKWAY INSTITUTE B.H.S.</td>\n",
       "      <td>CA</td>\n",
       "    </tr>\n",
       "  </tbody>\n",
       "</table>\n",
       "</div>"
      ],
      "text/plain": [
       "                                NAME STATE\n",
       "0      COLORADO RIVER MEDICAL CENTER    CA\n",
       "1   ALVARADO HOSPITAL MEDICAL CENTER    CA\n",
       "2  ALVARADO PARKWAY INSTITUTE B.H.S.    CA"
      ]
     },
     "execution_count": 79,
     "metadata": {},
     "output_type": "execute_result"
    }
   ],
   "source": [
    "# subselect columns to show\n",
    "df[['NAME', 'STATE']].head(3)"
   ]
  },
  {
   "cell_type": "code",
   "execution_count": 81,
   "metadata": {},
   "outputs": [
    {
     "name": "stdout",
     "output_type": "stream",
     "text": [
      "<class 'pandas.core.frame.DataFrame'>\n",
      "RangeIndex: 7581 entries, 0 to 7580\n",
      "Data columns (total 34 columns):\n",
      "X             7581 non-null float64\n",
      "Y             7581 non-null float64\n",
      "OBJECTID      7581 non-null int64\n",
      "ID            7581 non-null int64\n",
      "NAME          7581 non-null object\n",
      "ADDRESS       7581 non-null object\n",
      "CITY          7581 non-null object\n",
      "STATE         7581 non-null object\n",
      "ZIP           7581 non-null int64\n",
      "ZIP4          7581 non-null object\n",
      "TELEPHONE     7581 non-null object\n",
      "TYPE          7581 non-null object\n",
      "STATUS        7581 non-null object\n",
      "POPULATION    7581 non-null int64\n",
      "COUNTY        7581 non-null object\n",
      "COUNTYFIPS    7581 non-null object\n",
      "COUNTRY       7581 non-null object\n",
      "LATITUDE      7581 non-null float64\n",
      "LONGITUDE     7581 non-null float64\n",
      "NAICS_CODE    7581 non-null int64\n",
      "NAICS_DESC    7581 non-null object\n",
      "SOURCE        7581 non-null object\n",
      "SOURCEDATE    7581 non-null object\n",
      "VAL_METHOD    7581 non-null object\n",
      "VAL_DATE      7581 non-null object\n",
      "WEBSITE       7581 non-null object\n",
      "STATE_ID      7581 non-null object\n",
      "ALT_NAME      7581 non-null object\n",
      "ST_FIPS       7581 non-null int64\n",
      "OWNER         7581 non-null object\n",
      "TTL_STAFF     7581 non-null int64\n",
      "BEDS          7581 non-null int64\n",
      "TRAUMA        7581 non-null object\n",
      "HELIPAD       7581 non-null object\n",
      "dtypes: float64(4), int64(8), object(22)\n",
      "memory usage: 2.0+ MB\n"
     ]
    }
   ],
   "source": [
    "df.info()"
   ]
  },
  {
   "cell_type": "code",
   "execution_count": 82,
   "metadata": {},
   "outputs": [
    {
     "data": {
      "text/html": [
       "<div>\n",
       "<style scoped>\n",
       "    .dataframe tbody tr th:only-of-type {\n",
       "        vertical-align: middle;\n",
       "    }\n",
       "\n",
       "    .dataframe tbody tr th {\n",
       "        vertical-align: top;\n",
       "    }\n",
       "\n",
       "    .dataframe thead th {\n",
       "        text-align: right;\n",
       "    }\n",
       "</style>\n",
       "<table border=\"1\" class=\"dataframe\">\n",
       "  <thead>\n",
       "    <tr style=\"text-align: right;\">\n",
       "      <th></th>\n",
       "      <th>X</th>\n",
       "      <th>Y</th>\n",
       "      <th>OBJECTID</th>\n",
       "      <th>ID</th>\n",
       "      <th>ZIP</th>\n",
       "      <th>POPULATION</th>\n",
       "      <th>LATITUDE</th>\n",
       "      <th>LONGITUDE</th>\n",
       "      <th>NAICS_CODE</th>\n",
       "      <th>ST_FIPS</th>\n",
       "      <th>TTL_STAFF</th>\n",
       "      <th>BEDS</th>\n",
       "    </tr>\n",
       "  </thead>\n",
       "  <tbody>\n",
       "    <tr>\n",
       "      <td>count</td>\n",
       "      <td>7581.000000</td>\n",
       "      <td>7581.000000</td>\n",
       "      <td>7581.000000</td>\n",
       "      <td>7.581000e+03</td>\n",
       "      <td>7581.000000</td>\n",
       "      <td>7581.000000</td>\n",
       "      <td>7581.000000</td>\n",
       "      <td>7581.000000</td>\n",
       "      <td>7581.000000</td>\n",
       "      <td>7581.000000</td>\n",
       "      <td>7581.0</td>\n",
       "      <td>7581.000000</td>\n",
       "    </tr>\n",
       "    <tr>\n",
       "      <td>mean</td>\n",
       "      <td>-92.358000</td>\n",
       "      <td>37.328166</td>\n",
       "      <td>3791.000000</td>\n",
       "      <td>2.558721e+07</td>\n",
       "      <td>53616.285450</td>\n",
       "      <td>40.675505</td>\n",
       "      <td>37.328166</td>\n",
       "      <td>-92.358000</td>\n",
       "      <td>622140.932595</td>\n",
       "      <td>29.465242</td>\n",
       "      <td>-999.0</td>\n",
       "      <td>46.533703</td>\n",
       "    </tr>\n",
       "    <tr>\n",
       "      <td>std</td>\n",
       "      <td>16.225181</td>\n",
       "      <td>5.778961</td>\n",
       "      <td>2188.590528</td>\n",
       "      <td>3.992351e+07</td>\n",
       "      <td>27527.904019</td>\n",
       "      <td>372.327896</td>\n",
       "      <td>5.778961</td>\n",
       "      <td>16.225181</td>\n",
       "      <td>66.097699</td>\n",
       "      <td>16.306133</td>\n",
       "      <td>0.0</td>\n",
       "      <td>364.693889</td>\n",
       "    </tr>\n",
       "    <tr>\n",
       "      <td>min</td>\n",
       "      <td>-176.640263</td>\n",
       "      <td>-14.290242</td>\n",
       "      <td>1.000000</td>\n",
       "      <td>4.000000e+00</td>\n",
       "      <td>605.000000</td>\n",
       "      <td>-999.000000</td>\n",
       "      <td>-14.290242</td>\n",
       "      <td>-176.640263</td>\n",
       "      <td>622110.000000</td>\n",
       "      <td>1.000000</td>\n",
       "      <td>-999.0</td>\n",
       "      <td>-999.000000</td>\n",
       "    </tr>\n",
       "    <tr>\n",
       "      <td>25%</td>\n",
       "      <td>-98.200813</td>\n",
       "      <td>33.463731</td>\n",
       "      <td>1896.000000</td>\n",
       "      <td>3.983422e+06</td>\n",
       "      <td>32025.000000</td>\n",
       "      <td>25.000000</td>\n",
       "      <td>33.463731</td>\n",
       "      <td>-98.200813</td>\n",
       "      <td>622110.000000</td>\n",
       "      <td>17.000000</td>\n",
       "      <td>-999.0</td>\n",
       "      <td>25.000000</td>\n",
       "    </tr>\n",
       "    <tr>\n",
       "      <td>50%</td>\n",
       "      <td>-90.073126</td>\n",
       "      <td>37.973793</td>\n",
       "      <td>3791.000000</td>\n",
       "      <td>9.656520e+06</td>\n",
       "      <td>54971.000000</td>\n",
       "      <td>65.000000</td>\n",
       "      <td>37.973793</td>\n",
       "      <td>-90.073126</td>\n",
       "      <td>622110.000000</td>\n",
       "      <td>29.000000</td>\n",
       "      <td>-999.0</td>\n",
       "      <td>66.000000</td>\n",
       "    </tr>\n",
       "    <tr>\n",
       "      <td>75%</td>\n",
       "      <td>-81.767407</td>\n",
       "      <td>41.322243</td>\n",
       "      <td>5686.000000</td>\n",
       "      <td>2.263475e+07</td>\n",
       "      <td>76825.000000</td>\n",
       "      <td>177.000000</td>\n",
       "      <td>41.322243</td>\n",
       "      <td>-81.767407</td>\n",
       "      <td>622110.000000</td>\n",
       "      <td>44.000000</td>\n",
       "      <td>-999.0</td>\n",
       "      <td>178.000000</td>\n",
       "    </tr>\n",
       "    <tr>\n",
       "      <td>max</td>\n",
       "      <td>145.724472</td>\n",
       "      <td>71.292847</td>\n",
       "      <td>7581.000000</td>\n",
       "      <td>1.821209e+08</td>\n",
       "      <td>99929.000000</td>\n",
       "      <td>1592.000000</td>\n",
       "      <td>71.292847</td>\n",
       "      <td>145.724472</td>\n",
       "      <td>622310.000000</td>\n",
       "      <td>78.000000</td>\n",
       "      <td>-999.0</td>\n",
       "      <td>1592.000000</td>\n",
       "    </tr>\n",
       "  </tbody>\n",
       "</table>\n",
       "</div>"
      ],
      "text/plain": [
       "                 X            Y     OBJECTID            ID           ZIP  \\\n",
       "count  7581.000000  7581.000000  7581.000000  7.581000e+03   7581.000000   \n",
       "mean    -92.358000    37.328166  3791.000000  2.558721e+07  53616.285450   \n",
       "std      16.225181     5.778961  2188.590528  3.992351e+07  27527.904019   \n",
       "min    -176.640263   -14.290242     1.000000  4.000000e+00    605.000000   \n",
       "25%     -98.200813    33.463731  1896.000000  3.983422e+06  32025.000000   \n",
       "50%     -90.073126    37.973793  3791.000000  9.656520e+06  54971.000000   \n",
       "75%     -81.767407    41.322243  5686.000000  2.263475e+07  76825.000000   \n",
       "max     145.724472    71.292847  7581.000000  1.821209e+08  99929.000000   \n",
       "\n",
       "        POPULATION     LATITUDE    LONGITUDE     NAICS_CODE      ST_FIPS  \\\n",
       "count  7581.000000  7581.000000  7581.000000    7581.000000  7581.000000   \n",
       "mean     40.675505    37.328166   -92.358000  622140.932595    29.465242   \n",
       "std     372.327896     5.778961    16.225181      66.097699    16.306133   \n",
       "min    -999.000000   -14.290242  -176.640263  622110.000000     1.000000   \n",
       "25%      25.000000    33.463731   -98.200813  622110.000000    17.000000   \n",
       "50%      65.000000    37.973793   -90.073126  622110.000000    29.000000   \n",
       "75%     177.000000    41.322243   -81.767407  622110.000000    44.000000   \n",
       "max    1592.000000    71.292847   145.724472  622310.000000    78.000000   \n",
       "\n",
       "       TTL_STAFF         BEDS  \n",
       "count     7581.0  7581.000000  \n",
       "mean      -999.0    46.533703  \n",
       "std          0.0   364.693889  \n",
       "min       -999.0  -999.000000  \n",
       "25%       -999.0    25.000000  \n",
       "50%       -999.0    66.000000  \n",
       "75%       -999.0   178.000000  \n",
       "max       -999.0  1592.000000  "
      ]
     },
     "execution_count": 82,
     "metadata": {},
     "output_type": "execute_result"
    }
   ],
   "source": [
    "df.describe()"
   ]
  },
  {
   "cell_type": "code",
   "execution_count": 83,
   "metadata": {},
   "outputs": [
    {
     "data": {
      "text/plain": [
       "TX    798\n",
       "CA    570\n",
       "FL    349\n",
       "OH    290\n",
       "PA    279\n",
       "NY    277\n",
       "LA    262\n",
       "GA    230\n",
       "IL    226\n",
       "IN    190\n",
       "MI    185\n",
       "MO    181\n",
       "TN    176\n",
       "KS    169\n",
       "WI    169\n",
       "OK    165\n",
       "NC    158\n",
       "NJ    150\n",
       "IA    145\n",
       "AZ    144\n",
       "MN    144\n",
       "VA    143\n",
       "MA    136\n",
       "WA    133\n",
       "AL    133\n",
       "KY    130\n",
       "MS    129\n",
       "AR    122\n",
       "CO    119\n",
       "NE    111\n",
       "SC    108\n",
       "SD     77\n",
       "NV     76\n",
       "PR     75\n",
       "OR     74\n",
       "MD     72\n",
       "WV     71\n",
       "MT     69\n",
       "UT     68\n",
       "NM     63\n",
       "ND     57\n",
       "ID     55\n",
       "ME     52\n",
       "CT     41\n",
       "WY     37\n",
       "NH     36\n",
       "AK     32\n",
       "HI     29\n",
       "RI     20\n",
       "VT     18\n",
       "DC     15\n",
       "DE     15\n",
       "GU      3\n",
       "VI      2\n",
       "PW      1\n",
       "AS      1\n",
       "MP      1\n",
       "Name: STATE, dtype: int64"
      ]
     },
     "execution_count": 83,
     "metadata": {},
     "output_type": "execute_result"
    }
   ],
   "source": [
    "df['STATE'].value_counts()"
   ]
  },
  {
   "cell_type": "code",
   "execution_count": 85,
   "metadata": {},
   "outputs": [
    {
     "data": {
      "text/plain": [
       "46.533702677747"
      ]
     },
     "execution_count": 85,
     "metadata": {},
     "output_type": "execute_result"
    }
   ],
   "source": [
    "df['BEDS'].mean()"
   ]
  },
  {
   "cell_type": "code",
   "execution_count": 87,
   "metadata": {},
   "outputs": [
    {
     "data": {
      "text/html": [
       "<div>\n",
       "<style scoped>\n",
       "    .dataframe tbody tr th:only-of-type {\n",
       "        vertical-align: middle;\n",
       "    }\n",
       "\n",
       "    .dataframe tbody tr th {\n",
       "        vertical-align: top;\n",
       "    }\n",
       "\n",
       "    .dataframe thead th {\n",
       "        text-align: right;\n",
       "    }\n",
       "</style>\n",
       "<table border=\"1\" class=\"dataframe\">\n",
       "  <thead>\n",
       "    <tr style=\"text-align: right;\">\n",
       "      <th></th>\n",
       "      <th>X</th>\n",
       "      <th>Y</th>\n",
       "      <th>OBJECTID</th>\n",
       "      <th>ID</th>\n",
       "      <th>NAME</th>\n",
       "      <th>ADDRESS</th>\n",
       "      <th>CITY</th>\n",
       "      <th>STATE</th>\n",
       "      <th>ZIP</th>\n",
       "      <th>ZIP4</th>\n",
       "      <th>...</th>\n",
       "      <th>VAL_DATE</th>\n",
       "      <th>WEBSITE</th>\n",
       "      <th>STATE_ID</th>\n",
       "      <th>ALT_NAME</th>\n",
       "      <th>ST_FIPS</th>\n",
       "      <th>OWNER</th>\n",
       "      <th>TTL_STAFF</th>\n",
       "      <th>BEDS</th>\n",
       "      <th>TRAUMA</th>\n",
       "      <th>HELIPAD</th>\n",
       "    </tr>\n",
       "  </thead>\n",
       "  <tbody>\n",
       "    <tr>\n",
       "      <td>0</td>\n",
       "      <td>False</td>\n",
       "      <td>False</td>\n",
       "      <td>False</td>\n",
       "      <td>False</td>\n",
       "      <td>False</td>\n",
       "      <td>False</td>\n",
       "      <td>False</td>\n",
       "      <td>False</td>\n",
       "      <td>False</td>\n",
       "      <td>False</td>\n",
       "      <td>...</td>\n",
       "      <td>False</td>\n",
       "      <td>False</td>\n",
       "      <td>False</td>\n",
       "      <td>False</td>\n",
       "      <td>False</td>\n",
       "      <td>False</td>\n",
       "      <td>False</td>\n",
       "      <td>False</td>\n",
       "      <td>False</td>\n",
       "      <td>False</td>\n",
       "    </tr>\n",
       "    <tr>\n",
       "      <td>1</td>\n",
       "      <td>False</td>\n",
       "      <td>False</td>\n",
       "      <td>False</td>\n",
       "      <td>False</td>\n",
       "      <td>False</td>\n",
       "      <td>False</td>\n",
       "      <td>False</td>\n",
       "      <td>False</td>\n",
       "      <td>False</td>\n",
       "      <td>False</td>\n",
       "      <td>...</td>\n",
       "      <td>False</td>\n",
       "      <td>False</td>\n",
       "      <td>False</td>\n",
       "      <td>False</td>\n",
       "      <td>False</td>\n",
       "      <td>False</td>\n",
       "      <td>False</td>\n",
       "      <td>False</td>\n",
       "      <td>False</td>\n",
       "      <td>False</td>\n",
       "    </tr>\n",
       "    <tr>\n",
       "      <td>2</td>\n",
       "      <td>False</td>\n",
       "      <td>False</td>\n",
       "      <td>False</td>\n",
       "      <td>False</td>\n",
       "      <td>False</td>\n",
       "      <td>False</td>\n",
       "      <td>False</td>\n",
       "      <td>False</td>\n",
       "      <td>False</td>\n",
       "      <td>False</td>\n",
       "      <td>...</td>\n",
       "      <td>False</td>\n",
       "      <td>False</td>\n",
       "      <td>False</td>\n",
       "      <td>False</td>\n",
       "      <td>False</td>\n",
       "      <td>False</td>\n",
       "      <td>False</td>\n",
       "      <td>False</td>\n",
       "      <td>False</td>\n",
       "      <td>False</td>\n",
       "    </tr>\n",
       "    <tr>\n",
       "      <td>3</td>\n",
       "      <td>False</td>\n",
       "      <td>False</td>\n",
       "      <td>False</td>\n",
       "      <td>False</td>\n",
       "      <td>False</td>\n",
       "      <td>False</td>\n",
       "      <td>False</td>\n",
       "      <td>False</td>\n",
       "      <td>False</td>\n",
       "      <td>False</td>\n",
       "      <td>...</td>\n",
       "      <td>False</td>\n",
       "      <td>False</td>\n",
       "      <td>False</td>\n",
       "      <td>False</td>\n",
       "      <td>False</td>\n",
       "      <td>False</td>\n",
       "      <td>False</td>\n",
       "      <td>False</td>\n",
       "      <td>False</td>\n",
       "      <td>False</td>\n",
       "    </tr>\n",
       "    <tr>\n",
       "      <td>4</td>\n",
       "      <td>False</td>\n",
       "      <td>False</td>\n",
       "      <td>False</td>\n",
       "      <td>False</td>\n",
       "      <td>False</td>\n",
       "      <td>False</td>\n",
       "      <td>False</td>\n",
       "      <td>False</td>\n",
       "      <td>False</td>\n",
       "      <td>False</td>\n",
       "      <td>...</td>\n",
       "      <td>False</td>\n",
       "      <td>False</td>\n",
       "      <td>False</td>\n",
       "      <td>False</td>\n",
       "      <td>False</td>\n",
       "      <td>False</td>\n",
       "      <td>False</td>\n",
       "      <td>False</td>\n",
       "      <td>False</td>\n",
       "      <td>False</td>\n",
       "    </tr>\n",
       "    <tr>\n",
       "      <td>...</td>\n",
       "      <td>...</td>\n",
       "      <td>...</td>\n",
       "      <td>...</td>\n",
       "      <td>...</td>\n",
       "      <td>...</td>\n",
       "      <td>...</td>\n",
       "      <td>...</td>\n",
       "      <td>...</td>\n",
       "      <td>...</td>\n",
       "      <td>...</td>\n",
       "      <td>...</td>\n",
       "      <td>...</td>\n",
       "      <td>...</td>\n",
       "      <td>...</td>\n",
       "      <td>...</td>\n",
       "      <td>...</td>\n",
       "      <td>...</td>\n",
       "      <td>...</td>\n",
       "      <td>...</td>\n",
       "      <td>...</td>\n",
       "      <td>...</td>\n",
       "    </tr>\n",
       "    <tr>\n",
       "      <td>7576</td>\n",
       "      <td>False</td>\n",
       "      <td>False</td>\n",
       "      <td>False</td>\n",
       "      <td>False</td>\n",
       "      <td>False</td>\n",
       "      <td>False</td>\n",
       "      <td>False</td>\n",
       "      <td>False</td>\n",
       "      <td>False</td>\n",
       "      <td>False</td>\n",
       "      <td>...</td>\n",
       "      <td>False</td>\n",
       "      <td>False</td>\n",
       "      <td>False</td>\n",
       "      <td>False</td>\n",
       "      <td>False</td>\n",
       "      <td>False</td>\n",
       "      <td>False</td>\n",
       "      <td>False</td>\n",
       "      <td>False</td>\n",
       "      <td>False</td>\n",
       "    </tr>\n",
       "    <tr>\n",
       "      <td>7577</td>\n",
       "      <td>False</td>\n",
       "      <td>False</td>\n",
       "      <td>False</td>\n",
       "      <td>False</td>\n",
       "      <td>False</td>\n",
       "      <td>False</td>\n",
       "      <td>False</td>\n",
       "      <td>False</td>\n",
       "      <td>False</td>\n",
       "      <td>False</td>\n",
       "      <td>...</td>\n",
       "      <td>False</td>\n",
       "      <td>False</td>\n",
       "      <td>False</td>\n",
       "      <td>False</td>\n",
       "      <td>False</td>\n",
       "      <td>False</td>\n",
       "      <td>False</td>\n",
       "      <td>False</td>\n",
       "      <td>False</td>\n",
       "      <td>False</td>\n",
       "    </tr>\n",
       "    <tr>\n",
       "      <td>7578</td>\n",
       "      <td>False</td>\n",
       "      <td>False</td>\n",
       "      <td>False</td>\n",
       "      <td>False</td>\n",
       "      <td>False</td>\n",
       "      <td>False</td>\n",
       "      <td>False</td>\n",
       "      <td>False</td>\n",
       "      <td>False</td>\n",
       "      <td>False</td>\n",
       "      <td>...</td>\n",
       "      <td>False</td>\n",
       "      <td>False</td>\n",
       "      <td>False</td>\n",
       "      <td>False</td>\n",
       "      <td>False</td>\n",
       "      <td>False</td>\n",
       "      <td>False</td>\n",
       "      <td>False</td>\n",
       "      <td>False</td>\n",
       "      <td>False</td>\n",
       "    </tr>\n",
       "    <tr>\n",
       "      <td>7579</td>\n",
       "      <td>False</td>\n",
       "      <td>False</td>\n",
       "      <td>False</td>\n",
       "      <td>False</td>\n",
       "      <td>False</td>\n",
       "      <td>False</td>\n",
       "      <td>False</td>\n",
       "      <td>False</td>\n",
       "      <td>False</td>\n",
       "      <td>False</td>\n",
       "      <td>...</td>\n",
       "      <td>False</td>\n",
       "      <td>False</td>\n",
       "      <td>False</td>\n",
       "      <td>False</td>\n",
       "      <td>False</td>\n",
       "      <td>False</td>\n",
       "      <td>False</td>\n",
       "      <td>False</td>\n",
       "      <td>False</td>\n",
       "      <td>False</td>\n",
       "    </tr>\n",
       "    <tr>\n",
       "      <td>7580</td>\n",
       "      <td>False</td>\n",
       "      <td>False</td>\n",
       "      <td>False</td>\n",
       "      <td>False</td>\n",
       "      <td>False</td>\n",
       "      <td>False</td>\n",
       "      <td>False</td>\n",
       "      <td>False</td>\n",
       "      <td>False</td>\n",
       "      <td>False</td>\n",
       "      <td>...</td>\n",
       "      <td>False</td>\n",
       "      <td>False</td>\n",
       "      <td>False</td>\n",
       "      <td>False</td>\n",
       "      <td>False</td>\n",
       "      <td>False</td>\n",
       "      <td>False</td>\n",
       "      <td>False</td>\n",
       "      <td>False</td>\n",
       "      <td>False</td>\n",
       "    </tr>\n",
       "  </tbody>\n",
       "</table>\n",
       "<p>7581 rows × 34 columns</p>\n",
       "</div>"
      ],
      "text/plain": [
       "          X      Y  OBJECTID     ID   NAME  ADDRESS   CITY  STATE    ZIP  \\\n",
       "0     False  False     False  False  False    False  False  False  False   \n",
       "1     False  False     False  False  False    False  False  False  False   \n",
       "2     False  False     False  False  False    False  False  False  False   \n",
       "3     False  False     False  False  False    False  False  False  False   \n",
       "4     False  False     False  False  False    False  False  False  False   \n",
       "...     ...    ...       ...    ...    ...      ...    ...    ...    ...   \n",
       "7576  False  False     False  False  False    False  False  False  False   \n",
       "7577  False  False     False  False  False    False  False  False  False   \n",
       "7578  False  False     False  False  False    False  False  False  False   \n",
       "7579  False  False     False  False  False    False  False  False  False   \n",
       "7580  False  False     False  False  False    False  False  False  False   \n",
       "\n",
       "       ZIP4  ...  VAL_DATE  WEBSITE  STATE_ID  ALT_NAME  ST_FIPS  OWNER  \\\n",
       "0     False  ...     False    False     False     False    False  False   \n",
       "1     False  ...     False    False     False     False    False  False   \n",
       "2     False  ...     False    False     False     False    False  False   \n",
       "3     False  ...     False    False     False     False    False  False   \n",
       "4     False  ...     False    False     False     False    False  False   \n",
       "...     ...  ...       ...      ...       ...       ...      ...    ...   \n",
       "7576  False  ...     False    False     False     False    False  False   \n",
       "7577  False  ...     False    False     False     False    False  False   \n",
       "7578  False  ...     False    False     False     False    False  False   \n",
       "7579  False  ...     False    False     False     False    False  False   \n",
       "7580  False  ...     False    False     False     False    False  False   \n",
       "\n",
       "      TTL_STAFF   BEDS  TRAUMA  HELIPAD  \n",
       "0         False  False   False    False  \n",
       "1         False  False   False    False  \n",
       "2         False  False   False    False  \n",
       "3         False  False   False    False  \n",
       "4         False  False   False    False  \n",
       "...         ...    ...     ...      ...  \n",
       "7576      False  False   False    False  \n",
       "7577      False  False   False    False  \n",
       "7578      False  False   False    False  \n",
       "7579      False  False   False    False  \n",
       "7580      False  False   False    False  \n",
       "\n",
       "[7581 rows x 34 columns]"
      ]
     },
     "execution_count": 87,
     "metadata": {},
     "output_type": "execute_result"
    }
   ],
   "source": [
    "df.isnull()"
   ]
  },
  {
   "cell_type": "code",
   "execution_count": 88,
   "metadata": {},
   "outputs": [
    {
     "data": {
      "text/plain": [
       "X             0\n",
       "Y             0\n",
       "OBJECTID      0\n",
       "ID            0\n",
       "NAME          0\n",
       "ADDRESS       0\n",
       "CITY          0\n",
       "STATE         0\n",
       "ZIP           0\n",
       "ZIP4          0\n",
       "TELEPHONE     0\n",
       "TYPE          0\n",
       "STATUS        0\n",
       "POPULATION    0\n",
       "COUNTY        0\n",
       "COUNTYFIPS    0\n",
       "COUNTRY       0\n",
       "LATITUDE      0\n",
       "LONGITUDE     0\n",
       "NAICS_CODE    0\n",
       "NAICS_DESC    0\n",
       "SOURCE        0\n",
       "SOURCEDATE    0\n",
       "VAL_METHOD    0\n",
       "VAL_DATE      0\n",
       "WEBSITE       0\n",
       "STATE_ID      0\n",
       "ALT_NAME      0\n",
       "ST_FIPS       0\n",
       "OWNER         0\n",
       "TTL_STAFF     0\n",
       "BEDS          0\n",
       "TRAUMA        0\n",
       "HELIPAD       0\n",
       "dtype: int64"
      ]
     },
     "execution_count": 88,
     "metadata": {},
     "output_type": "execute_result"
    }
   ],
   "source": [
    "df.isnull().sum()"
   ]
  },
  {
   "cell_type": "code",
   "execution_count": 90,
   "metadata": {},
   "outputs": [
    {
     "data": {
      "text/html": [
       "<div>\n",
       "<style scoped>\n",
       "    .dataframe tbody tr th:only-of-type {\n",
       "        vertical-align: middle;\n",
       "    }\n",
       "\n",
       "    .dataframe tbody tr th {\n",
       "        vertical-align: top;\n",
       "    }\n",
       "\n",
       "    .dataframe thead th {\n",
       "        text-align: right;\n",
       "    }\n",
       "</style>\n",
       "<table border=\"1\" class=\"dataframe\">\n",
       "  <thead>\n",
       "    <tr style=\"text-align: right;\">\n",
       "      <th></th>\n",
       "      <th>X</th>\n",
       "      <th>Y</th>\n",
       "      <th>OBJECTID</th>\n",
       "      <th>ID</th>\n",
       "      <th>NAME</th>\n",
       "      <th>ADDRESS</th>\n",
       "      <th>CITY</th>\n",
       "      <th>STATE</th>\n",
       "      <th>ZIP</th>\n",
       "      <th>ZIP4</th>\n",
       "      <th>...</th>\n",
       "      <th>VAL_DATE</th>\n",
       "      <th>WEBSITE</th>\n",
       "      <th>STATE_ID</th>\n",
       "      <th>ALT_NAME</th>\n",
       "      <th>ST_FIPS</th>\n",
       "      <th>OWNER</th>\n",
       "      <th>TTL_STAFF</th>\n",
       "      <th>BEDS</th>\n",
       "      <th>TRAUMA</th>\n",
       "      <th>HELIPAD</th>\n",
       "    </tr>\n",
       "  </thead>\n",
       "  <tbody>\n",
       "    <tr>\n",
       "      <td>500</td>\n",
       "      <td>-73.115678</td>\n",
       "      <td>40.909194</td>\n",
       "      <td>1501</td>\n",
       "      <td>3611790</td>\n",
       "      <td>STONY BROOK UNIVERSITY HOSPITAL</td>\n",
       "      <td>101 NICOLLS RD</td>\n",
       "      <td>STONY BROOK</td>\n",
       "      <td>NY</td>\n",
       "      <td>11790</td>\n",
       "      <td>NOT AVAILABLE</td>\n",
       "      <td>...</td>\n",
       "      <td>2014-02-10T00:00:00.000Z</td>\n",
       "      <td>https://www.stonybrookmedicine.edu/sbuh</td>\n",
       "      <td>5151001H</td>\n",
       "      <td>NOT AVAILABLE</td>\n",
       "      <td>36</td>\n",
       "      <td>GOVERNMENT - STATE</td>\n",
       "      <td>-999</td>\n",
       "      <td>603</td>\n",
       "      <td>LEVEL I, LEVEL I PEDIATRIC</td>\n",
       "      <td>Y</td>\n",
       "    </tr>\n",
       "    <tr>\n",
       "      <td>502</td>\n",
       "      <td>-73.927709</td>\n",
       "      <td>41.717838</td>\n",
       "      <td>1503</td>\n",
       "      <td>118012601</td>\n",
       "      <td>MID-HUDSON VALLEY DIVISION OF WESTCHESTER MEDI...</td>\n",
       "      <td>241 NORTH ROAD</td>\n",
       "      <td>POUGHKEEPSIE</td>\n",
       "      <td>NY</td>\n",
       "      <td>12601</td>\n",
       "      <td>NOT AVAILABLE</td>\n",
       "      <td>...</td>\n",
       "      <td>2015-05-12T00:00:00.000Z</td>\n",
       "      <td>http://www.midhudsonregional.org/</td>\n",
       "      <td>1302000H</td>\n",
       "      <td>ST FRANCIS HOSPITAL OF POUGHKEEPSIE</td>\n",
       "      <td>36</td>\n",
       "      <td>GOVERNMENT - LOCAL</td>\n",
       "      <td>-999</td>\n",
       "      <td>243</td>\n",
       "      <td>LEVEL II</td>\n",
       "      <td>Y</td>\n",
       "    </tr>\n",
       "    <tr>\n",
       "      <td>682</td>\n",
       "      <td>-74.737524</td>\n",
       "      <td>41.709061</td>\n",
       "      <td>1683</td>\n",
       "      <td>120812742</td>\n",
       "      <td>CATSKILL REGIONAL MEDICAL CENTER</td>\n",
       "      <td>68 HARRIS-BUSHVILLE RD</td>\n",
       "      <td>HARRIS</td>\n",
       "      <td>NY</td>\n",
       "      <td>12742</td>\n",
       "      <td>NOT AVAILABLE</td>\n",
       "      <td>...</td>\n",
       "      <td>2015-02-24T00:00:00.000Z</td>\n",
       "      <td>http://www.crmcny.org/</td>\n",
       "      <td>5263000H</td>\n",
       "      <td>NOT AVAILABLE</td>\n",
       "      <td>36</td>\n",
       "      <td>NON-PROFIT</td>\n",
       "      <td>-999</td>\n",
       "      <td>154</td>\n",
       "      <td>NOT AVAILABLE</td>\n",
       "      <td>Y</td>\n",
       "    </tr>\n",
       "    <tr>\n",
       "      <td>1030</td>\n",
       "      <td>-73.981869</td>\n",
       "      <td>44.267245</td>\n",
       "      <td>4031</td>\n",
       "      <td>120712946</td>\n",
       "      <td>ADIRONDACK MEDICAL CENTER-LAKE PLACID SITE</td>\n",
       "      <td>CHURCH STREET</td>\n",
       "      <td>LAKE PLACID</td>\n",
       "      <td>NY</td>\n",
       "      <td>12946</td>\n",
       "      <td>NOT AVAILABLE</td>\n",
       "      <td>...</td>\n",
       "      <td>2015-02-24T00:00:00.000Z</td>\n",
       "      <td>NOT AVAILABLE</td>\n",
       "      <td>NOT AVAILABLE</td>\n",
       "      <td>NOT AVAILABLE</td>\n",
       "      <td>36</td>\n",
       "      <td>NOT AVAILABLE</td>\n",
       "      <td>-999</td>\n",
       "      <td>-999</td>\n",
       "      <td>NOT AVAILABLE</td>\n",
       "      <td>Y</td>\n",
       "    </tr>\n",
       "    <tr>\n",
       "      <td>1114</td>\n",
       "      <td>-73.780115</td>\n",
       "      <td>42.645811</td>\n",
       "      <td>4115</td>\n",
       "      <td>2312204</td>\n",
       "      <td>ALBANY MEDICAL CENTER - SOUTH CLINICAL CAMPUS</td>\n",
       "      <td>25 HACKETT BOULEVARD, MC 201</td>\n",
       "      <td>ALBANY</td>\n",
       "      <td>NY</td>\n",
       "      <td>12204</td>\n",
       "      <td>NOT AVAILABLE</td>\n",
       "      <td>...</td>\n",
       "      <td>2014-02-10T00:00:00.000Z</td>\n",
       "      <td>http://www.amc.edu/index.cfm</td>\n",
       "      <td>0101005H</td>\n",
       "      <td>NOT AVAILABLE</td>\n",
       "      <td>36</td>\n",
       "      <td>NON-PROFIT</td>\n",
       "      <td>-999</td>\n",
       "      <td>18</td>\n",
       "      <td>NOT AVAILABLE</td>\n",
       "      <td>Y</td>\n",
       "    </tr>\n",
       "    <tr>\n",
       "      <td>...</td>\n",
       "      <td>...</td>\n",
       "      <td>...</td>\n",
       "      <td>...</td>\n",
       "      <td>...</td>\n",
       "      <td>...</td>\n",
       "      <td>...</td>\n",
       "      <td>...</td>\n",
       "      <td>...</td>\n",
       "      <td>...</td>\n",
       "      <td>...</td>\n",
       "      <td>...</td>\n",
       "      <td>...</td>\n",
       "      <td>...</td>\n",
       "      <td>...</td>\n",
       "      <td>...</td>\n",
       "      <td>...</td>\n",
       "      <td>...</td>\n",
       "      <td>...</td>\n",
       "      <td>...</td>\n",
       "      <td>...</td>\n",
       "      <td>...</td>\n",
       "    </tr>\n",
       "    <tr>\n",
       "      <td>6396</td>\n",
       "      <td>-73.956596</td>\n",
       "      <td>40.764274</td>\n",
       "      <td>816</td>\n",
       "      <td>117510021</td>\n",
       "      <td>MEMORIAL HOSPITAL FOR CANCER AND ALLIED DISEASES</td>\n",
       "      <td>1275 YORK AVENUE</td>\n",
       "      <td>NEW YORK</td>\n",
       "      <td>NY</td>\n",
       "      <td>10021</td>\n",
       "      <td>NOT AVAILABLE</td>\n",
       "      <td>...</td>\n",
       "      <td>2015-02-11T00:00:00.000Z</td>\n",
       "      <td>https://www.mskcc.org/</td>\n",
       "      <td>7002020H</td>\n",
       "      <td>NOT AVAILABLE</td>\n",
       "      <td>36</td>\n",
       "      <td>NON-PROFIT</td>\n",
       "      <td>-999</td>\n",
       "      <td>514</td>\n",
       "      <td>NOT AVAILABLE</td>\n",
       "      <td>N</td>\n",
       "    </tr>\n",
       "    <tr>\n",
       "      <td>6797</td>\n",
       "      <td>-77.950901</td>\n",
       "      <td>42.122421</td>\n",
       "      <td>5217</td>\n",
       "      <td>314895</td>\n",
       "      <td>JONES MEMORIAL HOSPITAL</td>\n",
       "      <td>191 N MAIN ST</td>\n",
       "      <td>WELLSVILLE</td>\n",
       "      <td>NY</td>\n",
       "      <td>14895</td>\n",
       "      <td>NOT AVAILABLE</td>\n",
       "      <td>...</td>\n",
       "      <td>2014-02-10T00:00:00.000Z</td>\n",
       "      <td>http://www.jmhny.org</td>\n",
       "      <td>0228000H</td>\n",
       "      <td>MEMORIAL HOSP OF WM F &amp; GERTRUDE F JONES</td>\n",
       "      <td>36</td>\n",
       "      <td>NON-PROFIT</td>\n",
       "      <td>-999</td>\n",
       "      <td>70</td>\n",
       "      <td>NOT AVAILABLE</td>\n",
       "      <td>N</td>\n",
       "    </tr>\n",
       "    <tr>\n",
       "      <td>6801</td>\n",
       "      <td>-73.777453</td>\n",
       "      <td>42.246345</td>\n",
       "      <td>5221</td>\n",
       "      <td>1612534</td>\n",
       "      <td>COLUMBIA MEMORIAL HOSPITAL</td>\n",
       "      <td>71 PROSPECT AVE</td>\n",
       "      <td>HUDSON</td>\n",
       "      <td>NY</td>\n",
       "      <td>12534</td>\n",
       "      <td>NOT AVAILABLE</td>\n",
       "      <td>...</td>\n",
       "      <td>2014-02-10T00:00:00.000Z</td>\n",
       "      <td>http://www.columbiamemorial.com</td>\n",
       "      <td>1001000H</td>\n",
       "      <td>NOT AVAILABLE</td>\n",
       "      <td>36</td>\n",
       "      <td>NON-PROFIT</td>\n",
       "      <td>-999</td>\n",
       "      <td>192</td>\n",
       "      <td>NOT AVAILABLE</td>\n",
       "      <td>N</td>\n",
       "    </tr>\n",
       "    <tr>\n",
       "      <td>6824</td>\n",
       "      <td>-77.047410</td>\n",
       "      <td>42.140600</td>\n",
       "      <td>5244</td>\n",
       "      <td>11514830</td>\n",
       "      <td>GUTHRIE CORNING HOSPITAL</td>\n",
       "      <td>176 DENISON PARKWAY EAST</td>\n",
       "      <td>CORNING</td>\n",
       "      <td>NY</td>\n",
       "      <td>14830</td>\n",
       "      <td>NOT AVAILABLE</td>\n",
       "      <td>...</td>\n",
       "      <td>2014-02-10T00:00:00.000Z</td>\n",
       "      <td>http://www.corninghospital.com</td>\n",
       "      <td>0866</td>\n",
       "      <td>NOT AVAILABLE</td>\n",
       "      <td>36</td>\n",
       "      <td>NON-PROFIT</td>\n",
       "      <td>-999</td>\n",
       "      <td>99</td>\n",
       "      <td>NOT AVAILABLE</td>\n",
       "      <td>N</td>\n",
       "    </tr>\n",
       "    <tr>\n",
       "      <td>6826</td>\n",
       "      <td>-72.673625</td>\n",
       "      <td>40.934264</td>\n",
       "      <td>5246</td>\n",
       "      <td>12411901</td>\n",
       "      <td>PECONIC BAY MEDICAL CENTER</td>\n",
       "      <td>1300 ROANOKE AVE</td>\n",
       "      <td>RIVERHEAD</td>\n",
       "      <td>NY</td>\n",
       "      <td>11901</td>\n",
       "      <td>NOT AVAILABLE</td>\n",
       "      <td>...</td>\n",
       "      <td>2014-02-10T00:00:00.000Z</td>\n",
       "      <td>http://www.pbmchealth.org</td>\n",
       "      <td>5155000H</td>\n",
       "      <td>NOT AVAILABLE</td>\n",
       "      <td>36</td>\n",
       "      <td>NON-PROFIT</td>\n",
       "      <td>-999</td>\n",
       "      <td>140</td>\n",
       "      <td>LEVEL III</td>\n",
       "      <td>Y</td>\n",
       "    </tr>\n",
       "  </tbody>\n",
       "</table>\n",
       "<p>277 rows × 34 columns</p>\n",
       "</div>"
      ],
      "text/plain": [
       "              X          Y  OBJECTID         ID  \\\n",
       "500  -73.115678  40.909194      1501    3611790   \n",
       "502  -73.927709  41.717838      1503  118012601   \n",
       "682  -74.737524  41.709061      1683  120812742   \n",
       "1030 -73.981869  44.267245      4031  120712946   \n",
       "1114 -73.780115  42.645811      4115    2312204   \n",
       "...         ...        ...       ...        ...   \n",
       "6396 -73.956596  40.764274       816  117510021   \n",
       "6797 -77.950901  42.122421      5217     314895   \n",
       "6801 -73.777453  42.246345      5221    1612534   \n",
       "6824 -77.047410  42.140600      5244   11514830   \n",
       "6826 -72.673625  40.934264      5246   12411901   \n",
       "\n",
       "                                                   NAME  \\\n",
       "500                     STONY BROOK UNIVERSITY HOSPITAL   \n",
       "502   MID-HUDSON VALLEY DIVISION OF WESTCHESTER MEDI...   \n",
       "682                    CATSKILL REGIONAL MEDICAL CENTER   \n",
       "1030         ADIRONDACK MEDICAL CENTER-LAKE PLACID SITE   \n",
       "1114      ALBANY MEDICAL CENTER - SOUTH CLINICAL CAMPUS   \n",
       "...                                                 ...   \n",
       "6396   MEMORIAL HOSPITAL FOR CANCER AND ALLIED DISEASES   \n",
       "6797                            JONES MEMORIAL HOSPITAL   \n",
       "6801                         COLUMBIA MEMORIAL HOSPITAL   \n",
       "6824                           GUTHRIE CORNING HOSPITAL   \n",
       "6826                         PECONIC BAY MEDICAL CENTER   \n",
       "\n",
       "                           ADDRESS          CITY STATE    ZIP           ZIP4  \\\n",
       "500                 101 NICOLLS RD   STONY BROOK    NY  11790  NOT AVAILABLE   \n",
       "502                 241 NORTH ROAD  POUGHKEEPSIE    NY  12601  NOT AVAILABLE   \n",
       "682         68 HARRIS-BUSHVILLE RD        HARRIS    NY  12742  NOT AVAILABLE   \n",
       "1030                 CHURCH STREET   LAKE PLACID    NY  12946  NOT AVAILABLE   \n",
       "1114  25 HACKETT BOULEVARD, MC 201        ALBANY    NY  12204  NOT AVAILABLE   \n",
       "...                            ...           ...   ...    ...            ...   \n",
       "6396              1275 YORK AVENUE      NEW YORK    NY  10021  NOT AVAILABLE   \n",
       "6797                 191 N MAIN ST    WELLSVILLE    NY  14895  NOT AVAILABLE   \n",
       "6801               71 PROSPECT AVE        HUDSON    NY  12534  NOT AVAILABLE   \n",
       "6824      176 DENISON PARKWAY EAST       CORNING    NY  14830  NOT AVAILABLE   \n",
       "6826              1300 ROANOKE AVE     RIVERHEAD    NY  11901  NOT AVAILABLE   \n",
       "\n",
       "      ...                  VAL_DATE                                  WEBSITE  \\\n",
       "500   ...  2014-02-10T00:00:00.000Z  https://www.stonybrookmedicine.edu/sbuh   \n",
       "502   ...  2015-05-12T00:00:00.000Z        http://www.midhudsonregional.org/   \n",
       "682   ...  2015-02-24T00:00:00.000Z                   http://www.crmcny.org/   \n",
       "1030  ...  2015-02-24T00:00:00.000Z                            NOT AVAILABLE   \n",
       "1114  ...  2014-02-10T00:00:00.000Z             http://www.amc.edu/index.cfm   \n",
       "...   ...                       ...                                      ...   \n",
       "6396  ...  2015-02-11T00:00:00.000Z                   https://www.mskcc.org/   \n",
       "6797  ...  2014-02-10T00:00:00.000Z                     http://www.jmhny.org   \n",
       "6801  ...  2014-02-10T00:00:00.000Z          http://www.columbiamemorial.com   \n",
       "6824  ...  2014-02-10T00:00:00.000Z           http://www.corninghospital.com   \n",
       "6826  ...  2014-02-10T00:00:00.000Z                http://www.pbmchealth.org   \n",
       "\n",
       "           STATE_ID                                  ALT_NAME ST_FIPS  \\\n",
       "500        5151001H                             NOT AVAILABLE      36   \n",
       "502        1302000H       ST FRANCIS HOSPITAL OF POUGHKEEPSIE      36   \n",
       "682        5263000H                             NOT AVAILABLE      36   \n",
       "1030  NOT AVAILABLE                             NOT AVAILABLE      36   \n",
       "1114       0101005H                             NOT AVAILABLE      36   \n",
       "...             ...                                       ...     ...   \n",
       "6396       7002020H                             NOT AVAILABLE      36   \n",
       "6797       0228000H  MEMORIAL HOSP OF WM F & GERTRUDE F JONES      36   \n",
       "6801       1001000H                             NOT AVAILABLE      36   \n",
       "6824           0866                             NOT AVAILABLE      36   \n",
       "6826       5155000H                             NOT AVAILABLE      36   \n",
       "\n",
       "                   OWNER TTL_STAFF  BEDS                      TRAUMA  HELIPAD  \n",
       "500   GOVERNMENT - STATE      -999   603  LEVEL I, LEVEL I PEDIATRIC        Y  \n",
       "502   GOVERNMENT - LOCAL      -999   243                    LEVEL II        Y  \n",
       "682           NON-PROFIT      -999   154               NOT AVAILABLE        Y  \n",
       "1030       NOT AVAILABLE      -999  -999               NOT AVAILABLE        Y  \n",
       "1114          NON-PROFIT      -999    18               NOT AVAILABLE        Y  \n",
       "...                  ...       ...   ...                         ...      ...  \n",
       "6396          NON-PROFIT      -999   514               NOT AVAILABLE        N  \n",
       "6797          NON-PROFIT      -999    70               NOT AVAILABLE        N  \n",
       "6801          NON-PROFIT      -999   192               NOT AVAILABLE        N  \n",
       "6824          NON-PROFIT      -999    99               NOT AVAILABLE        N  \n",
       "6826          NON-PROFIT      -999   140                   LEVEL III        Y  \n",
       "\n",
       "[277 rows x 34 columns]"
      ]
     },
     "execution_count": 90,
     "metadata": {},
     "output_type": "execute_result"
    }
   ],
   "source": [
    "df[df['STATE'] == 'NY']"
   ]
  },
  {
   "cell_type": "code",
   "execution_count": 91,
   "metadata": {},
   "outputs": [],
   "source": [
    "ny_hosp = df[df['STATE'] == 'NY']"
   ]
  },
  {
   "cell_type": "code",
   "execution_count": 94,
   "metadata": {},
   "outputs": [
    {
     "data": {
      "text/html": [
       "<div>\n",
       "<style scoped>\n",
       "    .dataframe tbody tr th:only-of-type {\n",
       "        vertical-align: middle;\n",
       "    }\n",
       "\n",
       "    .dataframe tbody tr th {\n",
       "        vertical-align: top;\n",
       "    }\n",
       "\n",
       "    .dataframe thead th {\n",
       "        text-align: right;\n",
       "    }\n",
       "</style>\n",
       "<table border=\"1\" class=\"dataframe\">\n",
       "  <thead>\n",
       "    <tr style=\"text-align: right;\">\n",
       "      <th></th>\n",
       "      <th>X</th>\n",
       "      <th>Y</th>\n",
       "      <th>OBJECTID</th>\n",
       "      <th>ID</th>\n",
       "      <th>NAME</th>\n",
       "      <th>ADDRESS</th>\n",
       "      <th>CITY</th>\n",
       "      <th>STATE</th>\n",
       "      <th>ZIP</th>\n",
       "      <th>ZIP4</th>\n",
       "      <th>...</th>\n",
       "      <th>VAL_DATE</th>\n",
       "      <th>WEBSITE</th>\n",
       "      <th>STATE_ID</th>\n",
       "      <th>ALT_NAME</th>\n",
       "      <th>ST_FIPS</th>\n",
       "      <th>OWNER</th>\n",
       "      <th>TTL_STAFF</th>\n",
       "      <th>BEDS</th>\n",
       "      <th>TRAUMA</th>\n",
       "      <th>HELIPAD</th>\n",
       "    </tr>\n",
       "  </thead>\n",
       "  <tbody>\n",
       "    <tr>\n",
       "      <td>500</td>\n",
       "      <td>-73.115678</td>\n",
       "      <td>40.909194</td>\n",
       "      <td>1501</td>\n",
       "      <td>3611790</td>\n",
       "      <td>STONY BROOK UNIVERSITY HOSPITAL</td>\n",
       "      <td>101 NICOLLS RD</td>\n",
       "      <td>STONY BROOK</td>\n",
       "      <td>NY</td>\n",
       "      <td>11790</td>\n",
       "      <td>NOT AVAILABLE</td>\n",
       "      <td>...</td>\n",
       "      <td>2014-02-10T00:00:00.000Z</td>\n",
       "      <td>https://www.stonybrookmedicine.edu/sbuh</td>\n",
       "      <td>5151001H</td>\n",
       "      <td>NOT AVAILABLE</td>\n",
       "      <td>36</td>\n",
       "      <td>GOVERNMENT - STATE</td>\n",
       "      <td>-999</td>\n",
       "      <td>603</td>\n",
       "      <td>LEVEL I, LEVEL I PEDIATRIC</td>\n",
       "      <td>Y</td>\n",
       "    </tr>\n",
       "    <tr>\n",
       "      <td>502</td>\n",
       "      <td>-73.927709</td>\n",
       "      <td>41.717838</td>\n",
       "      <td>1503</td>\n",
       "      <td>118012601</td>\n",
       "      <td>MID-HUDSON VALLEY DIVISION OF WESTCHESTER MEDI...</td>\n",
       "      <td>241 NORTH ROAD</td>\n",
       "      <td>POUGHKEEPSIE</td>\n",
       "      <td>NY</td>\n",
       "      <td>12601</td>\n",
       "      <td>NOT AVAILABLE</td>\n",
       "      <td>...</td>\n",
       "      <td>2015-05-12T00:00:00.000Z</td>\n",
       "      <td>http://www.midhudsonregional.org/</td>\n",
       "      <td>1302000H</td>\n",
       "      <td>ST FRANCIS HOSPITAL OF POUGHKEEPSIE</td>\n",
       "      <td>36</td>\n",
       "      <td>GOVERNMENT - LOCAL</td>\n",
       "      <td>-999</td>\n",
       "      <td>243</td>\n",
       "      <td>LEVEL II</td>\n",
       "      <td>Y</td>\n",
       "    </tr>\n",
       "    <tr>\n",
       "      <td>682</td>\n",
       "      <td>-74.737524</td>\n",
       "      <td>41.709061</td>\n",
       "      <td>1683</td>\n",
       "      <td>120812742</td>\n",
       "      <td>CATSKILL REGIONAL MEDICAL CENTER</td>\n",
       "      <td>68 HARRIS-BUSHVILLE RD</td>\n",
       "      <td>HARRIS</td>\n",
       "      <td>NY</td>\n",
       "      <td>12742</td>\n",
       "      <td>NOT AVAILABLE</td>\n",
       "      <td>...</td>\n",
       "      <td>2015-02-24T00:00:00.000Z</td>\n",
       "      <td>http://www.crmcny.org/</td>\n",
       "      <td>5263000H</td>\n",
       "      <td>NOT AVAILABLE</td>\n",
       "      <td>36</td>\n",
       "      <td>NON-PROFIT</td>\n",
       "      <td>-999</td>\n",
       "      <td>154</td>\n",
       "      <td>NOT AVAILABLE</td>\n",
       "      <td>Y</td>\n",
       "    </tr>\n",
       "  </tbody>\n",
       "</table>\n",
       "<p>3 rows × 34 columns</p>\n",
       "</div>"
      ],
      "text/plain": [
       "             X          Y  OBJECTID         ID  \\\n",
       "500 -73.115678  40.909194      1501    3611790   \n",
       "502 -73.927709  41.717838      1503  118012601   \n",
       "682 -74.737524  41.709061      1683  120812742   \n",
       "\n",
       "                                                  NAME  \\\n",
       "500                    STONY BROOK UNIVERSITY HOSPITAL   \n",
       "502  MID-HUDSON VALLEY DIVISION OF WESTCHESTER MEDI...   \n",
       "682                   CATSKILL REGIONAL MEDICAL CENTER   \n",
       "\n",
       "                    ADDRESS          CITY STATE    ZIP           ZIP4  ...  \\\n",
       "500          101 NICOLLS RD   STONY BROOK    NY  11790  NOT AVAILABLE  ...   \n",
       "502          241 NORTH ROAD  POUGHKEEPSIE    NY  12601  NOT AVAILABLE  ...   \n",
       "682  68 HARRIS-BUSHVILLE RD        HARRIS    NY  12742  NOT AVAILABLE  ...   \n",
       "\n",
       "                     VAL_DATE                                  WEBSITE  \\\n",
       "500  2014-02-10T00:00:00.000Z  https://www.stonybrookmedicine.edu/sbuh   \n",
       "502  2015-05-12T00:00:00.000Z        http://www.midhudsonregional.org/   \n",
       "682  2015-02-24T00:00:00.000Z                   http://www.crmcny.org/   \n",
       "\n",
       "     STATE_ID                             ALT_NAME ST_FIPS  \\\n",
       "500  5151001H                        NOT AVAILABLE      36   \n",
       "502  1302000H  ST FRANCIS HOSPITAL OF POUGHKEEPSIE      36   \n",
       "682  5263000H                        NOT AVAILABLE      36   \n",
       "\n",
       "                  OWNER TTL_STAFF  BEDS                      TRAUMA  HELIPAD  \n",
       "500  GOVERNMENT - STATE      -999   603  LEVEL I, LEVEL I PEDIATRIC        Y  \n",
       "502  GOVERNMENT - LOCAL      -999   243                    LEVEL II        Y  \n",
       "682          NON-PROFIT      -999   154               NOT AVAILABLE        Y  \n",
       "\n",
       "[3 rows x 34 columns]"
      ]
     },
     "execution_count": 94,
     "metadata": {},
     "output_type": "execute_result"
    }
   ],
   "source": [
    "ny_hosp.head(3)"
   ]
  },
  {
   "cell_type": "code",
   "execution_count": 95,
   "metadata": {},
   "outputs": [
    {
     "data": {
      "text/plain": [
       "(277, 34)"
      ]
     },
     "execution_count": 95,
     "metadata": {},
     "output_type": "execute_result"
    }
   ],
   "source": [
    "ny_hosp.shape"
   ]
  },
  {
   "cell_type": "code",
   "execution_count": 96,
   "metadata": {},
   "outputs": [
    {
     "data": {
      "text/plain": [
       "(7581, 34)"
      ]
     },
     "execution_count": 96,
     "metadata": {},
     "output_type": "execute_result"
    }
   ],
   "source": [
    "# note that the df object is still the whole dataset\n",
    "df.shape"
   ]
  },
  {
   "cell_type": "markdown",
   "metadata": {},
   "source": [
    "# Geopandas\n",
    "\n",
    "> **GeoPandas** is an open source project to make **working with geospatial data in python easier**. GeoPandas **extends the datatypes used by pandas to allow spatial operations on geometric types**. Geometric operations are performed by `shapely`. Geopandas further depends on `fiona` for file access and `descartes` and `matplotlib` for plotting. Source: https://geopandas.org/\n",
    "\n",
    "### Geopandas Description \n",
    "\n",
    "> The goal of GeoPandas is to make working with geospatial data in python easier. It combines the capabilities of `pandas` and `shapely`, providing geospatial operations in pandas and a high-level interface to multiple geometries to shapely. GeoPandas enables you to **easily do operations in python that would otherwise require a spatial database such as PostGIS**. Source: https://geopandas.org/\n",
    "\n",
    "#### Geopandas Installation\n",
    "\n",
    "From our **Terminal** application:\n",
    "\n",
    "```\n",
    "(geospatial) $ conda install geopandas\n",
    "```"
   ]
  },
  {
   "cell_type": "code",
   "execution_count": 144,
   "metadata": {},
   "outputs": [],
   "source": [
    "import geopandas as gpd"
   ]
  },
  {
   "cell_type": "code",
   "execution_count": 145,
   "metadata": {},
   "outputs": [],
   "source": [
    "hosp_geojson = 'https://opendata.arcgis.com/datasets/6ac5e325468c4cb9b905f1728d6fbf0f_0.geojson'"
   ]
  },
  {
   "cell_type": "code",
   "execution_count": 148,
   "metadata": {},
   "outputs": [],
   "source": [
    "gdf = gpd.read_file(hosp_geojson)"
   ]
  },
  {
   "cell_type": "code",
   "execution_count": 149,
   "metadata": {},
   "outputs": [],
   "source": [
    "gdf_ny = gdf[gdf['STATE'] == 'NY']"
   ]
  },
  {
   "cell_type": "code",
   "execution_count": 154,
   "metadata": {},
   "outputs": [
    {
     "data": {
      "text/plain": [
       "<matplotlib.axes._subplots.AxesSubplot at 0x7faf2508d8d0>"
      ]
     },
     "execution_count": 154,
     "metadata": {},
     "output_type": "execute_result"
    },
    {
     "data": {
      "image/png": "[encoded data removed]",
      "text/plain": [
       "<Figure size 432x288 with 1 Axes>"
      ]
     },
     "metadata": {
      "needs_background": "light"
     },
     "output_type": "display_data"
    }
   ],
   "source": [
    "gdf_ny.plot()"
   ]
  },
  {
   "cell_type": "code",
   "execution_count": 159,
   "metadata": {},
   "outputs": [
    {
     "data": {
      "text/plain": [
       "500     POINT (-73.11568 40.90919)\n",
       "502     POINT (-73.92771 41.71784)\n",
       "682     POINT (-74.73752 41.70906)\n",
       "1030    POINT (-73.98187 44.26725)\n",
       "1114    POINT (-73.78011 42.64581)\n",
       "                   ...            \n",
       "6396    POINT (-73.95660 40.76427)\n",
       "6797    POINT (-77.95090 42.12242)\n",
       "6801    POINT (-73.77745 42.24634)\n",
       "6824    POINT (-77.04741 42.14060)\n",
       "6826    POINT (-72.67362 40.93426)\n",
       "Name: geometry, Length: 277, dtype: geometry"
      ]
     },
     "execution_count": 159,
     "metadata": {},
     "output_type": "execute_result"
    }
   ],
   "source": [
    "gdf_ny['geometry']"
   ]
  },
  {
   "cell_type": "code",
   "execution_count": 160,
   "metadata": {},
   "outputs": [
    {
     "data": {
      "text/html": [
       "<div>\n",
       "<style scoped>\n",
       "    .dataframe tbody tr th:only-of-type {\n",
       "        vertical-align: middle;\n",
       "    }\n",
       "\n",
       "    .dataframe tbody tr th {\n",
       "        vertical-align: top;\n",
       "    }\n",
       "\n",
       "    .dataframe thead th {\n",
       "        text-align: right;\n",
       "    }\n",
       "</style>\n",
       "<table border=\"1\" class=\"dataframe\">\n",
       "  <thead>\n",
       "    <tr style=\"text-align: right;\">\n",
       "      <th></th>\n",
       "      <th>OBJECTID</th>\n",
       "      <th>ID</th>\n",
       "      <th>NAME</th>\n",
       "      <th>ADDRESS</th>\n",
       "      <th>CITY</th>\n",
       "      <th>STATE</th>\n",
       "      <th>ZIP</th>\n",
       "      <th>ZIP4</th>\n",
       "      <th>TELEPHONE</th>\n",
       "      <th>TYPE</th>\n",
       "      <th>...</th>\n",
       "      <th>WEBSITE</th>\n",
       "      <th>STATE_ID</th>\n",
       "      <th>ALT_NAME</th>\n",
       "      <th>ST_FIPS</th>\n",
       "      <th>OWNER</th>\n",
       "      <th>TTL_STAFF</th>\n",
       "      <th>BEDS</th>\n",
       "      <th>TRAUMA</th>\n",
       "      <th>HELIPAD</th>\n",
       "      <th>geometry</th>\n",
       "    </tr>\n",
       "  </thead>\n",
       "  <tbody>\n",
       "    <tr>\n",
       "      <td>500</td>\n",
       "      <td>1501</td>\n",
       "      <td>0003611790</td>\n",
       "      <td>STONY BROOK UNIVERSITY HOSPITAL</td>\n",
       "      <td>101 NICOLLS RD</td>\n",
       "      <td>STONY BROOK</td>\n",
       "      <td>NY</td>\n",
       "      <td>11790</td>\n",
       "      <td>NOT AVAILABLE</td>\n",
       "      <td>(516) 689-3333</td>\n",
       "      <td>GENERAL ACUTE CARE</td>\n",
       "      <td>...</td>\n",
       "      <td>https://www.stonybrookmedicine.edu/sbuh</td>\n",
       "      <td>5151001H</td>\n",
       "      <td>NOT AVAILABLE</td>\n",
       "      <td>36</td>\n",
       "      <td>GOVERNMENT - STATE</td>\n",
       "      <td>-999</td>\n",
       "      <td>603</td>\n",
       "      <td>LEVEL I, LEVEL I PEDIATRIC</td>\n",
       "      <td>Y</td>\n",
       "      <td>POINT (-73.11568 40.90919)</td>\n",
       "    </tr>\n",
       "    <tr>\n",
       "      <td>502</td>\n",
       "      <td>1503</td>\n",
       "      <td>0118012601</td>\n",
       "      <td>MID-HUDSON VALLEY DIVISION OF WESTCHESTER MEDI...</td>\n",
       "      <td>241 NORTH ROAD</td>\n",
       "      <td>POUGHKEEPSIE</td>\n",
       "      <td>NY</td>\n",
       "      <td>12601</td>\n",
       "      <td>NOT AVAILABLE</td>\n",
       "      <td>(845) 483-5000</td>\n",
       "      <td>GENERAL ACUTE CARE</td>\n",
       "      <td>...</td>\n",
       "      <td>http://www.midhudsonregional.org/</td>\n",
       "      <td>1302000H</td>\n",
       "      <td>ST FRANCIS HOSPITAL OF POUGHKEEPSIE</td>\n",
       "      <td>36</td>\n",
       "      <td>GOVERNMENT - LOCAL</td>\n",
       "      <td>-999</td>\n",
       "      <td>243</td>\n",
       "      <td>LEVEL II</td>\n",
       "      <td>Y</td>\n",
       "      <td>POINT (-73.92771 41.71784)</td>\n",
       "    </tr>\n",
       "    <tr>\n",
       "      <td>682</td>\n",
       "      <td>1683</td>\n",
       "      <td>0120812742</td>\n",
       "      <td>CATSKILL REGIONAL MEDICAL CENTER</td>\n",
       "      <td>68 HARRIS-BUSHVILLE RD</td>\n",
       "      <td>HARRIS</td>\n",
       "      <td>NY</td>\n",
       "      <td>12742</td>\n",
       "      <td>NOT AVAILABLE</td>\n",
       "      <td>(845) 794-3300</td>\n",
       "      <td>GENERAL ACUTE CARE</td>\n",
       "      <td>...</td>\n",
       "      <td>http://www.crmcny.org/</td>\n",
       "      <td>5263000H</td>\n",
       "      <td>NOT AVAILABLE</td>\n",
       "      <td>36</td>\n",
       "      <td>NON-PROFIT</td>\n",
       "      <td>-999</td>\n",
       "      <td>154</td>\n",
       "      <td>NOT AVAILABLE</td>\n",
       "      <td>Y</td>\n",
       "      <td>POINT (-74.73752 41.70906)</td>\n",
       "    </tr>\n",
       "    <tr>\n",
       "      <td>1030</td>\n",
       "      <td>4031</td>\n",
       "      <td>0120712946</td>\n",
       "      <td>ADIRONDACK MEDICAL CENTER-LAKE PLACID SITE</td>\n",
       "      <td>CHURCH STREET</td>\n",
       "      <td>LAKE PLACID</td>\n",
       "      <td>NY</td>\n",
       "      <td>12946</td>\n",
       "      <td>NOT AVAILABLE</td>\n",
       "      <td>NOT AVAILABLE</td>\n",
       "      <td>GENERAL ACUTE CARE</td>\n",
       "      <td>...</td>\n",
       "      <td>NOT AVAILABLE</td>\n",
       "      <td>NOT AVAILABLE</td>\n",
       "      <td>NOT AVAILABLE</td>\n",
       "      <td>36</td>\n",
       "      <td>NOT AVAILABLE</td>\n",
       "      <td>-999</td>\n",
       "      <td>-999</td>\n",
       "      <td>NOT AVAILABLE</td>\n",
       "      <td>Y</td>\n",
       "      <td>POINT (-73.98187 44.26725)</td>\n",
       "    </tr>\n",
       "    <tr>\n",
       "      <td>1114</td>\n",
       "      <td>4115</td>\n",
       "      <td>0002312204</td>\n",
       "      <td>ALBANY MEDICAL CENTER - SOUTH CLINICAL CAMPUS</td>\n",
       "      <td>25 HACKETT BOULEVARD, MC 201</td>\n",
       "      <td>ALBANY</td>\n",
       "      <td>NY</td>\n",
       "      <td>12204</td>\n",
       "      <td>NOT AVAILABLE</td>\n",
       "      <td>(518) 262-1200</td>\n",
       "      <td>GENERAL ACUTE CARE</td>\n",
       "      <td>...</td>\n",
       "      <td>http://www.amc.edu/index.cfm</td>\n",
       "      <td>0101005H</td>\n",
       "      <td>NOT AVAILABLE</td>\n",
       "      <td>36</td>\n",
       "      <td>NON-PROFIT</td>\n",
       "      <td>-999</td>\n",
       "      <td>18</td>\n",
       "      <td>NOT AVAILABLE</td>\n",
       "      <td>Y</td>\n",
       "      <td>POINT (-73.78011 42.64581)</td>\n",
       "    </tr>\n",
       "  </tbody>\n",
       "</table>\n",
       "<p>5 rows × 33 columns</p>\n",
       "</div>"
      ],
      "text/plain": [
       "      OBJECTID          ID                                               NAME  \\\n",
       "500       1501  0003611790                    STONY BROOK UNIVERSITY HOSPITAL   \n",
       "502       1503  0118012601  MID-HUDSON VALLEY DIVISION OF WESTCHESTER MEDI...   \n",
       "682       1683  0120812742                   CATSKILL REGIONAL MEDICAL CENTER   \n",
       "1030      4031  0120712946         ADIRONDACK MEDICAL CENTER-LAKE PLACID SITE   \n",
       "1114      4115  0002312204      ALBANY MEDICAL CENTER - SOUTH CLINICAL CAMPUS   \n",
       "\n",
       "                           ADDRESS          CITY STATE    ZIP           ZIP4  \\\n",
       "500                 101 NICOLLS RD   STONY BROOK    NY  11790  NOT AVAILABLE   \n",
       "502                 241 NORTH ROAD  POUGHKEEPSIE    NY  12601  NOT AVAILABLE   \n",
       "682         68 HARRIS-BUSHVILLE RD        HARRIS    NY  12742  NOT AVAILABLE   \n",
       "1030                 CHURCH STREET   LAKE PLACID    NY  12946  NOT AVAILABLE   \n",
       "1114  25 HACKETT BOULEVARD, MC 201        ALBANY    NY  12204  NOT AVAILABLE   \n",
       "\n",
       "           TELEPHONE                TYPE  ...  \\\n",
       "500   (516) 689-3333  GENERAL ACUTE CARE  ...   \n",
       "502   (845) 483-5000  GENERAL ACUTE CARE  ...   \n",
       "682   (845) 794-3300  GENERAL ACUTE CARE  ...   \n",
       "1030   NOT AVAILABLE  GENERAL ACUTE CARE  ...   \n",
       "1114  (518) 262-1200  GENERAL ACUTE CARE  ...   \n",
       "\n",
       "                                      WEBSITE       STATE_ID  \\\n",
       "500   https://www.stonybrookmedicine.edu/sbuh       5151001H   \n",
       "502         http://www.midhudsonregional.org/       1302000H   \n",
       "682                    http://www.crmcny.org/       5263000H   \n",
       "1030                            NOT AVAILABLE  NOT AVAILABLE   \n",
       "1114             http://www.amc.edu/index.cfm       0101005H   \n",
       "\n",
       "                                 ALT_NAME ST_FIPS               OWNER  \\\n",
       "500                         NOT AVAILABLE      36  GOVERNMENT - STATE   \n",
       "502   ST FRANCIS HOSPITAL OF POUGHKEEPSIE      36  GOVERNMENT - LOCAL   \n",
       "682                         NOT AVAILABLE      36          NON-PROFIT   \n",
       "1030                        NOT AVAILABLE      36       NOT AVAILABLE   \n",
       "1114                        NOT AVAILABLE      36          NON-PROFIT   \n",
       "\n",
       "      TTL_STAFF  BEDS                      TRAUMA HELIPAD  \\\n",
       "500        -999   603  LEVEL I, LEVEL I PEDIATRIC       Y   \n",
       "502        -999   243                    LEVEL II       Y   \n",
       "682        -999   154               NOT AVAILABLE       Y   \n",
       "1030       -999  -999               NOT AVAILABLE       Y   \n",
       "1114       -999    18               NOT AVAILABLE       Y   \n",
       "\n",
       "                        geometry  \n",
       "500   POINT (-73.11568 40.90919)  \n",
       "502   POINT (-73.92771 41.71784)  \n",
       "682   POINT (-74.73752 41.70906)  \n",
       "1030  POINT (-73.98187 44.26725)  \n",
       "1114  POINT (-73.78011 42.64581)  \n",
       "\n",
       "[5 rows x 33 columns]"
      ]
     },
     "execution_count": 160,
     "metadata": {},
     "output_type": "execute_result"
    }
   ],
   "source": [
    "gdf_ny.head()"
   ]
  },
  {
   "cell_type": "markdown",
   "metadata": {},
   "source": [
    "### (THREAD) Where have we seen this `POINT ( ... ) ` thing before???"
   ]
  },
  {
   "cell_type": "code",
   "execution_count": 156,
   "metadata": {},
   "outputs": [],
   "source": [
    "gdf_ny.to_file('data/ny_hospitals.shp')"
   ]
  },
  {
   "cell_type": "markdown",
   "metadata": {},
   "source": [
    "We've queried a Shapefile and then saved without having to open GIS software. \n",
    "\n",
    "#### You can now take a look at our file in QGIS or some other package!\n",
    "\n",
    "![hosp_qgis](https://raw.githubusercontent.com/pratt-savi-810/images/master/hospitals_qgis.png)"
   ]
  },
  {
   "cell_type": "code",
   "execution_count": 168,
   "metadata": {},
   "outputs": [
    {
     "data": {
      "text/html": [
       "<div style=\"width:100%;\"><div style=\"position:relative;width:100%;height:0;padding-bottom:60%;\"><iframe src=\"data:text/html;charset=utf-8;base64,PCFET0NUWVBFIGh0bWw+CjxoZWFkPiAgICAKICAgIDxtZXRhIGh0dHAtZXF1aXY9ImNvbnRlbnQtdHlwZSIgY29udGVudD0idGV4dC9odG1sOyBjaGFyc2V0PVVURi04IiAvPgogICAgCiAgICAgICAgPHNjcmlwdD4KICAgICAgICAgICAgTF9OT19UT1VDSCA9IGZhbHNlOwogICAgICAgICAgICBMX0RJU0FCTEVfM0QgPSBmYWxzZTsKICAgICAgICA8L3NjcmlwdD4KICAgIAogICAgPHNjcmlwdCBzcmM9Imh0dHBzOi8vY2RuLmpzZGVsaXZyLm5ldC9ucG0vbGVhZmxldEAxLjUuMS9kaXN0L2xlYWZsZXQuanMiPjwvc2NyaXB0PgogICAgPHNjcmlwdCBzcmM9Imh0dHBzOi8vY29kZS5qcXVlcnkuY29tL2pxdWVyeS0xLjEyLjQubWluLmpzIj48L3NjcmlwdD4KICAgIDxzY3JpcHQgc3JjPSJodHRwczovL21heGNkbi5ib290c3RyYXBjZG4uY29tL2Jvb3RzdHJhcC8zLjIuMC9qcy9ib290c3RyYXAubWluLmpzIj48L3NjcmlwdD4KICAgIDxzY3JpcHQgc3JjPSJodHRwczovL2NkbmpzLmNsb3VkZmxhcmUuY29tL2FqYXgvbGlicy9MZWFmbGV0LmF3ZXNvbWUtbWFya2Vycy8yLjAuMi9sZWFmbGV0LmF3ZXNvbWUtbWFya2Vycy5qcyI+PC9zY3JpcHQ+CiAgICA8bGluayByZWw9InN0eWxlc2hlZXQiIGhyZWY9Imh0dHBzOi8vY2RuLmpzZGVsaXZyLm5ldC9ucG0vbGVhZmxldEAxLjUuMS9kaXN0L2xlYWZsZXQuY3NzIi8+CiAgICA8bGluayByZWw9InN0eWxlc2hlZXQiIGhyZWY9Imh0dHBzOi8vbWF4Y2RuLmJvb3RzdHJhcGNkbi5jb20vYm9vdHN0cmFwLzMuMi4wL2Nzcy9ib290c3RyYXAubWluLmNzcyIvPgogICAgPGxpbmsgcmVsPSJzdHlsZXNoZWV0IiBocmVmPSJodHRwczovL21heGNkbi5ib290c3RyYXBjZG4uY29tL2Jvb3RzdHJhcC8zLjIuMC9jc3MvYm9vdHN0cmFwLXRoZW1lLm1pbi5jc3MiLz4KICAgIDxsaW5rIHJlbD0ic3R5bGVzaGVldCIgaHJlZj0iaHR0cHM6Ly9tYXhjZG4uYm9vdHN0cmFwY2RuLmNvbS9mb250LWF3ZXNvbWUvNC42LjMvY3NzL2ZvbnQtYXdlc29tZS5taW4uY3NzIi8+CiAgICA8bGluayByZWw9InN0eWxlc2hlZXQiIGhyZWY9Imh0dHBzOi8vY2RuanMuY2xvdWRmbGFyZS5jb20vYWpheC9saWJzL0xlYWZsZXQuYXdlc29tZS1tYXJrZXJzLzIuMC4yL2xlYWZsZXQuYXdlc29tZS1tYXJrZXJzLmNzcyIvPgogICAgPGxpbmsgcmVsPSJzdHlsZXNoZWV0IiBocmVmPSJodHRwczovL3Jhd2Nkbi5naXRoYWNrLmNvbS9weXRob24tdmlzdWFsaXphdGlvbi9mb2xpdW0vbWFzdGVyL2ZvbGl1bS90ZW1wbGF0ZXMvbGVhZmxldC5hd2Vzb21lLnJvdGF0ZS5jc3MiLz4KICAgIDxzdHlsZT5odG1sLCBib2R5IHt3aWR0aDogMTAwJTtoZWlnaHQ6IDEwMCU7bWFyZ2luOiAwO3BhZGRpbmc6IDA7fTwvc3R5bGU+CiAgICA8c3R5bGU+I21hcCB7cG9zaXRpb246YWJzb2x1dGU7dG9wOjA7Ym90dG9tOjA7cmlnaHQ6MDtsZWZ0OjA7fTwvc3R5bGU+CiAgICAKICAgICAgICAgICAgPG1ldGEgbmFtZT0idmlld3BvcnQiIGNvbnRlbnQ9IndpZHRoPWRldmljZS13aWR0aCwKICAgICAgICAgICAgICAgIGluaXRpYWwtc2NhbGU9MS4wLCBtYXhpbXVtLXNjYWxlPTEuMCwgdXNlci1zY2FsYWJsZT1ubyIgLz4KICAgICAgICAgICAgPHN0eWxlPgogICAgICAgICAgICAgICAgI21hcF9kOTc1YmY0ZDg2MDM0NDI5OTUwOTc4NzM0Nzc5OWY0MyB7CiAgICAgICAgICAgICAgICAgICAgcG9zaXRpb246IHJlbGF0aXZlOwogICAgICAgICAgICAgICAgICAgIHdpZHRoOiAxMDAuMCU7CiAgICAgICAgICAgICAgICAgICAgaGVpZ2h0OiAxMDAuMCU7CiAgICAgICAgICAgICAgICAgICAgbGVmdDogMC4wJTsKICAgICAgICAgICAgICAgICAgICB0b3A6IDAuMCU7CiAgICAgICAgICAgICAgICB9CiAgICAgICAgICAgIDwvc3R5bGU+CiAgICAgICAgCiAgICA8c2NyaXB0IHNyYz0iaHR0cHM6Ly9jZG5qcy5jbG91ZGZsYXJlLmNvbS9hamF4L2xpYnMvbGVhZmxldC5tYXJrZXJjbHVzdGVyLzEuMS4wL2xlYWZsZXQubWFya2VyY2x1c3Rlci5qcyI+PC9zY3JpcHQ+CiAgICA8bGluayByZWw9InN0eWxlc2hlZXQiIGhyZWY9Imh0dHBzOi8vY2RuanMuY2xvdWRmbGFyZS5jb20vYWpheC9saWJzL2xlYWZsZXQubWFya2VyY2x1c3Rlci8xLjEuMC9NYXJrZXJDbHVzdGVyLmNzcyIvPgogICAgPGxpbmsgcmVsPSJzdHlsZXNoZWV0IiBocmVmPSJodHRwczovL2NkbmpzLmNsb3VkZmxhcmUuY29tL2FqYXgvbGlicy9sZWFmbGV0Lm1hcmtlcmNsdXN0ZXIvMS4xLjAvTWFya2VyQ2x1c3Rlci5EZWZhdWx0LmNzcyIvPgo8L2hlYWQ+Cjxib2R5PiAgICAKICAgIAogICAgICAgICAgICA8ZGl2IGNsYXNzPSJmb2xpdW0tbWFwIiBpZD0ibWFwX2Q5NzViZjRkODYwMzQ0Mjk5NTA5Nzg3MzQ3Nzk5ZjQzIiA+PC9kaXY+CiAgICAgICAgCjwvYm9keT4KPHNjcmlwdD4gICAgCiAgICAKICAgICAgICAgICAgdmFyIG1hcF9kOTc1YmY0ZDg2MDM0NDI5OTUwOTc4NzM0Nzc5OWY0MyA9IEwubWFwKAogICAgICAgICAgICAgICAgIm1hcF9kOTc1YmY0ZDg2MDM0NDI5OTUwOTc4NzM0Nzc5OWY0MyIsCiAgICAgICAgICAgICAgICB7CiAgICAgICAgICAgICAgICAgICAgY2VudGVyOiBbNDEuODc2NjE5MzYwNTU1OTksIC03NS4wNTI0NjUyNDg3Nzk3MV0sCiAgICAgICAgICAgICAgICAgICAgY3JzOiBMLkNSUy5FUFNHMzg1NywKICAgICAgICAgICAgICAgICAgICB6b29tOiA2LAogICAgICAgICAgICAgICAgICAgIHpvb21Db250cm9sOiB0cnVlLAogICAgICAgICAgICAgICAgICAgIHByZWZlckNhbnZhczogZmFsc2UsCiAgICAgICAgICAgICAgICB9CiAgICAgICAgICAgICk7CgogICAgICAgICAgICAKCiAgICAgICAgCiAgICAKICAgICAgICAgICAgdmFyIHRpbGVfbGF5ZXJfYTllZjMxZGQ5NjFjNDM0ZmIyMjUwYmZlNjkzY2NkZjkgPSBMLnRpbGVMYXllcigKICAgICAgICAgICAgICAgICJodHRwczovL3tzfS50aWxlLm9wZW5zdHJlZXRtYXAub3JnL3t6fS97eH0ve3l9LnBuZyIsCiAgICAgICAgICAgICAgICB7ImF0dHJpYnV0aW9uIjogIkRhdGEgYnkgXHUwMDI2Y29weTsgXHUwMDNjYSBocmVmPVwiaHR0cDovL29wZW5zdHJlZXRtYXAub3JnXCJcdTAwM2VPcGVuU3RyZWV0TWFwXHUwMDNjL2FcdTAwM2UsIHVuZGVyIFx1MDAzY2EgaHJlZj1cImh0dHA6Ly93d3cub3BlbnN0cmVldG1hcC5vcmcvY29weXJpZ2h0XCJcdTAwM2VPRGJMXHUwMDNjL2FcdTAwM2UuIiwgImRldGVjdFJldGluYSI6IGZhbHNlLCAibWF4TmF0aXZlWm9vbSI6IDE4LCAibWF4Wm9vbSI6IDE4LCAibWluWm9vbSI6IDAsICJub1dyYXAiOiBmYWxzZSwgIm9wYWNpdHkiOiAxLCAic3ViZG9tYWlucyI6ICJhYmMiLCAidG1zIjogZmFsc2V9CiAgICAgICAgICAgICkuYWRkVG8obWFwX2Q5NzViZjRkODYwMzQ0Mjk5NTA5Nzg3MzQ3Nzk5ZjQzKTsKICAgICAgICAKICAgIAogICAgICAgICAgICB2YXIgbWFya2VyX2NsdXN0ZXJfZDI1NzMwYjhkZWFmNGQ3YzgyZmRkMGJkODQ3NzIyY2QgPSBMLm1hcmtlckNsdXN0ZXJHcm91cCgKICAgICAgICAgICAgICAgIHt9CiAgICAgICAgICAgICk7CiAgICAgICAgICAgIG1hcF9kOTc1YmY0ZDg2MDM0NDI5OTUwOTc4NzM0Nzc5OWY0My5hZGRMYXllcihtYXJrZXJfY2x1c3Rlcl9kMjU3MzBiOGRlYWY0ZDdjODJmZGQwYmQ4NDc3MjJjZCk7CiAgICAgICAgCiAgICAKICAgICAgICAgICAgdmFyIG1hcmtlcl83YWVkOWY4ZWQ3Yzg0MmQ3YTlkZGMyNGM4ZDc1ZjAwMCA9IEwubWFya2VyKAogICAgICAgICAgICAgICAgWzQwLjkwOTE5NDQ1NTAwMDAxLCAtNzMuMTE1Njc4MjIyOTk5OTddLAogICAgICAgICAgICAgICAge30KICAgICAgICAgICAgKS5hZGRUbyhtYXJrZXJfY2x1c3Rlcl9kMjU3MzBiOGRlYWY0ZDdjODJmZGQwYmQ4NDc3MjJjZCk7CiAgICAgICAgCiAgICAKICAgICAgICB2YXIgcG9wdXBfODE2MDFkNzI2MDFmNDhlZTljM2UzZDI2YzMwZGEyMjUgPSBMLnBvcHVwKHsibWF4V2lkdGgiOiAiMTAwJSJ9KTsKCiAgICAgICAgCiAgICAgICAgICAgIHZhciBodG1sXzJmNTM0ODE3YjVhMTRiMmRiZjY2YjU2MTUxNGVmZjc3ID0gJChgPGRpdiBpZD0iaHRtbF8yZjUzNDgxN2I1YTE0YjJkYmY2NmI1NjE1MTRlZmY3NyIgc3R5bGU9IndpZHRoOiAxMDAuMCU7IGhlaWdodDogMTAwLjAlOyI+U1RPTlkgQlJPT0sgVU5JVkVSU0lUWSBIT1NQSVRBTDwvZGl2PmApWzBdOwogICAgICAgICAgICBwb3B1cF84MTYwMWQ3MjYwMWY0OGVlOWMzZTNkMjZjMzBkYTIyNS5zZXRDb250ZW50KGh0bWxfMmY1MzQ4MTdiNWExNGIyZGJmNjZiNTYxNTE0ZWZmNzcpOwogICAgICAgIAoKICAgICAgICBtYXJrZXJfN2FlZDlmOGVkN2M4NDJkN2E5ZGRjMjRjOGQ3NWYwMDAuYmluZFBvcHVwKHBvcHVwXzgxNjAxZDcyNjAxZjQ4ZWU5YzNlM2QyNmMzMGRhMjI1KQogICAgICAgIDsKCiAgICAgICAgCiAgICAKICAgIAogICAgICAgICAgICB2YXIgbWFya2VyX2NhMzNkNDExNzFlZDQzYzhhNGVmMGVjMGUxYWJlNzEwID0gTC5tYXJrZXIoCiAgICAgICAgICAgICAgICBbNDEuNzE3ODM4Mzg4MDAwMDc1LCAtNzMuOTI3NzA5MzUyOTk5OTVdLAogICAgICAgICAgICAgICAge30KICAgICAgICAgICAgKS5hZGRUbyhtYXJrZXJfY2x1c3Rlcl9kMjU3MzBiOGRlYWY0ZDdjODJmZGQwYmQ4NDc3MjJjZCk7CiAgICAgICAgCiAgICAKICAgICAgICB2YXIgcG9wdXBfMzk1ZWRiYmFhNzNmNGZjYTk5ZmYyZDU4NGIwY2UxMGQgPSBMLnBvcHVwKHsibWF4V2lkdGgiOiAiMTAwJSJ9KTsKCiAgICAgICAgCiAgICAgICAgICAgIHZhciBodG1sXzBkN2MyYTdhNjE0OTQ5NzM4M2UzZTc2Njk0MTZlYTZiID0gJChgPGRpdiBpZD0iaHRtbF8wZDdjMmE3YTYxNDk0OTczODNlM2U3NjY5NDE2ZWE2YiIgc3R5bGU9IndpZHRoOiAxMDAuMCU7IGhlaWdodDogMTAwLjAlOyI+TUlELUhVRFNPTiBWQUxMRVkgRElWSVNJT04gT0YgV0VTVENIRVNURVIgTUVESUNBTCBDRU5URVI8L2Rpdj5gKVswXTsKICAgICAgICAgICAgcG9wdXBfMzk1ZWRiYmFhNzNmNGZjYTk5ZmYyZDU4NGIwY2UxMGQuc2V0Q29udGVudChodG1sXzBkN2MyYTdhNjE0OTQ5NzM4M2UzZTc2Njk0MTZlYTZiKTsKICAgICAgICAKCiAgICAgICAgbWFya2VyX2NhMzNkNDExNzFlZDQzYzhhNGVmMGVjMGUxYWJlNzEwLmJpbmRQb3B1cChwb3B1cF8zOTVlZGJiYWE3M2Y0ZmNhOTlmZjJkNTg0YjBjZTEwZCkKICAgICAgICA7CgogICAgICAgIAogICAgCiAgICAKICAgICAgICAgICAgdmFyIG1hcmtlcl9jN2I4NjE2YjFkMjA0NzYzYTA2MzcyN2E2ODkwMjk4OSA9IEwubWFya2VyKAogICAgICAgICAgICAgICAgWzQxLjcwOTA2MDc4NjAwMDA3LCAtNzQuNzM3NTI0Mzk4OTk5OTRdLAogICAgICAgICAgICAgICAge30KICAgICAgICAgICAgKS5hZGRUbyhtYXJrZXJfY2x1c3Rlcl9kMjU3MzBiOGRlYWY0ZDdjODJmZGQwYmQ4NDc3MjJjZCk7CiAgICAgICAgCiAgICAKICAgICAgICB2YXIgcG9wdXBfMGQzMjBiZWNkY2ZlNGU3MzgzYjgxMzI0OTZiYTJhYmEgPSBMLnBvcHVwKHsibWF4V2lkdGgiOiAiMTAwJSJ9KTsKCiAgICAgICAgCiAgICAgICAgICAgIHZhciBodG1sXzVmYzc4Njk0Nzg2NzQ5NmQ4MTQ0ZWEwZjc4MmEyM2NlID0gJChgPGRpdiBpZD0iaHRtbF81ZmM3ODY5NDc4Njc0OTZkODE0NGVhMGY3ODJhMjNjZSIgc3R5bGU9IndpZHRoOiAxMDAuMCU7IGhlaWdodDogMTAwLjAlOyI+Q0FUU0tJTEwgUkVHSU9OQUwgTUVESUNBTCBDRU5URVI8L2Rpdj5gKVswXTsKICAgICAgICAgICAgcG9wdXBfMGQzMjBiZWNkY2ZlNGU3MzgzYjgxMzI0OTZiYTJhYmEuc2V0Q29udGVudChodG1sXzVmYzc4Njk0Nzg2NzQ5NmQ4MTQ0ZWEwZjc4MmEyM2NlKTsKICAgICAgICAKCiAgICAgICAgbWFya2VyX2M3Yjg2MTZiMWQyMDQ3NjNhMDYzNzI3YTY4OTAyOTg5LmJpbmRQb3B1cChwb3B1cF8wZDMyMGJlY2RjZmU0ZTczODNiODEzMjQ5NmJhMmFiYSkKICAgICAgICA7CgogICAgICAgIAogICAgCiAgICAKICAgICAgICAgICAgdmFyIG1hcmtlcl9mNTU0YzNlOTgyZjA0MmYyOGFjMzNhZDE0Nzg0MWQ5MCA9IEwubWFya2VyKAogICAgICAgICAgICAgICAgWzQ0LjI2NzI0NTAzMjAwMDA2LCAtNzMuOTgxODY5MjgwOTk5OTNdLAogICAgICAgICAgICAgICAge30KICAgICAgICAgICAgKS5hZGRUbyhtYXJrZXJfY2x1c3Rlcl9kMjU3MzBiOGRlYWY0ZDdjODJmZGQwYmQ4NDc3MjJjZCk7CiAgICAgICAgCiAgICAKICAgICAgICB2YXIgcG9wdXBfNGJiOGFhODljYTY3NDM4NWFlNDhjM2RiM2Q1MDdmZDYgPSBMLnBvcHVwKHsibWF4V2lkdGgiOiAiMTAwJSJ9KTsKCiAgICAgICAgCiAgICAgICAgICAgIHZhciBodG1sXzNjMWZjNTdkNWU1OTQwYjRhYjhjZDFmYmJhY2M5Njk0ID0gJChgPGRpdiBpZD0iaHRtbF8zYzFmYzU3ZDVlNTk0MGI0YWI4Y2QxZmJiYWNjOTY5NCIgc3R5bGU9IndpZHRoOiAxMDAuMCU7IGhlaWdodDogMTAwLjAlOyI+QURJUk9OREFDSyBNRURJQ0FMIENFTlRFUi1MQUtFIFBMQUNJRCBTSVRFPC9kaXY+YClbMF07CiAgICAgICAgICAgIHBvcHVwXzRiYjhhYTg5Y2E2NzQzODVhZTQ4YzNkYjNkNTA3ZmQ2LnNldENvbnRlbnQoaHRtbF8zYzFmYzU3ZDVlNTk0MGI0YWI4Y2QxZmJiYWNjOTY5NCk7CiAgICAgICAgCgogICAgICAgIG1hcmtlcl9mNTU0YzNlOTgyZjA0MmYyOGFjMzNhZDE0Nzg0MWQ5MC5iaW5kUG9wdXAocG9wdXBfNGJiOGFhODljYTY3NDM4NWFlNDhjM2RiM2Q1MDdmZDYpCiAgICAgICAgOwoKICAgICAgICAKICAgIAogICAgCiAgICAgICAgICAgIHZhciBtYXJrZXJfM2RjNWY1MDM4ZGIxNDA0ZmFiYTIxNWU4ZWZkYTFjYjggPSBMLm1hcmtlcigKICAgICAgICAgICAgICAgIFs0Mi42NDU4MTA2NjcwMDAwMiwgLTczLjc4MDExNDY0Mzk5OTk4XSwKICAgICAgICAgICAgICAgIHt9CiAgICAgICAgICAgICkuYWRkVG8obWFya2VyX2NsdXN0ZXJfZDI1NzMwYjhkZWFmNGQ3YzgyZmRkMGJkODQ3NzIyY2QpOwogICAgICAgIAogICAgCiAgICAgICAgdmFyIHBvcHVwX2IwNmEwY2UyZGYzYjRhMGFiMmMyMWI3YjJmNmNhNjI0ID0gTC5wb3B1cCh7Im1heFdpZHRoIjogIjEwMCUifSk7CgogICAgICAgIAogICAgICAgICAgICB2YXIgaHRtbF85YTU0ZmVkODJhNDI0NGY4Yjg0ODMyNTRhNjQyMTEwNSA9ICQoYDxkaXYgaWQ9Imh0bWxfOWE1NGZlZDgyYTQyNDRmOGI4NDgzMjU0YTY0MjExMDUiIHN0eWxlPSJ3aWR0aDogMTAwLjAlOyBoZWlnaHQ6IDEwMC4wJTsiPkFMQkFOWSBNRURJQ0FMIENFTlRFUiAtIFNPVVRIIENMSU5JQ0FMIENBTVBVUzwvZGl2PmApWzBdOwogICAgICAgICAgICBwb3B1cF9iMDZhMGNlMmRmM2I0YTBhYjJjMjFiN2IyZjZjYTYyNC5zZXRDb250ZW50KGh0bWxfOWE1NGZlZDgyYTQyNDRmOGI4NDgzMjU0YTY0MjExMDUpOwogICAgICAgIAoKICAgICAgICBtYXJrZXJfM2RjNWY1MDM4ZGIxNDA0ZmFiYTIxNWU4ZWZkYTFjYjguYmluZFBvcHVwKHBvcHVwX2IwNmEwY2UyZGYzYjRhMGFiMmMyMWI3YjJmNmNhNjI0KQogICAgICAgIDsKCiAgICAgICAgCiAgICAKICAgIAogICAgICAgICAgICB2YXIgbWFya2VyX2I2MjM2ZmY4ZmM0ZjRkMGM5NzBhNjRjZDU4NTMzZDc1ID0gTC5tYXJrZXIoCiAgICAgICAgICAgICAgICBbNDIuNjUzNDA4MDU4MDAwMDI1LCAtNzMuNzc2NjU3NDU2OTk5OTRdLAogICAgICAgICAgICAgICAge30KICAgICAgICAgICAgKS5hZGRUbyhtYXJrZXJfY2x1c3Rlcl9kMjU3MzBiOGRlYWY0ZDdjODJmZGQwYmQ4NDc3MjJjZCk7CiAgICAgICAgCiAgICAKICAgICAgICB2YXIgcG9wdXBfMzA3ZWZkNjg2YWZjNDk5OWI3ZjZjN2FkMGI4OTllNzcgPSBMLnBvcHVwKHsibWF4V2lkdGgiOiAiMTAwJSJ9KTsKCiAgICAgICAgCiAgICAgICAgICAgIHZhciBodG1sXzY3MTNlNmFjYTUxYTRiNTk5MDQ1NWRkYmQ3YTJlMjNkID0gJChgPGRpdiBpZD0iaHRtbF82NzEzZTZhY2E1MWE0YjU5OTA0NTVkZGJkN2EyZTIzZCIgc3R5bGU9IndpZHRoOiAxMDAuMCU7IGhlaWdodDogMTAwLjAlOyI+QUxCQU5ZIE1FRElDQUwgQ0VOVEVSPC9kaXY+YClbMF07CiAgICAgICAgICAgIHBvcHVwXzMwN2VmZDY4NmFmYzQ5OTliN2Y2YzdhZDBiODk5ZTc3LnNldENvbnRlbnQoaHRtbF82NzEzZTZhY2E1MWE0YjU5OTA0NTVkZGJkN2EyZTIzZCk7CiAgICAgICAgCgogICAgICAgIG1hcmtlcl9iNjIzNmZmOGZjNGY0ZDBjOTcwYTY0Y2Q1ODUzM2Q3NS5iaW5kUG9wdXAocG9wdXBfMzA3ZWZkNjg2YWZjNDk5OWI3ZjZjN2FkMGI4OTllNzcpCiAgICAgICAgOwoKICAgICAgICAKICAgIAogICAgCiAgICAgICAgICAgIHZhciBtYXJrZXJfODE0NjRiNTg1NDUxNGNmZmE3NGI4NmY0ZGQ5Yjg1Y2YgPSBMLm1hcmtlcigKICAgICAgICAgICAgICAgIFs0MC43Njk3MTY1MDAwMDAwNywgLTczLjk1MzAyMTM0Nzk5OTk0XSwKICAgICAgICAgICAgICAgIHt9CiAgICAgICAgICAgICkuYWRkVG8obWFya2VyX2NsdXN0ZXJfZDI1NzMwYjhkZWFmNGQ3YzgyZmRkMGJkODQ3NzIyY2QpOwogICAgICAgIAogICAgCiAgICAgICAgdmFyIHBvcHVwX2ZmN2M2ZGFjMDJiMzQ5ZWZiYTM5OTNiODRmZjMzNGQzID0gTC5wb3B1cCh7Im1heFdpZHRoIjogIjEwMCUifSk7CgogICAgICAgIAogICAgICAgICAgICB2YXIgaHRtbF9iMzY5YTQ2NmU5Yjk0OGFlYmU5Mzk2MmEwMzVjZDI5MSA9ICQoYDxkaXYgaWQ9Imh0bWxfYjM2OWE0NjZlOWI5NDhhZWJlOTM5NjJhMDM1Y2QyOTEiIHN0eWxlPSJ3aWR0aDogMTAwLjAlOyBoZWlnaHQ6IDEwMC4wJTsiPkdSQUNJRSBTUVVBUkUgSE9TUElUQUw8L2Rpdj5gKVswXTsKICAgICAgICAgICAgcG9wdXBfZmY3YzZkYWMwMmIzNDllZmJhMzk5M2I4NGZmMzM0ZDMuc2V0Q29udGVudChodG1sX2IzNjlhNDY2ZTliOTQ4YWViZTkzOTYyYTAzNWNkMjkxKTsKICAgICAgICAKCiAgICAgICAgbWFya2VyXzgxNDY0YjU4NTQ1MTRjZmZhNzRiODZmNGRkOWI4NWNmLmJpbmRQb3B1cChwb3B1cF9mZjdjNmRhYzAyYjM0OWVmYmEzOTkzYjg0ZmYzMzRkMykKICAgICAgICA7CgogICAgICAgIAogICAgCiAgICAKICAgICAgICAgICAgdmFyIG1hcmtlcl8yYzY4ZmVmZTM5MzA0YWNiYmE1NjdjMzI5MThkZDQyZiA9IEwubWFya2VyKAogICAgICAgICAgICAgICAgWzQwLjg2ODUwMDE4NjAwMDA1LCAtNzMuMjIyOTk2NzI3OTk5OTRdLAogICAgICAgICAgICAgICAge30KICAgICAgICAgICAgKS5hZGRUbyhtYXJrZXJfY2x1c3Rlcl9kMjU3MzBiOGRlYWY0ZDdjODJmZGQwYmQ4NDc3MjJjZCk7CiAgICAgICAgCiAgICAKICAgICAgICB2YXIgcG9wdXBfNjI4YzBlNGNmNGMyNGM2MjgxNDAwZGMxMTBjNGMzZDkgPSBMLnBvcHVwKHsibWF4V2lkdGgiOiAiMTAwJSJ9KTsKCiAgICAgICAgCiAgICAgICAgICAgIHZhciBodG1sX2U2Yjk5MThmZDdhZTQ3NDE4ZDU4ZjgwOWVkYjI5OWYyID0gJChgPGRpdiBpZD0iaHRtbF9lNmI5OTE4ZmQ3YWU0NzQxOGQ1OGY4MDllZGIyOTlmMiIgc3R5bGU9IndpZHRoOiAxMDAuMCU7IGhlaWdodDogMTAwLjAlOyI+U1QuIENBVEhFUklORSBPRiBTSUVOQSBNRURJQ0FMIENFTlRFUjwvZGl2PmApWzBdOwogICAgICAgICAgICBwb3B1cF82MjhjMGU0Y2Y0YzI0YzYyODE0MDBkYzExMGM0YzNkOS5zZXRDb250ZW50KGh0bWxfZTZiOTkxOGZkN2FlNDc0MThkNThmODA5ZWRiMjk5ZjIpOwogICAgICAgIAoKICAgICAgICBtYXJrZXJfMmM2OGZlZmUzOTMwNGFjYmJhNTY3YzMyOTE4ZGQ0MmYuYmluZFBvcHVwKHBvcHVwXzYyOGMwZTRjZjRjMjRjNjI4MTQwMGRjMTEwYzRjM2Q5KQogICAgICAgIDsKCiAgICAgICAgCiAgICAKICAgIAogICAgICAgICAgICB2YXIgbWFya2VyX2ExYWEyYzc0NDY5ZTQyMzBiZmVlOWY5OTQ0ZGJjZWFiID0gTC5tYXJrZXIoCiAgICAgICAgICAgICAgICBbNDEuNTQzNjIxMjgyMDAwMDcsIC03My45NjMzNzc0NTE5OTk5N10sCiAgICAgICAgICAgICAgICB7fQogICAgICAgICAgICApLmFkZFRvKG1hcmtlcl9jbHVzdGVyX2QyNTczMGI4ZGVhZjRkN2M4MmZkZDBiZDg0NzcyMmNkKTsKICAgICAgICAKICAgIAogICAgICAgIHZhciBwb3B1cF9kMWU3NWFhZWU2MmI0YWVlODcyYjc0NzZjNDdhMjQ0MiA9IEwucG9wdXAoeyJtYXhXaWR0aCI6ICIxMDAlIn0pOwoKICAgICAgICAKICAgICAgICAgICAgdmFyIGh0bWxfNGY3NWY2ZDQzZjMxNDBlZTgzZjljMGNlZTNiYzU1ZjYgPSAkKGA8ZGl2IGlkPSJodG1sXzRmNzVmNmQ0M2YzMTQwZWU4M2Y5YzBjZWUzYmM1NWY2IiBzdHlsZT0id2lkdGg6IDEwMC4wJTsgaGVpZ2h0OiAxMDAuMCU7Ij5WQSBNRURJQ0FMIENFTlRFUiAtIENBU1RMRSBQT0lOVCBDQU1QVVM8L2Rpdj5gKVswXTsKICAgICAgICAgICAgcG9wdXBfZDFlNzVhYWVlNjJiNGFlZTg3MmI3NDc2YzQ3YTI0NDIuc2V0Q29udGVudChodG1sXzRmNzVmNmQ0M2YzMTQwZWU4M2Y5YzBjZWUzYmM1NWY2KTsKICAgICAgICAKCiAgICAgICAgbWFya2VyX2ExYWEyYzc0NDY5ZTQyMzBiZmVlOWY5OTQ0ZGJjZWFiLmJpbmRQb3B1cChwb3B1cF9kMWU3NWFhZWU2MmI0YWVlODcyYjc0NzZjNDdhMjQ0MikKICAgICAgICA7CgogICAgICAgIAogICAgCiAgICAKICAgICAgICAgICAgdmFyIG1hcmtlcl9lOGYxNTJlODAzMDc0MTA4OGY3OTdkYTg0MWZiZjQyMSA9IEwubWFya2VyKAogICAgICAgICAgICAgICAgWzQwLjczOTIzMzcxNzAwMDAzLCAtNzMuNDk0NTY2NTk0OTk5OThdLAogICAgICAgICAgICAgICAge30KICAgICAgICAgICAgKS5hZGRUbyhtYXJrZXJfY2x1c3Rlcl9kMjU3MzBiOGRlYWY0ZDdjODJmZGQwYmQ4NDc3MjJjZCk7CiAgICAgICAgCiAgICAKICAgICAgICB2YXIgcG9wdXBfMzhiZTZiNzU1MDc0NDhkODk2ZDc2YTczMjkxMGE1MzUgPSBMLnBvcHVwKHsibWF4V2lkdGgiOiAiMTAwJSJ9KTsKCiAgICAgICAgCiAgICAgICAgICAgIHZhciBodG1sX2ZiZGM1ZDQ1YzA3ZjQ3MDNiODIxZjAwMjRkMGRiODI4ID0gJChgPGRpdiBpZD0iaHRtbF9mYmRjNWQ0NWMwN2Y0NzAzYjgyMWYwMDI0ZDBkYjgyOCIgc3R5bGU9IndpZHRoOiAxMDAuMCU7IGhlaWdodDogMTAwLjAlOyI+U1QgSk9ITidTIEVQSVNDT1BBTCBIT1NQSVRBTCBTT1VUSCBTSE9SRTwvZGl2PmApWzBdOwogICAgICAgICAgICBwb3B1cF8zOGJlNmI3NTUwNzQ0OGQ4OTZkNzZhNzMyOTEwYTUzNS5zZXRDb250ZW50KGh0bWxfZmJkYzVkNDVjMDdmNDcwM2I4MjFmMDAyNGQwZGI4MjgpOwogICAgICAgIAoKICAgICAgICBtYXJrZXJfZThmMTUyZTgwMzA3NDEwODhmNzk3ZGE4NDFmYmY0MjEuYmluZFBvcHVwKHBvcHVwXzM4YmU2Yjc1NTA3NDQ4ZDg5NmQ3NmE3MzI5MTBhNTM1KQogICAgICAgIDsKCiAgICAgICAgCiAgICAKICAgIAogICAgICAgICAgICB2YXIgbWFya2VyX2U5ZDAyYWM0MjYxZTQ3MTFhZjY3NTkzMDI5MGYzYTY1ID0gTC5tYXJrZXIoCiAgICAgICAgICAgICAgICBbNDIuMDg5OTMyNjIzMDAwMDQsIC03OC40Mjc4Mzg1NV0sCiAgICAgICAgICAgICAgICB7fQogICAgICAgICAgICApLmFkZFRvKG1hcmtlcl9jbHVzdGVyX2QyNTczMGI4ZGVhZjRkN2M4MmZkZDBiZDg0NzcyMmNkKTsKICAgICAgICAKICAgIAogICAgICAgIHZhciBwb3B1cF82MmFhNGRjYmRmZTg0ODEwOWQ2M2RmYmYyOTI2ZDk2MSA9IEwucG9wdXAoeyJtYXhXaWR0aCI6ICIxMDAlIn0pOwoKICAgICAgICAKICAgICAgICAgICAgdmFyIGh0bWxfMjIxODZlN2M5Njc2NDRkZGJlN2IwNGZiZGUxYmYyN2IgPSAkKGA8ZGl2IGlkPSJodG1sXzIyMTg2ZTdjOTY3NjQ0ZGRiZTdiMDRmYmRlMWJmMjdiIiBzdHlsZT0id2lkdGg6IDEwMC4wJTsgaGVpZ2h0OiAxMDAuMCU7Ij5PTEVBTiBHRU5FUkFMIEhPU1BJVEFMPC9kaXY+YClbMF07CiAgICAgICAgICAgIHBvcHVwXzYyYWE0ZGNiZGZlODQ4MTA5ZDYzZGZiZjI5MjZkOTYxLnNldENvbnRlbnQoaHRtbF8yMjE4NmU3Yzk2NzY0NGRkYmU3YjA0ZmJkZTFiZjI3Yik7CiAgICAgICAgCgogICAgICAgIG1hcmtlcl9lOWQwMmFjNDI2MWU0NzExYWY2NzU5MzAyOTBmM2E2NS5iaW5kUG9wdXAocG9wdXBfNjJhYTRkY2JkZmU4NDgxMDlkNjNkZmJmMjkyNmQ5NjEpCiAgICAgICAgOwoKICAgICAgICAKICAgIAogICAgCiAgICAgICAgICAgIHZhciBtYXJrZXJfOTVhODc2ZmRjMzI2NDgzZTgzNDI2MjIyYTAwYzc5Y2UgPSBMLm1hcmtlcigKICAgICAgICAgICAgICAgIFs0Mi4wOTEzODY0MjkwMDAwNiwgLTc1LjkzNjkzNDk3Njk5OTk5XSwKICAgICAgICAgICAgICAgIHt9CiAgICAgICAgICAgICkuYWRkVG8obWFya2VyX2NsdXN0ZXJfZDI1NzMwYjhkZWFmNGQ3YzgyZmRkMGJkODQ3NzIyY2QpOwogICAgICAgIAogICAgCiAgICAgICAgdmFyIHBvcHVwXzU0NzM3MDU4NDUxYzRjM2FhYWRiOWY2NmRjMzM3NDg5ID0gTC5wb3B1cCh7Im1heFdpZHRoIjogIjEwMCUifSk7CgogICAgICAgIAogICAgICAgICAgICB2YXIgaHRtbF8zY2ZjMzk2MWNmNzk0YTcwOTU4NWE3MmU0NGU0N2E4NyA9ICQoYDxkaXYgaWQ9Imh0bWxfM2NmYzM5NjFjZjc5NGE3MDk1ODVhNzJlNDRlNDdhODciIHN0eWxlPSJ3aWR0aDogMTAwLjAlOyBoZWlnaHQ6IDEwMC4wJTsiPk9VUiBMQURZIE9GIExPVVJERVMgTUVNT1JJQUwgSE9TUElUQUw8L2Rpdj5gKVswXTsKICAgICAgICAgICAgcG9wdXBfNTQ3MzcwNTg0NTFjNGMzYWFhZGI5ZjY2ZGMzMzc0ODkuc2V0Q29udGVudChodG1sXzNjZmMzOTYxY2Y3OTRhNzA5NTg1YTcyZTQ0ZTQ3YTg3KTsKICAgICAgICAKCiAgICAgICAgbWFya2VyXzk1YTg3NmZkYzMyNjQ4M2U4MzQyNjIyMmEwMGM3OWNlLmJpbmRQb3B1cChwb3B1cF81NDczNzA1ODQ1MWM0YzNhYWFkYjlmNjZkYzMzNzQ4OSkKICAgICAgICA7CgogICAgICAgIAogICAgCiAgICAKICAgICAgICAgICAgdmFyIG1hcmtlcl82MzRjMzlmYzBhNjc0MzZmOTk1NzM1MWY1ZWVkMDdmZiA9IEwubWFya2VyKAogICAgICAgICAgICAgICAgWzQyLjA5MTI3MjI0MTAwMDA3LCAtNzkuMjMyMTIwMzEwOTk5OTZdLAogICAgICAgICAgICAgICAge30KICAgICAgICAgICAgKS5hZGRUbyhtYXJrZXJfY2x1c3Rlcl9kMjU3MzBiOGRlYWY0ZDdjODJmZGQwYmQ4NDc3MjJjZCk7CiAgICAgICAgCiAgICAKICAgICAgICB2YXIgcG9wdXBfZjVjZTAxZWY1MjQ1NGYxMjlhOGIzYzk3OGY0NzczN2EgPSBMLnBvcHVwKHsibWF4V2lkdGgiOiAiMTAwJSJ9KTsKCiAgICAgICAgCiAgICAgICAgICAgIHZhciBodG1sX2ZhODc3NTU4NDg3MjQ3NTFiMTMzMDRhMDNkNTI3ZTdiID0gJChgPGRpdiBpZD0iaHRtbF9mYTg3NzU1ODQ4NzI0NzUxYjEzMzA0YTAzZDUyN2U3YiIgc3R5bGU9IndpZHRoOiAxMDAuMCU7IGhlaWdodDogMTAwLjAlOyI+V0NBIEhPU1BJVEFMPC9kaXY+YClbMF07CiAgICAgICAgICAgIHBvcHVwX2Y1Y2UwMWVmNTI0NTRmMTI5YThiM2M5NzhmNDc3MzdhLnNldENvbnRlbnQoaHRtbF9mYTg3NzU1ODQ4NzI0NzUxYjEzMzA0YTAzZDUyN2U3Yik7CiAgICAgICAgCgogICAgICAgIG1hcmtlcl82MzRjMzlmYzBhNjc0MzZmOTk1NzM1MWY1ZWVkMDdmZi5iaW5kUG9wdXAocG9wdXBfZjVjZTAxZWY1MjQ1NGYxMjlhOGIzYzk3OGY0NzczN2EpCiAgICAgICAgOwoKICAgICAgICAKICAgIAogICAgCiAgICAgICAgICAgIHZhciBtYXJrZXJfZTVhMGY3NmExMGE2NGU0YmIzMDYxMDI0NjhlNmI5OWIgPSBMLm1hcmtlcigKICAgICAgICAgICAgICAgIFs0Mi42MDg4MzE0NjgwMDAwNTUsIC03Ni4xODczMjE2OTg5OTk5NF0sCiAgICAgICAgICAgICAgICB7fQogICAgICAgICAgICApLmFkZFRvKG1hcmtlcl9jbHVzdGVyX2QyNTczMGI4ZGVhZjRkN2M4MmZkZDBiZDg0NzcyMmNkKTsKICAgICAgICAKICAgIAogICAgICAgIHZhciBwb3B1cF8yNTQyYjlhNThhMDc0N2M5OWQ2MzhmYTkxNDk5YWE0ZSA9IEwucG9wdXAoeyJtYXhXaWR0aCI6ICIxMDAlIn0pOwoKICAgICAgICAKICAgICAgICAgICAgdmFyIGh0bWxfMGE4YzYxMzU1YWQ0NDliNmI4ODk3ZDVhNzYwMDFkZDQgPSAkKGA8ZGl2IGlkPSJodG1sXzBhOGM2MTM1NWFkNDQ5YjZiODg5N2Q1YTc2MDAxZGQ0IiBzdHlsZT0id2lkdGg6IDEwMC4wJTsgaGVpZ2h0OiAxMDAuMCU7Ij5DT1JUTEFORCBSRUdJT05BTCBNRURJQ0FMIENFTlRFUjwvZGl2PmApWzBdOwogICAgICAgICAgICBwb3B1cF8yNTQyYjlhNThhMDc0N2M5OWQ2MzhmYTkxNDk5YWE0ZS5zZXRDb250ZW50KGh0bWxfMGE4YzYxMzU1YWQ0NDliNmI4ODk3ZDVhNzYwMDFkZDQpOwogICAgICAgIAoKICAgICAgICBtYXJrZXJfZTVhMGY3NmExMGE2NGU0YmIzMDYxMDI0NjhlNmI5OWIuYmluZFBvcHVwKHBvcHVwXzI1NDJiOWE1OGEwNzQ3Yzk5ZDYzOGZhOTE0OTlhYTRlKQogICAgICAgIDsKCiAgICAgICAgCiAgICAKICAgIAogICAgICAgICAgICB2YXIgbWFya2VyX2RhNTczZTZiYzUzODQ1N2FhYjFmYWY5NTZlMTkyZGJkID0gTC5tYXJrZXIoCiAgICAgICAgICAgICAgICBbNDIuOTI4NDM2ODkyMDAwMDQsIC03OC44NDg0NTg2NDQ5OTk5NF0sCiAgICAgICAgICAgICAgICB7fQogICAgICAgICAgICApLmFkZFRvKG1hcmtlcl9jbHVzdGVyX2QyNTczMGI4ZGVhZjRkN2M4MmZkZDBiZDg0NzcyMmNkKTsKICAgICAgICAKICAgIAogICAgICAgIHZhciBwb3B1cF81ODZlYzYyZDAwMGQ0YTBlYTcwNTlkMmRmNzIyZjQxMSA9IEwucG9wdXAoeyJtYXhXaWR0aCI6ICIxMDAlIn0pOwoKICAgICAgICAKICAgICAgICAgICAgdmFyIGh0bWxfZmI3NGNmOTYxZmY1NGVlYzljMDEzNGZiNTliYzlkZmYgPSAkKGA8ZGl2IGlkPSJodG1sX2ZiNzRjZjk2MWZmNTRlZWM5YzAxMzRmYjU5YmM5ZGZmIiBzdHlsZT0id2lkdGg6IDEwMC4wJTsgaGVpZ2h0OiAxMDAuMCU7Ij5TSVNURVJTIE9GIENIQVJJVFkgSE9TUElUQUw8L2Rpdj5gKVswXTsKICAgICAgICAgICAgcG9wdXBfNTg2ZWM2MmQwMDBkNGEwZWE3MDU5ZDJkZjcyMmY0MTEuc2V0Q29udGVudChodG1sX2ZiNzRjZjk2MWZmNTRlZWM5YzAxMzRmYjU5YmM5ZGZmKTsKICAgICAgICAKCiAgICAgICAgbWFya2VyX2RhNTczZTZiYzUzODQ1N2FhYjFmYWY5NTZlMTkyZGJkLmJpbmRQb3B1cChwb3B1cF81ODZlYzYyZDAwMGQ0YTBlYTcwNTlkMmRmNzIyZjQxMSkKICAgICAgICA7CgogICAgICAgIAogICAgCiAgICAKICAgICAgICAgICAgdmFyIG1hcmtlcl80YmRhOTBkNWE1N2I0ZGEzYTQ1ODM2Yjk5MzUwODhjNSA9IEwubWFya2VyKAogICAgICAgICAgICAgICAgWzQyLjUwODk2Mzk4OTAwMDA1LCAtNzguNjU4NTY2ODk5OTk5OThdLAogICAgICAgICAgICAgICAge30KICAgICAgICAgICAgKS5hZGRUbyhtYXJrZXJfY2x1c3Rlcl9kMjU3MzBiOGRlYWY0ZDdjODJmZGQwYmQ4NDc3MjJjZCk7CiAgICAgICAgCiAgICAKICAgICAgICB2YXIgcG9wdXBfNWMyODUxZWNhMzUzNGEzMDgxNmRhYzE5Y2Q2YjU1ZTYgPSBMLnBvcHVwKHsibWF4V2lkdGgiOiAiMTAwJSJ9KTsKCiAgICAgICAgCiAgICAgICAgICAgIHZhciBodG1sXzc0YmUwYWI0ZjAzYjQ4Mzk4M2ZjNDM2Yzc2MmIzN2I2ID0gJChgPGRpdiBpZD0iaHRtbF83NGJlMGFiNGYwM2I0ODM5ODNmYzQzNmM3NjJiMzdiNiIgc3R5bGU9IndpZHRoOiAxMDAuMCU7IGhlaWdodDogMTAwLjAlOyI+QkVSVFJBTkQgQ0hBRkZFRSBIT1NQSVRBTDwvZGl2PmApWzBdOwogICAgICAgICAgICBwb3B1cF81YzI4NTFlY2EzNTM0YTMwODE2ZGFjMTljZDZiNTVlNi5zZXRDb250ZW50KGh0bWxfNzRiZTBhYjRmMDNiNDgzOTgzZmM0MzZjNzYyYjM3YjYpOwogICAgICAgIAoKICAgICAgICBtYXJrZXJfNGJkYTkwZDVhNTdiNGRhM2E0NTgzNmI5OTM1MDg4YzUuYmluZFBvcHVwKHBvcHVwXzVjMjg1MWVjYTM1MzRhMzA4MTZkYWMxOWNkNmI1NWU2KQogICAgICAgIDsKCiAgICAgICAgCiAgICAKICAgIAogICAgICAgICAgICB2YXIgbWFya2VyXzIyNWRiODc3MTI0YzQxYjhiNTZjNGRkMTdmODNkYWIyID0gTC5tYXJrZXIoCiAgICAgICAgICAgICAgICBbNDIuOTE0MzA0MzYwMDAwMDc0LCAtNzguNzgyNDAxNTQyOTk5OTVdLAogICAgICAgICAgICAgICAge30KICAgICAgICAgICAgKS5hZGRUbyhtYXJrZXJfY2x1c3Rlcl9kMjU3MzBiOGRlYWY0ZDdjODJmZGQwYmQ4NDc3MjJjZCk7CiAgICAgICAgCiAgICAKICAgICAgICB2YXIgcG9wdXBfMTZhYjAzMzU0MzUzNDMyZmJkZjliYjEyYjEwMTE1ZDIgPSBMLnBvcHVwKHsibWF4V2lkdGgiOiAiMTAwJSJ9KTsKCiAgICAgICAgCiAgICAgICAgICAgIHZhciBodG1sX2ExZDY5Zjc2ZDUwNDRhYjY5ODA1NDNkZGU0NTEyNGY0ID0gJChgPGRpdiBpZD0iaHRtbF9hMWQ2OWY3NmQ1MDQ0YWI2OTgwNTQzZGRlNDUxMjRmNCIgc3R5bGU9IndpZHRoOiAxMDAuMCU7IGhlaWdodDogMTAwLjAlOyI+U0lTVEVSUyBPRiBDSEFSSVRZIEhPU1BJVEFMIC0gU1QgSk9TRVBIIENBTVBVUzwvZGl2PmApWzBdOwogICAgICAgICAgICBwb3B1cF8xNmFiMDMzNTQzNTM0MzJmYmRmOWJiMTJiMTAxMTVkMi5zZXRDb250ZW50KGh0bWxfYTFkNjlmNzZkNTA0NGFiNjk4MDU0M2RkZTQ1MTI0ZjQpOwogICAgICAgIAoKICAgICAgICBtYXJrZXJfMjI1ZGI4NzcxMjRjNDFiOGI1NmM0ZGQxN2Y4M2RhYjIuYmluZFBvcHVwKHBvcHVwXzE2YWIwMzM1NDM1MzQzMmZiZGY5YmIxMmIxMDExNWQyKQogICAgICAgIDsKCiAgICAgICAgCiAgICAKICAgIAogICAgICAgICAgICB2YXIgbWFya2VyX2M1MjYzMDBhYTA1MDQzNWM5NWM3NzkyNDY1OTliMDBjID0gTC5tYXJrZXIoCiAgICAgICAgICAgICAgICBbNDQuMjE1Mzc3MDAxMDAwMDQsIC03My41OTU1MjQ2NDU5OTk5M10sCiAgICAgICAgICAgICAgICB7fQogICAgICAgICAgICApLmFkZFRvKG1hcmtlcl9jbHVzdGVyX2QyNTczMGI4ZGVhZjRkN2M4MmZkZDBiZDg0NzcyMmNkKTsKICAgICAgICAKICAgIAogICAgICAgIHZhciBwb3B1cF85NDZkMDgxNjEwMWM0M2FiYjU0ZTNkOGI1ZWJjZmU3NyA9IEwucG9wdXAoeyJtYXhXaWR0aCI6ICIxMDAlIn0pOwoKICAgICAgICAKICAgICAgICAgICAgdmFyIGh0bWxfMjg0MzhmMTNlMzVhNDI5MWEyYWNkODA4ZWRmMzYwNDIgPSAkKGA8ZGl2IGlkPSJodG1sXzI4NDM4ZjEzZTM1YTQyOTFhMmFjZDgwOGVkZjM2MDQyIiBzdHlsZT0id2lkdGg6IDEwMC4wJTsgaGVpZ2h0OiAxMDAuMCU7Ij5FTElaQUJFVEhUT1dOIENPTU1VTklUWSBIT1NQSVRBTDwvZGl2PmApWzBdOwogICAgICAgICAgICBwb3B1cF85NDZkMDgxNjEwMWM0M2FiYjU0ZTNkOGI1ZWJjZmU3Ny5zZXRDb250ZW50KGh0bWxfMjg0MzhmMTNlMzVhNDI5MWEyYWNkODA4ZWRmMzYwNDIpOwogICAgICAgIAoKICAgICAgICBtYXJrZXJfYzUyNjMwMGFhMDUwNDM1Yzk1Yzc3OTI0NjU5OWIwMGMuYmluZFBvcHVwKHBvcHVwXzk0NmQwODE2MTAxYzQzYWJiNTRlM2Q4YjVlYmNmZTc3KQogICAgICAgIDsKCiAgICAgICAgCiAgICAKICAgIAogICAgICAgICAgICB2YXIgbWFya2VyX2ExODU2N2I0OTdmYzQ5NzZhODQwYjBkMzE4MmExYWE4ID0gTC5tYXJrZXIoCiAgICAgICAgICAgICAgICBbNDMuMDcxNTg2MTA1MDAwMDYsIC03NC4zMzE5MjE3MjY5OTk5NV0sCiAgICAgICAgICAgICAgICB7fQogICAgICAgICAgICApLmFkZFRvKG1hcmtlcl9jbHVzdGVyX2QyNTczMGI4ZGVhZjRkN2M4MmZkZDBiZDg0NzcyMmNkKTsKICAgICAgICAKICAgIAogICAgICAgIHZhciBwb3B1cF81OTkxODFiODFhMmM0OTk1OWMxMjcxMmY4NTgxNWVlMSA9IEwucG9wdXAoeyJtYXhXaWR0aCI6ICIxMDAlIn0pOwoKICAgICAgICAKICAgICAgICAgICAgdmFyIGh0bWxfMmNmYmY1MzI3NWM3NGRhOGFiNjNjMjQwMWZkMmJiOTMgPSAkKGA8ZGl2IGlkPSJodG1sXzJjZmJmNTMyNzVjNzRkYThhYjYzYzI0MDFmZDJiYjkzIiBzdHlsZT0id2lkdGg6IDEwMC4wJTsgaGVpZ2h0OiAxMDAuMCU7Ij5OQVRIQU4gTElUVEFVRVIgSE9TUElUQUw8L2Rpdj5gKVswXTsKICAgICAgICAgICAgcG9wdXBfNTk5MTgxYjgxYTJjNDk5NTljMTI3MTJmODU4MTVlZTEuc2V0Q29udGVudChodG1sXzJjZmJmNTMyNzVjNzRkYThhYjYzYzI0MDFmZDJiYjkzKTsKICAgICAgICAKCiAgICAgICAgbWFya2VyX2ExODU2N2I0OTdmYzQ5NzZhODQwYjBkMzE4MmExYWE4LmJpbmRQb3B1cChwb3B1cF81OTkxODFiODFhMmM0OTk1OWMxMjcxMmY4NTgxNWVlMSkKICAgICAgICA7CgogICAgICAgIAogICAgCiAgICAKICAgICAgICAgICAgdmFyIG1hcmtlcl8xMDNkN2VlYjgzYTM0MjkwYjg2ZTY1OGM2NWYzY2EwZSA9IEwubWFya2VyKAogICAgICAgICAgICAgICAgWzQ0Ljg1NjczNTE0OTAwMDAxNiwgLTc0LjI5MTI5MjQ3Njk5OTk2XSwKICAgICAgICAgICAgICAgIHt9CiAgICAgICAgICAgICkuYWRkVG8obWFya2VyX2NsdXN0ZXJfZDI1NzMwYjhkZWFmNGQ3YzgyZmRkMGJkODQ3NzIyY2QpOwogICAgICAgIAogICAgCiAgICAgICAgdmFyIHBvcHVwXzEzMmRmZDcwMjYzZDQwMmQ5ZGQ1N2UzYmQ1ZjE2ZDRjID0gTC5wb3B1cCh7Im1heFdpZHRoIjogIjEwMCUifSk7CgogICAgICAgIAogICAgICAgICAgICB2YXIgaHRtbF9jYjU4NDRmODRjMTI0NzE0OTgxNmI1YWEzNjUxNDgzZCA9ICQoYDxkaXYgaWQ9Imh0bWxfY2I1ODQ0Zjg0YzEyNDcxNDk4MTZiNWFhMzY1MTQ4M2QiIHN0eWxlPSJ3aWR0aDogMTAwLjAlOyBoZWlnaHQ6IDEwMC4wJTsiPkFMSUNFIEhZREUgTUVESUNBTCBDRU5URVI8L2Rpdj5gKVswXTsKICAgICAgICAgICAgcG9wdXBfMTMyZGZkNzAyNjNkNDAyZDlkZDU3ZTNiZDVmMTZkNGMuc2V0Q29udGVudChodG1sX2NiNTg0NGY4NGMxMjQ3MTQ5ODE2YjVhYTM2NTE0ODNkKTsKICAgICAgICAKCiAgICAgICAgbWFya2VyXzEwM2Q3ZWViODNhMzQyOTBiODZlNjU4YzY1ZjNjYTBlLmJpbmRQb3B1cChwb3B1cF8xMzJkZmQ3MDI2M2Q0MDJkOWRkNTdlM2JkNWYxNmQ0YykKICAgICAgICA7CgogICAgICAgIAogICAgCiAgICAKICAgICAgICAgICAgdmFyIG1hcmtlcl8zMzA1OWMzMGY0OTM0YjIwOWFjZTViODY1MjA5NTZmZiA9IEwubWFya2VyKAogICAgICAgICAgICAgICAgWzQyLjk5ODY1MDA3NTAwMDA2LCAtNzguMTgxMTEyODc3OTk5OThdLAogICAgICAgICAgICAgICAge30KICAgICAgICAgICAgKS5hZGRUbyhtYXJrZXJfY2x1c3Rlcl9kMjU3MzBiOGRlYWY0ZDdjODJmZGQwYmQ4NDc3MjJjZCk7CiAgICAgICAgCiAgICAKICAgICAgICB2YXIgcG9wdXBfMzcxNjQxYjczYzE3NGZjMWFhMTFkZWZkMDU3NTZlMDUgPSBMLnBvcHVwKHsibWF4V2lkdGgiOiAiMTAwJSJ9KTsKCiAgICAgICAgCiAgICAgICAgICAgIHZhciBodG1sX2EzMGFjYjM3YjJiNDRiNjRhNWRmNGI1ZTQ2ZDliNmViID0gJChgPGRpdiBpZD0iaHRtbF9hMzBhY2IzN2IyYjQ0YjY0YTVkZjRiNWU0NmQ5YjZlYiIgc3R5bGU9IndpZHRoOiAxMDAuMCU7IGhlaWdodDogMTAwLjAlOyI+VU5JVEVEIE1FTU9SSUFMIE1FRElDQUwgQ0VOVEVSIEJBTksgU1RSRUVUIENBTVBVUzwvZGl2PmApWzBdOwogICAgICAgICAgICBwb3B1cF8zNzE2NDFiNzNjMTc0ZmMxYWExMWRlZmQwNTc1NmUwNS5zZXRDb250ZW50KGh0bWxfYTMwYWNiMzdiMmI0NGI2NGE1ZGY0YjVlNDZkOWI2ZWIpOwogICAgICAgIAoKICAgICAgICBtYXJrZXJfMzMwNTljMzBmNDkzNGIyMDlhY2U1Yjg2NTIwOTU2ZmYuYmluZFBvcHVwKHBvcHVwXzM3MTY0MWI3M2MxNzRmYzFhYTExZGVmZDA1NzU2ZTA1KQogICAgICAgIDsKCiAgICAgICAgCiAgICAKICAgIAogICAgICAgICAgICB2YXIgbWFya2VyXzY4MjEwNzI4OWUzMTQ4ZDBhZDYwYzZkZmEzZjA0YWNlID0gTC5tYXJrZXIoCiAgICAgICAgICAgICAgICBbNDMuOTY1MDQzNDgyMDAwMDYsIC03NS45MTQ1NTc4OTldLAogICAgICAgICAgICAgICAge30KICAgICAgICAgICAgKS5hZGRUbyhtYXJrZXJfY2x1c3Rlcl9kMjU3MzBiOGRlYWY0ZDdjODJmZGQwYmQ4NDc3MjJjZCk7CiAgICAgICAgCiAgICAKICAgICAgICB2YXIgcG9wdXBfZWZhN2I4MGQwYzc0NDE1NGJhYmFmNmZmYjdiMzVkOGUgPSBMLnBvcHVwKHsibWF4V2lkdGgiOiAiMTAwJSJ9KTsKCiAgICAgICAgCiAgICAgICAgICAgIHZhciBodG1sXzU2N2EyY2Q4ODYwNzQ1ODJhMDQ1Yjc2MTEyZDY0YzhkID0gJChgPGRpdiBpZD0iaHRtbF81NjdhMmNkODg2MDc0NTgyYTA0NWI3NjExMmQ2NGM4ZCIgc3R5bGU9IndpZHRoOiAxMDAuMCU7IGhlaWdodDogMTAwLjAlOyI+U0FNQVJJVEFOIE1FRElDQUwgQ0VOVEVSPC9kaXY+YClbMF07CiAgICAgICAgICAgIHBvcHVwX2VmYTdiODBkMGM3NDQxNTRiYWJhZjZmZmI3YjM1ZDhlLnNldENvbnRlbnQoaHRtbF81NjdhMmNkODg2MDc0NTgyYTA0NWI3NjExMmQ2NGM4ZCk7CiAgICAgICAgCgogICAgICAgIG1hcmtlcl82ODIxMDcyODllMzE0OGQwYWQ2MGM2ZGZhM2YwNGFjZS5iaW5kUG9wdXAocG9wdXBfZWZhN2I4MGQwYzc0NDE1NGJhYmFmNmZmYjdiMzVkOGUpCiAgICAgICAgOwoKICAgICAgICAKICAgIAogICAgCiAgICAgICAgICAgIHZhciBtYXJrZXJfOWQ2YzNkNWNlNjEzNGM0NWI3NTQ3MDA4NDZlZjgyNWQgPSBMLm1hcmtlcigKICAgICAgICAgICAgICAgIFs0My43OTU3OTAyMDUwMDAwNywgLTc1LjQ5OTExODA2NDk5OTk4XSwKICAgICAgICAgICAgICAgIHt9CiAgICAgICAgICAgICkuYWRkVG8obWFya2VyX2NsdXN0ZXJfZDI1NzMwYjhkZWFmNGQ3YzgyZmRkMGJkODQ3NzIyY2QpOwogICAgICAgIAogICAgCiAgICAgICAgdmFyIHBvcHVwXzZhZGI4NjlhMDdkNDRmNzJiNGJiZDc1MmQ1ODNlYmZlID0gTC5wb3B1cCh7Im1heFdpZHRoIjogIjEwMCUifSk7CgogICAgICAgIAogICAgICAgICAgICB2YXIgaHRtbF8yYzYxYmYzMWE5MTY0ZWQ1YjhmNjg2NjEwNDFiN2UyYiA9ICQoYDxkaXYgaWQ9Imh0bWxfMmM2MWJmMzFhOTE2NGVkNWI4ZjY4NjYxMDQxYjdlMmIiIHN0eWxlPSJ3aWR0aDogMTAwLjAlOyBoZWlnaHQ6IDEwMC4wJTsiPkxFV0lTIENPVU5UWSBHRU5FUkFMIEhPU1BJVEFMPC9kaXY+YClbMF07CiAgICAgICAgICAgIHBvcHVwXzZhZGI4NjlhMDdkNDRmNzJiNGJiZDc1MmQ1ODNlYmZlLnNldENvbnRlbnQoaHRtbF8yYzYxYmYzMWE5MTY0ZWQ1YjhmNjg2NjEwNDFiN2UyYik7CiAgICAgICAgCgogICAgICAgIG1hcmtlcl85ZDZjM2Q1Y2U2MTM0YzQ1Yjc1NDcwMDg0NmVmODI1ZC5iaW5kUG9wdXAocG9wdXBfNmFkYjg2OWEwN2Q0NGY3MmI0YmJkNzUyZDU4M2ViZmUpCiAgICAgICAgOwoKICAgICAgICAKICAgIAogICAgCiAgICAgICAgICAgIHZhciBtYXJrZXJfZDdhMWY5Y2NiZmI2NDdlYWFhYzA4YzMzYzQ1N2QzNGIgPSBMLm1hcmtlcigKICAgICAgICAgICAgICAgIFs0My4xOTIyNDExMzMwMDAwMywgLTc3LjU4NjgxNDQ4Nzk5OTk3XSwKICAgICAgICAgICAgICAgIHt9CiAgICAgICAgICAgICkuYWRkVG8obWFya2VyX2NsdXN0ZXJfZDI1NzMwYjhkZWFmNGQ3YzgyZmRkMGJkODQ3NzIyY2QpOwogICAgICAgIAogICAgCiAgICAgICAgdmFyIHBvcHVwXzJmYjBmOTAzMDc5YjQzYjRiNWQ1NjY0MDIwNDE4NTJkID0gTC5wb3B1cCh7Im1heFdpZHRoIjogIjEwMCUifSk7CgogICAgICAgIAogICAgICAgICAgICB2YXIgaHRtbF8xOTRiOTA1ZTkyNGM0NGFlYWYyNjA2NTY5YzVkZDVmOSA9ICQoYDxkaXYgaWQ9Imh0bWxfMTk0YjkwNWU5MjRjNDRhZWFmMjYwNjU2OWM1ZGQ1ZjkiIHN0eWxlPSJ3aWR0aDogMTAwLjAlOyBoZWlnaHQ6IDEwMC4wJTsiPlJPQ0hFU1RFUiBHRU5FUkFMIEhPU1BJVEFMPC9kaXY+YClbMF07CiAgICAgICAgICAgIHBvcHVwXzJmYjBmOTAzMDc5YjQzYjRiNWQ1NjY0MDIwNDE4NTJkLnNldENvbnRlbnQoaHRtbF8xOTRiOTA1ZTkyNGM0NGFlYWYyNjA2NTY5YzVkZDVmOSk7CiAgICAgICAgCgogICAgICAgIG1hcmtlcl9kN2ExZjljY2JmYjY0N2VhYWFjMDhjMzNjNDU3ZDM0Yi5iaW5kUG9wdXAocG9wdXBfMmZiMGY5MDMwNzliNDNiNGI1ZDU2NjQwMjA0MTg1MmQpCiAgICAgICAgOwoKICAgICAgICAKICAgIAogICAgCiAgICAgICAgICAgIHZhciBtYXJrZXJfZTk0OTZmZjgwZGRmNDhiYTk3MTcwNmY1Y2EzZDk5MDggPSBMLm1hcmtlcigKICAgICAgICAgICAgICAgIFs0My4xMTI5OTc2NzYwMDAwOCwgLTc3LjYxNzk5MTY2Nzk5OTkzXSwKICAgICAgICAgICAgICAgIHt9CiAgICAgICAgICAgICkuYWRkVG8obWFya2VyX2NsdXN0ZXJfZDI1NzMwYjhkZWFmNGQ3YzgyZmRkMGJkODQ3NzIyY2QpOwogICAgICAgIAogICAgCiAgICAgICAgdmFyIHBvcHVwX2M3ZDJkYzFiZDgwZjQyNDQ5Y2E2MmMzODZlN2M3MWIzID0gTC5wb3B1cCh7Im1heFdpZHRoIjogIjEwMCUifSk7CgogICAgICAgIAogICAgICAgICAgICB2YXIgaHRtbF8zMTY5Yjg4YzI1OWE0YmM3ODY3OTBhMmU0NGRjZjE0MiA9ICQoYDxkaXYgaWQ9Imh0bWxfMzE2OWI4OGMyNTlhNGJjNzg2NzkwYTJlNDRkY2YxNDIiIHN0eWxlPSJ3aWR0aDogMTAwLjAlOyBoZWlnaHQ6IDEwMC4wJTsiPk1PTlJPRSBDT01NVU5JVFkgSE9TUElUQUw8L2Rpdj5gKVswXTsKICAgICAgICAgICAgcG9wdXBfYzdkMmRjMWJkODBmNDI0NDljYTYyYzM4NmU3YzcxYjMuc2V0Q29udGVudChodG1sXzMxNjliODhjMjU5YTRiYzc4Njc5MGEyZTQ0ZGNmMTQyKTsKICAgICAgICAKCiAgICAgICAgbWFya2VyX2U5NDk2ZmY4MGRkZjQ4YmE5NzE3MDZmNWNhM2Q5OTA4LmJpbmRQb3B1cChwb3B1cF9jN2QyZGMxYmQ4MGY0MjQ0OWNhNjJjMzg2ZTdjNzFiMykKICAgICAgICA7CgogICAgICAgIAogICAgCiAgICAKICAgICAgICAgICAgdmFyIG1hcmtlcl84YTZlYTRlY2E1MjQ0YjIyYmRlMzJiYTFlMTcwNTM1NSA9IEwubWFya2VyKAogICAgICAgICAgICAgICAgWzQwLjgxMDg3NDI4NzAwMDA1LCAtNzMuNTA4NjY2MDUwOTk5OTZdLAogICAgICAgICAgICAgICAge30KICAgICAgICAgICAgKS5hZGRUbyhtYXJrZXJfY2x1c3Rlcl9kMjU3MzBiOGRlYWY0ZDdjODJmZGQwYmQ4NDc3MjJjZCk7CiAgICAgICAgCiAgICAKICAgICAgICB2YXIgcG9wdXBfNTQyMTRhYTVmNDU0NGIxMmIzN2Y4ZGQ5YmNjMzhmNzIgPSBMLnBvcHVwKHsibWF4V2lkdGgiOiAiMTAwJSJ9KTsKCiAgICAgICAgCiAgICAgICAgICAgIHZhciBodG1sX2Q5OTI0YTRhZjkzNDQ2NDRhMWQ1MTViYTZkODc1ZTAxID0gJChgPGRpdiBpZD0iaHRtbF9kOTkyNGE0YWY5MzQ0NjQ0YTFkNTE1YmE2ZDg3NWUwMSIgc3R5bGU9IndpZHRoOiAxMDAuMCU7IGhlaWdodDogMTAwLjAlOyI+U1lPU1NFVCBIT1NQSVRBTDwvZGl2PmApWzBdOwogICAgICAgICAgICBwb3B1cF81NDIxNGFhNWY0NTQ0YjEyYjM3ZjhkZDliY2MzOGY3Mi5zZXRDb250ZW50KGh0bWxfZDk5MjRhNGFmOTM0NDY0NGExZDUxNWJhNmQ4NzVlMDEpOwogICAgICAgIAoKICAgICAgICBtYXJrZXJfOGE2ZWE0ZWNhNTI0NGIyMmJkZTMyYmExZTE3MDUzNTUuYmluZFBvcHVwKHBvcHVwXzU0MjE0YWE1ZjQ1NDRiMTJiMzdmOGRkOWJjYzM4ZjcyKQogICAgICAgIDsKCiAgICAgICAgCiAgICAKICAgIAogICAgICAgICAgICB2YXIgbWFya2VyX2RkYmZkZTg4ODQzNjQwZDQ5NmEwNzBkMzBlYjcxY2Q5ID0gTC5tYXJrZXIoCiAgICAgICAgICAgICAgICBbNDAuNzc0OTU0MjI5MDAwMDcsIC03My40Nzg1MzQ3MDY5OTk5NF0sCiAgICAgICAgICAgICAgICB7fQogICAgICAgICAgICApLmFkZFRvKG1hcmtlcl9jbHVzdGVyX2QyNTczMGI4ZGVhZjRkN2M4MmZkZDBiZDg0NzcyMmNkKTsKICAgICAgICAKICAgIAogICAgICAgIHZhciBwb3B1cF9iMjU3YzY5YjEwNzA0ZjkwOWI3YjU4ZDNkNzMxNzQ1YyA9IEwucG9wdXAoeyJtYXhXaWR0aCI6ICIxMDAlIn0pOwoKICAgICAgICAKICAgICAgICAgICAgdmFyIGh0bWxfNDE5YmFjZDMzNDk4NDUyZDk3ZjdhZjhmZTQ3YTkyODggPSAkKGA8ZGl2IGlkPSJodG1sXzQxOWJhY2QzMzQ5ODQ1MmQ5N2Y3YWY4ZmU0N2E5Mjg4IiBzdHlsZT0id2lkdGg6IDEwMC4wJTsgaGVpZ2h0OiAxMDAuMCU7Ij5QTEFJTlZJRVcgSE9TUElUQUw8L2Rpdj5gKVswXTsKICAgICAgICAgICAgcG9wdXBfYjI1N2M2OWIxMDcwNGY5MDliN2I1OGQzZDczMTc0NWMuc2V0Q29udGVudChodG1sXzQxOWJhY2QzMzQ5ODQ1MmQ5N2Y3YWY4ZmU0N2E5Mjg4KTsKICAgICAgICAKCiAgICAgICAgbWFya2VyX2RkYmZkZTg4ODQzNjQwZDQ5NmEwNzBkMzBlYjcxY2Q5LmJpbmRQb3B1cChwb3B1cF9iMjU3YzY5YjEwNzA0ZjkwOWI3YjU4ZDNkNzMxNzQ1YykKICAgICAgICA7CgogICAgICAgIAogICAgCiAgICAKICAgICAgICAgICAgdmFyIG1hcmtlcl81MWE4Njk5ZjIwYWI0OTE4YWQ2YmNhYjlhMzhiMzNkYyA9IEwubWFya2VyKAogICAgICAgICAgICAgICAgWzQzLjE3NzM3MTA3NzAwMDAyNSwgLTc4LjY3MTE0NDI4MDk5OTk1XSwKICAgICAgICAgICAgICAgIHt9CiAgICAgICAgICAgICkuYWRkVG8obWFya2VyX2NsdXN0ZXJfZDI1NzMwYjhkZWFmNGQ3YzgyZmRkMGJkODQ3NzIyY2QpOwogICAgICAgIAogICAgCiAgICAgICAgdmFyIHBvcHVwXzJiYjdmYjQ3ZjhjMjRhZDA5ZmNkN2Q4YjFkYmY1NjMxID0gTC5wb3B1cCh7Im1heFdpZHRoIjogIjEwMCUifSk7CgogICAgICAgIAogICAgICAgICAgICB2YXIgaHRtbF8yY2EyN2QzZDUwNjE0MzQ5YTc1MzE4NjA0MmYxYzU1ZCA9ICQoYDxkaXYgaWQ9Imh0bWxfMmNhMjdkM2Q1MDYxNDM0OWE3NTMxODYwNDJmMWM1NWQiIHN0eWxlPSJ3aWR0aDogMTAwLjAlOyBoZWlnaHQ6IDEwMC4wJTsiPkVBU1RFUk4gTklBR0FSQSBIT1NQSVRBTDwvZGl2PmApWzBdOwogICAgICAgICAgICBwb3B1cF8yYmI3ZmI0N2Y4YzI0YWQwOWZjZDdkOGIxZGJmNTYzMS5zZXRDb250ZW50KGh0bWxfMmNhMjdkM2Q1MDYxNDM0OWE3NTMxODYwNDJmMWM1NWQpOwogICAgICAgIAoKICAgICAgICBtYXJrZXJfNTFhODY5OWYyMGFiNDkxOGFkNmJjYWI5YTM4YjMzZGMuYmluZFBvcHVwKHBvcHVwXzJiYjdmYjQ3ZjhjMjRhZDA5ZmNkN2Q4YjFkYmY1NjMxKQogICAgICAgIDsKCiAgICAgICAgCiAgICAKICAgIAogICAgICAgICAgICB2YXIgbWFya2VyX2RjNmM2YmNlMDZhOTQzODVhMTg1MmJhYjAyZWI0Yzk1ID0gTC5tYXJrZXIoCiAgICAgICAgICAgICAgICBbNDMuMDkzOTIwODIzMDAwMDcsIC03OS4wNDk3MTAxMzA5OTk5OF0sCiAgICAgICAgICAgICAgICB7fQogICAgICAgICAgICApLmFkZFRvKG1hcmtlcl9jbHVzdGVyX2QyNTczMGI4ZGVhZjRkN2M4MmZkZDBiZDg0NzcyMmNkKTsKICAgICAgICAKICAgIAogICAgICAgIHZhciBwb3B1cF9iZTFlNjJkZWJkYTE0NDY1ODZjMDM5MTU1ZTJjODkyMyA9IEwucG9wdXAoeyJtYXhXaWR0aCI6ICIxMDAlIn0pOwoKICAgICAgICAKICAgICAgICAgICAgdmFyIGh0bWxfMzA5ZTNlYTI3M2JiNDM4NzgxNzMwYWU0YTA3YmI5YTEgPSAkKGA8ZGl2IGlkPSJodG1sXzMwOWUzZWEyNzNiYjQzODc4MTczMGFlNGEwN2JiOWExIiBzdHlsZT0id2lkdGg6IDEwMC4wJTsgaGVpZ2h0OiAxMDAuMCU7Ij5OSUFHQVJBIEZBTExTIE1FTU9SSUFMIE1FRElDQUwgQ0VOVEVSPC9kaXY+YClbMF07CiAgICAgICAgICAgIHBvcHVwX2JlMWU2MmRlYmRhMTQ0NjU4NmMwMzkxNTVlMmM4OTIzLnNldENvbnRlbnQoaHRtbF8zMDllM2VhMjczYmI0Mzg3ODE3MzBhZTRhMDdiYjlhMSk7CiAgICAgICAgCgogICAgICAgIG1hcmtlcl9kYzZjNmJjZTA2YTk0Mzg1YTE4NTJiYWIwMmViNGM5NS5iaW5kUG9wdXAocG9wdXBfYmUxZTYyZGViZGExNDQ2NTg2YzAzOTE1NWUyYzg5MjMpCiAgICAgICAgOwoKICAgICAgICAKICAgIAogICAgCiAgICAgICAgICAgIHZhciBtYXJrZXJfM2RiM2JkM2M3NmI0NGM0MjkwODFiNTA3ODczZWViYTUgPSBMLm1hcmtlcigKICAgICAgICAgICAgICAgIFs0My4wMjU0MTgwMDkwMDAwNywgLTc4Ljg2MjM0MjQzOTk5OTk4XSwKICAgICAgICAgICAgICAgIHt9CiAgICAgICAgICAgICkuYWRkVG8obWFya2VyX2NsdXN0ZXJfZDI1NzMwYjhkZWFmNGQ3YzgyZmRkMGJkODQ3NzIyY2QpOwogICAgICAgIAogICAgCiAgICAgICAgdmFyIHBvcHVwXzM1ZjY3ZDI3NTQyMjQ0MWFiNjFmNzQyZmVhM2MxMWUwID0gTC5wb3B1cCh7Im1heFdpZHRoIjogIjEwMCUifSk7CgogICAgICAgIAogICAgICAgICAgICB2YXIgaHRtbF9mMDlhZmM0M2NiMmE0ZjIyOGRkM2JhMTBmMTljM2RjYyA9ICQoYDxkaXYgaWQ9Imh0bWxfZjA5YWZjNDNjYjJhNGYyMjhkZDNiYTEwZjE5YzNkY2MiIHN0eWxlPSJ3aWR0aDogMTAwLjAlOyBoZWlnaHQ6IDEwMC4wJTsiPkRFR1JBRkYgTUVNT1JJQUwgSE9TUElUQUw8L2Rpdj5gKVswXTsKICAgICAgICAgICAgcG9wdXBfMzVmNjdkMjc1NDIyNDQxYWI2MWY3NDJmZWEzYzExZTAuc2V0Q29udGVudChodG1sX2YwOWFmYzQzY2IyYTRmMjI4ZGQzYmExMGYxOWMzZGNjKTsKICAgICAgICAKCiAgICAgICAgbWFya2VyXzNkYjNiZDNjNzZiNDRjNDI5MDgxYjUwNzg3M2VlYmE1LmJpbmRQb3B1cChwb3B1cF8zNWY2N2QyNzU0MjI0NDFhYjYxZjc0MmZlYTNjMTFlMCkKICAgICAgICA7CgogICAgICAgIAogICAgCiAgICAKICAgICAgICAgICAgdmFyIG1hcmtlcl9mODJhYjdhY2M3NTY0NzQ5OWVmNzA2MGNiMGI5ZWRkZSA9IEwubWFya2VyKAogICAgICAgICAgICAgICAgWzQzLjE1NDE4NDAxOTAwMDA1NiwgLTc5LjAzMjQzMDcyMzk5OTk1XSwKICAgICAgICAgICAgICAgIHt9CiAgICAgICAgICAgICkuYWRkVG8obWFya2VyX2NsdXN0ZXJfZDI1NzMwYjhkZWFmNGQ3YzgyZmRkMGJkODQ3NzIyY2QpOwogICAgICAgIAogICAgCiAgICAgICAgdmFyIHBvcHVwXzRiZmQ0N2Y1YTUxMDRlMTU4OTE4YmMyZDJjODc5NjRjID0gTC5wb3B1cCh7Im1heFdpZHRoIjogIjEwMCUifSk7CgogICAgICAgIAogICAgICAgICAgICB2YXIgaHRtbF9kZjdjZTM4NTJmZjI0MzcwYmMxODZiOWEzNmNkYjcyZiA9ICQoYDxkaXYgaWQ9Imh0bWxfZGY3Y2UzODUyZmYyNDM3MGJjMTg2YjlhMzZjZGI3MmYiIHN0eWxlPSJ3aWR0aDogMTAwLjAlOyBoZWlnaHQ6IDEwMC4wJTsiPk1PVU5UIFNULiBNQVJZJ1MgSE9TUElUQUw8L2Rpdj5gKVswXTsKICAgICAgICAgICAgcG9wdXBfNGJmZDQ3ZjVhNTEwNGUxNTg5MThiYzJkMmM4Nzk2NGMuc2V0Q29udGVudChodG1sX2RmN2NlMzg1MmZmMjQzNzBiYzE4NmI5YTM2Y2RiNzJmKTsKICAgICAgICAKCiAgICAgICAgbWFya2VyX2Y4MmFiN2FjYzc1NjQ3NDk5ZWY3MDYwY2IwYjllZGRlLmJpbmRQb3B1cChwb3B1cF80YmZkNDdmNWE1MTA0ZTE1ODkxOGJjMmQyYzg3OTY0YykKICAgICAgICA7CgogICAgICAgIAogICAgCiAgICAKICAgICAgICAgICAgdmFyIG1hcmtlcl81YjA0ZmM1ODE1ZTc0MWJlYWY4OTFiYmY1MGExYjIyOCA9IEwubWFya2VyKAogICAgICAgICAgICAgICAgWzQzLjA5MTAwOTcyMTAwMDAyLCAtNzUuMjU4MTE3MTI0OTk5OTZdLAogICAgICAgICAgICAgICAge30KICAgICAgICAgICAgKS5hZGRUbyhtYXJrZXJfY2x1c3Rlcl9kMjU3MzBiOGRlYWY0ZDdjODJmZGQwYmQ4NDc3MjJjZCk7CiAgICAgICAgCiAgICAKICAgICAgICB2YXIgcG9wdXBfMGIwY2NmODIzZmVlNDJkZGI4MjY5M2VmNjUwNWIxMDYgPSBMLnBvcHVwKHsibWF4V2lkdGgiOiAiMTAwJSJ9KTsKCiAgICAgICAgCiAgICAgICAgICAgIHZhciBodG1sXzQ5MmY2ZTVlYWI1MTQxZDRhZDI3YmE4MzAxNTRhMTRmID0gJChgPGRpdiBpZD0iaHRtbF80OTJmNmU1ZWFiNTE0MWQ0YWQyN2JhODMwMTU0YTE0ZiIgc3R5bGU9IndpZHRoOiAxMDAuMCU7IGhlaWdodDogMTAwLjAlOyI+RkFYVE9OLVNULiBMVUtFJ1MgSEVBTFRIQ0FSRSAtIEZBWFRPTiBDQU1QVVM8L2Rpdj5gKVswXTsKICAgICAgICAgICAgcG9wdXBfMGIwY2NmODIzZmVlNDJkZGI4MjY5M2VmNjUwNWIxMDYuc2V0Q29udGVudChodG1sXzQ5MmY2ZTVlYWI1MTQxZDRhZDI3YmE4MzAxNTRhMTRmKTsKICAgICAgICAKCiAgICAgICAgbWFya2VyXzViMDRmYzU4MTVlNzQxYmVhZjg5MWJiZjUwYTFiMjI4LmJpbmRQb3B1cChwb3B1cF8wYjBjY2Y4MjNmZWU0MmRkYjgyNjkzZWY2NTA1YjEwNikKICAgICAgICA7CgogICAgICAgIAogICAgCiAgICAKICAgICAgICAgICAgdmFyIG1hcmtlcl85Mjg4NWIxZmZkOTk0MjNlYWNhNmQwYzlkYzcwMDk5NyA9IEwubWFya2VyKAogICAgICAgICAgICAgICAgWzQzLjA5NjczMzQyMzAwMDA0LCAtNzUuMjc1ODkzNzY4OTk5OTRdLAogICAgICAgICAgICAgICAge30KICAgICAgICAgICAgKS5hZGRUbyhtYXJrZXJfY2x1c3Rlcl9kMjU3MzBiOGRlYWY0ZDdjODJmZGQwYmQ4NDc3MjJjZCk7CiAgICAgICAgCiAgICAKICAgICAgICB2YXIgcG9wdXBfOTUxMDQ2MDM3YjRkNGU3ZThiZmJlOTlmZTQxODhjNGUgPSBMLnBvcHVwKHsibWF4V2lkdGgiOiAiMTAwJSJ9KTsKCiAgICAgICAgCiAgICAgICAgICAgIHZhciBodG1sXzY2ZDAzMzA2OTY4MDQxYWJhNTdiYzg5ZjhjZTk3ZGQ3ID0gJChgPGRpdiBpZD0iaHRtbF82NmQwMzMwNjk2ODA0MWFiYTU3YmM4OWY4Y2U5N2RkNyIgc3R5bGU9IndpZHRoOiAxMDAuMCU7IGhlaWdodDogMTAwLjAlOyI+RkFYVE9OLVNULiBMVUtFJ1MgSEVBTFRIQ0FSRSAtIFNULiBMVUtFJ1MgQ0FNUFVTPC9kaXY+YClbMF07CiAgICAgICAgICAgIHBvcHVwXzk1MTA0NjAzN2I0ZDRlN2U4YmZiZTk5ZmU0MTg4YzRlLnNldENvbnRlbnQoaHRtbF82NmQwMzMwNjk2ODA0MWFiYTU3YmM4OWY4Y2U5N2RkNyk7CiAgICAgICAgCgogICAgICAgIG1hcmtlcl85Mjg4NWIxZmZkOTk0MjNlYWNhNmQwYzlkYzcwMDk5Ny5iaW5kUG9wdXAocG9wdXBfOTUxMDQ2MDM3YjRkNGU3ZThiZmJlOTlmZTQxODhjNGUpCiAgICAgICAgOwoKICAgICAgICAKICAgIAogICAgCiAgICAgICAgICAgIHZhciBtYXJrZXJfZmZkNzdjYTQ0MGY2NDM0ODk2NzkxMDZjYTBmNjBjYmEgPSBMLm1hcmtlcigKICAgICAgICAgICAgICAgIFs0My4wNDEyOTkxNzEwMDAwNSwgLTc2LjEzODM5NDAxMjk5OTk4XSwKICAgICAgICAgICAgICAgIHt9CiAgICAgICAgICAgICkuYWRkVG8obWFya2VyX2NsdXN0ZXJfZDI1NzMwYjhkZWFmNGQ3YzgyZmRkMGJkODQ3NzIyY2QpOwogICAgICAgIAogICAgCiAgICAgICAgdmFyIHBvcHVwXzU5ODI4YTMzMmVhNjQ0OTdiNjc2Yzk1NjUwYmU0MTZmID0gTC5wb3B1cCh7Im1heFdpZHRoIjogIjEwMCUifSk7CgogICAgICAgIAogICAgICAgICAgICB2YXIgaHRtbF8zMzg1YWVjN2U1ZWY0ZDc4YWI1ZDNmNGFiZDNmOTQyYiA9ICQoYDxkaXYgaWQ9Imh0bWxfMzM4NWFlYzdlNWVmNGQ3OGFiNWQzZjRhYmQzZjk0MmIiIHN0eWxlPSJ3aWR0aDogMTAwLjAlOyBoZWlnaHQ6IDEwMC4wJTsiPkNST1VTRSBIT1NQSVRBTDwvZGl2PmApWzBdOwogICAgICAgICAgICBwb3B1cF81OTgyOGEzMzJlYTY0NDk3YjY3NmM5NTY1MGJlNDE2Zi5zZXRDb250ZW50KGh0bWxfMzM4NWFlYzdlNWVmNGQ3OGFiNWQzZjRhYmQzZjk0MmIpOwogICAgICAgIAoKICAgICAgICBtYXJrZXJfZmZkNzdjYTQ0MGY2NDM0ODk2NzkxMDZjYTBmNjBjYmEuYmluZFBvcHVwKHBvcHVwXzU5ODI4YTMzMmVhNjQ0OTdiNjc2Yzk1NjUwYmU0MTZmKQogICAgICAgIDsKCiAgICAgICAgCiAgICAKICAgIAogICAgICAgICAgICB2YXIgbWFya2VyX2QwZDkxNzFjN2RiMzRjNWNiMDQ4NDhlYjc1OGQ5MTNlID0gTC5tYXJrZXIoCiAgICAgICAgICAgICAgICBbNDIuOTU5NzAwODM2MDAwMDEsIC03Ny4xMzY1MTU3NDY5OTk5OF0sCiAgICAgICAgICAgICAgICB7fQogICAgICAgICAgICApLmFkZFRvKG1hcmtlcl9jbHVzdGVyX2QyNTczMGI4ZGVhZjRkN2M4MmZkZDBiZDg0NzcyMmNkKTsKICAgICAgICAKICAgIAogICAgICAgIHZhciBwb3B1cF9jNGY0ODAyZjlmYTQ0NDgzYjIzMmNlZDE1NzhkY2NmOSA9IEwucG9wdXAoeyJtYXhXaWR0aCI6ICIxMDAlIn0pOwoKICAgICAgICAKICAgICAgICAgICAgdmFyIGh0bWxfZGZjNjU1NmJjMDE3NGQzNDk0YWZlOGIyYjY1NjczODAgPSAkKGA8ZGl2IGlkPSJodG1sX2RmYzY1NTZiYzAxNzRkMzQ5NGFmZThiMmI2NTY3MzgwIiBzdHlsZT0id2lkdGg6IDEwMC4wJTsgaGVpZ2h0OiAxMDAuMCU7Ij5DTElGVE9OIFNQUklOR1MgSE9TUElUQUw8L2Rpdj5gKVswXTsKICAgICAgICAgICAgcG9wdXBfYzRmNDgwMmY5ZmE0NDQ4M2IyMzJjZWQxNTc4ZGNjZjkuc2V0Q29udGVudChodG1sX2RmYzY1NTZiYzAxNzRkMzQ5NGFmZThiMmI2NTY3MzgwKTsKICAgICAgICAKCiAgICAgICAgbWFya2VyX2QwZDkxNzFjN2RiMzRjNWNiMDQ4NDhlYjc1OGQ5MTNlLmJpbmRQb3B1cChwb3B1cF9jNGY0ODAyZjlmYTQ0NDgzYjIzMmNlZDE1NzhkY2NmOSkKICAgICAgICA7CgogICAgICAgIAogICAgCiAgICAKICAgICAgICAgICAgdmFyIG1hcmtlcl82NmE3Yjk0NTJiNTM0NTUzOWI3ZWU3ZmFjMGY4YjQ5YSA9IEwubWFya2VyKAogICAgICAgICAgICAgICAgWzQzLjQ1NDAxNjU3MTAwMDA1NCwgLTc2LjUxNjM3NzY0OTk5OTk4XSwKICAgICAgICAgICAgICAgIHt9CiAgICAgICAgICAgICkuYWRkVG8obWFya2VyX2NsdXN0ZXJfZDI1NzMwYjhkZWFmNGQ3YzgyZmRkMGJkODQ3NzIyY2QpOwogICAgICAgIAogICAgCiAgICAgICAgdmFyIHBvcHVwXzQzZjk2M2M1YTQ4ZDRhOGViM2RmYTU3MzFkMTVkNjY5ID0gTC5wb3B1cCh7Im1heFdpZHRoIjogIjEwMCUifSk7CgogICAgICAgIAogICAgICAgICAgICB2YXIgaHRtbF8yMGZlZjZhMGM3ZmE0NjVjODExODAzNzk3ZGI0YTE2ZSA9ICQoYDxkaXYgaWQ9Imh0bWxfMjBmZWY2YTBjN2ZhNDY1YzgxMTgwMzc5N2RiNGExNmUiIHN0eWxlPSJ3aWR0aDogMTAwLjAlOyBoZWlnaHQ6IDEwMC4wJTsiPk9TV0VHTyBIT1NQSVRBTDwvZGl2PmApWzBdOwogICAgICAgICAgICBwb3B1cF80M2Y5NjNjNWE0OGQ0YThlYjNkZmE1NzMxZDE1ZDY2OS5zZXRDb250ZW50KGh0bWxfMjBmZWY2YTBjN2ZhNDY1YzgxMTgwMzc5N2RiNGExNmUpOwogICAgICAgIAoKICAgICAgICBtYXJrZXJfNjZhN2I5NDUyYjUzNDU1MzliN2VlN2ZhYzBmOGI0OWEuYmluZFBvcHVwKHBvcHVwXzQzZjk2M2M1YTQ4ZDRhOGViM2RmYTU3MzFkMTVkNjY5KQogICAgICAgIDsKCiAgICAgICAgCiAgICAKICAgIAogICAgICAgICAgICB2YXIgbWFya2VyXzdlNDhiMDA4ZGZhMTQwZjE5N2UyNDM1MWE1ZmVkNzc4ID0gTC5tYXJrZXIoCiAgICAgICAgICAgICAgICBbNDIuNDU3NzkzMzI0MDAwMDgsIC03NS4wNTIxNTM0NzQ5OTk5NV0sCiAgICAgICAgICAgICAgICB7fQogICAgICAgICAgICApLmFkZFRvKG1hcmtlcl9jbHVzdGVyX2QyNTczMGI4ZGVhZjRkN2M4MmZkZDBiZDg0NzcyMmNkKTsKICAgICAgICAKICAgIAogICAgICAgIHZhciBwb3B1cF8yNWMzYThkODE3NGY0YmNlOTZiMGZmYjgzMzRiNDY0NSA9IEwucG9wdXAoeyJtYXhXaWR0aCI6ICIxMDAlIn0pOwoKICAgICAgICAKICAgICAgICAgICAgdmFyIGh0bWxfNjAwYTI1NjU3ZTExNGU3ZTkzY2ViYjE2NjZjOGRiNGQgPSAkKGA8ZGl2IGlkPSJodG1sXzYwMGEyNTY1N2UxMTRlN2U5M2NlYmIxNjY2YzhkYjRkIiBzdHlsZT0id2lkdGg6IDEwMC4wJTsgaGVpZ2h0OiAxMDAuMCU7Ij5BVVJFTElBIE9TQk9STiBGT1ggTUVNT1JJQUwgSE9TUElUQUw8L2Rpdj5gKVswXTsKICAgICAgICAgICAgcG9wdXBfMjVjM2E4ZDgxNzRmNGJjZTk2YjBmZmI4MzM0YjQ2NDUuc2V0Q29udGVudChodG1sXzYwMGEyNTY1N2UxMTRlN2U5M2NlYmIxNjY2YzhkYjRkKTsKICAgICAgICAKCiAgICAgICAgbWFya2VyXzdlNDhiMDA4ZGZhMTQwZjE5N2UyNDM1MWE1ZmVkNzc4LmJpbmRQb3B1cChwb3B1cF8yNWMzYThkODE3NGY0YmNlOTZiMGZmYjgzMzRiNDY0NSkKICAgICAgICA7CgogICAgICAgIAogICAgCiAgICAKICAgICAgICAgICAgdmFyIG1hcmtlcl8yYmQ1MWIwMDA4Nzc0MTFhOWU0Y2FkNWYzZmU0Yzc2NiA9IEwubWFya2VyKAogICAgICAgICAgICAgICAgWzQxLjIxNDMwNzIzMjAwMDA0NiwgLTczLjk4ODM0NDcxNTk5OTk3XSwKICAgICAgICAgICAgICAgIHt9CiAgICAgICAgICAgICkuYWRkVG8obWFya2VyX2NsdXN0ZXJfZDI1NzMwYjhkZWFmNGQ3YzgyZmRkMGJkODQ3NzIyY2QpOwogICAgICAgIAogICAgCiAgICAgICAgdmFyIHBvcHVwXzI1Y2ZjYjE3ZGJkZTRkNDY5ODY3ZDg1ZTI5ZjY4MmIyID0gTC5wb3B1cCh7Im1heFdpZHRoIjogIjEwMCUifSk7CgogICAgICAgIAogICAgICAgICAgICB2YXIgaHRtbF9jZjZlZGVkYjMxOTE0MzEyYTM4ZWZhMTY3NWFmZjgzMyA9ICQoYDxkaXYgaWQ9Imh0bWxfY2Y2ZWRlZGIzMTkxNDMxMmEzOGVmYTE2NzVhZmY4MzMiIHN0eWxlPSJ3aWR0aDogMTAwLjAlOyBoZWlnaHQ6IDEwMC4wJTsiPkhFTEVOIEhBWUVTIEhPU1BJVEFMPC9kaXY+YClbMF07CiAgICAgICAgICAgIHBvcHVwXzI1Y2ZjYjE3ZGJkZTRkNDY5ODY3ZDg1ZTI5ZjY4MmIyLnNldENvbnRlbnQoaHRtbF9jZjZlZGVkYjMxOTE0MzEyYTM4ZWZhMTY3NWFmZjgzMyk7CiAgICAgICAgCgogICAgICAgIG1hcmtlcl8yYmQ1MWIwMDA4Nzc0MTFhOWU0Y2FkNWYzZmU0Yzc2Ni5iaW5kUG9wdXAocG9wdXBfMjVjZmNiMTdkYmRlNGQ0Njk4NjdkODVlMjlmNjgyYjIpCiAgICAgICAgOwoKICAgICAgICAKICAgIAogICAgCiAgICAgICAgICAgIHZhciBtYXJrZXJfMmY1NjhlM2RjOWYwNDg2N2FjMjliMWVlYzgxMmIyZWQgPSBMLm1hcmtlcigKICAgICAgICAgICAgICAgIFs0MS4xMTE1OTU3NzcwMDAwNCwgLTc0LjEzNDgxMTQyMzk5OTk2XSwKICAgICAgICAgICAgICAgIHt9CiAgICAgICAgICAgICkuYWRkVG8obWFya2VyX2NsdXN0ZXJfZDI1NzMwYjhkZWFmNGQ3YzgyZmRkMGJkODQ3NzIyY2QpOwogICAgICAgIAogICAgCiAgICAgICAgdmFyIHBvcHVwXzY5NjM0N2M4NTU5YzQ3ZjQ5MDJmZGExOGY3MDU4NDU2ID0gTC5wb3B1cCh7Im1heFdpZHRoIjogIjEwMCUifSk7CgogICAgICAgIAogICAgICAgICAgICB2YXIgaHRtbF85YzM4NWUzOThkNDk0N2IyYjE3YzQyMzhjM2EzYTI2NyA9ICQoYDxkaXYgaWQ9Imh0bWxfOWMzODVlMzk4ZDQ5NDdiMmIxN2M0MjM4YzNhM2EyNjciIHN0eWxlPSJ3aWR0aDogMTAwLjAlOyBoZWlnaHQ6IDEwMC4wJTsiPkdPT0QgU0FNQVJJVEFOIEhPU1BJVEFMIC0gU1VGRkVSTjwvZGl2PmApWzBdOwogICAgICAgICAgICBwb3B1cF82OTYzNDdjODU1OWM0N2Y0OTAyZmRhMThmNzA1ODQ1Ni5zZXRDb250ZW50KGh0bWxfOWMzODVlMzk4ZDQ5NDdiMmIxN2M0MjM4YzNhM2EyNjcpOwogICAgICAgIAoKICAgICAgICBtYXJrZXJfMmY1NjhlM2RjOWYwNDg2N2FjMjliMWVlYzgxMmIyZWQuYmluZFBvcHVwKHBvcHVwXzY5NjM0N2M4NTU5YzQ3ZjQ5MDJmZGExOGY3MDU4NDU2KQogICAgICAgIDsKCiAgICAgICAgCiAgICAKICAgIAogICAgICAgICAgICB2YXIgbWFya2VyXzQ4NTI5N2RiZDE5YTRiOWJhZmQyYmQzNGI5N2Y2MjZmID0gTC5tYXJrZXIoCiAgICAgICAgICAgICAgICBbNDQuOTM2MjM0MDMwMDAwMDMsIC03NC45MDg3NDAwODU5OTk5N10sCiAgICAgICAgICAgICAgICB7fQogICAgICAgICAgICApLmFkZFRvKG1hcmtlcl9jbHVzdGVyX2QyNTczMGI4ZGVhZjRkN2M4MmZkZDBiZDg0NzcyMmNkKTsKICAgICAgICAKICAgIAogICAgICAgIHZhciBwb3B1cF8zNDRiODM1N2QwZjM0NGU4YmE3YWFlMjA2ZDBkZTk2MiA9IEwucG9wdXAoeyJtYXhXaWR0aCI6ICIxMDAlIn0pOwoKICAgICAgICAKICAgICAgICAgICAgdmFyIGh0bWxfNDY2N2I2MzI4MTNjNGQ4MjlhODlmNThhMmI5ZmUxNzAgPSAkKGA8ZGl2IGlkPSJodG1sXzQ2NjdiNjMyODEzYzRkODI5YTg5ZjU4YTJiOWZlMTcwIiBzdHlsZT0id2lkdGg6IDEwMC4wJTsgaGVpZ2h0OiAxMDAuMCU7Ij5NQVNTRU5BIE1FTU9SSUFMIEhPU1BJVEFMPC9kaXY+YClbMF07CiAgICAgICAgICAgIHBvcHVwXzM0NGI4MzU3ZDBmMzQ0ZThiYTdhYWUyMDZkMGRlOTYyLnNldENvbnRlbnQoaHRtbF80NjY3YjYzMjgxM2M0ZDgyOWE4OWY1OGEyYjlmZTE3MCk7CiAgICAgICAgCgogICAgICAgIG1hcmtlcl80ODUyOTdkYmQxOWE0YjliYWZkMmJkMzRiOTdmNjI2Zi5iaW5kUG9wdXAocG9wdXBfMzQ0YjgzNTdkMGYzNDRlOGJhN2FhZTIwNmQwZGU5NjIpCiAgICAgICAgOwoKICAgICAgICAKICAgIAogICAgCiAgICAgICAgICAgIHZhciBtYXJrZXJfMmUxMTY0OTBhZDY0NDc1Mjk2OTcxZDAzOWY4NDlkZmIgPSBMLm1hcmtlcigKICAgICAgICAgICAgICAgIFs0Mi44MDQ4NTAxOTAwMDAwMiwgLTczLjkxNTc5MTAwNjk5OTk1XSwKICAgICAgICAgICAgICAgIHt9CiAgICAgICAgICAgICkuYWRkVG8obWFya2VyX2NsdXN0ZXJfZDI1NzMwYjhkZWFmNGQ3YzgyZmRkMGJkODQ3NzIyY2QpOwogICAgICAgIAogICAgCiAgICAgICAgdmFyIHBvcHVwX2I1OTMzNjZhZTQ1OTQyOTZhZWY2YjYwMjM4NjExNjkxID0gTC5wb3B1cCh7Im1heFdpZHRoIjogIjEwMCUifSk7CgogICAgICAgIAogICAgICAgICAgICB2YXIgaHRtbF9jN2MzODE0MTJhODM0ZWJhYjMzNGEyYWI2YjQyMGE5MyA9ICQoYDxkaXYgaWQ9Imh0bWxfYzdjMzgxNDEyYTgzNGViYWIzMzRhMmFiNmI0MjBhOTMiIHN0eWxlPSJ3aWR0aDogMTAwLjAlOyBoZWlnaHQ6IDEwMC4wJTsiPkVMTElTIEhFQUxUSCBDRU5URVI8L2Rpdj5gKVswXTsKICAgICAgICAgICAgcG9wdXBfYjU5MzM2NmFlNDU5NDI5NmFlZjZiNjAyMzg2MTE2OTEuc2V0Q29udGVudChodG1sX2M3YzM4MTQxMmE4MzRlYmFiMzM0YTJhYjZiNDIwYTkzKTsKICAgICAgICAKCiAgICAgICAgbWFya2VyXzJlMTE2NDkwYWQ2NDQ3NTI5Njk3MWQwMzlmODQ5ZGZiLmJpbmRQb3B1cChwb3B1cF9iNTkzMzY2YWU0NTk0Mjk2YWVmNmI2MDIzODYxMTY5MSkKICAgICAgICA7CgogICAgICAgIAogICAgCiAgICAKICAgICAgICAgICAgdmFyIG1hcmtlcl9mOWNhOTA4ZjE3YzY0ZjVlODNmZmNiNzk0OTRmNjNlMSA9IEwubWFya2VyKAogICAgICAgICAgICAgICAgWzQyLjc5Mjc2ODk4NTAwMDA3LCAtNzMuODc4OTU0NzE1OTk5OTVdLAogICAgICAgICAgICAgICAge30KICAgICAgICAgICAgKS5hZGRUbyhtYXJrZXJfY2x1c3Rlcl9kMjU3MzBiOGRlYWY0ZDdjODJmZGQwYmQ4NDc3MjJjZCk7CiAgICAgICAgCiAgICAKICAgICAgICB2YXIgcG9wdXBfOTZlZDEyYjQ2ZjJmNDI2Y2IyNmYwZDRjY2YzOWFmNzkgPSBMLnBvcHVwKHsibWF4V2lkdGgiOiAiMTAwJSJ9KTsKCiAgICAgICAgCiAgICAgICAgICAgIHZhciBodG1sXzI3M2JkNWE2NzA2OTRkZmZiNDNkNGMxZjI5NjY3Yjc3ID0gJChgPGRpdiBpZD0iaHRtbF8yNzNiZDVhNjcwNjk0ZGZmYjQzZDRjMWYyOTY2N2I3NyIgc3R5bGU9IndpZHRoOiAxMDAuMCU7IGhlaWdodDogMTAwLjAlOyI+QkVMTEVWVUUgV09NQU4nUyBDRU5URVIgT0YgRUxMSVMgTUVESUNJTkU8L2Rpdj5gKVswXTsKICAgICAgICAgICAgcG9wdXBfOTZlZDEyYjQ2ZjJmNDI2Y2IyNmYwZDRjY2YzOWFmNzkuc2V0Q29udGVudChodG1sXzI3M2JkNWE2NzA2OTRkZmZiNDNkNGMxZjI5NjY3Yjc3KTsKICAgICAgICAKCiAgICAgICAgbWFya2VyX2Y5Y2E5MDhmMTdjNjRmNWU4M2ZmY2I3OTQ5NGY2M2UxLmJpbmRQb3B1cChwb3B1cF85NmVkMTJiNDZmMmY0MjZjYjI2ZjBkNGNjZjM5YWY3OSkKICAgICAgICA7CgogICAgICAgIAogICAgCiAgICAKICAgICAgICAgICAgdmFyIG1hcmtlcl82NDE5OTM2YjA1ZWU0ZTJlYjE3YmFjYWVmMmZhMGNkZiA9IEwubWFya2VyKAogICAgICAgICAgICAgICAgWzQwLjk0NjYzMTIyNjAwMDA3LCAtNzMuMDYwOTYzMjIyOTk5OTldLAogICAgICAgICAgICAgICAge30KICAgICAgICAgICAgKS5hZGRUbyhtYXJrZXJfY2x1c3Rlcl9kMjU3MzBiOGRlYWY0ZDdjODJmZGQwYmQ4NDc3MjJjZCk7CiAgICAgICAgCiAgICAKICAgICAgICB2YXIgcG9wdXBfN2FhYzMxMDI4MmM3NDc4OGE0ZTA0NDk5MTMwMGU0MGMgPSBMLnBvcHVwKHsibWF4V2lkdGgiOiAiMTAwJSJ9KTsKCiAgICAgICAgCiAgICAgICAgICAgIHZhciBodG1sX2FmM2RjZGRhNDM1MzQ0ODU4NDRhNjNmZmQ3ZWE0OTFhID0gJChgPGRpdiBpZD0iaHRtbF9hZjNkY2RkYTQzNTM0NDg1ODQ0YTYzZmZkN2VhNDkxYSIgc3R5bGU9IndpZHRoOiAxMDAuMCU7IGhlaWdodDogMTAwLjAlOyI+U1QgQ0hBUkxFUyBIT1NQSVRBTCBBTkQgUkVIQUJJTElUQVRJT04gQ0VOVEVSPC9kaXY+YClbMF07CiAgICAgICAgICAgIHBvcHVwXzdhYWMzMTAyODJjNzQ3ODhhNGUwNDQ5OTEzMDBlNDBjLnNldENvbnRlbnQoaHRtbF9hZjNkY2RkYTQzNTM0NDg1ODQ0YTYzZmZkN2VhNDkxYSk7CiAgICAgICAgCgogICAgICAgIG1hcmtlcl82NDE5OTM2YjA1ZWU0ZTJlYjE3YmFjYWVmMmZhMGNkZi5iaW5kUG9wdXAocG9wdXBfN2FhYzMxMDI4MmM3NDc4OGE0ZTA0NDk5MTMwMGU0MGMpCiAgICAgICAgOwoKICAgICAgICAKICAgIAogICAgCiAgICAgICAgICAgIHZhciBtYXJrZXJfYzQ4MGQyMDQwYTlkNGI3ZDg1YjRhNDQwZjNmZjc3MTYgPSBMLm1hcmtlcigKICAgICAgICAgICAgICAgIFs0Mi40Njg5ODUwNzIwMDAwNSwgLTc2LjUzNzQ4NDE2MDk5OTk1XSwKICAgICAgICAgICAgICAgIHt9CiAgICAgICAgICAgICkuYWRkVG8obWFya2VyX2NsdXN0ZXJfZDI1NzMwYjhkZWFmNGQ3YzgyZmRkMGJkODQ3NzIyY2QpOwogICAgICAgIAogICAgCiAgICAgICAgdmFyIHBvcHVwXzc2YTVmZmU2YzQ5ZjQ3N2JiNGEwNDRhMWI2Mjc3YWRhID0gTC5wb3B1cCh7Im1heFdpZHRoIjogIjEwMCUifSk7CgogICAgICAgIAogICAgICAgICAgICB2YXIgaHRtbF8wMTExOWU1ZThjODI0OTRjYTVkM2NlZWY0YWNhYThhNiA9ICQoYDxkaXYgaWQ9Imh0bWxfMDExMTllNWU4YzgyNDk0Y2E1ZDNjZWVmNGFjYWE4YTYiIHN0eWxlPSJ3aWR0aDogMTAwLjAlOyBoZWlnaHQ6IDEwMC4wJTsiPkNBWVVHQSBNRURJQ0FMIENFTlRFUjwvZGl2PmApWzBdOwogICAgICAgICAgICBwb3B1cF83NmE1ZmZlNmM0OWY0NzdiYjRhMDQ0YTFiNjI3N2FkYS5zZXRDb250ZW50KGh0bWxfMDExMTllNWU4YzgyNDk0Y2E1ZDNjZWVmNGFjYWE4YTYpOwogICAgICAgIAoKICAgICAgICBtYXJrZXJfYzQ4MGQyMDQwYTlkNGI3ZDg1YjRhNDQwZjNmZjc3MTYuYmluZFBvcHVwKHBvcHVwXzc2YTVmZmU2YzQ5ZjQ3N2JiNGEwNDRhMWI2Mjc3YWRhKQogICAgICAgIDsKCiAgICAgICAgCiAgICAKICAgIAogICAgICAgICAgICB2YXIgbWFya2VyXzY1YjNiMzdhYmU4YTQ1Y2I5ZjlkZjYyZTc2ZWFhNWE4ID0gTC5tYXJrZXIoCiAgICAgICAgICAgICAgICBbNDEuNzQwMjkxOTMxMDAwMDQ0LCAtNzUuMDQ3NDE1NTA4OTk5OTZdLAogICAgICAgICAgICAgICAge30KICAgICAgICAgICAgKS5hZGRUbyhtYXJrZXJfY2x1c3Rlcl9kMjU3MzBiOGRlYWY0ZDdjODJmZGQwYmQ4NDc3MjJjZCk7CiAgICAgICAgCiAgICAKICAgICAgICB2YXIgcG9wdXBfYzg3OWU3YmRjMzg4NGUxZmJiZjIzNzYyZTM4YmY0ZTAgPSBMLnBvcHVwKHsibWF4V2lkdGgiOiAiMTAwJSJ9KTsKCiAgICAgICAgCiAgICAgICAgICAgIHZhciBodG1sXzE0YTAwNTM2NmM1MjQwM2Q5NTY0ZmE4MzE3NTZjZTc5ID0gJChgPGRpdiBpZD0iaHRtbF8xNGEwMDUzNjZjNTI0MDNkOTU2NGZhODMxNzU2Y2U3OSIgc3R5bGU9IndpZHRoOiAxMDAuMCU7IGhlaWdodDogMTAwLjAlOyI+R1JPVkVSIE0uIEhFUk1BTiBIT1NQSVRBTDwvZGl2PmApWzBdOwogICAgICAgICAgICBwb3B1cF9jODc5ZTdiZGMzODg0ZTFmYmJmMjM3NjJlMzhiZjRlMC5zZXRDb250ZW50KGh0bWxfMTRhMDA1MzY2YzUyNDAzZDk1NjRmYTgzMTc1NmNlNzkpOwogICAgICAgIAoKICAgICAgICBtYXJrZXJfNjViM2IzN2FiZThhNDVjYjlmOWRmNjJlNzZlYWE1YTguYmluZFBvcHVwKHBvcHVwX2M4NzllN2JkYzM4ODRlMWZiYmYyMzc2MmUzOGJmNGUwKQogICAgICAgIDsKCiAgICAgICAgCiAgICAKICAgIAogICAgICAgICAgICB2YXIgbWFya2VyXzRhOWI4NDQxZWJhNzQ3YWRhNjdhMzlhZjkzM2ZiMDczID0gTC5tYXJrZXIoCiAgICAgICAgICAgICAgICBbNDMuMzA2NjI5Mzg1MDAwMDY1LCAtNzMuNjQ2MzEyNzQzOTk5OTRdLAogICAgICAgICAgICAgICAge30KICAgICAgICAgICAgKS5hZGRUbyhtYXJrZXJfY2x1c3Rlcl9kMjU3MzBiOGRlYWY0ZDdjODJmZGQwYmQ4NDc3MjJjZCk7CiAgICAgICAgCiAgICAKICAgICAgICB2YXIgcG9wdXBfYmM5ZGRjYzAxYjYzNDY3MTk3M2M4NzEzNTE5NGU1ODQgPSBMLnBvcHVwKHsibWF4V2lkdGgiOiAiMTAwJSJ9KTsKCiAgICAgICAgCiAgICAgICAgICAgIHZhciBodG1sXzJjMGZlMzZmNTgzMjRiM2JhNGNmZTBjNDFlNjUzOTQ1ID0gJChgPGRpdiBpZD0iaHRtbF8yYzBmZTM2ZjU4MzI0YjNiYTRjZmUwYzQxZTY1Mzk0NSIgc3R5bGU9IndpZHRoOiAxMDAuMCU7IGhlaWdodDogMTAwLjAlOyI+R0xFTlMgRkFMTFMgSE9TUElUQUw8L2Rpdj5gKVswXTsKICAgICAgICAgICAgcG9wdXBfYmM5ZGRjYzAxYjYzNDY3MTk3M2M4NzEzNTE5NGU1ODQuc2V0Q29udGVudChodG1sXzJjMGZlMzZmNTgzMjRiM2JhNGNmZTBjNDFlNjUzOTQ1KTsKICAgICAgICAKCiAgICAgICAgbWFya2VyXzRhOWI4NDQxZWJhNzQ3YWRhNjdhMzlhZjkzM2ZiMDczLmJpbmRQb3B1cChwb3B1cF9iYzlkZGNjMDFiNjM0NjcxOTczYzg3MTM1MTk0ZTU4NCkKICAgICAgICA7CgogICAgICAgIAogICAgCiAgICAKICAgICAgICAgICAgdmFyIG1hcmtlcl9lMGE5NDhkMjUwNDQ0NTcyOTZlM2ZhMTY0NzhjOTI2YyA9IEwubWFya2VyKAogICAgICAgICAgICAgICAgWzQxLjE5NzA1NDA4MjAwMDA5LCAtNzMuNzI1NzAwNzUxOTk5OTddLAogICAgICAgICAgICAgICAge30KICAgICAgICAgICAgKS5hZGRUbyhtYXJrZXJfY2x1c3Rlcl9kMjU3MzBiOGRlYWY0ZDdjODJmZGQwYmQ4NDc3MjJjZCk7CiAgICAgICAgCiAgICAKICAgICAgICB2YXIgcG9wdXBfNzYyY2RiNjJiZGNlNDg3ZmEwNTM1ZmE3ODM0NDIzOWYgPSBMLnBvcHVwKHsibWF4V2lkdGgiOiAiMTAwJSJ9KTsKCiAgICAgICAgCiAgICAgICAgICAgIHZhciBodG1sXzZlMzc2ZWFjYTc4NjRkMzVhNGZkMDcyYTExYzIyNzQ1ID0gJChgPGRpdiBpZD0iaHRtbF82ZTM3NmVhY2E3ODY0ZDM1YTRmZDA3MmExMWMyMjc0NSIgc3R5bGU9IndpZHRoOiAxMDAuMCU7IGhlaWdodDogMTAwLjAlOyI+Tk9SVEhFUk4gV0VTVENIRVNURVIgSE9TUElUQUw8L2Rpdj5gKVswXTsKICAgICAgICAgICAgcG9wdXBfNzYyY2RiNjJiZGNlNDg3ZmEwNTM1ZmE3ODM0NDIzOWYuc2V0Q29udGVudChodG1sXzZlMzc2ZWFjYTc4NjRkMzVhNGZkMDcyYTExYzIyNzQ1KTsKICAgICAgICAKCiAgICAgICAgbWFya2VyX2UwYTk0OGQyNTA0NDQ1NzI5NmUzZmExNjQ3OGM5MjZjLmJpbmRQb3B1cChwb3B1cF83NjJjZGI2MmJkY2U0ODdmYTA1MzVmYTc4MzQ0MjM5ZikKICAgICAgICA7CgogICAgICAgIAogICAgCiAgICAKICAgICAgICAgICAgdmFyIG1hcmtlcl82ZGI5YWQxZmM4ZWU0MDdiYTY1MDZkYzEyMDkwNzMwMCA9IEwubWFya2VyKAogICAgICAgICAgICAgICAgWzQwLjg0Nzk4OTg4NzAwMDAzLCAtNzMuODQzOTQxNjI1OTk5OTNdLAogICAgICAgICAgICAgICAge30KICAgICAgICAgICAgKS5hZGRUbyhtYXJrZXJfY2x1c3Rlcl9kMjU3MzBiOGRlYWY0ZDdjODJmZGQwYmQ4NDc3MjJjZCk7CiAgICAgICAgCiAgICAKICAgICAgICB2YXIgcG9wdXBfM2VhYjIyYmEwYTY2NGEyN2E0NjI2ZDBmNzViNTVjMzIgPSBMLnBvcHVwKHsibWF4V2lkdGgiOiAiMTAwJSJ9KTsKCiAgICAgICAgCiAgICAgICAgICAgIHZhciBodG1sXzNkYzNiNzJkZmQ2YTQ4N2NhNmFlNzZjZGNjZDUwZTVkID0gJChgPGRpdiBpZD0iaHRtbF8zZGMzYjcyZGZkNmE0ODdjYTZhZTc2Y2RjY2Q1MGU1ZCIgc3R5bGU9IndpZHRoOiAxMDAuMCU7IGhlaWdodDogMTAwLjAlOyI+Q0FMVkFSWSBIT1NQSVRBTDwvZGl2PmApWzBdOwogICAgICAgICAgICBwb3B1cF8zZWFiMjJiYTBhNjY0YTI3YTQ2MjZkMGY3NWI1NWMzMi5zZXRDb250ZW50KGh0bWxfM2RjM2I3MmRmZDZhNDg3Y2E2YWU3NmNkY2NkNTBlNWQpOwogICAgICAgIAoKICAgICAgICBtYXJrZXJfNmRiOWFkMWZjOGVlNDA3YmE2NTA2ZGMxMjA5MDczMDAuYmluZFBvcHVwKHBvcHVwXzNlYWIyMmJhMGE2NjRhMjdhNDYyNmQwZjc1YjU1YzMyKQogICAgICAgIDsKCiAgICAgICAgCiAgICAKICAgIAogICAgICAgICAgICB2YXIgbWFya2VyXzcyMTUxYzg1YWI3NDRkMTZiMmNjNWEyN2UzNWIyMzUxID0gTC5tYXJrZXIoCiAgICAgICAgICAgICAgICBbNDAuNjM5NDc4ODc1MDAwMDUsIC03My45OTg0NTI2MzQ5OTk5OF0sCiAgICAgICAgICAgICAgICB7fQogICAgICAgICAgICApLmFkZFRvKG1hcmtlcl9jbHVzdGVyX2QyNTczMGI4ZGVhZjRkN2M4MmZkZDBiZDg0NzcyMmNkKTsKICAgICAgICAKICAgIAogICAgICAgIHZhciBwb3B1cF9kMmM5Y2MzNDgwZTI0OGE0OTE5MjdjOTA1MzcyNjI5ZCA9IEwucG9wdXAoeyJtYXhXaWR0aCI6ICIxMDAlIn0pOwoKICAgICAgICAKICAgICAgICAgICAgdmFyIGh0bWxfMDQwZDAzMGQ0NTc3NGU2ZGEwNmU2Zjk3YjhkNmIwNTUgPSAkKGA8ZGl2IGlkPSJodG1sXzA0MGQwMzBkNDU3NzRlNmRhMDZlNmY5N2I4ZDZiMDU1IiBzdHlsZT0id2lkdGg6IDEwMC4wJTsgaGVpZ2h0OiAxMDAuMCU7Ij5NQUlNT05JREVTIE1FRElDQUwgQ0VOVEVSPC9kaXY+YClbMF07CiAgICAgICAgICAgIHBvcHVwX2QyYzljYzM0ODBlMjQ4YTQ5MTkyN2M5MDUzNzI2MjlkLnNldENvbnRlbnQoaHRtbF8wNDBkMDMwZDQ1Nzc0ZTZkYTA2ZTZmOTdiOGQ2YjA1NSk7CiAgICAgICAgCgogICAgICAgIG1hcmtlcl83MjE1MWM4NWFiNzQ0ZDE2YjJjYzVhMjdlMzViMjM1MS5iaW5kUG9wdXAocG9wdXBfZDJjOWNjMzQ4MGUyNDhhNDkxOTI3YzkwNTM3MjYyOWQpCiAgICAgICAgOwoKICAgICAgICAKICAgIAogICAgCiAgICAgICAgICAgIHZhciBtYXJrZXJfMDFlYjhjMDM1YzY5NDFiMjk5ZGIwMWNiZjJkNDFiMTYgPSBMLm1hcmtlcigKICAgICAgICAgICAgICAgIFs0MC43NjQ5MjMzODQwMDAwNCwgLTczLjk1MjMxNDg1MTk5OTk3XSwKICAgICAgICAgICAgICAgIHt9CiAgICAgICAgICAgICkuYWRkVG8obWFya2VyX2NsdXN0ZXJfZDI1NzMwYjhkZWFmNGQ3YzgyZmRkMGJkODQ3NzIyY2QpOwogICAgICAgIAogICAgCiAgICAgICAgdmFyIHBvcHVwXzlkMGM4Yjk0MzBiNTRkMmU4MWNkN2ZjZjdlMDNiMjRkID0gTC5wb3B1cCh7Im1heFdpZHRoIjogIjEwMCUifSk7CgogICAgICAgIAogICAgICAgICAgICB2YXIgaHRtbF81NjMxMmM3YjYwZmY0NWNmODk0NTAzMDgzOWVlYzA3MSA9ICQoYDxkaXYgaWQ9Imh0bWxfNTYzMTJjN2I2MGZmNDVjZjg5NDUwMzA4MzllZWMwNzEiIHN0eWxlPSJ3aWR0aDogMTAwLjAlOyBoZWlnaHQ6IDEwMC4wJTsiPkhPU1BJVEFMIEZPUiBTUEVDSUFMIFNVUkdFUlk8L2Rpdj5gKVswXTsKICAgICAgICAgICAgcG9wdXBfOWQwYzhiOTQzMGI1NGQyZTgxY2Q3ZmNmN2UwM2IyNGQuc2V0Q29udGVudChodG1sXzU2MzEyYzdiNjBmZjQ1Y2Y4OTQ1MDMwODM5ZWVjMDcxKTsKICAgICAgICAKCiAgICAgICAgbWFya2VyXzAxZWI4YzAzNWM2OTQxYjI5OWRiMDFjYmYyZDQxYjE2LmJpbmRQb3B1cChwb3B1cF85ZDBjOGI5NDMwYjU0ZDJlODFjZDdmY2Y3ZTAzYjI0ZCkKICAgICAgICA7CgogICAgICAgIAogICAgCiAgICAKICAgICAgICAgICAgdmFyIG1hcmtlcl8zOTdjZjUzODFiYzA0MjMzYjM0YmY1MGRhOGM5YWIzYiA9IEwubWFya2VyKAogICAgICAgICAgICAgICAgWzQwLjc4NDkyNjk0MDAwMDA1LCAtNzMuOTQ0NTMwMjI4OTk5OTVdLAogICAgICAgICAgICAgICAge30KICAgICAgICAgICAgKS5hZGRUbyhtYXJrZXJfY2x1c3Rlcl9kMjU3MzBiOGRlYWY0ZDdjODJmZGQwYmQ4NDc3MjJjZCk7CiAgICAgICAgCiAgICAKICAgICAgICB2YXIgcG9wdXBfMGUxMzRiMjkwNzYxNDlhNjllMzIzNTVkNWMzZTA4YzQgPSBMLnBvcHVwKHsibWF4V2lkdGgiOiAiMTAwJSJ9KTsKCiAgICAgICAgCiAgICAgICAgICAgIHZhciBodG1sXzQ2MDdhYWZmOWYwZTRiZWY5ZjMzY2EzYzg2NjdhYzBjID0gJChgPGRpdiBpZD0iaHRtbF80NjA3YWFmZjlmMGU0YmVmOWYzM2NhM2M4NjY3YWMwYyIgc3R5bGU9IndpZHRoOiAxMDAuMCU7IGhlaWdodDogMTAwLjAlOyI+TUVUUk9QT0xJVEFOIEhPU1BJVEFMIENFTlRFUjwvZGl2PmApWzBdOwogICAgICAgICAgICBwb3B1cF8wZTEzNGIyOTA3NjE0OWE2OWUzMjM1NWQ1YzNlMDhjNC5zZXRDb250ZW50KGh0bWxfNDYwN2FhZmY5ZjBlNGJlZjlmMzNjYTNjODY2N2FjMGMpOwogICAgICAgIAoKICAgICAgICBtYXJrZXJfMzk3Y2Y1MzgxYmMwNDIzM2IzNGJmNTBkYThjOWFiM2IuYmluZFBvcHVwKHBvcHVwXzBlMTM0YjI5MDc2MTQ5YTY5ZTMyMzU1ZDVjM2UwOGM0KQogICAgICAgIDsKCiAgICAgICAgCiAgICAKICAgIAogICAgICAgICAgICB2YXIgbWFya2VyXzE3MGMyYWVkMjFlMDRkNzU5OGFmZmI2ZWM5NTZiZTkyID0gTC5tYXJrZXIoCiAgICAgICAgICAgICAgICBbNDAuNzMxODUzMDYzMDAwMDgsIC03My45ODQ0ODMzMDk5OTk5N10sCiAgICAgICAgICAgICAgICB7fQogICAgICAgICAgICApLmFkZFRvKG1hcmtlcl9jbHVzdGVyX2QyNTczMGI4ZGVhZjRkN2M4MmZkZDBiZDg0NzcyMmNkKTsKICAgICAgICAKICAgIAogICAgICAgIHZhciBwb3B1cF82YmY1MWQ1MDQ5MDA0MmE2OTBhNzkyMGVkZjhjYjBhYiA9IEwucG9wdXAoeyJtYXhXaWR0aCI6ICIxMDAlIn0pOwoKICAgICAgICAKICAgICAgICAgICAgdmFyIGh0bWxfMTc3OWRhZmNhYmFjNGY1ZTk3MGNkYjFjMTNmMGYyMjMgPSAkKGA8ZGl2IGlkPSJodG1sXzE3NzlkYWZjYWJhYzRmNWU5NzBjZGIxYzEzZjBmMjIzIiBzdHlsZT0id2lkdGg6IDEwMC4wJTsgaGVpZ2h0OiAxMDAuMCU7Ij5ORVcgWU9SSyBFWUUgQU5EIEVBUiBJTkZJUk1BUlk8L2Rpdj5gKVswXTsKICAgICAgICAgICAgcG9wdXBfNmJmNTFkNTA0OTAwNDJhNjkwYTc5MjBlZGY4Y2IwYWIuc2V0Q29udGVudChodG1sXzE3NzlkYWZjYWJhYzRmNWU5NzBjZGIxYzEzZjBmMjIzKTsKICAgICAgICAKCiAgICAgICAgbWFya2VyXzE3MGMyYWVkMjFlMDRkNzU5OGFmZmI2ZWM5NTZiZTkyLmJpbmRQb3B1cChwb3B1cF82YmY1MWQ1MDQ5MDA0MmE2OTBhNzkyMGVkZjhjYjBhYikKICAgICAgICA7CgogICAgICAgIAogICAgCiAgICAKICAgICAgICAgICAgdmFyIG1hcmtlcl85MGMwYzVkNjJlYjg0YzU4OWUwZjMwYzljNmExOGY4YSA9IEwubWFya2VyKAogICAgICAgICAgICAgICAgWzQwLjc4OTc2NzUzMTAwMDA0NSwgLTczLjk1MzIxNDI3Mzk5OTkzXSwKICAgICAgICAgICAgICAgIHt9CiAgICAgICAgICAgICkuYWRkVG8obWFya2VyX2NsdXN0ZXJfZDI1NzMwYjhkZWFmNGQ3YzgyZmRkMGJkODQ3NzIyY2QpOwogICAgICAgIAogICAgCiAgICAgICAgdmFyIHBvcHVwXzc1YTdkMmM0NzY1NDRlNzhhYmU5MmE2ZTJmYTM2MWFjID0gTC5wb3B1cCh7Im1heFdpZHRoIjogIjEwMCUifSk7CgogICAgICAgIAogICAgICAgICAgICB2YXIgaHRtbF84YzNlM2JmZjkwNzc0YmIyOWI4YjkwNzUzMjBjNmI5MiA9ICQoYDxkaXYgaWQ9Imh0bWxfOGMzZTNiZmY5MDc3NGJiMjliOGI5MDc1MzIwYzZiOTIiIHN0eWxlPSJ3aWR0aDogMTAwLjAlOyBoZWlnaHQ6IDEwMC4wJTsiPk1PVU5UIFNJTkFJIEhPU1BJVEFMPC9kaXY+YClbMF07CiAgICAgICAgICAgIHBvcHVwXzc1YTdkMmM0NzY1NDRlNzhhYmU5MmE2ZTJmYTM2MWFjLnNldENvbnRlbnQoaHRtbF84YzNlM2JmZjkwNzc0YmIyOWI4YjkwNzUzMjBjNmI5Mik7CiAgICAgICAgCgogICAgICAgIG1hcmtlcl85MGMwYzVkNjJlYjg0YzU4OWUwZjMwYzljNmExOGY4YS5iaW5kUG9wdXAocG9wdXBfNzVhN2QyYzQ3NjU0NGU3OGFiZTkyYTZlMmZhMzYxYWMpCiAgICAgICAgOwoKICAgICAgICAKICAgIAogICAgCiAgICAgICAgICAgIHZhciBtYXJrZXJfOWRmYzAyMzZiMjI3NGFlOTg5MDE1MDY0NWE2ZjY4ZTQgPSBMLm1hcmtlcigKICAgICAgICAgICAgICAgIFs0MC43MTcwNzIyMTMwMDAwNDQsIC03My44MDQ1NTYxOTE5OTk5NV0sCiAgICAgICAgICAgICAgICB7fQogICAgICAgICAgICApLmFkZFRvKG1hcmtlcl9jbHVzdGVyX2QyNTczMGI4ZGVhZjRkN2M4MmZkZDBiZDg0NzcyMmNkKTsKICAgICAgICAKICAgIAogICAgICAgIHZhciBwb3B1cF9mYmU5MGM1NTNhMjk0OTQ3OGMxOTJjMWI4YzdkMjA1OSA9IEwucG9wdXAoeyJtYXhXaWR0aCI6ICIxMDAlIn0pOwoKICAgICAgICAKICAgICAgICAgICAgdmFyIGh0bWxfODUwOTlkZGM3MDcwNDBhMWJhY2FhOWJmYmQ4YjlhZTggPSAkKGA8ZGl2IGlkPSJodG1sXzg1MDk5ZGRjNzA3MDQwYTFiYWNhYTliZmJkOGI5YWU4IiBzdHlsZT0id2lkdGg6IDEwMC4wJTsgaGVpZ2h0OiAxMDAuMCU7Ij5RVUVFTlMgSE9TUElUQUwgQ0VOVEVSPC9kaXY+YClbMF07CiAgICAgICAgICAgIHBvcHVwX2ZiZTkwYzU1M2EyOTQ5NDc4YzE5MmMxYjhjN2QyMDU5LnNldENvbnRlbnQoaHRtbF84NTA5OWRkYzcwNzA0MGExYmFjYWE5YmZiZDhiOWFlOCk7CiAgICAgICAgCgogICAgICAgIG1hcmtlcl85ZGZjMDIzNmIyMjc0YWU5ODkwMTUwNjQ1YTZmNjhlNC5iaW5kUG9wdXAocG9wdXBfZmJlOTBjNTUzYTI5NDk0NzhjMTkyYzFiOGM3ZDIwNTkpCiAgICAgICAgOwoKICAgICAgICAKICAgIAogICAgCiAgICAgICAgICAgIHZhciBtYXJrZXJfNGE5ZjQxMWZiOTA2NGRjNmJjMjYzODEyNjJlNmNkZWYgPSBMLm1hcmtlcigKICAgICAgICAgICAgICAgIFs0MC43Mjg5OTQ2NzAwMDAwNywgLTczLjg1MTUwNjcwNjk5OTk0XSwKICAgICAgICAgICAgICAgIHt9CiAgICAgICAgICAgICkuYWRkVG8obWFya2VyX2NsdXN0ZXJfZDI1NzMwYjhkZWFmNGQ3YzgyZmRkMGJkODQ3NzIyY2QpOwogICAgICAgIAogICAgCiAgICAgICAgdmFyIHBvcHVwX2ExNDk1ZTQ4ZjVmNDRhMmU4M2FkZTBkOTkyMWM2ZjFiID0gTC5wb3B1cCh7Im1heFdpZHRoIjogIjEwMCUifSk7CgogICAgICAgIAogICAgICAgICAgICB2YXIgaHRtbF9iMzM2NmVhZThhMmE0MzE4YjczYzlmMTIzY2Q0NTM2NCA9ICQoYDxkaXYgaWQ9Imh0bWxfYjMzNjZlYWU4YTJhNDMxOGI3M2M5ZjEyM2NkNDUzNjQiIHN0eWxlPSJ3aWR0aDogMTAwLjAlOyBoZWlnaHQ6IDEwMC4wJTsiPkZPUkVTVCBISUxMUyBIT1NQSVRBTDwvZGl2PmApWzBdOwogICAgICAgICAgICBwb3B1cF9hMTQ5NWU0OGY1ZjQ0YTJlODNhZGUwZDk5MjFjNmYxYi5zZXRDb250ZW50KGh0bWxfYjMzNjZlYWU4YTJhNDMxOGI3M2M5ZjEyM2NkNDUzNjQpOwogICAgICAgIAoKICAgICAgICBtYXJrZXJfNGE5ZjQxMWZiOTA2NGRjNmJjMjYzODEyNjJlNmNkZWYuYmluZFBvcHVwKHBvcHVwX2ExNDk1ZTQ4ZjVmNDRhMmU4M2FkZTBkOTkyMWM2ZjFiKQogICAgICAgIDsKCiAgICAgICAgCiAgICAKICAgIAogICAgICAgICAgICB2YXIgbWFya2VyXzRmMWMyNGE0N2M0MTRkYWQ4ZjYyOTZiZDU1ZWUwOWZkID0gTC5tYXJrZXIoCiAgICAgICAgICAgICAgICBbNDAuNjk5NTIyNjY3MDAwMDQ2LCAtNzMuOTQyMzc4OTgzOTk5OTddLAogICAgICAgICAgICAgICAge30KICAgICAgICAgICAgKS5hZGRUbyhtYXJrZXJfY2x1c3Rlcl9kMjU3MzBiOGRlYWY0ZDdjODJmZGQwYmQ4NDc3MjJjZCk7CiAgICAgICAgCiAgICAKICAgICAgICB2YXIgcG9wdXBfYWE2ZTRmNmYxYzQ4NDNmYjg2NWIxYTM5ODQwZDc3ZDAgPSBMLnBvcHVwKHsibWF4V2lkdGgiOiAiMTAwJSJ9KTsKCiAgICAgICAgCiAgICAgICAgICAgIHZhciBodG1sXzU1YjJmYTcxNDYzYjRiOTZiYzUxMmRlZWQ5YzI2N2E4ID0gJChgPGRpdiBpZD0iaHRtbF81NWIyZmE3MTQ2M2I0Yjk2YmM1MTJkZWVkOWMyNjdhOCIgc3R5bGU9IndpZHRoOiAxMDAuMCU7IGhlaWdodDogMTAwLjAlOyI+V09PREhVTEwgTUVESUNBTCBBTkQgTUVOVEFMIEhFQUxUSCBDRU5URVI8L2Rpdj5gKVswXTsKICAgICAgICAgICAgcG9wdXBfYWE2ZTRmNmYxYzQ4NDNmYjg2NWIxYTM5ODQwZDc3ZDAuc2V0Q29udGVudChodG1sXzU1YjJmYTcxNDYzYjRiOTZiYzUxMmRlZWQ5YzI2N2E4KTsKICAgICAgICAKCiAgICAgICAgbWFya2VyXzRmMWMyNGE0N2M0MTRkYWQ4ZjYyOTZiZDU1ZWUwOWZkLmJpbmRQb3B1cChwb3B1cF9hYTZlNGY2ZjFjNDg0M2ZiODY1YjFhMzk4NDBkNzdkMCkKICAgICAgICA7CgogICAgICAgIAogICAgCiAgICAKICAgICAgICAgICAgdmFyIG1hcmtlcl8zYWUwNGU2MjRmOWE0MzEyOGQwOWEzNDkwZWEzMjc5MSA9IEwubWFya2VyKAogICAgICAgICAgICAgICAgWzQyLjk5NDAzOTQ4MzAwMDA1LCAtNzguNzMwMjM4MjkwOTk5OTZdLAogICAgICAgICAgICAgICAge30KICAgICAgICAgICAgKS5hZGRUbyhtYXJrZXJfY2x1c3Rlcl9kMjU3MzBiOGRlYWY0ZDdjODJmZGQwYmQ4NDc3MjJjZCk7CiAgICAgICAgCiAgICAKICAgICAgICB2YXIgcG9wdXBfZDQ5YjNkMzJmYjhkNDU1ZWFhMDE1ZTYyZTc1Y2UzYjYgPSBMLnBvcHVwKHsibWF4V2lkdGgiOiAiMTAwJSJ9KTsKCiAgICAgICAgCiAgICAgICAgICAgIHZhciBodG1sXzBkYzdmYWQ4ZmExYzRmYzhhNjFlNDJhNjdiNGVlMmJkID0gJChgPGRpdiBpZD0iaHRtbF8wZGM3ZmFkOGZhMWM0ZmM4YTYxZTQyYTY3YjRlZTJiZCIgc3R5bGU9IndpZHRoOiAxMDAuMCU7IGhlaWdodDogMTAwLjAlOyI+TUlMTEFSRCBGSUxMTU9SRSBTVUJVUkJBTiBIT1NQSVRBTDwvZGl2PmApWzBdOwogICAgICAgICAgICBwb3B1cF9kNDliM2QzMmZiOGQ0NTVlYWEwMTVlNjJlNzVjZTNiNi5zZXRDb250ZW50KGh0bWxfMGRjN2ZhZDhmYTFjNGZjOGE2MWU0MmE2N2I0ZWUyYmQpOwogICAgICAgIAoKICAgICAgICBtYXJrZXJfM2FlMDRlNjI0ZjlhNDMxMjhkMDlhMzQ5MGVhMzI3OTEuYmluZFBvcHVwKHBvcHVwX2Q0OWIzZDMyZmI4ZDQ1NWVhYTAxNWU2MmU3NWNlM2I2KQogICAgICAgIDsKCiAgICAgICAgCiAgICAKICAgIAogICAgICAgICAgICB2YXIgbWFya2VyX2NkZWJkYWJjN2I4MDRmODg4OTUzY2I0MDk3YjRlODM0ID0gTC5tYXJrZXIoCiAgICAgICAgICAgICAgICBbNDIuNjc0MTgzMzY1MDAwMDI2LCAtNzMuNzQ4Njc0OTk4OTk5OTVdLAogICAgICAgICAgICAgICAge30KICAgICAgICAgICAgKS5hZGRUbyhtYXJrZXJfY2x1c3Rlcl9kMjU3MzBiOGRlYWY0ZDdjODJmZGQwYmQ4NDc3MjJjZCk7CiAgICAgICAgCiAgICAKICAgICAgICB2YXIgcG9wdXBfN2EwMmY3ZDMzYjI5NGVhYThmNWZkOTc2N2NmMjY1NGUgPSBMLnBvcHVwKHsibWF4V2lkdGgiOiAiMTAwJSJ9KTsKCiAgICAgICAgCiAgICAgICAgICAgIHZhciBodG1sX2RiNzc5MmFlMjdiZjRlOGM5NWZjZDZmYjNmNGEzOWJhID0gJChgPGRpdiBpZD0iaHRtbF9kYjc3OTJhZTI3YmY0ZThjOTVmY2Q2ZmIzZjRhMzliYSIgc3R5bGU9IndpZHRoOiAxMDAuMCU7IGhlaWdodDogMTAwLjAlOyI+QUxCQU5ZIE1FTU9SSUFMIEhPU1BJVEFMPC9kaXY+YClbMF07CiAgICAgICAgICAgIHBvcHVwXzdhMDJmN2QzM2IyOTRlYWE4ZjVmZDk3NjdjZjI2NTRlLnNldENvbnRlbnQoaHRtbF9kYjc3OTJhZTI3YmY0ZThjOTVmY2Q2ZmIzZjRhMzliYSk7CiAgICAgICAgCgogICAgICAgIG1hcmtlcl9jZGViZGFiYzdiODA0Zjg4ODk1M2NiNDA5N2I0ZTgzNC5iaW5kUG9wdXAocG9wdXBfN2EwMmY3ZDMzYjI5NGVhYThmNWZkOTc2N2NmMjY1NGUpCiAgICAgICAgOwoKICAgICAgICAKICAgIAogICAgCiAgICAgICAgICAgIHZhciBtYXJrZXJfOGY0NmI0ZjM4NDhjNGQ3MGE4OTk1OGUzNjJiY2RlNTMgPSBMLm1hcmtlcigKICAgICAgICAgICAgICAgIFs0MC42NTk0NDA0NTEwMDAwNywgLTczLjkzMzU0NTMwNzk5OTk4XSwKICAgICAgICAgICAgICAgIHt9CiAgICAgICAgICAgICkuYWRkVG8obWFya2VyX2NsdXN0ZXJfZDI1NzMwYjhkZWFmNGQ3YzgyZmRkMGJkODQ3NzIyY2QpOwogICAgICAgIAogICAgCiAgICAgICAgdmFyIHBvcHVwXzY4ZjYzZTAwYTdiNjRmMzg5ZDFhM2VmOTJiOGExNWZhID0gTC5wb3B1cCh7Im1heFdpZHRoIjogIjEwMCUifSk7CgogICAgICAgIAogICAgICAgICAgICB2YXIgaHRtbF9kZWZhYTkyMGNlMDI0MGI4YmZiYzA0OGY1ZjdjMjY2ZCA9ICQoYDxkaXYgaWQ9Imh0bWxfZGVmYWE5MjBjZTAyNDBiOGJmYmMwNDhmNWY3YzI2NmQiIHN0eWxlPSJ3aWR0aDogMTAwLjAlOyBoZWlnaHQ6IDEwMC4wJTsiPktJTkdTQlJPT0sgSkVXSVNIIE1FRElDQUwgQ0VOVEVSPC9kaXY+YClbMF07CiAgICAgICAgICAgIHBvcHVwXzY4ZjYzZTAwYTdiNjRmMzg5ZDFhM2VmOTJiOGExNWZhLnNldENvbnRlbnQoaHRtbF9kZWZhYTkyMGNlMDI0MGI4YmZiYzA0OGY1ZjdjMjY2ZCk7CiAgICAgICAgCgogICAgICAgIG1hcmtlcl84ZjQ2YjRmMzg0OGM0ZDcwYTg5OTU4ZTM2MmJjZGU1My5iaW5kUG9wdXAocG9wdXBfNjhmNjNlMDBhN2I2NGYzODlkMWEzZWY5MmI4YTE1ZmEpCiAgICAgICAgOwoKICAgICAgICAKICAgIAogICAgCiAgICAgICAgICAgIHZhciBtYXJrZXJfMmJmOTYzOTUyNjQyNGJiMmIxYmMzYTZlZDc5MGQ5MzIgPSBMLm1hcmtlcigKICAgICAgICAgICAgICAgIFs0MC43Mzc3Mzk5MTMwMDAwNCwgLTc0LjAwMDc0NDU2NTk5OTk4XSwKICAgICAgICAgICAgICAgIHt9CiAgICAgICAgICAgICkuYWRkVG8obWFya2VyX2NsdXN0ZXJfZDI1NzMwYjhkZWFmNGQ3YzgyZmRkMGJkODQ3NzIyY2QpOwogICAgICAgIAogICAgCiAgICAgICAgdmFyIHBvcHVwX2EzNmZjMjllZDIyZDRjZTJhMjc2MjY1Nzc0MzkzNGU0ID0gTC5wb3B1cCh7Im1heFdpZHRoIjogIjEwMCUifSk7CgogICAgICAgIAogICAgICAgICAgICB2YXIgaHRtbF82MGE1MjdmYWNhNjI0NjZkOGYxZmFmMjBlZjc1MGM1NSA9ICQoYDxkaXYgaWQ9Imh0bWxfNjBhNTI3ZmFjYTYyNDY2ZDhmMWZhZjIwZWY3NTBjNTUiIHN0eWxlPSJ3aWR0aDogMTAwLjAlOyBoZWlnaHQ6IDEwMC4wJTsiPkxFTk9YIEhJTEwgSEVBTFRIUExFWDwvZGl2PmApWzBdOwogICAgICAgICAgICBwb3B1cF9hMzZmYzI5ZWQyMmQ0Y2UyYTI3NjI2NTc3NDM5MzRlNC5zZXRDb250ZW50KGh0bWxfNjBhNTI3ZmFjYTYyNDY2ZDhmMWZhZjIwZWY3NTBjNTUpOwogICAgICAgIAoKICAgICAgICBtYXJrZXJfMmJmOTYzOTUyNjQyNGJiMmIxYmMzYTZlZDc5MGQ5MzIuYmluZFBvcHVwKHBvcHVwX2EzNmZjMjllZDIyZDRjZTJhMjc2MjY1Nzc0MzkzNGU0KQogICAgICAgIDsKCiAgICAgICAgCiAgICAKICAgIAogICAgICAgICAgICB2YXIgbWFya2VyXzUwMzBmMmNjZWE2MjQ1MmRhY2FlZWY4YzJlMmM5MDY0ID0gTC5tYXJrZXIoCiAgICAgICAgICAgICAgICBbNDAuNzU0MzQzMjc1MDAwMDQ2LCAtNzMuNzA4MTA2MzZdLAogICAgICAgICAgICAgICAge30KICAgICAgICAgICAgKS5hZGRUbyhtYXJrZXJfY2x1c3Rlcl9kMjU3MzBiOGRlYWY0ZDdjODJmZGQwYmQ4NDc3MjJjZCk7CiAgICAgICAgCiAgICAKICAgICAgICB2YXIgcG9wdXBfZWE4NWJjNTZhNTY3NDY2Y2IzZmM4OTY5ZmFiYjBmNWQgPSBMLnBvcHVwKHsibWF4V2lkdGgiOiAiMTAwJSJ9KTsKCiAgICAgICAgCiAgICAgICAgICAgIHZhciBodG1sX2NmZTYzNzZhNjJmNjRmYjc5MGE3ZTkxNWZhMTZkNTA2ID0gJChgPGRpdiBpZD0iaHRtbF9jZmU2Mzc2YTYyZjY0ZmI3OTBhN2U5MTVmYTE2ZDUwNiIgc3R5bGU9IndpZHRoOiAxMDAuMCU7IGhlaWdodDogMTAwLjAlOyI+TE9ORyBJU0xBTkQgSkVXSVNIIE1FRElDQUwgQ0VOVEVSPC9kaXY+YClbMF07CiAgICAgICAgICAgIHBvcHVwX2VhODViYzU2YTU2NzQ2NmNiM2ZjODk2OWZhYmIwZjVkLnNldENvbnRlbnQoaHRtbF9jZmU2Mzc2YTYyZjY0ZmI3OTBhN2U5MTVmYTE2ZDUwNik7CiAgICAgICAgCgogICAgICAgIG1hcmtlcl81MDMwZjJjY2VhNjI0NTJkYWNhZWVmOGMyZTJjOTA2NC5iaW5kUG9wdXAocG9wdXBfZWE4NWJjNTZhNTY3NDY2Y2IzZmM4OTY5ZmFiYjBmNWQpCiAgICAgICAgOwoKICAgICAgICAKICAgIAogICAgCiAgICAgICAgICAgIHZhciBtYXJrZXJfNGEwMmViMDhmNTE2NGRlZWJlYzIxMTM3MGUxZDhhNTMgPSBMLm1hcmtlcigKICAgICAgICAgICAgICAgIFs0MC45MTI4OTgzNTkwMDAwNDYsIC03My44NDA1NjIwMDI5OTk5M10sCiAgICAgICAgICAgICAgICB7fQogICAgICAgICAgICApLmFkZFRvKG1hcmtlcl9jbHVzdGVyX2QyNTczMGI4ZGVhZjRkN2M4MmZkZDBiZDg0NzcyMmNkKTsKICAgICAgICAKICAgIAogICAgICAgIHZhciBwb3B1cF8wYWJlOTZjYTcxZTM0ZGFmODFjNTYyMTg4YTdjODZjOCA9IEwucG9wdXAoeyJtYXhXaWR0aCI6ICIxMDAlIn0pOwoKICAgICAgICAKICAgICAgICAgICAgdmFyIGh0bWxfYWM5M2U0OGE0ZjYzNDFiNWI0MjFmMzEwNDAyYmI2MTUgPSAkKGA8ZGl2IGlkPSJodG1sX2FjOTNlNDhhNGY2MzQxYjViNDIxZjMxMDQwMmJiNjE1IiBzdHlsZT0id2lkdGg6IDEwMC4wJTsgaGVpZ2h0OiAxMDAuMCU7Ij5NT05URUZJT1JFIE1PVU5UIFZFUk5PTiBIT1NQSVRBTDwvZGl2PmApWzBdOwogICAgICAgICAgICBwb3B1cF8wYWJlOTZjYTcxZTM0ZGFmODFjNTYyMTg4YTdjODZjOC5zZXRDb250ZW50KGh0bWxfYWM5M2U0OGE0ZjYzNDFiNWI0MjFmMzEwNDAyYmI2MTUpOwogICAgICAgIAoKICAgICAgICBtYXJrZXJfNGEwMmViMDhmNTE2NGRlZWJlYzIxMTM3MGUxZDhhNTMuYmluZFBvcHVwKHBvcHVwXzBhYmU5NmNhNzFlMzRkYWY4MWM1NjIxODhhN2M4NmM4KQogICAgICAgIDsKCiAgICAgICAgCiAgICAKICAgIAogICAgICAgICAgICB2YXIgbWFya2VyX2MzOWRlOWY3MDNiOTQ1NjNiNWExZjM2YzEwOTFkODIwID0gTC5tYXJrZXIoCiAgICAgICAgICAgICAgICBbNDAuNzY4Mjk1MDYwMDAwMDgsIC03My45MjQ4ODQzMzk5OTk5NV0sCiAgICAgICAgICAgICAgICB7fQogICAgICAgICAgICApLmFkZFRvKG1hcmtlcl9jbHVzdGVyX2QyNTczMGI4ZGVhZjRkN2M4MmZkZDBiZDg0NzcyMmNkKTsKICAgICAgICAKICAgIAogICAgICAgIHZhciBwb3B1cF8zMzkxNWNmOWExNjQ0ZWNmYjU5NWIzMjE4Yzk2NGEyMCA9IEwucG9wdXAoeyJtYXhXaWR0aCI6ICIxMDAlIn0pOwoKICAgICAgICAKICAgICAgICAgICAgdmFyIGh0bWxfMDU2MTU4YzQ2N2UwNDNkMDllNTExOWNmNWI1ZGJiODAgPSAkKGA8ZGl2IGlkPSJodG1sXzA1NjE1OGM0NjdlMDQzZDA5ZTUxMTljZjViNWRiYjgwIiBzdHlsZT0id2lkdGg6IDEwMC4wJTsgaGVpZ2h0OiAxMDAuMCU7Ij5NT1VOVCBTSU5BSSBIT1NQSVRBTCAtIE1PVU5UIFNJTkFJIEhPU1BJVEFMIE9GIFFVRUVOUzwvZGl2PmApWzBdOwogICAgICAgICAgICBwb3B1cF8zMzkxNWNmOWExNjQ0ZWNmYjU5NWIzMjE4Yzk2NGEyMC5zZXRDb250ZW50KGh0bWxfMDU2MTU4YzQ2N2UwNDNkMDllNTExOWNmNWI1ZGJiODApOwogICAgICAgIAoKICAgICAgICBtYXJrZXJfYzM5ZGU5ZjcwM2I5NDU2M2I1YTFmMzZjMTA5MWQ4MjAuYmluZFBvcHVwKHBvcHVwXzMzOTE1Y2Y5YTE2NDRlY2ZiNTk1YjMyMThjOTY0YTIwKQogICAgICAgIDsKCiAgICAgICAgCiAgICAKICAgIAogICAgICAgICAgICB2YXIgbWFya2VyX2VmMGEzYmM5MjZmMzQwYzk4M2EzMWU3YmU0NDM1N2I4ID0gTC5tYXJrZXIoCiAgICAgICAgICAgICAgICBbNDMuMDk4NDM5MDM4MDAwMDMsIC03Ni4xMDczODk3ODc5OTk5OF0sCiAgICAgICAgICAgICAgICB7fQogICAgICAgICAgICApLmFkZFRvKG1hcmtlcl9jbHVzdGVyX2QyNTczMGI4ZGVhZjRkN2M4MmZkZDBiZDg0NzcyMmNkKTsKICAgICAgICAKICAgIAogICAgICAgIHZhciBwb3B1cF8xMGFkMThhNTBkY2E0MzMwYThmM2E3MmI2ZjkyNTkzNiA9IEwucG9wdXAoeyJtYXhXaWR0aCI6ICIxMDAlIn0pOwoKICAgICAgICAKICAgICAgICAgICAgdmFyIGh0bWxfNGM0MGY0YzVmNmE4NGNkM2IwNjNlNDQxMDVkZDM1MTIgPSAkKGA8ZGl2IGlkPSJodG1sXzRjNDBmNGM1ZjZhODRjZDNiMDYzZTQ0MTA1ZGQzNTEyIiBzdHlsZT0id2lkdGg6IDEwMC4wJTsgaGVpZ2h0OiAxMDAuMCU7Ij5DUk9VU0UgSE9TUElUQUwgLSBDT01NT05XRUFMVEggRElWSVNJT048L2Rpdj5gKVswXTsKICAgICAgICAgICAgcG9wdXBfMTBhZDE4YTUwZGNhNDMzMGE4ZjNhNzJiNmY5MjU5MzYuc2V0Q29udGVudChodG1sXzRjNDBmNGM1ZjZhODRjZDNiMDYzZTQ0MTA1ZGQzNTEyKTsKICAgICAgICAKCiAgICAgICAgbWFya2VyX2VmMGEzYmM5MjZmMzQwYzk4M2EzMWU3YmU0NDM1N2I4LmJpbmRQb3B1cChwb3B1cF8xMGFkMThhNTBkY2E0MzMwYThmM2E3MmI2ZjkyNTkzNikKICAgICAgICA7CgogICAgICAgIAogICAgCiAgICAKICAgICAgICAgICAgdmFyIG1hcmtlcl8xMWY5OTZkOWM3Mzc0OWVjODgyN2I2MzM0ZjE0MzE1MiA9IEwubWFya2VyKAogICAgICAgICAgICAgICAgWzQzLjA3NzcwNjAxNDAwMDA0LCAtNzUuNjU0NDkwMDY5OTk5OTVdLAogICAgICAgICAgICAgICAge30KICAgICAgICAgICAgKS5hZGRUbyhtYXJrZXJfY2x1c3Rlcl9kMjU3MzBiOGRlYWY0ZDdjODJmZGQwYmQ4NDc3MjJjZCk7CiAgICAgICAgCiAgICAKICAgICAgICB2YXIgcG9wdXBfZWJmMzYxNDVjZGFlNDc0ZTg5Y2UxZmNlMTBkODRmZTIgPSBMLnBvcHVwKHsibWF4V2lkdGgiOiAiMTAwJSJ9KTsKCiAgICAgICAgCiAgICAgICAgICAgIHZhciBodG1sX2UwYmVmMjQ2ZDYyYTQwZDlhYjg2MThiM2FmOTM3NDc5ID0gJChgPGRpdiBpZD0iaHRtbF9lMGJlZjI0NmQ2MmE0MGQ5YWI4NjE4YjNhZjkzNzQ3OSIgc3R5bGU9IndpZHRoOiAxMDAuMCU7IGhlaWdodDogMTAwLjAlOyI+T05FSURBIEhFQUxUSENBUkU8L2Rpdj5gKVswXTsKICAgICAgICAgICAgcG9wdXBfZWJmMzYxNDVjZGFlNDc0ZTg5Y2UxZmNlMTBkODRmZTIuc2V0Q29udGVudChodG1sX2UwYmVmMjQ2ZDYyYTQwZDlhYjg2MThiM2FmOTM3NDc5KTsKICAgICAgICAKCiAgICAgICAgbWFya2VyXzExZjk5NmQ5YzczNzQ5ZWM4ODI3YjYzMzRmMTQzMTUyLmJpbmRQb3B1cChwb3B1cF9lYmYzNjE0NWNkYWU0NzRlODljZTFmY2UxMGQ4NGZlMikKICAgICAgICA7CgogICAgICAgIAogICAgCiAgICAKICAgICAgICAgICAgdmFyIG1hcmtlcl8zYzQ0N2JlZDMyMGM0ZTE0OTJmM2Y3YjIyMzExNWUxOSA9IEwubWFya2VyKAogICAgICAgICAgICAgICAgWzQwLjkzOTA2NzQwMjAwMDA0LCAtNzMuMDU0Mzk4NTA1OTk5OThdLAogICAgICAgICAgICAgICAge30KICAgICAgICAgICAgKS5hZGRUbyhtYXJrZXJfY2x1c3Rlcl9kMjU3MzBiOGRlYWY0ZDdjODJmZGQwYmQ4NDc3MjJjZCk7CiAgICAgICAgCiAgICAKICAgICAgICB2YXIgcG9wdXBfOTEzOTE0MWMyNDYyNGJiYWI3ZGRjMTU3MWZkMDFhOWIgPSBMLnBvcHVwKHsibWF4V2lkdGgiOiAiMTAwJSJ9KTsKCiAgICAgICAgCiAgICAgICAgICAgIHZhciBodG1sXzYzODQ2ZThlNTU1ZTQzNWM5NjFlY2M0MjQ1ZTFlMjBhID0gJChgPGRpdiBpZD0iaHRtbF82Mzg0NmU4ZTU1NWU0MzVjOTYxZWNjNDI0NWUxZTIwYSIgc3R5bGU9IndpZHRoOiAxMDAuMCU7IGhlaWdodDogMTAwLjAlOyI+Sk9ITiBUIE1BVEhFUiBNRU1PUklBTCBIT1NQSVRBTCBPRiBQT1JUIEpFRkZFUlNPTiBORVcgWU9SSyBJTkM8L2Rpdj5gKVswXTsKICAgICAgICAgICAgcG9wdXBfOTEzOTE0MWMyNDYyNGJiYWI3ZGRjMTU3MWZkMDFhOWIuc2V0Q29udGVudChodG1sXzYzODQ2ZThlNTU1ZTQzNWM5NjFlY2M0MjQ1ZTFlMjBhKTsKICAgICAgICAKCiAgICAgICAgbWFya2VyXzNjNDQ3YmVkMzIwYzRlMTQ5MmYzZjdiMjIzMTE1ZTE5LmJpbmRQb3B1cChwb3B1cF85MTM5MTQxYzI0NjI0YmJhYjdkZGMxNTcxZmQwMWE5YikKICAgICAgICA7CgogICAgICAgIAogICAgCiAgICAKICAgICAgICAgICAgdmFyIG1hcmtlcl85MmQxNmEzN2E4NDY0NzUxODUwNzg5Mzc2NTU0NmQxYiA9IEwubWFya2VyKAogICAgICAgICAgICAgICAgWzQyLjY5OTYyNzU1MTAwMDA1LCAtNzMuOTA1MjI0NjA1OTk5OTNdLAogICAgICAgICAgICAgICAge30KICAgICAgICAgICAgKS5hZGRUbyhtYXJrZXJfY2x1c3Rlcl9kMjU3MzBiOGRlYWY0ZDdjODJmZGQwYmQ4NDc3MjJjZCk7CiAgICAgICAgCiAgICAKICAgICAgICB2YXIgcG9wdXBfMDUyNzE4YTJmN2M2NDc1MTg0MWFlZDY2MWNlOWE5OWYgPSBMLnBvcHVwKHsibWF4V2lkdGgiOiAiMTAwJSJ9KTsKCiAgICAgICAgCiAgICAgICAgICAgIHZhciBodG1sX2NiOGM1MjNkODcyNjQ5OWU5NGU0NmEwOTY2NWZlZGRjID0gJChgPGRpdiBpZD0iaHRtbF9jYjhjNTIzZDg3MjY0OTllOTRlNDZhMDk2NjVmZWRkYyIgc3R5bGU9IndpZHRoOiAxMDAuMCU7IGhlaWdodDogMTAwLjAlOyI+U1QuIFBFVEVSJ1MgQURESUNUSU9OIFJFQ09WRVJZIENFTlRFUjwvZGl2PmApWzBdOwogICAgICAgICAgICBwb3B1cF8wNTI3MThhMmY3YzY0NzUxODQxYWVkNjYxY2U5YTk5Zi5zZXRDb250ZW50KGh0bWxfY2I4YzUyM2Q4NzI2NDk5ZTk0ZTQ2YTA5NjY1ZmVkZGMpOwogICAgICAgIAoKICAgICAgICBtYXJrZXJfOTJkMTZhMzdhODQ2NDc1MTg1MDc4OTM3NjU1NDZkMWIuYmluZFBvcHVwKHBvcHVwXzA1MjcxOGEyZjdjNjQ3NTE4NDFhZWQ2NjFjZTlhOTlmKQogICAgICAgIDsKCiAgICAgICAgCiAgICAKICAgIAogICAgICAgICAgICB2YXIgbWFya2VyX2JlNTc5OTJiMDY2NjRlNGFhNTRlZDVkZDdkNGU5OTZiID0gTC5tYXJrZXIoCiAgICAgICAgICAgICAgICBbNDMuMTkyOTE4Mzg0MDAwMDQ1LCAtNzcuNzA1MTUwOTA1XSwKICAgICAgICAgICAgICAgIHt9CiAgICAgICAgICAgICkuYWRkVG8obWFya2VyX2NsdXN0ZXJfZDI1NzMwYjhkZWFmNGQ3YzgyZmRkMGJkODQ3NzIyY2QpOwogICAgICAgIAogICAgCiAgICAgICAgdmFyIHBvcHVwXzFiYWQxNTEyMGE3OTQ5MjBhOTkzYTQ1ZDI3NmEzNTI0ID0gTC5wb3B1cCh7Im1heFdpZHRoIjogIjEwMCUifSk7CgogICAgICAgIAogICAgICAgICAgICB2YXIgaHRtbF9iNzcwNGFiOTU5MTg0YjFiYjYxYmNjYzViYTM3NTcyYyA9ICQoYDxkaXYgaWQ9Imh0bWxfYjc3MDRhYjk1OTE4NGIxYmI2MWJjY2M1YmEzNzU3MmMiIHN0eWxlPSJ3aWR0aDogMTAwLjAlOyBoZWlnaHQ6IDEwMC4wJTsiPlRIRSBVTklUWSBIT1NQSVRBTCBPRiBST0NIRVNURVI8L2Rpdj5gKVswXTsKICAgICAgICAgICAgcG9wdXBfMWJhZDE1MTIwYTc5NDkyMGE5OTNhNDVkMjc2YTM1MjQuc2V0Q29udGVudChodG1sX2I3NzA0YWI5NTkxODRiMWJiNjFiY2NjNWJhMzc1NzJjKTsKICAgICAgICAKCiAgICAgICAgbWFya2VyX2JlNTc5OTJiMDY2NjRlNGFhNTRlZDVkZDdkNGU5OTZiLmJpbmRQb3B1cChwb3B1cF8xYmFkMTUxMjBhNzk0OTIwYTk5M2E0NWQyNzZhMzUyNCkKICAgICAgICA7CgogICAgICAgIAogICAgCiAgICAKICAgICAgICAgICAgdmFyIG1hcmtlcl9kOTc0ZGMyMGYwN2M0MzRlYmQzN2FiNDZmMDJhZGVkOSA9IEwubWFya2VyKAogICAgICAgICAgICAgICAgWzQzLjE0ODY5NTI4NDAwMDAzLCAtNzcuNjM3MDk5NzQ1OTk5OTZdLAogICAgICAgICAgICAgICAge30KICAgICAgICAgICAgKS5hZGRUbyhtYXJrZXJfY2x1c3Rlcl9kMjU3MzBiOGRlYWY0ZDdjODJmZGQwYmQ4NDc3MjJjZCk7CiAgICAgICAgCiAgICAKICAgICAgICB2YXIgcG9wdXBfMjk0YzYwN2Q4ZGVmNDgyNjg0ZGZjZjk5NDE0NmZhZTkgPSBMLnBvcHVwKHsibWF4V2lkdGgiOiAiMTAwJSJ9KTsKCiAgICAgICAgCiAgICAgICAgICAgIHZhciBodG1sXzExNWFlMDI3YTk0NTRjZjA5MjE4MGY4OTcxOWVhYTY2ID0gJChgPGRpdiBpZD0iaHRtbF8xMTVhZTAyN2E5NDU0Y2YwOTIxODBmODk3MTllYWE2NiIgc3R5bGU9IndpZHRoOiAxMDAuMCU7IGhlaWdodDogMTAwLjAlOyI+VEhFIFVOSVRZIEhPU1BJVEFMIE9GIFJPQ0hFU1RFUi1TVCBNQVJZUyBDQU1QVVM8L2Rpdj5gKVswXTsKICAgICAgICAgICAgcG9wdXBfMjk0YzYwN2Q4ZGVmNDgyNjg0ZGZjZjk5NDE0NmZhZTkuc2V0Q29udGVudChodG1sXzExNWFlMDI3YTk0NTRjZjA5MjE4MGY4OTcxOWVhYTY2KTsKICAgICAgICAKCiAgICAgICAgbWFya2VyX2Q5NzRkYzIwZjA3YzQzNGViZDM3YWI0NmYwMmFkZWQ5LmJpbmRQb3B1cChwb3B1cF8yOTRjNjA3ZDhkZWY0ODI2ODRkZmNmOTk0MTQ2ZmFlOSkKICAgICAgICA7CgogICAgICAgIAogICAgCiAgICAKICAgICAgICAgICAgdmFyIG1hcmtlcl9lNGY4NGQ2ZWE2Y2M0MmFjODcyY2E0N2RkMDIyYzNhYSA9IEwubWFya2VyKAogICAgICAgICAgICAgICAgWzQwLjg0OTg4OTIwNTAwMDA3NSwgLTczLjg0NTg5MDIxODk5OTk1XSwKICAgICAgICAgICAgICAgIHt9CiAgICAgICAgICAgICkuYWRkVG8obWFya2VyX2NsdXN0ZXJfZDI1NzMwYjhkZWFmNGQ3YzgyZmRkMGJkODQ3NzIyY2QpOwogICAgICAgIAogICAgCiAgICAgICAgdmFyIHBvcHVwXzYxNDk5MjA3NjUxMTQ4YjdhMjZjYmE3ZWY2NjVlYjQzID0gTC5wb3B1cCh7Im1heFdpZHRoIjogIjEwMCUifSk7CgogICAgICAgIAogICAgICAgICAgICB2YXIgaHRtbF9lYWQ4YWVhOWM4ZWM0MzBhOGY2Y2YzNDM0NzFmNGY3MSA9ICQoYDxkaXYgaWQ9Imh0bWxfZWFkOGFlYTljOGVjNDMwYThmNmNmMzQzNDcxZjRmNzEiIHN0eWxlPSJ3aWR0aDogMTAwLjAlOyBoZWlnaHQ6IDEwMC4wJTsiPk1PTlRFRklPUkUgTUVEIENFTlRFUiAtIEpBQ0sgRCBXRUlMRVIgSE9TUCBPRiBBIEVJTlNURUlOIENPTExFR0UgRElWPC9kaXY+YClbMF07CiAgICAgICAgICAgIHBvcHVwXzYxNDk5MjA3NjUxMTQ4YjdhMjZjYmE3ZWY2NjVlYjQzLnNldENvbnRlbnQoaHRtbF9lYWQ4YWVhOWM4ZWM0MzBhOGY2Y2YzNDM0NzFmNGY3MSk7CiAgICAgICAgCgogICAgICAgIG1hcmtlcl9lNGY4NGQ2ZWE2Y2M0MmFjODcyY2E0N2RkMDIyYzNhYS5iaW5kUG9wdXAocG9wdXBfNjE0OTkyMDc2NTExNDhiN2EyNmNiYTdlZjY2NWViNDMpCiAgICAgICAgOwoKICAgICAgICAKICAgIAogICAgCiAgICAgICAgICAgIHZhciBtYXJrZXJfOWYxNDBiODAwYmVjNGFmYzgzMDQ1MmVlMzBmMzNlYzYgPSBMLm1hcmtlcigKICAgICAgICAgICAgICAgIFs0Mi4zMDQxNTQ2OTkwMDAwMywgLTc1LjM5NTQ2OTAyMjk5OTk4XSwKICAgICAgICAgICAgICAgIHt9CiAgICAgICAgICAgICkuYWRkVG8obWFya2VyX2NsdXN0ZXJfZDI1NzMwYjhkZWFmNGQ3YzgyZmRkMGJkODQ3NzIyY2QpOwogICAgICAgIAogICAgCiAgICAgICAgdmFyIHBvcHVwX2Q2MjA5OTAyZWFmOTRiYTFhYTgwM2VmYzNjNThjNWQ4ID0gTC5wb3B1cCh7Im1heFdpZHRoIjogIjEwMCUifSk7CgogICAgICAgIAogICAgICAgICAgICB2YXIgaHRtbF81NTM0YzMzMTgzNWM0YmIyODk0OTY2NzQ4ZTFlM2E1ZiA9ICQoYDxkaXYgaWQ9Imh0bWxfNTUzNGMzMzE4MzVjNGJiMjg5NDk2Njc0OGUxZTNhNWYiIHN0eWxlPSJ3aWR0aDogMTAwLjAlOyBoZWlnaHQ6IDEwMC4wJTsiPlRSSSBUT1dOIFJFR0lPTkFMIEhFQUxUSENBUkU8L2Rpdj5gKVswXTsKICAgICAgICAgICAgcG9wdXBfZDYyMDk5MDJlYWY5NGJhMWFhODAzZWZjM2M1OGM1ZDguc2V0Q29udGVudChodG1sXzU1MzRjMzMxODM1YzRiYjI4OTQ5NjY3NDhlMWUzYTVmKTsKICAgICAgICAKCiAgICAgICAgbWFya2VyXzlmMTQwYjgwMGJlYzRhZmM4MzA0NTJlZTMwZjMzZWM2LmJpbmRQb3B1cChwb3B1cF9kNjIwOTkwMmVhZjk0YmExYWE4MDNlZmMzYzU4YzVkOCkKICAgICAgICA7CgogICAgICAgIAogICAgCiAgICAKICAgICAgICAgICAgdmFyIG1hcmtlcl85MTQ2YzBhNDE0MGU0ZmRlOGU2M2VkY2Q3ODVkZDAxNCA9IEwubWFya2VyKAogICAgICAgICAgICAgICAgWzQzLjAwNTA2MDg3MTAwMDA2LCAtNzguMTc2NjMxODU2OTk5OThdLAogICAgICAgICAgICAgICAge30KICAgICAgICAgICAgKS5hZGRUbyhtYXJrZXJfY2x1c3Rlcl9kMjU3MzBiOGRlYWY0ZDdjODJmZGQwYmQ4NDc3MjJjZCk7CiAgICAgICAgCiAgICAKICAgICAgICB2YXIgcG9wdXBfZTgwYmZlMDk2MzRiNDljMjk3MzY5NWUzMjFkYWJhZmIgPSBMLnBvcHVwKHsibWF4V2lkdGgiOiAiMTAwJSJ9KTsKCiAgICAgICAgCiAgICAgICAgICAgIHZhciBodG1sXzI0ODhhMGRiNzRjZDRhM2Y4ZmI0YmUxNTJhMDRkNDJlID0gJChgPGRpdiBpZD0iaHRtbF8yNDg4YTBkYjc0Y2Q0YTNmOGZiNGJlMTUyYTA0ZDQyZSIgc3R5bGU9IndpZHRoOiAxMDAuMCU7IGhlaWdodDogMTAwLjAlOyI+VU5JVEVEIE1FTU9SSUFMIE1FRElDQUwgQ0VOVEVSIE5PUlRIIFNUUkVFVCBDQU1QVVM8L2Rpdj5gKVswXTsKICAgICAgICAgICAgcG9wdXBfZTgwYmZlMDk2MzRiNDljMjk3MzY5NWUzMjFkYWJhZmIuc2V0Q29udGVudChodG1sXzI0ODhhMGRiNzRjZDRhM2Y4ZmI0YmUxNTJhMDRkNDJlKTsKICAgICAgICAKCiAgICAgICAgbWFya2VyXzkxNDZjMGE0MTQwZTRmZGU4ZTYzZWRjZDc4NWRkMDE0LmJpbmRQb3B1cChwb3B1cF9lODBiZmUwOTYzNGI0OWMyOTczNjk1ZTMyMWRhYmFmYikKICAgICAgICA7CgogICAgICAgIAogICAgCiAgICAKICAgICAgICAgICAgdmFyIG1hcmtlcl8xZTVmODI1Nzg5OTY0MzUyOGUxYzE1NjA1ZWEyYWQ5OCA9IEwubWFya2VyKAogICAgICAgICAgICAgICAgWzQwLjY1NDg0MTg3OTAwMDA0NSwgLTczLjk0NDIyNzg1Mzk5OTk2XSwKICAgICAgICAgICAgICAgIHt9CiAgICAgICAgICAgICkuYWRkVG8obWFya2VyX2NsdXN0ZXJfZDI1NzMwYjhkZWFmNGQ3YzgyZmRkMGJkODQ3NzIyY2QpOwogICAgICAgIAogICAgCiAgICAgICAgdmFyIHBvcHVwX2FiN2EzYjZiZGY5YzQwMDRhNmJkYTFjYzNlM2QzODI1ID0gTC5wb3B1cCh7Im1heFdpZHRoIjogIjEwMCUifSk7CgogICAgICAgIAogICAgICAgICAgICB2YXIgaHRtbF9kYjBlMjIwMGU2ZTg0YWUzOThjYWVkN2EwZjE5N2I0NyA9ICQoYDxkaXYgaWQ9Imh0bWxfZGIwZTIyMDBlNmU4NGFlMzk4Y2FlZDdhMGYxOTdiNDciIHN0eWxlPSJ3aWR0aDogMTAwLjAlOyBoZWlnaHQ6IDEwMC4wJTsiPlVOSVZFUlNJVFkgSE9TUElUQUwgT0YgQlJPT0tMWU48L2Rpdj5gKVswXTsKICAgICAgICAgICAgcG9wdXBfYWI3YTNiNmJkZjljNDAwNGE2YmRhMWNjM2UzZDM4MjUuc2V0Q29udGVudChodG1sX2RiMGUyMjAwZTZlODRhZTM5OGNhZWQ3YTBmMTk3YjQ3KTsKICAgICAgICAKCiAgICAgICAgbWFya2VyXzFlNWY4MjU3ODk5NjQzNTI4ZTFjMTU2MDVlYTJhZDk4LmJpbmRQb3B1cChwb3B1cF9hYjdhM2I2YmRmOWM0MDA0YTZiZGExY2MzZTNkMzgyNSkKICAgICAgICA7CgogICAgICAgIAogICAgCiAgICAKICAgICAgICAgICAgdmFyIG1hcmtlcl9hM2E5YTBjZDBiODY0NjQ0YWY4NWQzYzM3ZWYxNDIxYSA9IEwubWFya2VyKAogICAgICAgICAgICAgICAgWzQwLjc0MjA0NjkwNDAwMDA1NSwgLTczLjk3MzkyOTMzMzk5OTkzXSwKICAgICAgICAgICAgICAgIHt9CiAgICAgICAgICAgICkuYWRkVG8obWFya2VyX2NsdXN0ZXJfZDI1NzMwYjhkZWFmNGQ3YzgyZmRkMGJkODQ3NzIyY2QpOwogICAgICAgIAogICAgCiAgICAgICAgdmFyIHBvcHVwXzQxZDRhM2NjODBlNTQ4MmRhZDg5MTQ5MjFmZWI0OWQzID0gTC5wb3B1cCh7Im1heFdpZHRoIjogIjEwMCUifSk7CgogICAgICAgIAogICAgICAgICAgICB2YXIgaHRtbF9mZmIzYmRhMDYwOTM0ZjYxOTdlZmE4NmVlZWI0YjU2ZSA9ICQoYDxkaXYgaWQ9Imh0bWxfZmZiM2JkYTA2MDkzNGY2MTk3ZWZhODZlZWViNGI1NmUiIHN0eWxlPSJ3aWR0aDogMTAwLjAlOyBoZWlnaHQ6IDEwMC4wJTsiPk5ZVSBIT1NQSVRBTFMgQ0VOVEVSPC9kaXY+YClbMF07CiAgICAgICAgICAgIHBvcHVwXzQxZDRhM2NjODBlNTQ4MmRhZDg5MTQ5MjFmZWI0OWQzLnNldENvbnRlbnQoaHRtbF9mZmIzYmRhMDYwOTM0ZjYxOTdlZmE4NmVlZWI0YjU2ZSk7CiAgICAgICAgCgogICAgICAgIG1hcmtlcl9hM2E5YTBjZDBiODY0NjQ0YWY4NWQzYzM3ZWYxNDIxYS5iaW5kUG9wdXAocG9wdXBfNDFkNGEzY2M4MGU1NDgyZGFkODkxNDkyMWZlYjQ5ZDMpCiAgICAgICAgOwoKICAgICAgICAKICAgIAogICAgCiAgICAgICAgICAgIHZhciBtYXJrZXJfZDNmNjExN2NkMzYyNGY0MWEwYzc1OGNkODJmZTc2MTEgPSBMLm1hcmtlcigKICAgICAgICAgICAgICAgIFs0MC45Njg5MTM1MzQwMDAwNywgLTczLjg4NjE0NjkyNDk5OTkzXSwKICAgICAgICAgICAgICAgIHt9CiAgICAgICAgICAgICkuYWRkVG8obWFya2VyX2NsdXN0ZXJfZDI1NzMwYjhkZWFmNGQ3YzgyZmRkMGJkODQ3NzIyY2QpOwogICAgICAgIAogICAgCiAgICAgICAgdmFyIHBvcHVwXzVmYzA1ZWFiZmE1ODRjMzhiNDVlMjE0ZTZiYjE2ZWJhID0gTC5wb3B1cCh7Im1heFdpZHRoIjogIjEwMCUifSk7CgogICAgICAgIAogICAgICAgICAgICB2YXIgaHRtbF84NTJkZDgxMmMxN2E0NThlOTZlNTMwMDhhM2I5NmRlMCA9ICQoYDxkaXYgaWQ9Imh0bWxfODUyZGQ4MTJjMTdhNDU4ZTk2ZTUzMDA4YTNiOTZkZTAiIHN0eWxlPSJ3aWR0aDogMTAwLjAlOyBoZWlnaHQ6IDEwMC4wJTsiPlNKUkggLSBTVCBKT0hOUyBESVZJU0lPTjwvZGl2PmApWzBdOwogICAgICAgICAgICBwb3B1cF81ZmMwNWVhYmZhNTg0YzM4YjQ1ZTIxNGU2YmIxNmViYS5zZXRDb250ZW50KGh0bWxfODUyZGQ4MTJjMTdhNDU4ZTk2ZTUzMDA4YTNiOTZkZTApOwogICAgICAgIAoKICAgICAgICBtYXJrZXJfZDNmNjExN2NkMzYyNGY0MWEwYzc1OGNkODJmZTc2MTEuYmluZFBvcHVwKHBvcHVwXzVmYzA1ZWFiZmE1ODRjMzhiNDVlMjE0ZTZiYjE2ZWJhKQogICAgICAgIDsKCiAgICAgICAgCiAgICAKICAgIAogICAgICAgICAgICB2YXIgbWFya2VyXzFmOWZlMWNkNTA0OTRlYmRhYzcwNGE4MDc3YjU0NmYwID0gTC5tYXJrZXIoCiAgICAgICAgICAgICAgICBbNDAuOTI5MjU2MDIwMDAwMDEsIC03My44OTc2OTQ2NzY5OTk5NV0sCiAgICAgICAgICAgICAgICB7fQogICAgICAgICAgICApLmFkZFRvKG1hcmtlcl9jbHVzdGVyX2QyNTczMGI4ZGVhZjRkN2M4MmZkZDBiZDg0NzcyMmNkKTsKICAgICAgICAKICAgIAogICAgICAgIHZhciBwb3B1cF83NGIxZmQ2Zjc1NGM0MjAwOTkyNGMwNTIyYWIyNmZkMyA9IEwucG9wdXAoeyJtYXhXaWR0aCI6ICIxMDAlIn0pOwoKICAgICAgICAKICAgICAgICAgICAgdmFyIGh0bWxfODFhMDUwMzJmMWQ3NDk0NjkyYmYyMDI2ODI4MDc5NzkgPSAkKGA8ZGl2IGlkPSJodG1sXzgxYTA1MDMyZjFkNzQ5NDY5MmJmMjAyNjgyODA3OTc5IiBzdHlsZT0id2lkdGg6IDEwMC4wJTsgaGVpZ2h0OiAxMDAuMCU7Ij5TVCBKT1NFUEgnUyBNRURJQ0FMIENFTlRFUjwvZGl2PmApWzBdOwogICAgICAgICAgICBwb3B1cF83NGIxZmQ2Zjc1NGM0MjAwOTkyNGMwNTIyYWIyNmZkMy5zZXRDb250ZW50KGh0bWxfODFhMDUwMzJmMWQ3NDk0NjkyYmYyMDI2ODI4MDc5NzkpOwogICAgICAgIAoKICAgICAgICBtYXJrZXJfMWY5ZmUxY2Q1MDQ5NGViZGFjNzA0YTgwNzdiNTQ2ZjAuYmluZFBvcHVwKHBvcHVwXzc0YjFmZDZmNzU0YzQyMDA5OTI0YzA1MjJhYjI2ZmQzKQogICAgICAgIDsKCiAgICAgICAgCiAgICAKICAgIAogICAgICAgICAgICB2YXIgbWFya2VyXzY0N2ZjYmUyNmJlNDRkZjc4OGRiM2RmMGZlZmQyN2IzID0gTC5tYXJrZXIoCiAgICAgICAgICAgICAgICBbNDAuNjAzMDY0MDI5MDAwMDUsIC03NC4wOTE4MjAyNDY5OTk5OV0sCiAgICAgICAgICAgICAgICB7fQogICAgICAgICAgICApLmFkZFRvKG1hcmtlcl9jbHVzdGVyX2QyNTczMGI4ZGVhZjRkN2M4MmZkZDBiZDg0NzcyMmNkKTsKICAgICAgICAKICAgIAogICAgICAgIHZhciBwb3B1cF9hZjhhZDZlMzNlOGQ0ZmViYjJhZDFlNzA0OThkNjRiZiA9IEwucG9wdXAoeyJtYXhXaWR0aCI6ICIxMDAlIn0pOwoKICAgICAgICAKICAgICAgICAgICAgdmFyIGh0bWxfNDVjOTg0Yzg4Y2RmNGZjM2E1YjYzOWQ5OWQzNjM4YzAgPSAkKGA8ZGl2IGlkPSJodG1sXzQ1Yzk4NGM4OGNkZjRmYzNhNWI2MzlkOTlkMzYzOGMwIiBzdHlsZT0id2lkdGg6IDEwMC4wJTsgaGVpZ2h0OiAxMDAuMCU7Ij5TVEFURU4gSVNMQU5EIFVOSVYgSE9TUC1DT05DT1JEIERJVjwvZGl2PmApWzBdOwogICAgICAgICAgICBwb3B1cF9hZjhhZDZlMzNlOGQ0ZmViYjJhZDFlNzA0OThkNjRiZi5zZXRDb250ZW50KGh0bWxfNDVjOTg0Yzg4Y2RmNGZjM2E1YjYzOWQ5OWQzNjM4YzApOwogICAgICAgIAoKICAgICAgICBtYXJrZXJfNjQ3ZmNiZTI2YmU0NGRmNzg4ZGIzZGYwZmVmZDI3YjMuYmluZFBvcHVwKHBvcHVwX2FmOGFkNmUzM2U4ZDRmZWJiMmFkMWU3MDQ5OGQ2NGJmKQogICAgICAgIDsKCiAgICAgICAgCiAgICAKICAgIAogICAgICAgICAgICB2YXIgbWFya2VyXzE3MjFlMjgxNTA4YjQ1MjBhYzgwNTljMmZlYjEwODVlID0gTC5tYXJrZXIoCiAgICAgICAgICAgICAgICBbNDAuNzMzMTA0ODA2MDAwMDIsIC03My45ODE3NzA3Nzk5OTk5OF0sCiAgICAgICAgICAgICAgICB7fQogICAgICAgICAgICApLmFkZFRvKG1hcmtlcl9jbHVzdGVyX2QyNTczMGI4ZGVhZjRkN2M4MmZkZDBiZDg0NzcyMmNkKTsKICAgICAgICAKICAgIAogICAgICAgIHZhciBwb3B1cF9mZjkwMzZmMWY1ZGI0ZWVjOTA2MDE2MmY3NDZhNzhiMiA9IEwucG9wdXAoeyJtYXhXaWR0aCI6ICIxMDAlIn0pOwoKICAgICAgICAKICAgICAgICAgICAgdmFyIGh0bWxfODRjYjU2N2ZiZTVmNDZjNWExYjc0NTM0NDgyNzdjN2IgPSAkKGA8ZGl2IGlkPSJodG1sXzg0Y2I1NjdmYmU1ZjQ2YzVhMWI3NDUzNDQ4Mjc3YzdiIiBzdHlsZT0id2lkdGg6IDEwMC4wJTsgaGVpZ2h0OiAxMDAuMCU7Ij5NT1VOVCBTSU5BSSBCRVRIIElTUkFFTDwvZGl2PmApWzBdOwogICAgICAgICAgICBwb3B1cF9mZjkwMzZmMWY1ZGI0ZWVjOTA2MDE2MmY3NDZhNzhiMi5zZXRDb250ZW50KGh0bWxfODRjYjU2N2ZiZTVmNDZjNWExYjc0NTM0NDgyNzdjN2IpOwogICAgICAgIAoKICAgICAgICBtYXJrZXJfMTcyMWUyODE1MDhiNDUyMGFjODA1OWMyZmViMTA4NWUuYmluZFBvcHVwKHBvcHVwX2ZmOTAzNmYxZjVkYjRlZWM5MDYwMTYyZjc0NmE3OGIyKQogICAgICAgIDsKCiAgICAgICAgCiAgICAKICAgIAogICAgICAgICAgICB2YXIgbWFya2VyX2Q1N2E0ZTUzOTYyMzRjNjRhMGIyMTM2ODM5ZGMxMzk5ID0gTC5tYXJrZXIoCiAgICAgICAgICAgICAgICBbNDIuNTU4NDg4NjE1MDAwMDQ0LCAtNzkuMTI1ODM4NzQ3XSwKICAgICAgICAgICAgICAgIHt9CiAgICAgICAgICAgICkuYWRkVG8obWFya2VyX2NsdXN0ZXJfZDI1NzMwYjhkZWFmNGQ3YzgyZmRkMGJkODQ3NzIyY2QpOwogICAgICAgIAogICAgCiAgICAgICAgdmFyIHBvcHVwXzQ2NTM2NTY5NzY3ZTQwMTI4NjIzZTY0MTAxYzEyMGY2ID0gTC5wb3B1cCh7Im1heFdpZHRoIjogIjEwMCUifSk7CgogICAgICAgIAogICAgICAgICAgICB2YXIgaHRtbF83NmM1NzdkNDBmNGE0ZTk0YTc4ZjgwMzAwZTlhZjgzZiA9ICQoYDxkaXYgaWQ9Imh0bWxfNzZjNTc3ZDQwZjRhNGU5NGE3OGY4MDMwMGU5YWY4M2YiIHN0eWxlPSJ3aWR0aDogMTAwLjAlOyBoZWlnaHQ6IDEwMC4wJTsiPlRMQyBIRUFMVEggTkVUV09SSyBMQUtFIFNIT1JFIEhPU1BJVEFMPC9kaXY+YClbMF07CiAgICAgICAgICAgIHBvcHVwXzQ2NTM2NTY5NzY3ZTQwMTI4NjIzZTY0MTAxYzEyMGY2LnNldENvbnRlbnQoaHRtbF83NmM1NzdkNDBmNGE0ZTk0YTc4ZjgwMzAwZTlhZjgzZik7CiAgICAgICAgCgogICAgICAgIG1hcmtlcl9kNTdhNGU1Mzk2MjM0YzY0YTBiMjEzNjgzOWRjMTM5OS5iaW5kUG9wdXAocG9wdXBfNDY1MzY1Njk3NjdlNDAxMjg2MjNlNjQxMDFjMTIwZjYpCiAgICAgICAgOwoKICAgICAgICAKICAgIAogICAgCiAgICAgICAgICAgIHZhciBtYXJrZXJfMTkyM2ZmNDdmMWQxNGFjNGFiYWYwYTIwMzVlMDliNWQgPSBMLm1hcmtlcigKICAgICAgICAgICAgICAgIFs0Mi4wOTE5NTAzNDUwMDAwMzYsIC03Ni43OTg0MzQ0OTU5OTk5N10sCiAgICAgICAgICAgICAgICB7fQogICAgICAgICAgICApLmFkZFRvKG1hcmtlcl9jbHVzdGVyX2QyNTczMGI4ZGVhZjRkN2M4MmZkZDBiZDg0NzcyMmNkKTsKICAgICAgICAKICAgIAogICAgICAgIHZhciBwb3B1cF80YWE1ODM2M2RlYzM0NmVjYWRlZjgzNTVkNjQyNzEyYyA9IEwucG9wdXAoeyJtYXhXaWR0aCI6ICIxMDAlIn0pOwoKICAgICAgICAKICAgICAgICAgICAgdmFyIGh0bWxfNjliNWNlNTA4NDc3NDBlNmI3NmU0MDI1YTc2ZDJiZWIgPSAkKGA8ZGl2IGlkPSJodG1sXzY5YjVjZTUwODQ3NzQwZTZiNzZlNDAyNWE3NmQyYmViIiBzdHlsZT0id2lkdGg6IDEwMC4wJTsgaGVpZ2h0OiAxMDAuMCU7Ij5TVCBKT1NFUEhTIEhPU1BJVEFMPC9kaXY+YClbMF07CiAgICAgICAgICAgIHBvcHVwXzRhYTU4MzYzZGVjMzQ2ZWNhZGVmODM1NWQ2NDI3MTJjLnNldENvbnRlbnQoaHRtbF82OWI1Y2U1MDg0Nzc0MGU2Yjc2ZTQwMjVhNzZkMmJlYik7CiAgICAgICAgCgogICAgICAgIG1hcmtlcl8xOTIzZmY0N2YxZDE0YWM0YWJhZjBhMjAzNWUwOWI1ZC5iaW5kUG9wdXAocG9wdXBfNGFhNTgzNjNkZWMzNDZlY2FkZWY4MzU1ZDY0MjcxMmMpCiAgICAgICAgOwoKICAgICAgICAKICAgIAogICAgCiAgICAgICAgICAgIHZhciBtYXJrZXJfZDk0NjkzNmQ3ZDE5NGMyNWIwMDRmNWFiZjllZWUwNjEgPSBMLm1hcmtlcigKICAgICAgICAgICAgICAgIFs0MS40MDE4NzEyNDIwMDAwMDYsIC03My45NzcxMzcwMzg5OTk5NF0sCiAgICAgICAgICAgICAgICB7fQogICAgICAgICAgICApLmFkZFRvKG1hcmtlcl9jbHVzdGVyX2QyNTczMGI4ZGVhZjRkN2M4MmZkZDBiZDg0NzcyMmNkKTsKICAgICAgICAKICAgIAogICAgICAgIHZhciBwb3B1cF8yMzIzYTZiNDg0ZTA0MGRlOWZlNTBlNGIyNjYzNjY5MCA9IEwucG9wdXAoeyJtYXhXaWR0aCI6ICIxMDAlIn0pOwoKICAgICAgICAKICAgICAgICAgICAgdmFyIGh0bWxfZDhhM2Y5Y2EzNjI4NDFiMTkyYzE4NWI0NGE5M2QzYzcgPSAkKGA8ZGl2IGlkPSJodG1sX2Q4YTNmOWNhMzYyODQxYjE5MmMxODViNDRhOTNkM2M3IiBzdHlsZT0id2lkdGg6IDEwMC4wJTsgaGVpZ2h0OiAxMDAuMCU7Ij5LRUxMRVIgQVJNWSBDT01NVU5JVFkgSE9TUElUQUw8L2Rpdj5gKVswXTsKICAgICAgICAgICAgcG9wdXBfMjMyM2E2YjQ4NGUwNDBkZTlmZTUwZTRiMjY2MzY2OTAuc2V0Q29udGVudChodG1sX2Q4YTNmOWNhMzYyODQxYjE5MmMxODViNDRhOTNkM2M3KTsKICAgICAgICAKCiAgICAgICAgbWFya2VyX2Q5NDY5MzZkN2QxOTRjMjViMDA0ZjVhYmY5ZWVlMDYxLmJpbmRQb3B1cChwb3B1cF8yMzIzYTZiNDg0ZTA0MGRlOWZlNTBlNGIyNjYzNjY5MCkKICAgICAgICA7CgogICAgICAgIAogICAgCiAgICAKICAgICAgICAgICAgdmFyIG1hcmtlcl9hMzA1MWQxYWYwZmU0NDcwOWI1MzZmYTQ4Y2Y2ODIzYiA9IEwubWFya2VyKAogICAgICAgICAgICAgICAgWzQzLjAxMzM0MDMwMTAwMDAyLCAtNzguMTk3ODczOTUxOTk5OTVdLAogICAgICAgICAgICAgICAge30KICAgICAgICAgICAgKS5hZGRUbyhtYXJrZXJfY2x1c3Rlcl9kMjU3MzBiOGRlYWY0ZDdjODJmZGQwYmQ4NDc3MjJjZCk7CiAgICAgICAgCiAgICAKICAgICAgICB2YXIgcG9wdXBfZGUwNjBmZDZhMTAwNDI2N2JjMGU4NWVmODI1OTcyNGEgPSBMLnBvcHVwKHsibWF4V2lkdGgiOiAiMTAwJSJ9KTsKCiAgICAgICAgCiAgICAgICAgICAgIHZhciBodG1sXzJjYjQ5OWU3NWFiOTQ0MDVhYzY1ZGUzNzYyYmY5OTE0ID0gJChgPGRpdiBpZD0iaHRtbF8yY2I0OTllNzVhYjk0NDA1YWM2NWRlMzc2MmJmOTkxNCIgc3R5bGU9IndpZHRoOiAxMDAuMCU7IGhlaWdodDogMTAwLjAlOyI+VkEgTUVESUNBTCBDRU5URVIgLSBCQVRBVklBPC9kaXY+YClbMF07CiAgICAgICAgICAgIHBvcHVwX2RlMDYwZmQ2YTEwMDQyNjdiYzBlODVlZjgyNTk3MjRhLnNldENvbnRlbnQoaHRtbF8yY2I0OTllNzVhYjk0NDA1YWM2NWRlMzc2MmJmOTkxNCk7CiAgICAgICAgCgogICAgICAgIG1hcmtlcl9hMzA1MWQxYWYwZmU0NDcwOWI1MzZmYTQ4Y2Y2ODIzYi5iaW5kUG9wdXAocG9wdXBfZGUwNjBmZDZhMTAwNDI2N2JjMGU4NWVmODI1OTcyNGEpCiAgICAgICAgOwoKICAgICAgICAKICAgIAogICAgCiAgICAgICAgICAgIHZhciBtYXJrZXJfMDk5MDUyZmI2MWI0NGU0ZWE1OTdkMjMzMGVmOTk3ZWEgPSBMLm1hcmtlcigKICAgICAgICAgICAgICAgIFs0Mi42NTA4MDgxODAwMDAwNiwgLTczLjc3MTk0NDU5NDk5OTk4XSwKICAgICAgICAgICAgICAgIHt9CiAgICAgICAgICAgICkuYWRkVG8obWFya2VyX2NsdXN0ZXJfZDI1NzMwYjhkZWFmNGQ3YzgyZmRkMGJkODQ3NzIyY2QpOwogICAgICAgIAogICAgCiAgICAgICAgdmFyIHBvcHVwXzRjYmI5MzIxZDRkYzRlMjNhNmYzZmNjMGJmZGY4MjdhID0gTC5wb3B1cCh7Im1heFdpZHRoIjogIjEwMCUifSk7CgogICAgICAgIAogICAgICAgICAgICB2YXIgaHRtbF9mMWUxMTQ2NzJmMGI0N2I2YjcxMjMxMzRiODIyMzVjMSA9ICQoYDxkaXYgaWQ9Imh0bWxfZjFlMTE0NjcyZjBiNDdiNmI3MTIzMTM0YjgyMjM1YzEiIHN0eWxlPSJ3aWR0aDogMTAwLjAlOyBoZWlnaHQ6IDEwMC4wJTsiPlZBIE1FRElDQUwgQ0VOVEVSIC0gQUxCQU5ZIFNUUkFUVE9OPC9kaXY+YClbMF07CiAgICAgICAgICAgIHBvcHVwXzRjYmI5MzIxZDRkYzRlMjNhNmYzZmNjMGJmZGY4MjdhLnNldENvbnRlbnQoaHRtbF9mMWUxMTQ2NzJmMGI0N2I2YjcxMjMxMzRiODIyMzVjMSk7CiAgICAgICAgCgogICAgICAgIG1hcmtlcl8wOTkwNTJmYjYxYjQ0ZTRlYTU5N2QyMzMwZWY5OTdlYS5iaW5kUG9wdXAocG9wdXBfNGNiYjkzMjFkNGRjNGUyM2E2ZjNmY2MwYmZkZjgyN2EpCiAgICAgICAgOwoKICAgICAgICAKICAgIAogICAgCiAgICAgICAgICAgIHZhciBtYXJrZXJfMDliZmQ0YTVmYTZhNDI2M2FlZDJhMTBiZjdlNzIzNGYgPSBMLm1hcmtlcigKICAgICAgICAgICAgICAgIFs0Mi45NTEwOTI2MjgwMDAwMSwgLTc4LjgxMjE1MDM4Nzk5OTk4XSwKICAgICAgICAgICAgICAgIHt9CiAgICAgICAgICAgICkuYWRkVG8obWFya2VyX2NsdXN0ZXJfZDI1NzMwYjhkZWFmNGQ3YzgyZmRkMGJkODQ3NzIyY2QpOwogICAgICAgIAogICAgCiAgICAgICAgdmFyIHBvcHVwX2JjNjA3ZGE1ZGE0ZTRhMDlhNmNiNmFlNjFjYmQ3MDE3ID0gTC5wb3B1cCh7Im1heFdpZHRoIjogIjEwMCUifSk7CgogICAgICAgIAogICAgICAgICAgICB2YXIgaHRtbF9lMWFkNDRlMzY3NTQ0NTI0ODdhYTllOGFmMmFmMDdhOSA9ICQoYDxkaXYgaWQ9Imh0bWxfZTFhZDQ0ZTM2NzU0NDUyNDg3YWE5ZThhZjJhZjA3YTkiIHN0eWxlPSJ3aWR0aDogMTAwLjAlOyBoZWlnaHQ6IDEwMC4wJTsiPlZBIE1FRElDQUwgQ0VOVEVSIC0gQlVGRkFMTzwvZGl2PmApWzBdOwogICAgICAgICAgICBwb3B1cF9iYzYwN2RhNWRhNGU0YTA5YTZjYjZhZTYxY2JkNzAxNy5zZXRDb250ZW50KGh0bWxfZTFhZDQ0ZTM2NzU0NDUyNDg3YWE5ZThhZjJhZjA3YTkpOwogICAgICAgIAoKICAgICAgICBtYXJrZXJfMDliZmQ0YTVmYTZhNDI2M2FlZDJhMTBiZjdlNzIzNGYuYmluZFBvcHVwKHBvcHVwX2JjNjA3ZGE1ZGE0ZTRhMDlhNmNiNmFlNjFjYmQ3MDE3KQogICAgICAgIDsKCiAgICAgICAgCiAgICAKICAgIAogICAgICAgICAgICB2YXIgbWFya2VyXzZjOTdhNzYyZDE4MjRmZTdiNjdlZmM3N2M5MDZlN2QxID0gTC5tYXJrZXIoCiAgICAgICAgICAgICAgICBbNDAuNzM2ODgxNDcxMDAwMDQ2LCAtNzMuOTc3MDc5MjY5OTk5OTNdLAogICAgICAgICAgICAgICAge30KICAgICAgICAgICAgKS5hZGRUbyhtYXJrZXJfY2x1c3Rlcl9kMjU3MzBiOGRlYWY0ZDdjODJmZGQwYmQ4NDc3MjJjZCk7CiAgICAgICAgCiAgICAKICAgICAgICB2YXIgcG9wdXBfNzcxMTM4MDBhMDAyNDQ3YzkzYmQ5MTIzYTNkZmNhOGIgPSBMLnBvcHVwKHsibWF4V2lkdGgiOiAiMTAwJSJ9KTsKCiAgICAgICAgCiAgICAgICAgICAgIHZhciBodG1sXzJhNTRlMGVmMjkwODQ4MzVhZDY0NTVhMzM0NWNhODgxID0gJChgPGRpdiBpZD0iaHRtbF8yYTU0ZTBlZjI5MDg0ODM1YWQ2NDU1YTMzNDVjYTg4MSIgc3R5bGU9IndpZHRoOiAxMDAuMCU7IGhlaWdodDogMTAwLjAlOyI+VkEgTUVESUNBTCBDRU5URVIgLSBNQU5IQVRUQU4gQ0FNUFVTPC9kaXY+YClbMF07CiAgICAgICAgICAgIHBvcHVwXzc3MTEzODAwYTAwMjQ0N2M5M2JkOTEyM2EzZGZjYThiLnNldENvbnRlbnQoaHRtbF8yYTU0ZTBlZjI5MDg0ODM1YWQ2NDU1YTMzNDVjYTg4MSk7CiAgICAgICAgCgogICAgICAgIG1hcmtlcl82Yzk3YTc2MmQxODI0ZmU3YjY3ZWZjNzdjOTA2ZTdkMS5iaW5kUG9wdXAocG9wdXBfNzcxMTM4MDBhMDAyNDQ3YzkzYmQ5MTIzYTNkZmNhOGIpCiAgICAgICAgOwoKICAgICAgICAKICAgIAogICAgCiAgICAgICAgICAgIHZhciBtYXJrZXJfYWE3ZWMzMDE4MGMwNGU3OGEzMWZmZTY0N2E2ZTExNDggPSBMLm1hcmtlcigKICAgICAgICAgICAgICAgIFs0MC44OTM2NzU3MzkwMDAwNDUsIC03My4zMDg2OTMwNDg5OTk5NF0sCiAgICAgICAgICAgICAgICB7fQogICAgICAgICAgICApLmFkZFRvKG1hcmtlcl9jbHVzdGVyX2QyNTczMGI4ZGVhZjRkN2M4MmZkZDBiZDg0NzcyMmNkKTsKICAgICAgICAKICAgIAogICAgICAgIHZhciBwb3B1cF81YzFiNjI0OTM0OGU0NjQ1ODExN2E2Zjg5MjI0MjQ5NiA9IEwucG9wdXAoeyJtYXhXaWR0aCI6ICIxMDAlIn0pOwoKICAgICAgICAKICAgICAgICAgICAgdmFyIGh0bWxfNmIzNGY2NzU5YTQ1NDllYWIwMDFlZTNhNjNiYmJjNzQgPSAkKGA8ZGl2IGlkPSJodG1sXzZiMzRmNjc1OWE0NTQ5ZWFiMDAxZWUzYTYzYmJiYzc0IiBzdHlsZT0id2lkdGg6IDEwMC4wJTsgaGVpZ2h0OiAxMDAuMCU7Ij5WQSBNRURJQ0FMIENFTlRFUiAtIE5PUlRIUE9SVDwvZGl2PmApWzBdOwogICAgICAgICAgICBwb3B1cF81YzFiNjI0OTM0OGU0NjQ1ODExN2E2Zjg5MjI0MjQ5Ni5zZXRDb250ZW50KGh0bWxfNmIzNGY2NzU5YTQ1NDllYWIwMDFlZTNhNjNiYmJjNzQpOwogICAgICAgIAoKICAgICAgICBtYXJrZXJfYWE3ZWMzMDE4MGMwNGU3OGEzMWZmZTY0N2E2ZTExNDguYmluZFBvcHVwKHBvcHVwXzVjMWI2MjQ5MzQ4ZTQ2NDU4MTE3YTZmODkyMjQyNDk2KQogICAgICAgIDsKCiAgICAgICAgCiAgICAKICAgIAogICAgICAgICAgICB2YXIgbWFya2VyXzFkNTQxNGU0YzUxNTQ5OWM5ZDRjZjlmYzgzOTkzMGFjID0gTC5tYXJrZXIoCiAgICAgICAgICAgICAgICBbNDAuNjA3OTIyODQ3MDAwMDQsIC03NC4wMjQxODY0MzM5OTk5NF0sCiAgICAgICAgICAgICAgICB7fQogICAgICAgICAgICApLmFkZFRvKG1hcmtlcl9jbHVzdGVyX2QyNTczMGI4ZGVhZjRkN2M4MmZkZDBiZDg0NzcyMmNkKTsKICAgICAgICAKICAgIAogICAgICAgIHZhciBwb3B1cF8zMWU0MjIxNTc3Nzg0N2JhODdiZTBhZjhlZTJmMGM4OSA9IEwucG9wdXAoeyJtYXhXaWR0aCI6ICIxMDAlIn0pOwoKICAgICAgICAKICAgICAgICAgICAgdmFyIGh0bWxfNjUzZDI1YzdmODhlNGYyYjg5NDEwYjA3MTcwMjExNGYgPSAkKGA8ZGl2IGlkPSJodG1sXzY1M2QyNWM3Zjg4ZTRmMmI4OTQxMGIwNzE3MDIxMTRmIiBzdHlsZT0id2lkdGg6IDEwMC4wJTsgaGVpZ2h0OiAxMDAuMCU7Ij5WQSBNRURJQ0FMIENFTlRFUiAtIEJST09LTFlOIENBTVBVUzwvZGl2PmApWzBdOwogICAgICAgICAgICBwb3B1cF8zMWU0MjIxNTc3Nzg0N2JhODdiZTBhZjhlZTJmMGM4OS5zZXRDb250ZW50KGh0bWxfNjUzZDI1YzdmODhlNGYyYjg5NDEwYjA3MTcwMjExNGYpOwogICAgICAgIAoKICAgICAgICBtYXJrZXJfMWQ1NDE0ZTRjNTE1NDk5YzlkNGNmOWZjODM5OTMwYWMuYmluZFBvcHVwKHBvcHVwXzMxZTQyMjE1Nzc3ODQ3YmE4N2JlMGFmOGVlMmYwYzg5KQogICAgICAgIDsKCiAgICAgICAgCiAgICAKICAgIAogICAgICAgICAgICB2YXIgbWFya2VyX2IxYjUxOGY5MDMzNzQ5ZGE5ODRkYWQwNDRiNWYzYWJiID0gTC5tYXJrZXIoCiAgICAgICAgICAgICAgICBbNDAuNjkwNjQ2NjY3MDAwMDcsIC03My43Njg2NzU3Njc5OTk5OF0sCiAgICAgICAgICAgICAgICB7fQogICAgICAgICAgICApLmFkZFRvKG1hcmtlcl9jbHVzdGVyX2QyNTczMGI4ZGVhZjRkN2M4MmZkZDBiZDg0NzcyMmNkKTsKICAgICAgICAKICAgIAogICAgICAgIHZhciBwb3B1cF82YTIwZTlhOGY3YjU0NzA0OTJmNTBmZWE4ZGZmMzZhMCA9IEwucG9wdXAoeyJtYXhXaWR0aCI6ICIxMDAlIn0pOwoKICAgICAgICAKICAgICAgICAgICAgdmFyIGh0bWxfNDJmMDFhZTU3ZWJlNDFhOThkZWQxYmIxMTZiNmE4YTYgPSAkKGA8ZGl2IGlkPSJodG1sXzQyZjAxYWU1N2ViZTQxYTk4ZGVkMWJiMTE2YjZhOGE2IiBzdHlsZT0id2lkdGg6IDEwMC4wJTsgaGVpZ2h0OiAxMDAuMCU7Ij5TVC4gQUxCQU5TIENPTU1VTklUWSBMSVZJTkcgQ0VOVEVSPC9kaXY+YClbMF07CiAgICAgICAgICAgIHBvcHVwXzZhMjBlOWE4ZjdiNTQ3MDQ5MmY1MGZlYThkZmYzNmEwLnNldENvbnRlbnQoaHRtbF80MmYwMWFlNTdlYmU0MWE5OGRlZDFiYjExNmI2YThhNik7CiAgICAgICAgCgogICAgICAgIG1hcmtlcl9iMWI1MThmOTAzMzc0OWRhOTg0ZGFkMDQ0YjVmM2FiYi5iaW5kUG9wdXAocG9wdXBfNmEyMGU5YThmN2I1NDcwNDkyZjUwZmVhOGRmZjM2YTApCiAgICAgICAgOwoKICAgICAgICAKICAgIAogICAgCiAgICAgICAgICAgIHZhciBtYXJrZXJfZWIzM2ExM2NiNGQ3NDkwMGEzYWMwN2Y4NzY4NDBkMmIgPSBMLm1hcmtlcigKICAgICAgICAgICAgICAgIFs0Mi45MTkyMzIwMjUwMDAwMzUsIC03OC44NjcxMTExMDA5OTk5Nl0sCiAgICAgICAgICAgICAgICB7fQogICAgICAgICAgICApLmFkZFRvKG1hcmtlcl9jbHVzdGVyX2QyNTczMGI4ZGVhZjRkN2M4MmZkZDBiZDg0NzcyMmNkKTsKICAgICAgICAKICAgIAogICAgICAgIHZhciBwb3B1cF8xZmFhYTczOGRlYmQ0OTc2OGY4ZWJmY2YxZDY2NWU2MyA9IEwucG9wdXAoeyJtYXhXaWR0aCI6ICIxMDAlIn0pOwoKICAgICAgICAKICAgICAgICAgICAgdmFyIGh0bWxfMmYyMTkxMTc5ZTY4NDI5YmI2NmY5MjhhOTBlZGYwMDIgPSAkKGA8ZGl2IGlkPSJodG1sXzJmMjE5MTE3OWU2ODQyOWJiNjZmOTI4YTkwZWRmMDAyIiBzdHlsZT0id2lkdGg6IDEwMC4wJTsgaGVpZ2h0OiAxMDAuMCU7Ij5NQUxMQVJEIEZJTExNT1JFIEdBVEVTPC9kaXY+YClbMF07CiAgICAgICAgICAgIHBvcHVwXzFmYWFhNzM4ZGViZDQ5NzY4ZjhlYmZjZjFkNjY1ZTYzLnNldENvbnRlbnQoaHRtbF8yZjIxOTExNzllNjg0MjliYjY2ZjkyOGE5MGVkZjAwMik7CiAgICAgICAgCgogICAgICAgIG1hcmtlcl9lYjMzYTEzY2I0ZDc0OTAwYTNhYzA3Zjg3Njg0MGQyYi5iaW5kUG9wdXAocG9wdXBfMWZhYWE3MzhkZWJkNDk3NjhmOGViZmNmMWQ2NjVlNjMpCiAgICAgICAgOwoKICAgICAgICAKICAgIAogICAgCiAgICAgICAgICAgIHZhciBtYXJrZXJfYjcwOGQwMDUyOWRjNDdiZGFkMWU5MmViYzg1NjY1NWQgPSBMLm1hcmtlcigKICAgICAgICAgICAgICAgIFs0Mi45MTg0MTc4MzAwMDAwNzQsIC03OC44NjgwMDIzODY5OTk5OV0sCiAgICAgICAgICAgICAgICB7fQogICAgICAgICAgICApLmFkZFRvKG1hcmtlcl9jbHVzdGVyX2QyNTczMGI4ZGVhZjRkN2M4MmZkZDBiZDg0NzcyMmNkKTsKICAgICAgICAKICAgIAogICAgICAgIHZhciBwb3B1cF81NWFhMjFhZTQzYWE0MTJhYjUwODk3YTY1NzAwM2E2OSA9IEwucG9wdXAoeyJtYXhXaWR0aCI6ICIxMDAlIn0pOwoKICAgICAgICAKICAgICAgICAgICAgdmFyIGh0bWxfZjc0ZjRkNmNkNmIwNDEwNWIzNzFkZjdhYzhkMzVkNmQgPSAkKGA8ZGl2IGlkPSJodG1sX2Y3NGY0ZDZjZDZiMDQxMDViMzcxZGY3YWM4ZDM1ZDZkIiBzdHlsZT0id2lkdGg6IDEwMC4wJTsgaGVpZ2h0OiAxMDAuMCU7Ij5CUllMSU4gSE9TUElUQUw8L2Rpdj5gKVswXTsKICAgICAgICAgICAgcG9wdXBfNTVhYTIxYWU0M2FhNDEyYWI1MDg5N2E2NTcwMDNhNjkuc2V0Q29udGVudChodG1sX2Y3NGY0ZDZjZDZiMDQxMDViMzcxZGY3YWM4ZDM1ZDZkKTsKICAgICAgICAKCiAgICAgICAgbWFya2VyX2I3MDhkMDA1MjlkYzQ3YmRhZDFlOTJlYmM4NTY2NTVkLmJpbmRQb3B1cChwb3B1cF81NWFhMjFhZTQzYWE0MTJhYjUwODk3YTY1NzAwM2E2OSkKICAgICAgICA7CgogICAgICAgIAogICAgCiAgICAKICAgICAgICAgICAgdmFyIG1hcmtlcl8yZmYyYjRmZmRjNjI0NTZiODEwYWRiY2ExY2RmZjA5OCA9IEwubWFya2VyKAogICAgICAgICAgICAgICAgWzQwLjY4NTc2NjAzODAwMDA2LCAtNzMuNDIyNjMyNTEzOTk5OTldLAogICAgICAgICAgICAgICAge30KICAgICAgICAgICAgKS5hZGRUbyhtYXJrZXJfY2x1c3Rlcl9kMjU3MzBiOGRlYWY0ZDdjODJmZGQwYmQ4NDc3MjJjZCk7CiAgICAgICAgCiAgICAKICAgICAgICB2YXIgcG9wdXBfYTY3MjYwODVjMzMzNDg5ZGIyNzUyOTc4MjZmMDM5OGIgPSBMLnBvcHVwKHsibWF4V2lkdGgiOiAiMTAwJSJ9KTsKCiAgICAgICAgCiAgICAgICAgICAgIHZhciBodG1sXzRjZjA4YTM2MjQ2YTQwMzA4YTg2MTU5ZTMxYTkyZTU5ID0gJChgPGRpdiBpZD0iaHRtbF80Y2YwOGEzNjI0NmE0MDMwOGE4NjE1OWUzMWE5MmU1OSIgc3R5bGU9IndpZHRoOiAxMDAuMCU7IGhlaWdodDogMTAwLjAlOyI+VEhFIExPTkcgSVNMQU5EIEhPTUU8L2Rpdj5gKVswXTsKICAgICAgICAgICAgcG9wdXBfYTY3MjYwODVjMzMzNDg5ZGIyNzUyOTc4MjZmMDM5OGIuc2V0Q29udGVudChodG1sXzRjZjA4YTM2MjQ2YTQwMzA4YTg2MTU5ZTMxYTkyZTU5KTsKICAgICAgICAKCiAgICAgICAgbWFya2VyXzJmZjJiNGZmZGM2MjQ1NmI4MTBhZGJjYTFjZGZmMDk4LmJpbmRQb3B1cChwb3B1cF9hNjcyNjA4NWMzMzM0ODlkYjI3NTI5NzgyNmYwMzk4YikKICAgICAgICA7CgogICAgICAgIAogICAgCiAgICAKICAgICAgICAgICAgdmFyIG1hcmtlcl85MDZiYmJjZDkzMzE0NzhhODdjZjNhZDE1YTAzNGJiZSA9IEwubWFya2VyKAogICAgICAgICAgICAgICAgWzQwLjc1Mzk3OTE0MjAwMDA0LCAtNzMuOTU3MTc0MTQ3XSwKICAgICAgICAgICAgICAgIHt9CiAgICAgICAgICAgICkuYWRkVG8obWFya2VyX2NsdXN0ZXJfZDI1NzMwYjhkZWFmNGQ3YzgyZmRkMGJkODQ3NzIyY2QpOwogICAgICAgIAogICAgCiAgICAgICAgdmFyIHBvcHVwXzRiMzM5MWQ5YjhkNzQzZGZhYTYwZDczMjQxYzQ4MzA2ID0gTC5wb3B1cCh7Im1heFdpZHRoIjogIjEwMCUifSk7CgogICAgICAgIAogICAgICAgICAgICB2YXIgaHRtbF9kODE1MzAyZmZmYmU0NmVlYjNhOGQxOGIwMmM4MTJmMiA9ICQoYDxkaXYgaWQ9Imh0bWxfZDgxNTMwMmZmZmJlNDZlZWIzYThkMThiMDJjODEyZjIiIHN0eWxlPSJ3aWR0aDogMTAwLjAlOyBoZWlnaHQ6IDEwMC4wJTsiPkdPTERXQVRFUiBTUEVDSUFMVFkgSE9TUElUQUw8L2Rpdj5gKVswXTsKICAgICAgICAgICAgcG9wdXBfNGIzMzkxZDliOGQ3NDNkZmFhNjBkNzMyNDFjNDgzMDYuc2V0Q29udGVudChodG1sX2Q4MTUzMDJmZmZiZTQ2ZWViM2E4ZDE4YjAyYzgxMmYyKTsKICAgICAgICAKCiAgICAgICAgbWFya2VyXzkwNmJiYmNkOTMzMTQ3OGE4N2NmM2FkMTVhMDM0YmJlLmJpbmRQb3B1cChwb3B1cF80YjMzOTFkOWI4ZDc0M2RmYWE2MGQ3MzI0MWM0ODMwNikKICAgICAgICA7CgogICAgICAgIAogICAgCiAgICAKICAgICAgICAgICAgdmFyIG1hcmtlcl81NGQ3NTdkMzZiNTI0YzA5ODlhZjNkYjUxZTA4YWJkOSA9IEwubWFya2VyKAogICAgICAgICAgICAgICAgWzQwLjg0NDE4MzU2NDAwMDA0LCAtNzMuODM1MzU1MDg3OTk5OTddLAogICAgICAgICAgICAgICAge30KICAgICAgICAgICAgKS5hZGRUbyhtYXJrZXJfY2x1c3Rlcl9kMjU3MzBiOGRlYWY0ZDdjODJmZGQwYmQ4NDc3MjJjZCk7CiAgICAgICAgCiAgICAKICAgICAgICB2YXIgcG9wdXBfZTE2MzdiNjY3YmFiNGYwZDk5NmY2Y2RhMzU2YTVmNDkgPSBMLnBvcHVwKHsibWF4V2lkdGgiOiAiMTAwJSJ9KTsKCiAgICAgICAgCiAgICAgICAgICAgIHZhciBodG1sXzJlNmYxMTgyMTdmOTQ2YzQ5OTI5ZTkxYTY1MWQ5YjVlID0gJChgPGRpdiBpZD0iaHRtbF8yZTZmMTE4MjE3Zjk0NmM0OTkyOWU5MWE2NTFkOWI1ZSIgc3R5bGU9IndpZHRoOiAxMDAuMCU7IGhlaWdodDogMTAwLjAlOyI+QlVSS0UgUkVIQUJJTElUQVRJT04gQ0VOVEVSPC9kaXY+YClbMF07CiAgICAgICAgICAgIHBvcHVwX2UxNjM3YjY2N2JhYjRmMGQ5OTZmNmNkYTM1NmE1ZjQ5LnNldENvbnRlbnQoaHRtbF8yZTZmMTE4MjE3Zjk0NmM0OTkyOWU5MWE2NTFkOWI1ZSk7CiAgICAgICAgCgogICAgICAgIG1hcmtlcl81NGQ3NTdkMzZiNTI0YzA5ODlhZjNkYjUxZTA4YWJkOS5iaW5kUG9wdXAocG9wdXBfZTE2MzdiNjY3YmFiNGYwZDk5NmY2Y2RhMzU2YTVmNDkpCiAgICAgICAgOwoKICAgICAgICAKICAgIAogICAgCiAgICAgICAgICAgIHZhciBtYXJrZXJfNWFiMjAyNTQ3MGM1NDg0NTk0NTZhYTgyODJhMzY3MzAgPSBMLm1hcmtlcigKICAgICAgICAgICAgICAgIFs0MC42NzgyMzMwNDQwMDAwOCwgLTczLjkzNzM2ODMzNDk5OTk3XSwKICAgICAgICAgICAgICAgIHt9CiAgICAgICAgICAgICkuYWRkVG8obWFya2VyX2NsdXN0ZXJfZDI1NzMwYjhkZWFmNGQ3YzgyZmRkMGJkODQ3NzIyY2QpOwogICAgICAgIAogICAgCiAgICAgICAgdmFyIHBvcHVwX2U3NTEyYzg5MzFjNDRhMzNiN2E2MzgzYzBhYzhkZDdmID0gTC5wb3B1cCh7Im1heFdpZHRoIjogIjEwMCUifSk7CgogICAgICAgIAogICAgICAgICAgICB2YXIgaHRtbF80ZjkwOWRlZmRmMDc0OWEyODliNThlMTg5NmQ0OWViNSA9ICQoYDxkaXYgaWQ9Imh0bWxfNGY5MDlkZWZkZjA3NDlhMjg5YjU4ZTE4OTZkNDllYjUiIHN0eWxlPSJ3aWR0aDogMTAwLjAlOyBoZWlnaHQ6IDEwMC4wJTsiPklOVEVSRkFJVEggTUVESUNBTCBDRU5URVI8L2Rpdj5gKVswXTsKICAgICAgICAgICAgcG9wdXBfZTc1MTJjODkzMWM0NGEzM2I3YTYzODNjMGFjOGRkN2Yuc2V0Q29udGVudChodG1sXzRmOTA5ZGVmZGYwNzQ5YTI4OWI1OGUxODk2ZDQ5ZWI1KTsKICAgICAgICAKCiAgICAgICAgbWFya2VyXzVhYjIwMjU0NzBjNTQ4NDU5NDU2YWE4MjgyYTM2NzMwLmJpbmRQb3B1cChwb3B1cF9lNzUxMmM4OTMxYzQ0YTMzYjdhNjM4M2MwYWM4ZGQ3ZikKICAgICAgICA7CgogICAgICAgIAogICAgCiAgICAKICAgICAgICAgICAgdmFyIG1hcmtlcl9lMjgyZDI4YzM1ODE0MmZhYjlmMWE5NmFjZjE3MjUyZiA9IEwubWFya2VyKAogICAgICAgICAgICAgICAgWzQwLjg0NzE4ODUxNzAwMDA2LCAtNzMuODM5ODU4Mjg0OTk5OTNdLAogICAgICAgICAgICAgICAge30KICAgICAgICAgICAgKS5hZGRUbyhtYXJrZXJfY2x1c3Rlcl9kMjU3MzBiOGRlYWY0ZDdjODJmZGQwYmQ4NDc3MjJjZCk7CiAgICAgICAgCiAgICAKICAgICAgICB2YXIgcG9wdXBfYjg3OWNiNGIyMjUxNGQxZDllNWRjMTg3Y2Y0NjQ1YzkgPSBMLnBvcHVwKHsibWF4V2lkdGgiOiAiMTAwJSJ9KTsKCiAgICAgICAgCiAgICAgICAgICAgIHZhciBodG1sX2ZkYThjYjQ1OTQyYjQ1ZjM4NTZiOWU4NTg4ZGE4YzE1ID0gJChgPGRpdiBpZD0iaHRtbF9mZGE4Y2I0NTk0MmI0NWYzODU2YjllODU4OGRhOGMxNSIgc3R5bGU9IndpZHRoOiAxMDAuMCU7IGhlaWdodDogMTAwLjAlOyI+QlJPTlggUFNZQ0hJQVRSSUMgQ0VOVEVSPC9kaXY+YClbMF07CiAgICAgICAgICAgIHBvcHVwX2I4NzljYjRiMjI1MTRkMWQ5ZTVkYzE4N2NmNDY0NWM5LnNldENvbnRlbnQoaHRtbF9mZGE4Y2I0NTk0MmI0NWYzODU2YjllODU4OGRhOGMxNSk7CiAgICAgICAgCgogICAgICAgIG1hcmtlcl9lMjgyZDI4YzM1ODE0MmZhYjlmMWE5NmFjZjE3MjUyZi5iaW5kUG9wdXAocG9wdXBfYjg3OWNiNGIyMjUxNGQxZDllNWRjMTg3Y2Y0NjQ1YzkpCiAgICAgICAgOwoKICAgICAgICAKICAgIAogICAgCiAgICAgICAgICAgIHZhciBtYXJrZXJfZWVmZWZmYTU1YmY2NDg4MThjYjA0MWMyNjhmZDg5MjggPSBMLm1hcmtlcigKICAgICAgICAgICAgICAgIFs0MC44NDY1OTM2NTIwMDAwOCwgLTczLjgzODUwMTk5Mjk5OTk4XSwKICAgICAgICAgICAgICAgIHt9CiAgICAgICAgICAgICkuYWRkVG8obWFya2VyX2NsdXN0ZXJfZDI1NzMwYjhkZWFmNGQ3YzgyZmRkMGJkODQ3NzIyY2QpOwogICAgICAgIAogICAgCiAgICAgICAgdmFyIHBvcHVwXzc1NWQyZWM2YTRjMDQxZThiNTIwMzk4ZjYwNzU1MDg1ID0gTC5wb3B1cCh7Im1heFdpZHRoIjogIjEwMCUifSk7CgogICAgICAgIAogICAgICAgICAgICB2YXIgaHRtbF9mZmQzZDk4NDdjYmE0MjQyYmFlNzJhODAwZmQ1MjQyZSA9ICQoYDxkaXYgaWQ9Imh0bWxfZmZkM2Q5ODQ3Y2JhNDI0MmJhZTcyYTgwMGZkNTI0MmUiIHN0eWxlPSJ3aWR0aDogMTAwLjAlOyBoZWlnaHQ6IDEwMC4wJTsiPk5FVyBZT1JLIENJVFkgQ0hJTERSRU4nUyBDRU5URVIgLSBJTlBBVElFTlQ8L2Rpdj5gKVswXTsKICAgICAgICAgICAgcG9wdXBfNzU1ZDJlYzZhNGMwNDFlOGI1MjAzOThmNjA3NTUwODUuc2V0Q29udGVudChodG1sX2ZmZDNkOTg0N2NiYTQyNDJiYWU3MmE4MDBmZDUyNDJlKTsKICAgICAgICAKCiAgICAgICAgbWFya2VyX2VlZmVmZmE1NWJmNjQ4ODE4Y2IwNDFjMjY4ZmQ4OTI4LmJpbmRQb3B1cChwb3B1cF83NTVkMmVjNmE0YzA0MWU4YjUyMDM5OGY2MDc1NTA4NSkKICAgICAgICA7CgogICAgICAgIAogICAgCiAgICAKICAgICAgICAgICAgdmFyIG1hcmtlcl9jM2U5MjFlZGI5ZGQ0ZTY1YjcxNzAwYmI1NTdlM2EzYyA9IEwubWFya2VyKAogICAgICAgICAgICAgICAgWzQyLjEwNTgyNDk5ODAwMDA3LCAtNzUuODY4MjY4NDkwOTk5OThdLAogICAgICAgICAgICAgICAge30KICAgICAgICAgICAgKS5hZGRUbyhtYXJrZXJfY2x1c3Rlcl9kMjU3MzBiOGRlYWY0ZDdjODJmZGQwYmQ4NDc3MjJjZCk7CiAgICAgICAgCiAgICAKICAgICAgICB2YXIgcG9wdXBfNDIxN2ZjNTFlMjkwNDVhOWE2MzhjZTllMGU3NzlmZmIgPSBMLnBvcHVwKHsibWF4V2lkdGgiOiAiMTAwJSJ9KTsKCiAgICAgICAgCiAgICAgICAgICAgIHZhciBodG1sX2FlMmU3YjY3ZjExMzQzNmE5ODcyMDIzZmQyMTJhNDE0ID0gJChgPGRpdiBpZD0iaHRtbF9hZTJlN2I2N2YxMTM0MzZhOTg3MjAyM2ZkMjEyYTQxNCIgc3R5bGU9IndpZHRoOiAxMDAuMCU7IGhlaWdodDogMTAwLjAlOyI+R1JFQVRFUiBCSU5HSEFNVE9OIEhFQUxUSCBDRU5URVI8L2Rpdj5gKVswXTsKICAgICAgICAgICAgcG9wdXBfNDIxN2ZjNTFlMjkwNDVhOWE2MzhjZTllMGU3NzlmZmIuc2V0Q29udGVudChodG1sX2FlMmU3YjY3ZjExMzQzNmE5ODcyMDIzZmQyMTJhNDE0KTsKICAgICAgICAKCiAgICAgICAgbWFya2VyX2MzZTkyMWVkYjlkZDRlNjViNzE3MDBiYjU1N2UzYTNjLmJpbmRQb3B1cChwb3B1cF80MjE3ZmM1MWUyOTA0NWE5YTYzOGNlOWUwZTc3OWZmYikKICAgICAgICA7CgogICAgICAgIAogICAgCiAgICAKICAgICAgICAgICAgdmFyIG1hcmtlcl81ZTNhODI3YzAzYTg0MmNlOTBiYmVmNDMwY2Y5ZDIwYiA9IEwubWFya2VyKAogICAgICAgICAgICAgICAgWzQyLjkyOTA5NDg5MTAwMDAzNCwgLTc4Ljg4MDI1NzYyMjk5OTk4XSwKICAgICAgICAgICAgICAgIHt9CiAgICAgICAgICAgICkuYWRkVG8obWFya2VyX2NsdXN0ZXJfZDI1NzMwYjhkZWFmNGQ3YzgyZmRkMGJkODQ3NzIyY2QpOwogICAgICAgIAogICAgCiAgICAgICAgdmFyIHBvcHVwXzcwNWMxZTE4ZGE1NzRjNmFiODI4OTcwYzAwZDk2NjRkID0gTC5wb3B1cCh7Im1heFdpZHRoIjogIjEwMCUifSk7CgogICAgICAgIAogICAgICAgICAgICB2YXIgaHRtbF80ZGY2MTJmNmFiNzc0Njc2ODEyNDVjZDIzNWFlYTkzYSA9ICQoYDxkaXYgaWQ9Imh0bWxfNGRmNjEyZjZhYjc3NDY3NjgxMjQ1Y2QyMzVhZWE5M2EiIHN0eWxlPSJ3aWR0aDogMTAwLjAlOyBoZWlnaHQ6IDEwMC4wJTsiPkJVRkZBTE8gUFNZQ0hJQVRSSUMgQ0VOVEVSPC9kaXY+YClbMF07CiAgICAgICAgICAgIHBvcHVwXzcwNWMxZTE4ZGE1NzRjNmFiODI4OTcwYzAwZDk2NjRkLnNldENvbnRlbnQoaHRtbF80ZGY2MTJmNmFiNzc0Njc2ODEyNDVjZDIzNWFlYTkzYSk7CiAgICAgICAgCgogICAgICAgIG1hcmtlcl81ZTNhODI3YzAzYTg0MmNlOTBiYmVmNDMwY2Y5ZDIwYi5iaW5kUG9wdXAocG9wdXBfNzA1YzFlMThkYTU3NGM2YWI4Mjg5NzBjMDBkOTY2NGQpCiAgICAgICAgOwoKICAgICAgICAKICAgIAogICAgCiAgICAgICAgICAgIHZhciBtYXJrZXJfMmE0MTgyODYwZDMxNGZiNThmZTZkMjg5YTRiMzA0ZWEgPSBMLm1hcmtlcigKICAgICAgICAgICAgICAgIFs0Mi44MjM4Njk1MjYwMDAwNiwgLTc4LjczMTU0OTI5Mzk5OTk5XSwKICAgICAgICAgICAgICAgIHt9CiAgICAgICAgICAgICkuYWRkVG8obWFya2VyX2NsdXN0ZXJfZDI1NzMwYjhkZWFmNGQ3YzgyZmRkMGJkODQ3NzIyY2QpOwogICAgICAgIAogICAgCiAgICAgICAgdmFyIHBvcHVwXzVmYzk3YjI5NWZkNTQ3MGZiMWU4OTliZDFlYTE1ZjlhID0gTC5wb3B1cCh7Im1heFdpZHRoIjogIjEwMCUifSk7CgogICAgICAgIAogICAgICAgICAgICB2YXIgaHRtbF8xODViNGUyZmIyMmU0OTE5OTQ1YWEwNzRhYThhNmVkNiA9ICQoYDxkaXYgaWQ9Imh0bWxfMTg1YjRlMmZiMjJlNDkxOTk0NWFhMDc0YWE4YTZlZDYiIHN0eWxlPSJ3aWR0aDogMTAwLjAlOyBoZWlnaHQ6IDEwMC4wJTsiPldFU1RFUk4gTkVXIFlPUksgQ0hJTERSRU4nUyBQU1lDSElBVFJJQyBDRU5URVI8L2Rpdj5gKVswXTsKICAgICAgICAgICAgcG9wdXBfNWZjOTdiMjk1ZmQ1NDcwZmIxZTg5OWJkMWVhMTVmOWEuc2V0Q29udGVudChodG1sXzE4NWI0ZTJmYjIyZTQ5MTk5NDVhYTA3NGFhOGE2ZWQ2KTsKICAgICAgICAKCiAgICAgICAgbWFya2VyXzJhNDE4Mjg2MGQzMTRmYjU4ZmU2ZDI4OWE0YjMwNGVhLmJpbmRQb3B1cChwb3B1cF81ZmM5N2IyOTVmZDU0NzBmYjFlODk5YmQxZWExNWY5YSkKICAgICAgICA7CgogICAgICAgIAogICAgCiAgICAKICAgICAgICAgICAgdmFyIG1hcmtlcl9kMDM2MDYwOWE1OTg0ZTM1YWZmOWZiYjY4ODdmMzFlMCA9IEwubWFya2VyKAogICAgICAgICAgICAgICAgWzQwLjY1NjQ4NTUxMTAwMDAxNCwgLTczLjkzOTEzNDc0ODk5OTkzXSwKICAgICAgICAgICAgICAgIHt9CiAgICAgICAgICAgICkuYWRkVG8obWFya2VyX2NsdXN0ZXJfZDI1NzMwYjhkZWFmNGQ3YzgyZmRkMGJkODQ3NzIyY2QpOwogICAgICAgIAogICAgCiAgICAgICAgdmFyIHBvcHVwXzc4OTk3YTE2MDFkNTQ4ZDBhNThlYzdjNTZiYmMwMDA0ID0gTC5wb3B1cCh7Im1heFdpZHRoIjogIjEwMCUifSk7CgogICAgICAgIAogICAgICAgICAgICB2YXIgaHRtbF82YWJlYmM2ZTIzNWI0NWY1ODg5ZDk1ZWM0OTA4MTA4NCA9ICQoYDxkaXYgaWQ9Imh0bWxfNmFiZWJjNmUyMzViNDVmNTg4OWQ5NWVjNDkwODEwODQiIHN0eWxlPSJ3aWR0aDogMTAwLjAlOyBoZWlnaHQ6IDEwMC4wJTsiPktJTkdTQk9STyBQU1lDSElBVFJJQyBDRU5URVI8L2Rpdj5gKVswXTsKICAgICAgICAgICAgcG9wdXBfNzg5OTdhMTYwMWQ1NDhkMGE1OGVjN2M1NmJiYzAwMDQuc2V0Q29udGVudChodG1sXzZhYmViYzZlMjM1YjQ1ZjU4ODlkOTVlYzQ5MDgxMDg0KTsKICAgICAgICAKCiAgICAgICAgbWFya2VyX2QwMzYwNjA5YTU5ODRlMzVhZmY5ZmJiNjg4N2YzMWUwLmJpbmRQb3B1cChwb3B1cF83ODk5N2ExNjAxZDU0OGQwYTU4ZWM3YzU2YmJjMDAwNCkKICAgICAgICA7CgogICAgICAgIAogICAgCiAgICAKICAgICAgICAgICAgdmFyIG1hcmtlcl8zMzI0NzcwMjY3YjI0MjZkODVhMWVhYmMwYzMzOWNmYiA9IEwubWFya2VyKAogICAgICAgICAgICAgICAgWzQzLjEyMzMxMjYzOTAwMDA1NSwgLTc3LjYxMDU3OTY0Njk5OTk1XSwKICAgICAgICAgICAgICAgIHt9CiAgICAgICAgICAgICkuYWRkVG8obWFya2VyX2NsdXN0ZXJfZDI1NzMwYjhkZWFmNGQ3YzgyZmRkMGJkODQ3NzIyY2QpOwogICAgICAgIAogICAgCiAgICAgICAgdmFyIHBvcHVwXzJiMmI1M2RkYmIyYTQ1MGE5YjQ5NDc3Mjk1NTA4ZjkwID0gTC5wb3B1cCh7Im1heFdpZHRoIjogIjEwMCUifSk7CgogICAgICAgIAogICAgICAgICAgICB2YXIgaHRtbF8yOWJmZGRkY2M3Yzg0OGE3OGQ2Mzk1MDcwMGUyZDcxOSA9ICQoYDxkaXYgaWQ9Imh0bWxfMjliZmRkZGNjN2M4NDhhNzhkNjM5NTA3MDBlMmQ3MTkiIHN0eWxlPSJ3aWR0aDogMTAwLjAlOyBoZWlnaHQ6IDEwMC4wJTsiPlJPQ0hFU1RFUiBQU1lDSElBVFJJQyBDRU5URVI8L2Rpdj5gKVswXTsKICAgICAgICAgICAgcG9wdXBfMmIyYjUzZGRiYjJhNDUwYTliNDk0NzcyOTU1MDhmOTAuc2V0Q29udGVudChodG1sXzI5YmZkZGRjYzdjODQ4YTc4ZDYzOTUwNzAwZTJkNzE5KTsKICAgICAgICAKCiAgICAgICAgbWFya2VyXzMzMjQ3NzAyNjdiMjQyNmQ4NWExZWFiYzBjMzM5Y2ZiLmJpbmRQb3B1cChwb3B1cF8yYjJiNTNkZGJiMmE0NTBhOWI0OTQ3NzI5NTUwOGY5MCkKICAgICAgICA7CgogICAgICAgIAogICAgCiAgICAKICAgICAgICAgICAgdmFyIG1hcmtlcl84YjdlZGRmNWEwM2I0ZGEyODJiNjg1MTg2ZmJkOWViOCA9IEwubWFya2VyKAogICAgICAgICAgICAgICAgWzQwLjc5MDAwNDM2ODAwMDAzNCwgLTczLjkyOTEyNzM0Njk5OTk4XSwKICAgICAgICAgICAgICAgIHt9CiAgICAgICAgICAgICkuYWRkVG8obWFya2VyX2NsdXN0ZXJfZDI1NzMwYjhkZWFmNGQ3YzgyZmRkMGJkODQ3NzIyY2QpOwogICAgICAgIAogICAgCiAgICAgICAgdmFyIHBvcHVwXzM3YWQ1NjhmMzg3ZDQ1MDg5YjhjMjZjMTRjMGQ3Y2I5ID0gTC5wb3B1cCh7Im1heFdpZHRoIjogIjEwMCUifSk7CgogICAgICAgIAogICAgICAgICAgICB2YXIgaHRtbF9kZTViNGY1ZGYxNTU0ZjIxYjU3MTQ2M2UwMWJhOTYzZCA9ICQoYDxkaXYgaWQ9Imh0bWxfZGU1YjRmNWRmMTU1NGYyMWI1NzE0NjNlMDFiYTk2M2QiIHN0eWxlPSJ3aWR0aDogMTAwLjAlOyBoZWlnaHQ6IDEwMC4wJTsiPktJUkJZIEZPUkVOU0lDIFBTWUNISUFUUklDIENFTlRFUjwvZGl2PmApWzBdOwogICAgICAgICAgICBwb3B1cF8zN2FkNTY4ZjM4N2Q0NTA4OWI4YzI2YzE0YzBkN2NiOS5zZXRDb250ZW50KGh0bWxfZGU1YjRmNWRmMTU1NGYyMWI1NzE0NjNlMDFiYTk2M2QpOwogICAgICAgIAoKICAgICAgICBtYXJrZXJfOGI3ZWRkZjVhMDNiNGRhMjgyYjY4NTE4NmZiZDllYjguYmluZFBvcHVwKHBvcHVwXzM3YWQ1NjhmMzg3ZDQ1MDg5YjhjMjZjMTRjMGQ3Y2I5KQogICAgICAgIDsKCiAgICAgICAgCiAgICAKICAgIAogICAgICAgICAgICB2YXIgbWFya2VyXzhkZTRmZTg4YzAwYjQzYTc5ZWE5NTMxYmY2NWMzOTJkID0gTC5tYXJrZXIoCiAgICAgICAgICAgICAgICBbNDAuNzg4MzA1NDMzMDAwMDU1LCAtNzMuOTMwNzY5MTc0OTk5OTddLAogICAgICAgICAgICAgICAge30KICAgICAgICAgICAgKS5hZGRUbyhtYXJrZXJfY2x1c3Rlcl9kMjU3MzBiOGRlYWY0ZDdjODJmZGQwYmQ4NDc3MjJjZCk7CiAgICAgICAgCiAgICAKICAgICAgICB2YXIgcG9wdXBfNDJjYzk1MWJjY2NhNDY1OWI2NWNiNmE1ZmM2NzFkMmIgPSBMLnBvcHVwKHsibWF4V2lkdGgiOiAiMTAwJSJ9KTsKCiAgICAgICAgCiAgICAgICAgICAgIHZhciBodG1sX2ViYzIwOTJlZGNhZTQ1MDdhOWYyOTdiZjU2MjE4YTQyID0gJChgPGRpdiBpZD0iaHRtbF9lYmMyMDkyZWRjYWU0NTA3YTlmMjk3YmY1NjIxOGE0MiIgc3R5bGU9IndpZHRoOiAxMDAuMCU7IGhlaWdodDogMTAwLjAlOyI+TUFOSEFUVEFOIFBTWUNISUFUUklDIENFTlRFUjwvZGl2PmApWzBdOwogICAgICAgICAgICBwb3B1cF80MmNjOTUxYmNjY2E0NjU5YjY1Y2I2YTVmYzY3MWQyYi5zZXRDb250ZW50KGh0bWxfZWJjMjA5MmVkY2FlNDUwN2E5ZjI5N2JmNTYyMThhNDIpOwogICAgICAgIAoKICAgICAgICBtYXJrZXJfOGRlNGZlODhjMDBiNDNhNzllYTk1MzFiZjY1YzM5MmQuYmluZFBvcHVwKHBvcHVwXzQyY2M5NTFiY2NjYTQ2NTliNjVjYjZhNWZjNjcxZDJiKQogICAgICAgIDsKCiAgICAgICAgCiAgICAKICAgIAogICAgICAgICAgICB2YXIgbWFya2VyXzlmMjRmYjQ3OTYzNDQ3ZTRiNWVjODIwMmYzN2UwMThjID0gTC5tYXJrZXIoCiAgICAgICAgICAgICAgICBbNDAuODQyNDAyMDM2MDAwMDYsIC03My45NDQ1NDgzODY5OTk5NF0sCiAgICAgICAgICAgICAgICB7fQogICAgICAgICAgICApLmFkZFRvKG1hcmtlcl9jbHVzdGVyX2QyNTczMGI4ZGVhZjRkN2M4MmZkZDBiZDg0NzcyMmNkKTsKICAgICAgICAKICAgIAogICAgICAgIHZhciBwb3B1cF84Mjc0NDY1NWQ3OTM0MjgyYjlkMTZlYzgyOTA0OWQ3MiA9IEwucG9wdXAoeyJtYXhXaWR0aCI6ICIxMDAlIn0pOwoKICAgICAgICAKICAgICAgICAgICAgdmFyIGh0bWxfZDdiNTNiYjY1ZTliNGM2NmIzN2QyYzcxMGU2ZjI5YWYgPSAkKGA8ZGl2IGlkPSJodG1sX2Q3YjUzYmI2NWU5YjRjNjZiMzdkMmM3MTBlNmYyOWFmIiBzdHlsZT0id2lkdGg6IDEwMC4wJTsgaGVpZ2h0OiAxMDAuMCU7Ij5ORVcgWU9SSyBQU1lDSElBVFJJQyBJTlNUSVRVVEU8L2Rpdj5gKVswXTsKICAgICAgICAgICAgcG9wdXBfODI3NDQ2NTVkNzkzNDI4MmI5ZDE2ZWM4MjkwNDlkNzIuc2V0Q29udGVudChodG1sX2Q3YjUzYmI2NWU5YjRjNjZiMzdkMmM3MTBlNmYyOWFmKTsKICAgICAgICAKCiAgICAgICAgbWFya2VyXzlmMjRmYjQ3OTYzNDQ3ZTRiNWVjODIwMmYzN2UwMThjLmJpbmRQb3B1cChwb3B1cF84Mjc0NDY1NWQ3OTM0MjgyYjlkMTZlYzgyOTA0OWQ3MikKICAgICAgICA7CgogICAgICAgIAogICAgCiAgICAKICAgICAgICAgICAgdmFyIG1hcmtlcl8xZjg3M2QzZjFiMGE0YmVjYTgwYWVkMmUzNzFkMGE4NSA9IEwubWFya2VyKAogICAgICAgICAgICAgICAgWzQzLjE2NzQzNjcyNzAwMDA0NSwgLTc1LjMwMjMyMTQ5MDk5OTk5XSwKICAgICAgICAgICAgICAgIHt9CiAgICAgICAgICAgICkuYWRkVG8obWFya2VyX2NsdXN0ZXJfZDI1NzMwYjhkZWFmNGQ3YzgyZmRkMGJkODQ3NzIyY2QpOwogICAgICAgIAogICAgCiAgICAgICAgdmFyIHBvcHVwXzcxNWVhZTg0N2VjYjRkMzY5ODA1MzViMGQ5ZWI3YjMyID0gTC5wb3B1cCh7Im1heFdpZHRoIjogIjEwMCUifSk7CgogICAgICAgIAogICAgICAgICAgICB2YXIgaHRtbF8wMTJlNzRiY2YxNGE0ZDNmYTU3NTBjM2YzZjMxYWM5MyA9ICQoYDxkaXYgaWQ9Imh0bWxfMDEyZTc0YmNmMTRhNGQzZmE1NzUwYzNmM2YzMWFjOTMiIHN0eWxlPSJ3aWR0aDogMTAwLjAlOyBoZWlnaHQ6IDEwMC4wJTsiPkNFTlRSQUwgTkVXIFlPUksgUFNZQ0hJQVRSSUMgQ0VOVEVSPC9kaXY+YClbMF07CiAgICAgICAgICAgIHBvcHVwXzcxNWVhZTg0N2VjYjRkMzY5ODA1MzViMGQ5ZWI3YjMyLnNldENvbnRlbnQoaHRtbF8wMTJlNzRiY2YxNGE0ZDNmYTU3NTBjM2YzZjMxYWM5Myk7CiAgICAgICAgCgogICAgICAgIG1hcmtlcl8xZjg3M2QzZjFiMGE0YmVjYTgwYWVkMmUzNzFkMGE4NS5iaW5kUG9wdXAocG9wdXBfNzE1ZWFlODQ3ZWNiNGQzNjk4MDUzNWIwZDllYjdiMzIpCiAgICAgICAgOwoKICAgICAgICAKICAgIAogICAgCiAgICAgICAgICAgIHZhciBtYXJrZXJfY2E0MGUxNWQxNzY1NDU3Y2FjMWM4OWY0OTU0ZmEzN2QgPSBMLm1hcmtlcigKICAgICAgICAgICAgICAgIFs0My4xMDAxNjExMjgwMDAwMSwgLTc1LjI2MDA4NzMxOV0sCiAgICAgICAgICAgICAgICB7fQogICAgICAgICAgICApLmFkZFRvKG1hcmtlcl9jbHVzdGVyX2QyNTczMGI4ZGVhZjRkN2M4MmZkZDBiZDg0NzcyMmNkKTsKICAgICAgICAKICAgIAogICAgICAgIHZhciBwb3B1cF9mYTc5ZDM1ZmNhNzE0YzY5YjcyYjVjYjRjOThhMzE0MyA9IEwucG9wdXAoeyJtYXhXaWR0aCI6ICIxMDAlIn0pOwoKICAgICAgICAKICAgICAgICAgICAgdmFyIGh0bWxfOGM2YWVlNWZkMjFlNDQ0MjgxNDM0MjYzMGFkMDlmN2EgPSAkKGA8ZGl2IGlkPSJodG1sXzhjNmFlZTVmZDIxZTQ0NDI4MTQzNDI2MzBhZDA5ZjdhIiBzdHlsZT0id2lkdGg6IDEwMC4wJTsgaGVpZ2h0OiAxMDAuMCU7Ij5NT0hBV0sgVkFMTEVZIFBTWUNISUFUUklDIENFTlRFUjwvZGl2PmApWzBdOwogICAgICAgICAgICBwb3B1cF9mYTc5ZDM1ZmNhNzE0YzY5YjcyYjVjYjRjOThhMzE0My5zZXRDb250ZW50KGh0bWxfOGM2YWVlNWZkMjFlNDQ0MjgxNDM0MjYzMGFkMDlmN2EpOwogICAgICAgIAoKICAgICAgICBtYXJrZXJfY2E0MGUxNWQxNzY1NDU3Y2FjMWM4OWY0OTU0ZmEzN2QuYmluZFBvcHVwKHBvcHVwX2ZhNzlkMzVmY2E3MTRjNjliNzJiNWNiNGM5OGEzMTQzKQogICAgICAgIDsKCiAgICAgICAgCiAgICAKICAgIAogICAgICAgICAgICB2YXIgbWFya2VyXzE3NGE4Yjc0ZmY5NDRkODFiMDY0M2YxZGQwOTlkZDdlID0gTC5tYXJrZXIoCiAgICAgICAgICAgICAgICBbNDEuNDA1NjcxNzE5MDAwMDUsIC03NC4zOTI1MjI4MDQ5OTk5M10sCiAgICAgICAgICAgICAgICB7fQogICAgICAgICAgICApLmFkZFRvKG1hcmtlcl9jbHVzdGVyX2QyNTczMGI4ZGVhZjRkN2M4MmZkZDBiZDg0NzcyMmNkKTsKICAgICAgICAKICAgIAogICAgICAgIHZhciBwb3B1cF80NmY2YjlhZDRhM2M0ZjY1YjBiNmJhZTgyNDY4NDM4YSA9IEwucG9wdXAoeyJtYXhXaWR0aCI6ICIxMDAlIn0pOwoKICAgICAgICAKICAgICAgICAgICAgdmFyIGh0bWxfYTg5N2NiZGIwYWJkNGQzNGI1NGNkOGY3Mjk5MWViNGIgPSAkKGA8ZGl2IGlkPSJodG1sX2E4OTdjYmRiMGFiZDRkMzRiNTRjZDhmNzI5OTFlYjRiIiBzdHlsZT0id2lkdGg6IDEwMC4wJTsgaGVpZ2h0OiAxMDAuMCU7Ij5NSUQgSFVEU09OIEZPUkVOU0lDIFBTWUNISUFUUklDIENFTlRFUjwvZGl2PmApWzBdOwogICAgICAgICAgICBwb3B1cF80NmY2YjlhZDRhM2M0ZjY1YjBiNmJhZTgyNDY4NDM4YS5zZXRDb250ZW50KGh0bWxfYTg5N2NiZGIwYWJkNGQzNGI1NGNkOGY3Mjk5MWViNGIpOwogICAgICAgIAoKICAgICAgICBtYXJrZXJfMTc0YThiNzRmZjk0NGQ4MWIwNjQzZjFkZDA5OWRkN2UuYmluZFBvcHVwKHBvcHVwXzQ2ZjZiOWFkNGEzYzRmNjViMGI2YmFlODI0Njg0MzhhKQogICAgICAgIDsKCiAgICAgICAgCiAgICAKICAgIAogICAgICAgICAgICB2YXIgbWFya2VyX2QwY2FiMjg2MTJlMzRmNjhhYjVlY2MyNzY5ZTEzOTM1ID0gTC5tYXJrZXIoCiAgICAgICAgICAgICAgICBbNDAuNzQxMTM5NTA5MDAwMDUsIC03My43MzE1MjUyOTg5OTk5NF0sCiAgICAgICAgICAgICAgICB7fQogICAgICAgICAgICApLmFkZFRvKG1hcmtlcl9jbHVzdGVyX2QyNTczMGI4ZGVhZjRkN2M4MmZkZDBiZDg0NzcyMmNkKTsKICAgICAgICAKICAgIAogICAgICAgIHZhciBwb3B1cF82YzM4MDYyMjhmMTk0Y2UyYWVlNTgzYTk5NTI1MTZkYSA9IEwucG9wdXAoeyJtYXhXaWR0aCI6ICIxMDAlIn0pOwoKICAgICAgICAKICAgICAgICAgICAgdmFyIGh0bWxfMTU4ZTBhYzFmODliNDk0Nzg1ZDVlOWQ5N2IzYzdhZTEgPSAkKGA8ZGl2IGlkPSJodG1sXzE1OGUwYWMxZjg5YjQ5NDc4NWQ1ZTlkOTdiM2M3YWUxIiBzdHlsZT0id2lkdGg6IDEwMC4wJTsgaGVpZ2h0OiAxMDAuMCU7Ij5DUkVFRE1PT1IgUFNZQ0hJQVRSSUMgQ0VOVEVSPC9kaXY+YClbMF07CiAgICAgICAgICAgIHBvcHVwXzZjMzgwNjIyOGYxOTRjZTJhZWU1ODNhOTk1MjUxNmRhLnNldENvbnRlbnQoaHRtbF8xNThlMGFjMWY4OWI0OTQ3ODVkNWU5ZDk3YjNjN2FlMSk7CiAgICAgICAgCgogICAgICAgIG1hcmtlcl9kMGNhYjI4NjEyZTM0ZjY4YWI1ZWNjMjc2OWUxMzkzNS5iaW5kUG9wdXAocG9wdXBfNmMzODA2MjI4ZjE5NGNlMmFlZTU4M2E5OTUyNTE2ZGEpCiAgICAgICAgOwoKICAgICAgICAKICAgIAogICAgCiAgICAgICAgICAgIHZhciBtYXJrZXJfOTViZGUzMTc2MDlmNDRiMDhiMmZhNGQ0Zjg4ZjhkNmEgPSBMLm1hcmtlcigKICAgICAgICAgICAgICAgIFs0MC43NDU1MzY3NTMwMDAwNywgLTczLjcyNTc0MzIwODk5OTk3XSwKICAgICAgICAgICAgICAgIHt9CiAgICAgICAgICAgICkuYWRkVG8obWFya2VyX2NsdXN0ZXJfZDI1NzMwYjhkZWFmNGQ3YzgyZmRkMGJkODQ3NzIyY2QpOwogICAgICAgIAogICAgCiAgICAgICAgdmFyIHBvcHVwX2MwOGU1OGY0ZDhhMTRiZjk5NmI0YjkxN2FlYzlkY2I5ID0gTC5wb3B1cCh7Im1heFdpZHRoIjogIjEwMCUifSk7CgogICAgICAgIAogICAgICAgICAgICB2YXIgaHRtbF81ZDU4M2E4ZmQzODE0ZGZjODA3ZjM3Yjk5MDVkZThmNSA9ICQoYDxkaXYgaWQ9Imh0bWxfNWQ1ODNhOGZkMzgxNGRmYzgwN2YzN2I5OTA1ZGU4ZjUiIHN0eWxlPSJ3aWR0aDogMTAwLjAlOyBoZWlnaHQ6IDEwMC4wJTsiPk5FVyBZT1JLIENJVFkgQ0hJTERSRU4nUyBDRU5URVIgUVVFRU5TIElOUEFUSUVOVDwvZGl2PmApWzBdOwogICAgICAgICAgICBwb3B1cF9jMDhlNThmNGQ4YTE0YmY5OTZiNGI5MTdhZWM5ZGNiOS5zZXRDb250ZW50KGh0bWxfNWQ1ODNhOGZkMzgxNGRmYzgwN2YzN2I5OTA1ZGU4ZjUpOwogICAgICAgIAoKICAgICAgICBtYXJrZXJfOTViZGUzMTc2MDlmNDRiMDhiMmZhNGQ0Zjg4ZjhkNmEuYmluZFBvcHVwKHBvcHVwX2MwOGU1OGY0ZDhhMTRiZjk5NmI0YjkxN2FlYzlkY2I5KQogICAgICAgIDsKCiAgICAgICAgCiAgICAKICAgIAogICAgICAgICAgICB2YXIgbWFya2VyXzllY2Q3MWE5MWM1YTRlNWY5NWU2Zjc4MDc3MWNlY2IzID0gTC5tYXJrZXIoCiAgICAgICAgICAgICAgICBbNDAuNTgyMDE1MDQ2MDAwMDQsIC03NC4wODA2MTcyNzE5OTk5OF0sCiAgICAgICAgICAgICAgICB7fQogICAgICAgICAgICApLmFkZFRvKG1hcmtlcl9jbHVzdGVyX2QyNTczMGI4ZGVhZjRkN2M4MmZkZDBiZDg0NzcyMmNkKTsKICAgICAgICAKICAgIAogICAgICAgIHZhciBwb3B1cF9jZjUyY2I4YjUyZGU0YWE2Yjg1OTdiYjg1YjI0MzYxOCA9IEwucG9wdXAoeyJtYXhXaWR0aCI6ICIxMDAlIn0pOwoKICAgICAgICAKICAgICAgICAgICAgdmFyIGh0bWxfYTc4MDBjZTljZGY1NGYzYzk3ZjMzODBkYThmMDMyMDYgPSAkKGA8ZGl2IGlkPSJodG1sX2E3ODAwY2U5Y2RmNTRmM2M5N2YzMzgwZGE4ZjAzMjA2IiBzdHlsZT0id2lkdGg6IDEwMC4wJTsgaGVpZ2h0OiAxMDAuMCU7Ij5TT1VUSCBCRUFDSCBQU1lDSElBVFJJQyBDRU5URVI8L2Rpdj5gKVswXTsKICAgICAgICAgICAgcG9wdXBfY2Y1MmNiOGI1MmRlNGFhNmI4NTk3YmI4NWIyNDM2MTguc2V0Q29udGVudChodG1sX2E3ODAwY2U5Y2RmNTRmM2M5N2YzMzgwZGE4ZjAzMjA2KTsKICAgICAgICAKCiAgICAgICAgbWFya2VyXzllY2Q3MWE5MWM1YTRlNWY5NWU2Zjc4MDc3MWNlY2IzLmJpbmRQb3B1cChwb3B1cF9jZjUyY2I4YjUyZGU0YWE2Yjg1OTdiYjg1YjI0MzYxOCkKICAgICAgICA7CgogICAgICAgIAogICAgCiAgICAKICAgICAgICAgICAgdmFyIG1hcmtlcl85MDU0MDY0MWY3ZmY0ZmY3YTY1NTNiMjg3MzNlYjg1NCA9IEwubWFya2VyKAogICAgICAgICAgICAgICAgWzQyLjA5MTYxMTI3MjAwMDA4LCAtNzYuNzk1MDQ5NzEyOTk5OTVdLAogICAgICAgICAgICAgICAge30KICAgICAgICAgICAgKS5hZGRUbyhtYXJrZXJfY2x1c3Rlcl9kMjU3MzBiOGRlYWY0ZDdjODJmZGQwYmQ4NDc3MjJjZCk7CiAgICAgICAgCiAgICAKICAgICAgICB2YXIgcG9wdXBfYzhiY2JmZjNhZWY5NDY3NjhhNjliNmJjMTVkMjFiOGEgPSBMLnBvcHVwKHsibWF4V2lkdGgiOiAiMTAwJSJ9KTsKCiAgICAgICAgCiAgICAgICAgICAgIHZhciBodG1sXzgxNGIzMzI3MDk2YjQzOWY4ODU5OTA1MWFhODExM2NhID0gJChgPGRpdiBpZD0iaHRtbF84MTRiMzMyNzA5NmI0MzlmODg1OTkwNTFhYTgxMTNjYSIgc3R5bGU9IndpZHRoOiAxMDAuMCU7IGhlaWdodDogMTAwLjAlOyI+RUxNSVJBIFBTWUNISUFUUklDIENFTlRFUjwvZGl2PmApWzBdOwogICAgICAgICAgICBwb3B1cF9jOGJjYmZmM2FlZjk0Njc2OGE2OWI2YmMxNWQyMWI4YS5zZXRDb250ZW50KGh0bWxfODE0YjMzMjcwOTZiNDM5Zjg4NTk5MDUxYWE4MTEzY2EpOwogICAgICAgIAoKICAgICAgICBtYXJrZXJfOTA1NDA2NDFmN2ZmNGZmN2E2NTUzYjI4NzMzZWI4NTQuYmluZFBvcHVwKHBvcHVwX2M4YmNiZmYzYWVmOTQ2NzY4YTY5YjZiYzE1ZDIxYjhhKQogICAgICAgIDsKCiAgICAgICAgCiAgICAKICAgIAogICAgICAgICAgICB2YXIgbWFya2VyXzFjNGQ2MTU5YmM5NTRhMGRhODFkOGVjNDQwMjFmN2ZjID0gTC5tYXJrZXIoCiAgICAgICAgICAgICAgICBbNDQuOTc1NzgwMzQ3MDAwMDcsIC03NC42Njc0MDc0MzA5OTk5N10sCiAgICAgICAgICAgICAgICB7fQogICAgICAgICAgICApLmFkZFRvKG1hcmtlcl9jbHVzdGVyX2QyNTczMGI4ZGVhZjRkN2M4MmZkZDBiZDg0NzcyMmNkKTsKICAgICAgICAKICAgIAogICAgICAgIHZhciBwb3B1cF85ZmZiZWY0NjNiZjY0NTQwYTI0ZDlhOTgyMDhiMzIwZSA9IEwucG9wdXAoeyJtYXhXaWR0aCI6ICIxMDAlIn0pOwoKICAgICAgICAKICAgICAgICAgICAgdmFyIGh0bWxfN2M1YWYxYmZkZTVkNDgyYzg3YjkzZTg5MzM3NThmYWIgPSAkKGA8ZGl2IGlkPSJodG1sXzdjNWFmMWJmZGU1ZDQ4MmM4N2I5M2U4OTMzNzU4ZmFiIiBzdHlsZT0id2lkdGg6IDEwMC4wJTsgaGVpZ2h0OiAxMDAuMCU7Ij5QQVJUUklER0UgSE9VU0U8L2Rpdj5gKVswXTsKICAgICAgICAgICAgcG9wdXBfOWZmYmVmNDYzYmY2NDU0MGEyNGQ5YTk4MjA4YjMyMGUuc2V0Q29udGVudChodG1sXzdjNWFmMWJmZGU1ZDQ4MmM4N2I5M2U4OTMzNzU4ZmFiKTsKICAgICAgICAKCiAgICAgICAgbWFya2VyXzFjNGQ2MTU5YmM5NTRhMGRhODFkOGVjNDQwMjFmN2ZjLmJpbmRQb3B1cChwb3B1cF85ZmZiZWY0NjNiZjY0NTQwYTI0ZDlhOTgyMDhiMzIwZSkKICAgICAgICA7CgogICAgICAgIAogICAgCiAgICAKICAgICAgICAgICAgdmFyIG1hcmtlcl81MzZkY2VkNjZlNjI0OTQyYTFjZjkwNWNjZTY3OTEyYSA9IEwubWFya2VyKAogICAgICAgICAgICAgICAgWzQzLjIyMzI0NzQ0MTAwMDA3LCAtNzguMzk3NTkyNzQ2OTk5OThdLAogICAgICAgICAgICAgICAge30KICAgICAgICAgICAgKS5hZGRUbyhtYXJrZXJfY2x1c3Rlcl9kMjU3MzBiOGRlYWY0ZDdjODJmZGQwYmQ4NDc3MjJjZCk7CiAgICAgICAgCiAgICAKICAgICAgICB2YXIgcG9wdXBfMmQ1Njg2OWMyNmI5NDNjYjgyOWJjOWM5ZGFkNjgzMDcgPSBMLnBvcHVwKHsibWF4V2lkdGgiOiAiMTAwJSJ9KTsKCiAgICAgICAgCiAgICAgICAgICAgIHZhciBodG1sX2JjMzljMjI1OTU5YTRjNDhiM2ZmNWM5NjA2YjgwMTNkID0gJChgPGRpdiBpZD0iaHRtbF9iYzM5YzIyNTk1OWE0YzQ4YjNmZjVjOTYwNmI4MDEzZCIgc3R5bGU9IndpZHRoOiAxMDAuMCU7IGhlaWdodDogMTAwLjAlOyI+TUVESU5BIE1FTU9SSUFMIEhPU1BJVEFMPC9kaXY+YClbMF07CiAgICAgICAgICAgIHBvcHVwXzJkNTY4NjljMjZiOTQzY2I4MjliYzljOWRhZDY4MzA3LnNldENvbnRlbnQoaHRtbF9iYzM5YzIyNTk1OWE0YzQ4YjNmZjVjOTYwNmI4MDEzZCk7CiAgICAgICAgCgogICAgICAgIG1hcmtlcl81MzZkY2VkNjZlNjI0OTQyYTFjZjkwNWNjZTY3OTEyYS5iaW5kUG9wdXAocG9wdXBfMmQ1Njg2OWMyNmI5NDNjYjgyOWJjOWM5ZGFkNjgzMDcpCiAgICAgICAgOwoKICAgICAgICAKICAgIAogICAgCiAgICAgICAgICAgIHZhciBtYXJrZXJfMGZjYWIwNzRkMWRiNDNiN2E4YTgyYTAyYjRhODcxYjYgPSBMLm1hcmtlcigKICAgICAgICAgICAgICAgIFs0MC45ODkxMTg0MDMwMDAwOCwgLTczLjcwOTM1MjIyMDk5OTk2XSwKICAgICAgICAgICAgICAgIHt9CiAgICAgICAgICAgICkuYWRkVG8obWFya2VyX2NsdXN0ZXJfZDI1NzMwYjhkZWFmNGQ3YzgyZmRkMGJkODQ3NzIyY2QpOwogICAgICAgIAogICAgCiAgICAgICAgdmFyIHBvcHVwX2Q2NjI0OTg4NzQ2ZjRhOTE5YWNmYmEzOWU1ZWY5NTE1ID0gTC5wb3B1cCh7Im1heFdpZHRoIjogIjEwMCUifSk7CgogICAgICAgIAogICAgICAgICAgICB2YXIgaHRtbF9hNDJlNTAyOTE4Njc0NTQwODg4YTZmNWI0ZDFjZTg3MCA9ICQoYDxkaXYgaWQ9Imh0bWxfYTQyZTUwMjkxODY3NDU0MDg4OGE2ZjViNGQxY2U4NzAiIHN0eWxlPSJ3aWR0aDogMTAwLjAlOyBoZWlnaHQ6IDEwMC4wJTsiPlNULiBWSU5DRU5UJ1MgSE9TUElUQUwgV0VTVENIRVNURVI8L2Rpdj5gKVswXTsKICAgICAgICAgICAgcG9wdXBfZDY2MjQ5ODg3NDZmNGE5MTlhY2ZiYTM5ZTVlZjk1MTUuc2V0Q29udGVudChodG1sX2E0MmU1MDI5MTg2NzQ1NDA4ODhhNmY1YjRkMWNlODcwKTsKICAgICAgICAKCiAgICAgICAgbWFya2VyXzBmY2FiMDc0ZDFkYjQzYjdhOGE4MmEwMmI0YTg3MWI2LmJpbmRQb3B1cChwb3B1cF9kNjYyNDk4ODc0NmY0YTkxOWFjZmJhMzllNWVmOTUxNSkKICAgICAgICA7CgogICAgICAgIAogICAgCiAgICAKICAgICAgICAgICAgdmFyIG1hcmtlcl85ZmQ3YjJiMWEyYWM0OWFlYWJlMjI0MGE0OGM0ZDdhZCA9IEwubWFya2VyKAogICAgICAgICAgICAgICAgWzQzLjI4ODU1OTk0NzAwMDA3NCwgLTc4LjcwODMxNjk1Njk5OTk1XSwKICAgICAgICAgICAgICAgIHt9CiAgICAgICAgICAgICkuYWRkVG8obWFya2VyX2NsdXN0ZXJfZDI1NzMwYjhkZWFmNGQ3YzgyZmRkMGJkODQ3NzIyY2QpOwogICAgICAgIAogICAgCiAgICAgICAgdmFyIHBvcHVwX2I2YWM4MGI3MjQyNjRmNTJhNzk4OTBiMzM3MzViOWYwID0gTC5wb3B1cCh7Im1heFdpZHRoIjogIjEwMCUifSk7CgogICAgICAgIAogICAgICAgICAgICB2YXIgaHRtbF81MTc4MWVlZTcwZjc0Njc0YWY0ZTVjZTNjY2Q0OGVlMyA9ICQoYDxkaXYgaWQ9Imh0bWxfNTE3ODFlZWU3MGY3NDY3NGFmNGU1Y2UzY2NkNDhlZTMiIHN0eWxlPSJ3aWR0aDogMTAwLjAlOyBoZWlnaHQ6IDEwMC4wJTsiPkVBU1RFUk4gTklBR0FSQSBIT1NQSVRBTDwvZGl2PmApWzBdOwogICAgICAgICAgICBwb3B1cF9iNmFjODBiNzI0MjY0ZjUyYTc5ODkwYjMzNzM1YjlmMC5zZXRDb250ZW50KGh0bWxfNTE3ODFlZWU3MGY3NDY3NGFmNGU1Y2UzY2NkNDhlZTMpOwogICAgICAgIAoKICAgICAgICBtYXJrZXJfOWZkN2IyYjFhMmFjNDlhZWFiZTIyNDBhNDhjNGQ3YWQuYmluZFBvcHVwKHBvcHVwX2I2YWM4MGI3MjQyNjRmNTJhNzk4OTBiMzM3MzViOWYwKQogICAgICAgIDsKCiAgICAgICAgCiAgICAKICAgIAogICAgICAgICAgICB2YXIgbWFya2VyX2Q3ODIzNTA4ZjE4NzRlM2Y5NDYwMWQxYmNjMjJhODhkID0gTC5tYXJrZXIoCiAgICAgICAgICAgICAgICBbNDIuNTQxMTU5MzE1MDAwMDcsIC03NS41MjU3OTg2MTk5OTk5N10sCiAgICAgICAgICAgICAgICB7fQogICAgICAgICAgICApLmFkZFRvKG1hcmtlcl9jbHVzdGVyX2QyNTczMGI4ZGVhZjRkN2M4MmZkZDBiZDg0NzcyMmNkKTsKICAgICAgICAKICAgIAogICAgICAgIHZhciBwb3B1cF9kMmE3OWE0NDY0YmI0MWMzODY5NGMzMTdkYTczY2EyNCA9IEwucG9wdXAoeyJtYXhXaWR0aCI6ICIxMDAlIn0pOwoKICAgICAgICAKICAgICAgICAgICAgdmFyIGh0bWxfNzVkZTQzNTVlZTczNDZiMWFiMzA5ZGNiMDZlYmRjNWEgPSAkKGA8ZGl2IGlkPSJodG1sXzc1ZGU0MzU1ZWU3MzQ2YjFhYjMwOWRjYjA2ZWJkYzVhIiBzdHlsZT0id2lkdGg6IDEwMC4wJTsgaGVpZ2h0OiAxMDAuMCU7Ij5DSEVOQU5HTyBNRU1PUklBTCBIT1NQSVRBTDwvZGl2PmApWzBdOwogICAgICAgICAgICBwb3B1cF9kMmE3OWE0NDY0YmI0MWMzODY5NGMzMTdkYTczY2EyNC5zZXRDb250ZW50KGh0bWxfNzVkZTQzNTVlZTczNDZiMWFiMzA5ZGNiMDZlYmRjNWEpOwogICAgICAgIAoKICAgICAgICBtYXJrZXJfZDc4MjM1MDhmMTg3NGUzZjk0NjAxZDFiY2MyMmE4OGQuYmluZFBvcHVwKHBvcHVwX2QyYTc5YTQ0NjRiYjQxYzM4Njk0YzMxN2RhNzNjYTI0KQogICAgICAgIDsKCiAgICAgICAgCiAgICAKICAgIAogICAgICAgICAgICB2YXIgbWFya2VyXzE5ZjkzNDUxYzJlMDQ0YTQ5NDZkN2M4MDE0OGI4Zjk3ID0gTC5tYXJrZXIoCiAgICAgICAgICAgICAgICBbNDIuMjY4MzUxNDMxMDAwMDM1LCAtNzQuOTE2MzkxMDAyOTk5OTNdLAogICAgICAgICAgICAgICAge30KICAgICAgICAgICAgKS5hZGRUbyhtYXJrZXJfY2x1c3Rlcl9kMjU3MzBiOGRlYWY0ZDdjODJmZGQwYmQ4NDc3MjJjZCk7CiAgICAgICAgCiAgICAKICAgICAgICB2YXIgcG9wdXBfYTNiYThiM2Q0MjIxNDNhZGExNWFkOTBkZTgxZTcyODYgPSBMLnBvcHVwKHsibWF4V2lkdGgiOiAiMTAwJSJ9KTsKCiAgICAgICAgCiAgICAgICAgICAgIHZhciBodG1sX2I5ZmEwOTYzZTJkYTQ4NjBiZTZkMTVlY2QwYWY0MmI0ID0gJChgPGRpdiBpZD0iaHRtbF9iOWZhMDk2M2UyZGE0ODYwYmU2ZDE1ZWNkMGFmNDJiNCIgc3R5bGU9IndpZHRoOiAxMDAuMCU7IGhlaWdodDogMTAwLjAlOyI+TydDT05OT1IgSE9TUElUQUw8L2Rpdj5gKVswXTsKICAgICAgICAgICAgcG9wdXBfYTNiYThiM2Q0MjIxNDNhZGExNWFkOTBkZTgxZTcyODYuc2V0Q29udGVudChodG1sX2I5ZmEwOTYzZTJkYTQ4NjBiZTZkMTVlY2QwYWY0MmI0KTsKICAgICAgICAKCiAgICAgICAgbWFya2VyXzE5ZjkzNDUxYzJlMDQ0YTQ5NDZkN2M4MDE0OGI4Zjk3LmJpbmRQb3B1cChwb3B1cF9hM2JhOGIzZDQyMjE0M2FkYTE1YWQ5MGRlODFlNzI4NikKICAgICAgICA7CgogICAgICAgIAogICAgCiAgICAKICAgICAgICAgICAgdmFyIG1hcmtlcl9mM2I1NDc1Y2Y0MGI0NDY5YjAyMTE0NWZiMjc5MzJhNiA9IEwubWFya2VyKAogICAgICAgICAgICAgICAgWzQwLjc3MDMwMjE0MzAwMDA0LCAtNzMuOTQyMTQzODc2OTk5OTZdLAogICAgICAgICAgICAgICAge30KICAgICAgICAgICAgKS5hZGRUbyhtYXJrZXJfY2x1c3Rlcl9kMjU3MzBiOGRlYWY0ZDdjODJmZGQwYmQ4NDc3MjJjZCk7CiAgICAgICAgCiAgICAKICAgICAgICB2YXIgcG9wdXBfODFlZGYxZWIyNWU2NGRmYmEzY2M0ZDg5MGQ4MTQ4MzkgPSBMLnBvcHVwKHsibWF4V2lkdGgiOiAiMTAwJSJ9KTsKCiAgICAgICAgCiAgICAgICAgICAgIHZhciBodG1sXzMzYWFmYjU0MWE3NzQxZGRhZGRiYzkwODM5OGUzMDY3ID0gJChgPGRpdiBpZD0iaHRtbF8zM2FhZmI1NDFhNzc0MWRkYWRkYmM5MDgzOThlMzA2NyIgc3R5bGU9IndpZHRoOiAxMDAuMCU7IGhlaWdodDogMTAwLjAlOyI+Q09MRVItR09MRFdBVEVSIFNQRUNJQUxUWSBIT1NQSVRBTCAmIE5VUlNJTkcgRkFDSUxJVFkgLSBDT0xFUiBIT1NQSVRBTCBTSVRFPC9kaXY+YClbMF07CiAgICAgICAgICAgIHBvcHVwXzgxZWRmMWViMjVlNjRkZmJhM2NjNGQ4OTBkODE0ODM5LnNldENvbnRlbnQoaHRtbF8zM2FhZmI1NDFhNzc0MWRkYWRkYmM5MDgzOThlMzA2Nyk7CiAgICAgICAgCgogICAgICAgIG1hcmtlcl9mM2I1NDc1Y2Y0MGI0NDY5YjAyMTE0NWZiMjc5MzJhNi5iaW5kUG9wdXAocG9wdXBfODFlZGYxZWIyNWU2NGRmYmEzY2M0ZDg5MGQ4MTQ4MzkpCiAgICAgICAgOwoKICAgICAgICAKICAgIAogICAgCiAgICAgICAgICAgIHZhciBtYXJrZXJfZmU1NTQ5MjliNWQ3NGM0MDllNTRlNDMwMjg0YmEzOTggPSBMLm1hcmtlcigKICAgICAgICAgICAgICAgIFs0My4wNTU5MzMwNzUwMDAwMiwgLTc2LjE1MDA2MTY3MTk5OTk0XSwKICAgICAgICAgICAgICAgIHt9CiAgICAgICAgICAgICkuYWRkVG8obWFya2VyX2NsdXN0ZXJfZDI1NzMwYjhkZWFmNGQ3YzgyZmRkMGJkODQ3NzIyY2QpOwogICAgICAgIAogICAgCiAgICAgICAgdmFyIHBvcHVwXzIwNWY2ODg4NTE0OTRlNmQ4MjljNjUwMTMxMjg3YzM4ID0gTC5wb3B1cCh7Im1heFdpZHRoIjogIjEwMCUifSk7CgogICAgICAgIAogICAgICAgICAgICB2YXIgaHRtbF8zOTliNzQ2Y2RhZmM0Zjc3OWIzZjY2OGQxYWQ2MjRkNiA9ICQoYDxkaXYgaWQ9Imh0bWxfMzk5Yjc0NmNkYWZjNGY3NzliM2Y2NjhkMWFkNjI0ZDYiIHN0eWxlPSJ3aWR0aDogMTAwLjAlOyBoZWlnaHQ6IDEwMC4wJTsiPlNUIEpPU0VQSCdTIEhPU1BJVEFMIEhFQUxUSCBDRU5URVI8L2Rpdj5gKVswXTsKICAgICAgICAgICAgcG9wdXBfMjA1ZjY4ODg1MTQ5NGU2ZDgyOWM2NTAxMzEyODdjMzguc2V0Q29udGVudChodG1sXzM5OWI3NDZjZGFmYzRmNzc5YjNmNjY4ZDFhZDYyNGQ2KTsKICAgICAgICAKCiAgICAgICAgbWFya2VyX2ZlNTU0OTI5YjVkNzRjNDA5ZTU0ZTQzMDI4NGJhMzk4LmJpbmRQb3B1cChwb3B1cF8yMDVmNjg4ODUxNDk0ZTZkODI5YzY1MDEzMTI4N2MzOCkKICAgICAgICA7CgogICAgICAgIAogICAgCiAgICAKICAgICAgICAgICAgdmFyIG1hcmtlcl8yODg2ZDIwM2EwNDM0ZTA0YjNlMGE5OGY4MmI4NDQwNyA9IEwubWFya2VyKAogICAgICAgICAgICAgICAgWzQwLjgxNzE3MzA1MzAwMDAzLCAtNzMuOTI0Mzc2NjUxXSwKICAgICAgICAgICAgICAgIHt9CiAgICAgICAgICAgICkuYWRkVG8obWFya2VyX2NsdXN0ZXJfZDI1NzMwYjhkZWFmNGQ3YzgyZmRkMGJkODQ3NzIyY2QpOwogICAgICAgIAogICAgCiAgICAgICAgdmFyIHBvcHVwXzY4ODQ3MWE0ZTlhMjQyOTVhNjJlMTQxYThhNGJiMzhmID0gTC5wb3B1cCh7Im1heFdpZHRoIjogIjEwMCUifSk7CgogICAgICAgIAogICAgICAgICAgICB2YXIgaHRtbF9hNTE1YjIwMDFlNGI0MzdiOTI1ZGViZjVkMjcxYTJhYSA9ICQoYDxkaXYgaWQ9Imh0bWxfYTUxNWIyMDAxZTRiNDM3YjkyNWRlYmY1ZDI3MWEyYWEiIHN0eWxlPSJ3aWR0aDogMTAwLjAlOyBoZWlnaHQ6IDEwMC4wJTsiPkxJTkNPTE4gSE9TUElUQUw8L2Rpdj5gKVswXTsKICAgICAgICAgICAgcG9wdXBfNjg4NDcxYTRlOWEyNDI5NWE2MmUxNDFhOGE0YmIzOGYuc2V0Q29udGVudChodG1sX2E1MTViMjAwMWU0YjQzN2I5MjVkZWJmNWQyNzFhMmFhKTsKICAgICAgICAKCiAgICAgICAgbWFya2VyXzI4ODZkMjAzYTA0MzRlMDRiM2UwYTk4ZjgyYjg0NDA3LmJpbmRQb3B1cChwb3B1cF82ODg0NzFhNGU5YTI0Mjk1YTYyZTE0MWE4YTRiYjM4ZikKICAgICAgICA7CgogICAgICAgIAogICAgCiAgICAKICAgICAgICAgICAgdmFyIG1hcmtlcl9kNmMzOTExYTFjOTI0YWIxODljZGNlM2E1ZTQyZDczOSA9IEwubWFya2VyKAogICAgICAgICAgICAgICAgWzQyLjA4NjMxNTU1MzAwMDA4LCAtNzUuOTE0NDQzNzk3OTk5OThdLAogICAgICAgICAgICAgICAge30KICAgICAgICAgICAgKS5hZGRUbyhtYXJrZXJfY2x1c3Rlcl9kMjU3MzBiOGRlYWY0ZDdjODJmZGQwYmQ4NDc3MjJjZCk7CiAgICAgICAgCiAgICAKICAgICAgICB2YXIgcG9wdXBfOWFmNjJmY2JhMjdkNDRkYzg5NzkyNjY3MGY0ODkxZjYgPSBMLnBvcHVwKHsibWF4V2lkdGgiOiAiMTAwJSJ9KTsKCiAgICAgICAgCiAgICAgICAgICAgIHZhciBodG1sXzQ2MjVlZjgzNzk4MjRhNzhhMWZlODQzMGM3MTM1OWVhID0gJChgPGRpdiBpZD0iaHRtbF80NjI1ZWY4Mzc5ODI0YTc4YTFmZTg0MzBjNzEzNTllYSIgc3R5bGU9IndpZHRoOiAxMDAuMCU7IGhlaWdodDogMTAwLjAlOyI+VUhTIEJJTkdIQU1UT04gR0VORVJBTCBIT1NQSVRBTDwvZGl2PmApWzBdOwogICAgICAgICAgICBwb3B1cF85YWY2MmZjYmEyN2Q0NGRjODk3OTI2NjcwZjQ4OTFmNi5zZXRDb250ZW50KGh0bWxfNDYyNWVmODM3OTgyNGE3OGExZmU4NDMwYzcxMzU5ZWEpOwogICAgICAgIAoKICAgICAgICBtYXJrZXJfZDZjMzkxMWExYzkyNGFiMTg5Y2RjZTNhNWU0MmQ3MzkuYmluZFBvcHVwKHBvcHVwXzlhZjYyZmNiYTI3ZDQ0ZGM4OTc5MjY2NzBmNDg5MWY2KQogICAgICAgIDsKCiAgICAgICAgCiAgICAKICAgIAogICAgICAgICAgICB2YXIgbWFya2VyXzJhMzQ2OGI4YTgzNzQ5NDNiZGYyODhlMmNhN2I2YTM3ID0gTC5tYXJrZXIoCiAgICAgICAgICAgICAgICBbNDIuMTE0MTk5MzkyMDAwMDQ2LCAtNzUuOTU4NTIzNTA5OTk5OThdLAogICAgICAgICAgICAgICAge30KICAgICAgICAgICAgKS5hZGRUbyhtYXJrZXJfY2x1c3Rlcl9kMjU3MzBiOGRlYWY0ZDdjODJmZGQwYmQ4NDc3MjJjZCk7CiAgICAgICAgCiAgICAKICAgICAgICB2YXIgcG9wdXBfZjc4NGU5MTM0MGY4NGNhNmJhYjQzN2Y1YTJmNGMwMDYgPSBMLnBvcHVwKHsibWF4V2lkdGgiOiAiMTAwJSJ9KTsKCiAgICAgICAgCiAgICAgICAgICAgIHZhciBodG1sX2EyOTU5ZDI4NmRiNTQ0MzBiOTI1MjRkZTgxNjdkZmIxID0gJChgPGRpdiBpZD0iaHRtbF9hMjk1OWQyODZkYjU0NDMwYjkyNTI0ZGU4MTY3ZGZiMSIgc3R5bGU9IndpZHRoOiAxMDAuMCU7IGhlaWdodDogMTAwLjAlOyI+VUhTIFdJTFNPTiBNRU1PUklBTCBIT1NQSVRBTDwvZGl2PmApWzBdOwogICAgICAgICAgICBwb3B1cF9mNzg0ZTkxMzQwZjg0Y2E2YmFiNDM3ZjVhMmY0YzAwNi5zZXRDb250ZW50KGh0bWxfYTI5NTlkMjg2ZGI1NDQzMGI5MjUyNGRlODE2N2RmYjEpOwogICAgICAgIAoKICAgICAgICBtYXJrZXJfMmEzNDY4YjhhODM3NDk0M2JkZjI4OGUyY2E3YjZhMzcuYmluZFBvcHVwKHBvcHVwX2Y3ODRlOTEzNDBmODRjYTZiYWI0MzdmNWEyZjRjMDA2KQogICAgICAgIDsKCiAgICAgICAgCiAgICAKICAgIAogICAgICAgICAgICB2YXIgbWFya2VyXzRlZWIzYzgxZDcxYjQ1MTk5ZjhkYmUwY2ViNTdiNTM2ID0gTC5tYXJrZXIoCiAgICAgICAgICAgICAgICBbNDIuNDY0NDE2MTgyMDAwMDIsIC03OC45NDM3MTM2OTA5OTk5Nl0sCiAgICAgICAgICAgICAgICB7fQogICAgICAgICAgICApLmFkZFRvKG1hcmtlcl9jbHVzdGVyX2QyNTczMGI4ZGVhZjRkN2M4MmZkZDBiZDg0NzcyMmNkKTsKICAgICAgICAKICAgIAogICAgICAgIHZhciBwb3B1cF82MjA4Yjc2OWVkMzI0MmI2OTBlNGM5OWUxOTQ1MWMzNCA9IEwucG9wdXAoeyJtYXhXaWR0aCI6ICIxMDAlIn0pOwoKICAgICAgICAKICAgICAgICAgICAgdmFyIGh0bWxfYTFiZDBhYzllZGQ3NGYwZjhmNTgyOTBlNmJhYzEyMjcgPSAkKGA8ZGl2IGlkPSJodG1sX2ExYmQwYWM5ZWRkNzRmMGY4ZjU4MjkwZTZiYWMxMjI3IiBzdHlsZT0id2lkdGg6IDEwMC4wJTsgaGVpZ2h0OiAxMDAuMCU7Ij5UTEMgSEVBTFRIIE5FVFdPUks8L2Rpdj5gKVswXTsKICAgICAgICAgICAgcG9wdXBfNjIwOGI3NjllZDMyNDJiNjkwZTRjOTllMTk0NTFjMzQuc2V0Q29udGVudChodG1sX2ExYmQwYWM5ZWRkNzRmMGY4ZjU4MjkwZTZiYWMxMjI3KTsKICAgICAgICAKCiAgICAgICAgbWFya2VyXzRlZWIzYzgxZDcxYjQ1MTk5ZjhkYmUwY2ViNTdiNTM2LmJpbmRQb3B1cChwb3B1cF82MjA4Yjc2OWVkMzI0MmI2OTBlNGM5OWUxOTQ1MWMzNCkKICAgICAgICA7CgogICAgICAgIAogICAgCiAgICAKICAgICAgICAgICAgdmFyIG1hcmtlcl80YWFiNTAxNThkYTE0MjhiOWM3ZDE1ZGE4OGE4NmYyNiA9IEwubWFya2VyKAogICAgICAgICAgICAgICAgWzQyLjk0MTM1MzA5MTAwMDA0NiwgLTc2LjU2NDM2ODI0Njk5OTk1XSwKICAgICAgICAgICAgICAgIHt9CiAgICAgICAgICAgICkuYWRkVG8obWFya2VyX2NsdXN0ZXJfZDI1NzMwYjhkZWFmNGQ3YzgyZmRkMGJkODQ3NzIyY2QpOwogICAgICAgIAogICAgCiAgICAgICAgdmFyIHBvcHVwXzYyNjdmMGRkZjk3MTQ2NmY4ODcwNDEzYjMzZjlmOTdlID0gTC5wb3B1cCh7Im1heFdpZHRoIjogIjEwMCUifSk7CgogICAgICAgIAogICAgICAgICAgICB2YXIgaHRtbF81YjVmMDQ3N2RhYTE0ZmViODViYzRkYmQzN2Q5MWU1MCA9ICQoYDxkaXYgaWQ9Imh0bWxfNWI1ZjA0NzdkYWExNGZlYjg1YmM0ZGJkMzdkOTFlNTAiIHN0eWxlPSJ3aWR0aDogMTAwLjAlOyBoZWlnaHQ6IDEwMC4wJTsiPkFVQlVSTiBDT01NVU5JVFkgSE9TUElUQUw8L2Rpdj5gKVswXTsKICAgICAgICAgICAgcG9wdXBfNjI2N2YwZGRmOTcxNDY2Zjg4NzA0MTNiMzNmOWY5N2Uuc2V0Q29udGVudChodG1sXzViNWYwNDc3ZGFhMTRmZWI4NWJjNGRiZDM3ZDkxZTUwKTsKICAgICAgICAKCiAgICAgICAgbWFya2VyXzRhYWI1MDE1OGRhMTQyOGI5YzdkMTVkYTg4YTg2ZjI2LmJpbmRQb3B1cChwb3B1cF82MjY3ZjBkZGY5NzE0NjZmODg3MDQxM2IzM2Y5Zjk3ZSkKICAgICAgICA7CgogICAgICAgIAogICAgCiAgICAKICAgICAgICAgICAgdmFyIG1hcmtlcl80NmM2YmI0YTk2YWU0NTlmOTRlZjQ0Yjc5M2Y0YTY3MSA9IEwubWFya2VyKAogICAgICAgICAgICAgICAgWzQyLjQ3OTk0NTE0MTAwMDAzLCAtNzkuMzM0NTk0NjAxOTk5OThdLAogICAgICAgICAgICAgICAge30KICAgICAgICAgICAgKS5hZGRUbyhtYXJrZXJfY2x1c3Rlcl9kMjU3MzBiOGRlYWY0ZDdjODJmZGQwYmQ4NDc3MjJjZCk7CiAgICAgICAgCiAgICAKICAgICAgICB2YXIgcG9wdXBfM2Q1MDA5MGEwOTc0NGIyY2JkMjRlYWY2Mzg3NjhkYzQgPSBMLnBvcHVwKHsibWF4V2lkdGgiOiAiMTAwJSJ9KTsKCiAgICAgICAgCiAgICAgICAgICAgIHZhciBodG1sXzg3ZDk0MjBmMDZlNDQ4ZTg4ODk4NjRhZDlmNTMzODIyID0gJChgPGRpdiBpZD0iaHRtbF84N2Q5NDIwZjA2ZTQ0OGU4ODg5ODY0YWQ5ZjUzMzgyMiIgc3R5bGU9IndpZHRoOiAxMDAuMCU7IGhlaWdodDogMTAwLjAlOyI+QlJPT0tTIE1FTU9SSUFMIEhPU1BJVEFMPC9kaXY+YClbMF07CiAgICAgICAgICAgIHBvcHVwXzNkNTAwOTBhMDk3NDRiMmNiZDI0ZWFmNjM4NzY4ZGM0LnNldENvbnRlbnQoaHRtbF84N2Q5NDIwZjA2ZTQ0OGU4ODg5ODY0YWQ5ZjUzMzgyMik7CiAgICAgICAgCgogICAgICAgIG1hcmtlcl80NmM2YmI0YTk2YWU0NTlmOTRlZjQ0Yjc5M2Y0YTY3MS5iaW5kUG9wdXAocG9wdXBfM2Q1MDA5MGEwOTc0NGIyY2JkMjRlYWY2Mzg3NjhkYzQpCiAgICAgICAgOwoKICAgICAgICAKICAgIAogICAgCiAgICAgICAgICAgIHZhciBtYXJrZXJfZDhjNWFiZmRkNDgwNGI4OWJkNDM0ZWFjMTllOWVkYWEgPSBMLm1hcmtlcigKICAgICAgICAgICAgICAgIFs0Mi4zMjg2OTgxMjkwMDAwMiwgLTc5LjU2OTgwODc2Nzk5OTk3XSwKICAgICAgICAgICAgICAgIHt9CiAgICAgICAgICAgICkuYWRkVG8obWFya2VyX2NsdXN0ZXJfZDI1NzMwYjhkZWFmNGQ3YzgyZmRkMGJkODQ3NzIyY2QpOwogICAgICAgIAogICAgCiAgICAgICAgdmFyIHBvcHVwX2ExMWYwNzQyOGExZDQ5ODVhYjE5NDQ1M2ExMTVlMGRhID0gTC5wb3B1cCh7Im1heFdpZHRoIjogIjEwMCUifSk7CgogICAgICAgIAogICAgICAgICAgICB2YXIgaHRtbF9lNzU2ZTI5ZWY3ZTg0ZTdhODU0MmY3MzBlNzZjMDUxMyA9ICQoYDxkaXYgaWQ9Imh0bWxfZTc1NmUyOWVmN2U4NGU3YTg1NDJmNzMwZTc2YzA1MTMiIHN0eWxlPSJ3aWR0aDogMTAwLjAlOyBoZWlnaHQ6IDEwMC4wJTsiPldFU1RGSUVMRCBNRU1PUklBTCBIT1NQSVRBTDwvZGl2PmApWzBdOwogICAgICAgICAgICBwb3B1cF9hMTFmMDc0MjhhMWQ0OTg1YWIxOTQ0NTNhMTE1ZTBkYS5zZXRDb250ZW50KGh0bWxfZTc1NmUyOWVmN2U4NGU3YTg1NDJmNzMwZTc2YzA1MTMpOwogICAgICAgIAoKICAgICAgICBtYXJrZXJfZDhjNWFiZmRkNDgwNGI4OWJkNDM0ZWFjMTllOWVkYWEuYmluZFBvcHVwKHBvcHVwX2ExMWYwNzQyOGExZDQ5ODVhYjE5NDQ1M2ExMTVlMGRhKQogICAgICAgIDsKCiAgICAgICAgCiAgICAKICAgIAogICAgICAgICAgICB2YXIgbWFya2VyX2Y3YTQxMDViYjczNzRkNDQ5OGFjYmQyY2M2ZjAyYWY0ID0gTC5tYXJrZXIoCiAgICAgICAgICAgICAgICBbNDIuOTU0NDE3NDUzMDAwMDc2LCAtNzQuMjE2MDY0XSwKICAgICAgICAgICAgICAgIHt9CiAgICAgICAgICAgICkuYWRkVG8obWFya2VyX2NsdXN0ZXJfZDI1NzMwYjhkZWFmNGQ3YzgyZmRkMGJkODQ3NzIyY2QpOwogICAgICAgIAogICAgCiAgICAgICAgdmFyIHBvcHVwX2I5ODYxMjE5YzFiODQ2ZDg5YzMxZWViNTM2ZGUyYzY1ID0gTC5wb3B1cCh7Im1heFdpZHRoIjogIjEwMCUifSk7CgogICAgICAgIAogICAgICAgICAgICB2YXIgaHRtbF9iNjAyZTJjYmJmNmU0YmFjYjllNjkyNWJiZTNlNjg2ZCA9ICQoYDxkaXYgaWQ9Imh0bWxfYjYwMmUyY2JiZjZlNGJhY2I5ZTY5MjViYmUzZTY4NmQiIHN0eWxlPSJ3aWR0aDogMTAwLjAlOyBoZWlnaHQ6IDEwMC4wJTsiPlNULiBNQVJZJ1MgSEVBTFRIQ0FSRTwvZGl2PmApWzBdOwogICAgICAgICAgICBwb3B1cF9iOTg2MTIxOWMxYjg0NmQ4OWMzMWVlYjUzNmRlMmM2NS5zZXRDb250ZW50KGh0bWxfYjYwMmUyY2JiZjZlNGJhY2I5ZTY5MjViYmUzZTY4NmQpOwogICAgICAgIAoKICAgICAgICBtYXJrZXJfZjdhNDEwNWJiNzM3NGQ0NDk4YWNiZDJjYzZmMDJhZjQuYmluZFBvcHVwKHBvcHVwX2I5ODYxMjE5YzFiODQ2ZDg5YzMxZWViNTM2ZGUyYzY1KQogICAgICAgIDsKCiAgICAgICAgCiAgICAKICAgIAogICAgICAgICAgICB2YXIgbWFya2VyX2M5YTZkNTA2YjE0MDQwOTY4MzMyNWYwZDEzYTBhODU1ID0gTC5tYXJrZXIoCiAgICAgICAgICAgICAgICBbNDIuMTAwMTQ5NDE5MDAwMDUsIC03Ni44Mjc3NTk4NjQ5OTk5OF0sCiAgICAgICAgICAgICAgICB7fQogICAgICAgICAgICApLmFkZFRvKG1hcmtlcl9jbHVzdGVyX2QyNTczMGI4ZGVhZjRkN2M4MmZkZDBiZDg0NzcyMmNkKTsKICAgICAgICAKICAgIAogICAgICAgIHZhciBwb3B1cF81ZWUyYzc2NDVjOTE0YzFjYWRlOTk4NWVlZDFlNGM1ZSA9IEwucG9wdXAoeyJtYXhXaWR0aCI6ICIxMDAlIn0pOwoKICAgICAgICAKICAgICAgICAgICAgdmFyIGh0bWxfNzdhOTgzNTc0MTc0NDVhMDk2YzhkZGU1YzBkNDUyY2YgPSAkKGA8ZGl2IGlkPSJodG1sXzc3YTk4MzU3NDE3NDQ1YTA5NmM4ZGRlNWMwZDQ1MmNmIiBzdHlsZT0id2lkdGg6IDEwMC4wJTsgaGVpZ2h0OiAxMDAuMCU7Ij5BUk5PVCBPR0RFTiBNRURJQ0FMIENFTlRFUjwvZGl2PmApWzBdOwogICAgICAgICAgICBwb3B1cF81ZWUyYzc2NDVjOTE0YzFjYWRlOTk4NWVlZDFlNGM1ZS5zZXRDb250ZW50KGh0bWxfNzdhOTgzNTc0MTc0NDVhMDk2YzhkZGU1YzBkNDUyY2YpOwogICAgICAgIAoKICAgICAgICBtYXJrZXJfYzlhNmQ1MDZiMTQwNDA5NjgzMzI1ZjBkMTNhMGE4NTUuYmluZFBvcHVwKHBvcHVwXzVlZTJjNzY0NWM5MTRjMWNhZGU5OTg1ZWVkMWU0YzVlKQogICAgICAgIDsKCiAgICAgICAgCiAgICAKICAgIAogICAgICAgICAgICB2YXIgbWFya2VyXzk2ZjQ5OWMzMzYxZTQxNWZhNDMwMGY2YWM2Y2Q5OWVjID0gTC5tYXJrZXIoCiAgICAgICAgICAgICAgICBbNDIuMTY0Mjc0Nzg4MDAwMDYsIC03NS4xMjg3MTc2MzE5OTk5OF0sCiAgICAgICAgICAgICAgICB7fQogICAgICAgICAgICApLmFkZFRvKG1hcmtlcl9jbHVzdGVyX2QyNTczMGI4ZGVhZjRkN2M4MmZkZDBiZDg0NzcyMmNkKTsKICAgICAgICAKICAgIAogICAgICAgIHZhciBwb3B1cF9iMTgwZDk3YmYwOWY0ZWFlODM1NTJhYjE2ODMwYTNjMSA9IEwucG9wdXAoeyJtYXhXaWR0aCI6ICIxMDAlIn0pOwoKICAgICAgICAKICAgICAgICAgICAgdmFyIGh0bWxfYzk4Mjg2MzZiNDM3NDFlYmJlMzJmMGMyOGRjYmFlNjEgPSAkKGA8ZGl2IGlkPSJodG1sX2M5ODI4NjM2YjQzNzQxZWJiZTMyZjBjMjhkY2JhZTYxIiBzdHlsZT0id2lkdGg6IDEwMC4wJTsgaGVpZ2h0OiAxMDAuMCU7Ij5ERUxBV0FSRSBWQUxMRVkgSE9TUElUQUw8L2Rpdj5gKVswXTsKICAgICAgICAgICAgcG9wdXBfYjE4MGQ5N2JmMDlmNGVhZTgzNTUyYWIxNjgzMGEzYzEuc2V0Q29udGVudChodG1sX2M5ODI4NjM2YjQzNzQxZWJiZTMyZjBjMjhkY2JhZTYxKTsKICAgICAgICAKCiAgICAgICAgbWFya2VyXzk2ZjQ5OWMzMzYxZTQxNWZhNDMwMGY2YWM2Y2Q5OWVjLmJpbmRQb3B1cChwb3B1cF9iMTgwZDk3YmYwOWY0ZWFlODM1NTJhYjE2ODMwYTNjMSkKICAgICAgICA7CgogICAgICAgIAogICAgCiAgICAKICAgICAgICAgICAgdmFyIG1hcmtlcl84N2U0ZjcwNTFhN2Y0MmExOGIxODEzYjdjNGZkYzFlYSA9IEwubWFya2VyKAogICAgICAgICAgICAgICAgWzQyLjkwMDg2ODQxMzAwMDA3LCAtNzguODY2MjA5NzYwOTk5OTRdLAogICAgICAgICAgICAgICAge30KICAgICAgICAgICAgKS5hZGRUbyhtYXJrZXJfY2x1c3Rlcl9kMjU3MzBiOGRlYWY0ZDdjODJmZGQwYmQ4NDc3MjJjZCk7CiAgICAgICAgCiAgICAKICAgICAgICB2YXIgcG9wdXBfZDQ0ZDMyODNmNWUyNDBmM2FkN2YwODczMzY3OGU0ZTEgPSBMLnBvcHVwKHsibWF4V2lkdGgiOiAiMTAwJSJ9KTsKCiAgICAgICAgCiAgICAgICAgICAgIHZhciBodG1sXzUzMWFhMDEwOGFmNDRmNTA5MzNhMjhkODE0NzdhMWEwID0gJChgPGRpdiBpZD0iaHRtbF81MzFhYTAxMDhhZjQ0ZjUwOTMzYTI4ZDgxNDc3YTFhMCIgc3R5bGU9IndpZHRoOiAxMDAuMCU7IGhlaWdodDogMTAwLjAlOyI+QlVGRkFMTyBHRU5FUkFMIE1FRElDQUwgQ0VOVEVSPC9kaXY+YClbMF07CiAgICAgICAgICAgIHBvcHVwX2Q0NGQzMjgzZjVlMjQwZjNhZDdmMDg3MzM2NzhlNGUxLnNldENvbnRlbnQoaHRtbF81MzFhYTAxMDhhZjQ0ZjUwOTMzYTI4ZDgxNDc3YTFhMCk7CiAgICAgICAgCgogICAgICAgIG1hcmtlcl84N2U0ZjcwNTFhN2Y0MmExOGIxODEzYjdjNGZkYzFlYS5iaW5kUG9wdXAocG9wdXBfZDQ0ZDMyODNmNWUyNDBmM2FkN2YwODczMzY3OGU0ZTEpCiAgICAgICAgOwoKICAgICAgICAKICAgIAogICAgCiAgICAgICAgICAgIHZhciBtYXJrZXJfNDg0NzMzMTM2NmJiNDQzZWFlOWYwMjgxMDJhOTg2YzYgPSBMLm1hcmtlcigKICAgICAgICAgICAgICAgIFs0Mi44NDc1MDE0MzIwMDAwNiwgLTc4LjgxMTk3MTAzNDk5OTkzXSwKICAgICAgICAgICAgICAgIHt9CiAgICAgICAgICAgICkuYWRkVG8obWFya2VyX2NsdXN0ZXJfZDI1NzMwYjhkZWFmNGQ3YzgyZmRkMGJkODQ3NzIyY2QpOwogICAgICAgIAogICAgCiAgICAgICAgdmFyIHBvcHVwX2EzOGM4MmMyNmIyNjQwODk5NDFlYzdiZTZjNGU2ZGYwID0gTC5wb3B1cCh7Im1heFdpZHRoIjogIjEwMCUifSk7CgogICAgICAgIAogICAgICAgICAgICB2YXIgaHRtbF8wMDQ1NDZkNGVmOWE0N2Y0YmU3MjdmY2RhNDMxMWQ1YSA9ICQoYDxkaXYgaWQ9Imh0bWxfMDA0NTQ2ZDRlZjlhNDdmNGJlNzI3ZmNkYTQzMTFkNWEiIHN0eWxlPSJ3aWR0aDogMTAwLjAlOyBoZWlnaHQ6IDEwMC4wJTsiPk1FUkNZIEhPU1BJVEFMPC9kaXY+YClbMF07CiAgICAgICAgICAgIHBvcHVwX2EzOGM4MmMyNmIyNjQwODk5NDFlYzdiZTZjNGU2ZGYwLnNldENvbnRlbnQoaHRtbF8wMDQ1NDZkNGVmOWE0N2Y0YmU3MjdmY2RhNDMxMWQ1YSk7CiAgICAgICAgCgogICAgICAgIG1hcmtlcl80ODQ3MzMxMzY2YmI0NDNlYWU5ZjAyODEwMmE5ODZjNi5iaW5kUG9wdXAocG9wdXBfYTM4YzgyYzI2YjI2NDA4OTk0MWVjN2JlNmM0ZTZkZjApCiAgICAgICAgOwoKICAgICAgICAKICAgIAogICAgCiAgICAgICAgICAgIHZhciBtYXJrZXJfZjBkYWNkODM3YjdhNDViZWJjYTdjYTQxNjczMDlmYmYgPSBMLm1hcmtlcigKICAgICAgICAgICAgICAgIFs0Mi4xNDY2NTM1NTgwMDAwMiwgLTc0LjY0MjA2OTI2Nzk5OTkzXSwKICAgICAgICAgICAgICAgIHt9CiAgICAgICAgICAgICkuYWRkVG8obWFya2VyX2NsdXN0ZXJfZDI1NzMwYjhkZWFmNGQ3YzgyZmRkMGJkODQ3NzIyY2QpOwogICAgICAgIAogICAgCiAgICAgICAgdmFyIHBvcHVwXzY4NWQ2Y2YzZTNlNzQ3Y2E5MjU5MGIyYTI3NGIwNjNiID0gTC5wb3B1cCh7Im1heFdpZHRoIjogIjEwMCUifSk7CgogICAgICAgIAogICAgICAgICAgICB2YXIgaHRtbF8zN2ZjYzIyZDkzMmY0ZjdiOTdiYmRjOTM4OTU4NGI5NSA9ICQoYDxkaXYgaWQ9Imh0bWxfMzdmY2MyMmQ5MzJmNGY3Yjk3YmJkYzkzODk1ODRiOTUiIHN0eWxlPSJ3aWR0aDogMTAwLjAlOyBoZWlnaHQ6IDEwMC4wJTsiPk1BUkdBUkVUVklMTEUgTUVNT1JJQUwgSE9TUElUQUw8L2Rpdj5gKVswXTsKICAgICAgICAgICAgcG9wdXBfNjg1ZDZjZjNlM2U3NDdjYTkyNTkwYjJhMjc0YjA2M2Iuc2V0Q29udGVudChodG1sXzM3ZmNjMjJkOTMyZjRmN2I5N2JiZGM5Mzg5NTg0Yjk1KTsKICAgICAgICAKCiAgICAgICAgbWFya2VyX2YwZGFjZDgzN2I3YTQ1YmViY2E3Y2E0MTY3MzA5ZmJmLmJpbmRQb3B1cChwb3B1cF82ODVkNmNmM2UzZTc0N2NhOTI1OTBiMmEyNzRiMDYzYikKICAgICAgICA7CgogICAgICAgIAogICAgCiAgICAKICAgICAgICAgICAgdmFyIG1hcmtlcl85YzYyNjk2MWZlODg0MTZlYTMwNmEyMTQ5ZTE0NDhlOCA9IEwubWFya2VyKAogICAgICAgICAgICAgICAgWzQyLjk3NzU5NTQ0NTAwMDA3LCAtNzguODgwMTE3NzcxOTk5OTVdLAogICAgICAgICAgICAgICAge30KICAgICAgICAgICAgKS5hZGRUbyhtYXJrZXJfY2x1c3Rlcl9kMjU3MzBiOGRlYWY0ZDdjODJmZGQwYmQ4NDc3MjJjZCk7CiAgICAgICAgCiAgICAKICAgICAgICB2YXIgcG9wdXBfNzU0NDUyY2I4MjM2NGQ4NTg3YWIyMjQ2YTkzODc2ZjAgPSBMLnBvcHVwKHsibWF4V2lkdGgiOiAiMTAwJSJ9KTsKCiAgICAgICAgCiAgICAgICAgICAgIHZhciBodG1sX2YxZjViYTI1ZDU2YTQ4ZTg5ODU1NTliYTYwNWRkMzExID0gJChgPGRpdiBpZD0iaHRtbF9mMWY1YmEyNWQ1NmE0OGU4OTg1NTU5YmE2MDVkZDMxMSIgc3R5bGU9IndpZHRoOiAxMDAuMCU7IGhlaWdodDogMTAwLjAlOyI+S0VOTU9SRSBNRVJDWSBIT1NQSVRBTDwvZGl2PmApWzBdOwogICAgICAgICAgICBwb3B1cF83NTQ0NTJjYjgyMzY0ZDg1ODdhYjIyNDZhOTM4NzZmMC5zZXRDb250ZW50KGh0bWxfZjFmNWJhMjVkNTZhNDhlODk4NTU1OWJhNjA1ZGQzMTEpOwogICAgICAgIAoKICAgICAgICBtYXJrZXJfOWM2MjY5NjFmZTg4NDE2ZWEzMDZhMjE0OWUxNDQ4ZTguYmluZFBvcHVwKHBvcHVwXzc1NDQ1MmNiODIzNjRkODU4N2FiMjI0NmE5Mzg3NmYwKQogICAgICAgIDsKCiAgICAgICAgCiAgICAKICAgIAogICAgICAgICAgICB2YXIgbWFya2VyX2JiMDZkZDM1ZTY1YzQ4N2M4MGExNjk3ZmNjYWYwY2Q4ID0gTC5tYXJrZXIoCiAgICAgICAgICAgICAgICBbNDIuODk5MjA1MDk3MDAwMDUsIC03OC44NjQ4ODY5NDY5OTk5NV0sCiAgICAgICAgICAgICAgICB7fQogICAgICAgICAgICApLmFkZFRvKG1hcmtlcl9jbHVzdGVyX2QyNTczMGI4ZGVhZjRkN2M4MmZkZDBiZDg0NzcyMmNkKTsKICAgICAgICAKICAgIAogICAgICAgIHZhciBwb3B1cF9jYzM1YTQxNzdiNmQ0OTk3ODI4YjA0OTMwNGNmYjYzMiA9IEwucG9wdXAoeyJtYXhXaWR0aCI6ICIxMDAlIn0pOwoKICAgICAgICAKICAgICAgICAgICAgdmFyIGh0bWxfYjc1ZjE1OWRlNDgwNGZlYjk1NjkyY2Q4MGZkZTk3MDMgPSAkKGA8ZGl2IGlkPSJodG1sX2I3NWYxNTlkZTQ4MDRmZWI5NTY5MmNkODBmZGU5NzAzIiBzdHlsZT0id2lkdGg6IDEwMC4wJTsgaGVpZ2h0OiAxMDAuMCU7Ij5ST1NXRUxMIFBBUksgQ0FOQ0VSIElOU1RJVFVURTwvZGl2PmApWzBdOwogICAgICAgICAgICBwb3B1cF9jYzM1YTQxNzdiNmQ0OTk3ODI4YjA0OTMwNGNmYjYzMi5zZXRDb250ZW50KGh0bWxfYjc1ZjE1OWRlNDgwNGZlYjk1NjkyY2Q4MGZkZTk3MDMpOwogICAgICAgIAoKICAgICAgICBtYXJrZXJfYmIwNmRkMzVlNjVjNDg3YzgwYTE2OTdmY2NhZjBjZDguYmluZFBvcHVwKHBvcHVwX2NjMzVhNDE3N2I2ZDQ5OTc4MjhiMDQ5MzA0Y2ZiNjMyKQogICAgICAgIDsKCiAgICAgICAgCiAgICAKICAgIAogICAgICAgICAgICB2YXIgbWFya2VyX2IwNDI0ODdjMWVmZDQ0NDg4NTg3OTBmYjkxNzdlNzRlID0gTC5tYXJrZXIoCiAgICAgICAgICAgICAgICBbNDMuODQ5NTI1MTM0MDAwMDI1LCAtNzMuNDM3MDIzOTkyOTk5OTddLAogICAgICAgICAgICAgICAge30KICAgICAgICAgICAgKS5hZGRUbyhtYXJrZXJfY2x1c3Rlcl9kMjU3MzBiOGRlYWY0ZDdjODJmZGQwYmQ4NDc3MjJjZCk7CiAgICAgICAgCiAgICAKICAgICAgICB2YXIgcG9wdXBfZWJkNzBiZDM1MGY2NGEwYmJiYTlmZDQ3ZWU4ZmNmYmEgPSBMLnBvcHVwKHsibWF4V2lkdGgiOiAiMTAwJSJ9KTsKCiAgICAgICAgCiAgICAgICAgICAgIHZhciBodG1sXzAyZTdiNzc3Y2I1NzQyMWY5MTM5N2ZjNDBhMTA0MzhmID0gJChgPGRpdiBpZD0iaHRtbF8wMmU3Yjc3N2NiNTc0MjFmOTEzOTdmYzQwYTEwNDM4ZiIgc3R5bGU9IndpZHRoOiAxMDAuMCU7IGhlaWdodDogMTAwLjAlOyI+TU9TRVMgTFVESU5HVE9OIEhPU1BJVEFMPC9kaXY+YClbMF07CiAgICAgICAgICAgIHBvcHVwX2ViZDcwYmQzNTBmNjRhMGJiYmE5ZmQ0N2VlOGZjZmJhLnNldENvbnRlbnQoaHRtbF8wMmU3Yjc3N2NiNTc0MjFmOTEzOTdmYzQwYTEwNDM4Zik7CiAgICAgICAgCgogICAgICAgIG1hcmtlcl9iMDQyNDg3YzFlZmQ0NDQ4ODU4NzkwZmI5MTc3ZTc0ZS5iaW5kUG9wdXAocG9wdXBfZWJkNzBiZDM1MGY2NGEwYmJiYTlmZDQ3ZWU4ZmNmYmEpCiAgICAgICAgOwoKICAgICAgICAKICAgIAogICAgCiAgICAgICAgICAgIHZhciBtYXJrZXJfYWZjNGQ1NmRkYzBjNDhhZmI2MmEyNmQwNzMyNzBiMWEgPSBMLm1hcmtlcigKICAgICAgICAgICAgICAgIFs0NC4zNDUwNDEwMzYwMDAwNTUsIC03NC4xNDMxMzY3NjA5OTk5NF0sCiAgICAgICAgICAgICAgICB7fQogICAgICAgICAgICApLmFkZFRvKG1hcmtlcl9jbHVzdGVyX2QyNTczMGI4ZGVhZjRkN2M4MmZkZDBiZDg0NzcyMmNkKTsKICAgICAgICAKICAgIAogICAgICAgIHZhciBwb3B1cF83ODZhNDMyZGQ2MGE0ZjRjODllOTU3OWQyZGMxMDMxYSA9IEwucG9wdXAoeyJtYXhXaWR0aCI6ICIxMDAlIn0pOwoKICAgICAgICAKICAgICAgICAgICAgdmFyIGh0bWxfODQ2ODQ5NDFlNzAyNDlmN2E1ZWE3YzAyNGFjMjdiZjkgPSAkKGA8ZGl2IGlkPSJodG1sXzg0Njg0OTQxZTcwMjQ5ZjdhNWVhN2MwMjRhYzI3YmY5IiBzdHlsZT0id2lkdGg6IDEwMC4wJTsgaGVpZ2h0OiAxMDAuMCU7Ij5BRElST05EQUNLIE1FRElDQUwgQ0VOVEVSPC9kaXY+YClbMF07CiAgICAgICAgICAgIHBvcHVwXzc4NmE0MzJkZDYwYTRmNGM4OWU5NTc5ZDJkYzEwMzFhLnNldENvbnRlbnQoaHRtbF84NDY4NDk0MWU3MDI0OWY3YTVlYTdjMDI0YWMyN2JmOSk7CiAgICAgICAgCgogICAgICAgIG1hcmtlcl9hZmM0ZDU2ZGRjMGM0OGFmYjYyYTI2ZDA3MzI3MGIxYS5iaW5kUG9wdXAocG9wdXBfNzg2YTQzMmRkNjBhNGY0Yzg5ZTk1NzlkMmRjMTAzMWEpCiAgICAgICAgOwoKICAgICAgICAKICAgIAogICAgCiAgICAgICAgICAgIHZhciBtYXJrZXJfYWFjMDlkN2E0YjlhNDcyZWI0Y2Y4YzFmODAxNGI4MmQgPSBMLm1hcmtlcigKICAgICAgICAgICAgICAgIFs0My4wNDQyNDAwMzcwMDAwNywgLTc0Ljg0NzQ5MzE2NDk5OTkzXSwKICAgICAgICAgICAgICAgIHt9CiAgICAgICAgICAgICkuYWRkVG8obWFya2VyX2NsdXN0ZXJfZDI1NzMwYjhkZWFmNGQ3YzgyZmRkMGJkODQ3NzIyY2QpOwogICAgICAgIAogICAgCiAgICAgICAgdmFyIHBvcHVwXzc1OTE4YWZmYWE5YTRhODg5MTQyYTI5ZjEwOGNhNDI2ID0gTC5wb3B1cCh7Im1heFdpZHRoIjogIjEwMCUifSk7CgogICAgICAgIAogICAgICAgICAgICB2YXIgaHRtbF8xZmEwZDI5ZmI2M2U0ZTBmODk4ZmJjNWQyNGM5ZWIxNCA9ICQoYDxkaXYgaWQ9Imh0bWxfMWZhMGQyOWZiNjNlNGUwZjg5OGZiYzVkMjRjOWViMTQiIHN0eWxlPSJ3aWR0aDogMTAwLjAlOyBoZWlnaHQ6IDEwMC4wJTsiPkxJVFRMRSBGQUxMUyBIT1NQSVRBTDwvZGl2PmApWzBdOwogICAgICAgICAgICBwb3B1cF83NTkxOGFmZmFhOWE0YTg4OTE0MmEyOWYxMDhjYTQyNi5zZXRDb250ZW50KGh0bWxfMWZhMGQyOWZiNjNlNGUwZjg5OGZiYzVkMjRjOWViMTQpOwogICAgICAgIAoKICAgICAgICBtYXJrZXJfYWFjMDlkN2E0YjlhNDcyZWI0Y2Y4YzFmODAxNGI4MmQuYmluZFBvcHVwKHBvcHVwXzc1OTE4YWZmYWE5YTRhODg5MTQyYTI5ZjEwOGNhNDI2KQogICAgICAgIDsKCiAgICAgICAgCiAgICAKICAgIAogICAgICAgICAgICB2YXIgbWFya2VyXzI2ZmFhYWFiMWM3MjRlYTI4MDVmMTgxNDRhNTBlNWJmID0gTC5tYXJrZXIoCiAgICAgICAgICAgICAgICBbNDQuMzM3NzA4NzY2MDAwMDUsIC03NS45MjA1MDgwNTE5OTk5NV0sCiAgICAgICAgICAgICAgICB7fQogICAgICAgICAgICApLmFkZFRvKG1hcmtlcl9jbHVzdGVyX2QyNTczMGI4ZGVhZjRkN2M4MmZkZDBiZDg0NzcyMmNkKTsKICAgICAgICAKICAgIAogICAgICAgIHZhciBwb3B1cF8zMjkzMDhiMTVjZmQ0NGQyYWMzMzkxZGI1ZGI2MzM2YyA9IEwucG9wdXAoeyJtYXhXaWR0aCI6ICIxMDAlIn0pOwoKICAgICAgICAKICAgICAgICAgICAgdmFyIGh0bWxfMjQ3ZTAxZjUwZDJjNDMyZGFhMmU4YzViNTRmODk1OGYgPSAkKGA8ZGl2IGlkPSJodG1sXzI0N2UwMWY1MGQyYzQzMmRhYTJlOGM1YjU0Zjg5NThmIiBzdHlsZT0id2lkdGg6IDEwMC4wJTsgaGVpZ2h0OiAxMDAuMCU7Ij5SSVZFUiBIT1NQSVRBTDwvZGl2PmApWzBdOwogICAgICAgICAgICBwb3B1cF8zMjkzMDhiMTVjZmQ0NGQyYWMzMzkxZGI1ZGI2MzM2Yy5zZXRDb250ZW50KGh0bWxfMjQ3ZTAxZjUwZDJjNDMyZGFhMmU4YzViNTRmODk1OGYpOwogICAgICAgIAoKICAgICAgICBtYXJrZXJfMjZmYWFhYWIxYzcyNGVhMjgwNWYxODE0NGE1MGU1YmYuYmluZFBvcHVwKHBvcHVwXzMyOTMwOGIxNWNmZDQ0ZDJhYzMzOTFkYjVkYjYzMzZjKQogICAgICAgIDsKCiAgICAgICAgCiAgICAKICAgIAogICAgICAgICAgICB2YXIgbWFya2VyXzNjNWY3OWI0ZTdiMzQ3YmM4OTRlMWQzNjBmOTFlM2E4ID0gTC5tYXJrZXIoCiAgICAgICAgICAgICAgICBbNDIuODEzNDM1MDg2MDAwMDIsIC03NS41NDM0MDQ5NjM5OTk5M10sCiAgICAgICAgICAgICAgICB7fQogICAgICAgICAgICApLmFkZFRvKG1hcmtlcl9jbHVzdGVyX2QyNTczMGI4ZGVhZjRkN2M4MmZkZDBiZDg0NzcyMmNkKTsKICAgICAgICAKICAgIAogICAgICAgIHZhciBwb3B1cF8xNWE4NDZhMTVmYTE0ZDYyODVkMjI3NmM5NzUwZTg0ZiA9IEwucG9wdXAoeyJtYXhXaWR0aCI6ICIxMDAlIn0pOwoKICAgICAgICAKICAgICAgICAgICAgdmFyIGh0bWxfZTU4M2E0NDBiM2EzNDQ3ZWE5OWYzNTliZDM2MmFiZmQgPSAkKGA8ZGl2IGlkPSJodG1sX2U1ODNhNDQwYjNhMzQ0N2VhOTlmMzU5YmQzNjJhYmZkIiBzdHlsZT0id2lkdGg6IDEwMC4wJTsgaGVpZ2h0OiAxMDAuMCU7Ij5DT01NVU5JVFkgTUVNT1JJQUwgSE9TUElUQUw8L2Rpdj5gKVswXTsKICAgICAgICAgICAgcG9wdXBfMTVhODQ2YTE1ZmExNGQ2Mjg1ZDIyNzZjOTc1MGU4NGYuc2V0Q29udGVudChodG1sX2U1ODNhNDQwYjNhMzQ0N2VhOTlmMzU5YmQzNjJhYmZkKTsKICAgICAgICAKCiAgICAgICAgbWFya2VyXzNjNWY3OWI0ZTdiMzQ3YmM4OTRlMWQzNjBmOTFlM2E4LmJpbmRQb3B1cChwb3B1cF8xNWE4NDZhMTVmYTE0ZDYyODVkMjI3NmM5NzUwZTg0ZikKICAgICAgICA7CgogICAgICAgIAogICAgCiAgICAKICAgICAgICAgICAgdmFyIG1hcmtlcl8xNGEwMDEwZmRhODU0ZDU1YjE5YmMxNzY0NzA2ZGJjYiA9IEwubWFya2VyKAogICAgICAgICAgICAgICAgWzQzLjEzNTI5MTIwNDAwMDA0LCAtNzcuNjA1OTk2NDQ5OTk5OV0sCiAgICAgICAgICAgICAgICB7fQogICAgICAgICAgICApLmFkZFRvKG1hcmtlcl9jbHVzdGVyX2QyNTczMGI4ZGVhZjRkN2M4MmZkZDBiZDg0NzcyMmNkKTsKICAgICAgICAKICAgIAogICAgICAgIHZhciBwb3B1cF9lYjQ2ODQxZWRiYmI0NjFlOTBjMTIwZThhMDZkMDRmNCA9IEwucG9wdXAoeyJtYXhXaWR0aCI6ICIxMDAlIn0pOwoKICAgICAgICAKICAgICAgICAgICAgdmFyIGh0bWxfYTJlYzU5NTU0ZjUxNDRmNzg5MmNiYzAwMGU1MmE5ZjYgPSAkKGA8ZGl2IGlkPSJodG1sX2EyZWM1OTU1NGY1MTQ0Zjc4OTJjYmMwMDBlNTJhOWY2IiBzdHlsZT0id2lkdGg6IDEwMC4wJTsgaGVpZ2h0OiAxMDAuMCU7Ij5ISUdITEFORCBIT1NQSVRBTDwvZGl2PmApWzBdOwogICAgICAgICAgICBwb3B1cF9lYjQ2ODQxZWRiYmI0NjFlOTBjMTIwZThhMDZkMDRmNC5zZXRDb250ZW50KGh0bWxfYTJlYzU5NTU0ZjUxNDRmNzg5MmNiYzAwMGU1MmE5ZjYpOwogICAgICAgIAoKICAgICAgICBtYXJrZXJfMTRhMDAxMGZkYTg1NGQ1NWIxOWJjMTc2NDcwNmRiY2IuYmluZFBvcHVwKHBvcHVwX2ViNDY4NDFlZGJiYjQ2MWU5MGMxMjBlOGEwNmQwNGY0KQogICAgICAgIDsKCiAgICAgICAgCiAgICAKICAgIAogICAgICAgICAgICB2YXIgbWFya2VyXzQ2YzAxMzQyOTVjNDQyOWJhNGQ3YTNhMzYwMGI1OTY3ID0gTC5tYXJrZXIoCiAgICAgICAgICAgICAgICBbNDMuOTg3MjU1OTcwMDAwMDIsIC03NS41OTQwOTEzMDhdLAogICAgICAgICAgICAgICAge30KICAgICAgICAgICAgKS5hZGRUbyhtYXJrZXJfY2x1c3Rlcl9kMjU3MzBiOGRlYWY0ZDdjODJmZGQwYmQ4NDc3MjJjZCk7CiAgICAgICAgCiAgICAKICAgICAgICB2YXIgcG9wdXBfNzM5ZWQ1YTM2YTMwNDBhOGFiZjZjY2IxNDhiMjJhZGEgPSBMLnBvcHVwKHsibWF4V2lkdGgiOiAiMTAwJSJ9KTsKCiAgICAgICAgCiAgICAgICAgICAgIHZhciBodG1sXzU3NzgxMmVlYzI4OTQzNjE4ODBjMjhhODhjMTQ2NWM2ID0gJChgPGRpdiBpZD0iaHRtbF81Nzc4MTJlZWMyODk0MzYxODgwYzI4YTg4YzE0NjVjNiIgc3R5bGU9IndpZHRoOiAxMDAuMCU7IGhlaWdodDogMTAwLjAlOyI+Q0FSVEhBR0UgQVJFQSBIT1NQSVRBTDwvZGl2PmApWzBdOwogICAgICAgICAgICBwb3B1cF83MzllZDVhMzZhMzA0MGE4YWJmNmNjYjE0OGIyMmFkYS5zZXRDb250ZW50KGh0bWxfNTc3ODEyZWVjMjg5NDM2MTg4MGMyOGE4OGMxNDY1YzYpOwogICAgICAgIAoKICAgICAgICBtYXJrZXJfNDZjMDEzNDI5NWM0NDI5YmE0ZDdhM2EzNjAwYjU5NjcuYmluZFBvcHVwKHBvcHVwXzczOWVkNWEzNmEzMDQwYThhYmY2Y2NiMTQ4YjIyYWRhKQogICAgICAgIDsKCiAgICAgICAgCiAgICAKICAgIAogICAgICAgICAgICB2YXIgbWFya2VyX2QwYjI0OTgwOGE4NzQ0Yjg4ZjRlYTIyMTgyYmQxNjQ2ID0gTC5tYXJrZXIoCiAgICAgICAgICAgICAgICBbNDAuNTk0NTQ2NTg3MDAwMDI1LCAtNzMuNjUyMjI4NDg4OTk5OThdLAogICAgICAgICAgICAgICAge30KICAgICAgICAgICAgKS5hZGRUbyhtYXJrZXJfY2x1c3Rlcl9kMjU3MzBiOGRlYWY0ZDdjODJmZGQwYmQ4NDc3MjJjZCk7CiAgICAgICAgCiAgICAKICAgICAgICB2YXIgcG9wdXBfNzRlMzNjNjJjNGU4NDZjY2FmMzkxNmJjZTVlMzYyNzUgPSBMLnBvcHVwKHsibWF4V2lkdGgiOiAiMTAwJSJ9KTsKCiAgICAgICAgCiAgICAgICAgICAgIHZhciBodG1sX2NhMTRjMzFiZWIzODQzMjU4ZmI0NGZjYWNjMjY5M2QzID0gJChgPGRpdiBpZD0iaHRtbF9jYTE0YzMxYmViMzg0MzI1OGZiNDRmY2FjYzI2OTNkMyIgc3R5bGU9IndpZHRoOiAxMDAuMCU7IGhlaWdodDogMTAwLjAlOyI+TE9ORyBCRUFDSCBNRURJQ0FMIENFTlRFUjwvZGl2PmApWzBdOwogICAgICAgICAgICBwb3B1cF83NGUzM2M2MmM0ZTg0NmNjYWYzOTE2YmNlNWUzNjI3NS5zZXRDb250ZW50KGh0bWxfY2ExNGMzMWJlYjM4NDMyNThmYjQ0ZmNhY2MyNjkzZDMpOwogICAgICAgIAoKICAgICAgICBtYXJrZXJfZDBiMjQ5ODA4YTg3NDRiODhmNGVhMjIxODJiZDE2NDYuYmluZFBvcHVwKHBvcHVwXzc0ZTMzYzYyYzRlODQ2Y2NhZjM5MTZiY2U1ZTM2Mjc1KQogICAgICAgIDsKCiAgICAgICAgCiAgICAKICAgIAogICAgICAgICAgICB2YXIgbWFya2VyXzUzOTllNWIzZWI3MzRjMzdhYTQ5NDM1MmVkYzYwYjg4ID0gTC5tYXJrZXIoCiAgICAgICAgICAgICAgICBbNDAuNjgxMTI3NTA0MDAwMDYsIC03My42ODYyOTkxOTg5OTk5Nl0sCiAgICAgICAgICAgICAgICB7fQogICAgICAgICAgICApLmFkZFRvKG1hcmtlcl9jbHVzdGVyX2QyNTczMGI4ZGVhZjRkN2M4MmZkZDBiZDg0NzcyMmNkKTsKICAgICAgICAKICAgIAogICAgICAgIHZhciBwb3B1cF82MTllN2MwMjE4YTY0YzQ5ODUzOGM4YTUxZTNhMTQ3MSA9IEwucG9wdXAoeyJtYXhXaWR0aCI6ICIxMDAlIn0pOwoKICAgICAgICAKICAgICAgICAgICAgdmFyIGh0bWxfOWU5MTRmZGM0NTJmNDg2MDg2NDYyZTRiMjgxNzJkZjIgPSAkKGA8ZGl2IGlkPSJodG1sXzllOTE0ZmRjNDUyZjQ4NjA4NjQ2MmU0YjI4MTcyZGYyIiBzdHlsZT0id2lkdGg6IDEwMC4wJTsgaGVpZ2h0OiAxMDAuMCU7Ij5MT05HIElTTEFORCBKRVdJU0ggVkFMTEVZIFNUUkVBTTwvZGl2PmApWzBdOwogICAgICAgICAgICBwb3B1cF82MTllN2MwMjE4YTY0YzQ5ODUzOGM4YTUxZTNhMTQ3MS5zZXRDb250ZW50KGh0bWxfOWU5MTRmZGM0NTJmNDg2MDg2NDYyZTRiMjgxNzJkZjIpOwogICAgICAgIAoKICAgICAgICBtYXJrZXJfNTM5OWU1YjNlYjczNGMzN2FhNDk0MzUyZWRjNjBiODguYmluZFBvcHVwKHBvcHVwXzYxOWU3YzAyMThhNjRjNDk4NTM4YzhhNTFlM2ExNDcxKQogICAgICAgIDsKCiAgICAgICAgCiAgICAKICAgIAogICAgICAgICAgICB2YXIgbWFya2VyX2NlMWNjNzEyNzQ2YzQ1YjE4NDk0MzgwNjAzYTc1NWI4ID0gTC5tYXJrZXIoCiAgICAgICAgICAgICAgICBbNDAuNzI2NzcxMjkwMDAwMDQ1LCAtNzMuNDc4NzE4MTk0OTk5OTNdLAogICAgICAgICAgICAgICAge30KICAgICAgICAgICAgKS5hZGRUbyhtYXJrZXJfY2x1c3Rlcl9kMjU3MzBiOGRlYWY0ZDdjODJmZGQwYmQ4NDc3MjJjZCk7CiAgICAgICAgCiAgICAKICAgICAgICB2YXIgcG9wdXBfYzk4M2I5ZWU5MTQ4NDE5MmFhZmU2YTMxMmUyYjlmMjMgPSBMLnBvcHVwKHsibWF4V2lkdGgiOiAiMTAwJSJ9KTsKCiAgICAgICAgCiAgICAgICAgICAgIHZhciBodG1sXzE2MGE3ZjcwMzFiZTQzOTQ4NzAyODM4NGUwNTBhZTgyID0gJChgPGRpdiBpZD0iaHRtbF8xNjBhN2Y3MDMxYmU0Mzk0ODcwMjgzODRlMDUwYWU4MiIgc3R5bGU9IndpZHRoOiAxMDAuMCU7IGhlaWdodDogMTAwLjAlOyI+U1QuIEpPU0VQSCBIT1NQSVRBTDwvZGl2PmApWzBdOwogICAgICAgICAgICBwb3B1cF9jOTgzYjllZTkxNDg0MTkyYWFmZTZhMzEyZTJiOWYyMy5zZXRDb250ZW50KGh0bWxfMTYwYTdmNzAzMWJlNDM5NDg3MDI4Mzg0ZTA1MGFlODIpOwogICAgICAgIAoKICAgICAgICBtYXJrZXJfY2UxY2M3MTI3NDZjNDViMTg0OTQzODA2MDNhNzU1YjguYmluZFBvcHVwKHBvcHVwX2M5ODNiOWVlOTE0ODQxOTJhYWZlNmEzMTJlMmI5ZjIzKQogICAgICAgIDsKCiAgICAgICAgCiAgICAKICAgIAogICAgICAgICAgICB2YXIgbWFya2VyXzRkMjU1ZDlmMWNlYTQ2ODE4NGJkNDYzNDhjNjgwMzNmID0gTC5tYXJrZXIoCiAgICAgICAgICAgICAgICBbNDAuNjg4NTEzMDMxMDAwMDcsIC03My42MzE2MDM4MDk5OTk5M10sCiAgICAgICAgICAgICAgICB7fQogICAgICAgICAgICApLmFkZFRvKG1hcmtlcl9jbHVzdGVyX2QyNTczMGI4ZGVhZjRkN2M4MmZkZDBiZDg0NzcyMmNkKTsKICAgICAgICAKICAgIAogICAgICAgIHZhciBwb3B1cF9iYWQ5NmJkMjMzOWU0YjU5OGE1YjVjZDVjYzhhMmE2ZCA9IEwucG9wdXAoeyJtYXhXaWR0aCI6ICIxMDAlIn0pOwoKICAgICAgICAKICAgICAgICAgICAgdmFyIGh0bWxfYjRiNjU4NzU0NjcxNDlhOWI1NjljZGVkNzNmYmRkZDYgPSAkKGA8ZGl2IGlkPSJodG1sX2I0YjY1ODc1NDY3MTQ5YTliNTY5Y2RlZDczZmJkZGQ2IiBzdHlsZT0id2lkdGg6IDEwMC4wJTsgaGVpZ2h0OiAxMDAuMCU7Ij5NRVJDWSBNRURJQ0FMIENFTlRFUjwvZGl2PmApWzBdOwogICAgICAgICAgICBwb3B1cF9iYWQ5NmJkMjMzOWU0YjU5OGE1YjVjZDVjYzhhMmE2ZC5zZXRDb250ZW50KGh0bWxfYjRiNjU4NzU0NjcxNDlhOWI1NjljZGVkNzNmYmRkZDYpOwogICAgICAgIAoKICAgICAgICBtYXJrZXJfNGQyNTVkOWYxY2VhNDY4MTg0YmQ0NjM0OGM2ODAzM2YuYmluZFBvcHVwKHBvcHVwX2JhZDk2YmQyMzM5ZTRiNTk4YTViNWNkNWNjOGEyYTZkKQogICAgICAgIDsKCiAgICAgICAgCiAgICAKICAgIAogICAgICAgICAgICB2YXIgbWFya2VyX2JiMjExN2E4OGUxYzQzZWE4ZGVkNWU1ZGFkMDJhODA3ID0gTC5tYXJrZXIoCiAgICAgICAgICAgICAgICBbNDAuODA0NzU0NzMyMDAwMDQsIC03My42NzA1ODk2ODI5OTk5M10sCiAgICAgICAgICAgICAgICB7fQogICAgICAgICAgICApLmFkZFRvKG1hcmtlcl9jbHVzdGVyX2QyNTczMGI4ZGVhZjRkN2M4MmZkZDBiZDg0NzcyMmNkKTsKICAgICAgICAKICAgIAogICAgICAgIHZhciBwb3B1cF83Yzg1N2I0NTM3ODg0MzdjOGMwNWU4MjgxZmNjMTc5ZiA9IEwucG9wdXAoeyJtYXhXaWR0aCI6ICIxMDAlIn0pOwoKICAgICAgICAKICAgICAgICAgICAgdmFyIGh0bWxfNDk0MzVjYzliZDUyNDQ2NGFmZDlmYzc2ZTA4M2ZjMGEgPSAkKGA8ZGl2IGlkPSJodG1sXzQ5NDM1Y2M5YmQ1MjQ0NjRhZmQ5ZmM3NmUwODNmYzBhIiBzdHlsZT0id2lkdGg6IDEwMC4wJTsgaGVpZ2h0OiAxMDAuMCU7Ij5TQUlOVCBGUkFOQ0lTIEhPU1BJVEFMPC9kaXY+YClbMF07CiAgICAgICAgICAgIHBvcHVwXzdjODU3YjQ1Mzc4ODQzN2M4YzA1ZTgyODFmY2MxNzlmLnNldENvbnRlbnQoaHRtbF80OTQzNWNjOWJkNTI0NDY0YWZkOWZjNzZlMDgzZmMwYSk7CiAgICAgICAgCgogICAgICAgIG1hcmtlcl9iYjIxMTdhODhlMWM0M2VhOGRlZDVlNWRhZDAyYTgwNy5iaW5kUG9wdXAocG9wdXBfN2M4NTdiNDUzNzg4NDM3YzhjMDVlODI4MWZjYzE3OWYpCiAgICAgICAgOwoKICAgICAgICAKICAgIAogICAgCiAgICAgICAgICAgIHZhciBtYXJrZXJfNzg3OWE1YmY1MThhNGFjNzgyZWNlM2ExYmMzMDhkNjIgPSBMLm1hcmtlcigKICAgICAgICAgICAgICAgIFs0My4yMjkxMzQzMzAwMDAwOCwgLTc1LjQ0MjM1NDk5MTk5OTkzXSwKICAgICAgICAgICAgICAgIHt9CiAgICAgICAgICAgICkuYWRkVG8obWFya2VyX2NsdXN0ZXJfZDI1NzMwYjhkZWFmNGQ3YzgyZmRkMGJkODQ3NzIyY2QpOwogICAgICAgIAogICAgCiAgICAgICAgdmFyIHBvcHVwXzI1YzY4NWFlYTJjYTQ4ZTQ4NWI2ZjA5MDBhYzU2NTY0ID0gTC5wb3B1cCh7Im1heFdpZHRoIjogIjEwMCUifSk7CgogICAgICAgIAogICAgICAgICAgICB2YXIgaHRtbF9kNWNkMGEwNjViZmQ0OTUxOWI0NWEzYmFiMmE4MWM2MiA9ICQoYDxkaXYgaWQ9Imh0bWxfZDVjZDBhMDY1YmZkNDk1MTliNDVhM2JhYjJhODFjNjIiIHN0eWxlPSJ3aWR0aDogMTAwLjAlOyBoZWlnaHQ6IDEwMC4wJTsiPlJPTUUgTUVNT1JJQUwgSE9TUElUQUw8L2Rpdj5gKVswXTsKICAgICAgICAgICAgcG9wdXBfMjVjNjg1YWVhMmNhNDhlNDg1YjZmMDkwMGFjNTY1NjQuc2V0Q29udGVudChodG1sX2Q1Y2QwYTA2NWJmZDQ5NTE5YjQ1YTNiYWIyYTgxYzYyKTsKICAgICAgICAKCiAgICAgICAgbWFya2VyXzc4NzlhNWJmNTE4YTRhYzc4MmVjZTNhMWJjMzA4ZDYyLmJpbmRQb3B1cChwb3B1cF8yNWM2ODVhZWEyY2E0OGU0ODViNmYwOTAwYWM1NjU2NCkKICAgICAgICA7CgogICAgICAgIAogICAgCiAgICAKICAgICAgICAgICAgdmFyIG1hcmtlcl84OWUwOWE1YjI1MjQ0MTJhYmM5Y2I1NDljMWUyZGJlMyA9IEwubWFya2VyKAogICAgICAgICAgICAgICAgWzQzLjA4MjE3MTQzMzAwMDA0LCAtNzUuMjY2MTEyMDMxOTk5OTddLAogICAgICAgICAgICAgICAge30KICAgICAgICAgICAgKS5hZGRUbyhtYXJrZXJfY2x1c3Rlcl9kMjU3MzBiOGRlYWY0ZDdjODJmZGQwYmQ4NDc3MjJjZCk7CiAgICAgICAgCiAgICAKICAgICAgICB2YXIgcG9wdXBfMDY5ZTlhZTVkMzVjNDQzYTg1OGQzYjEwNWUzMzUxNWEgPSBMLnBvcHVwKHsibWF4V2lkdGgiOiAiMTAwJSJ9KTsKCiAgICAgICAgCiAgICAgICAgICAgIHZhciBodG1sXzk1NTY5ZTI2ZGJjZjQ4N2Y5ZjQzYjkyNjU4MTkxNDAwID0gJChgPGRpdiBpZD0iaHRtbF85NTU2OWUyNmRiY2Y0ODdmOWY0M2I5MjY1ODE5MTQwMCIgc3R5bGU9IndpZHRoOiAxMDAuMCU7IGhlaWdodDogMTAwLjAlOyI+U1QuIEVMSVpBQkVUSCBNRURJQ0FMIENFTlRFUjwvZGl2PmApWzBdOwogICAgICAgICAgICBwb3B1cF8wNjllOWFlNWQzNWM0NDNhODU4ZDNiMTA1ZTMzNTE1YS5zZXRDb250ZW50KGh0bWxfOTU1NjllMjZkYmNmNDg3ZjlmNDNiOTI2NTgxOTE0MDApOwogICAgICAgIAoKICAgICAgICBtYXJrZXJfODllMDlhNWIyNTI0NDEyYWJjOWNiNTQ5YzFlMmRiZTMuYmluZFBvcHVwKHBvcHVwXzA2OWU5YWU1ZDM1YzQ0M2E4NThkM2IxMDVlMzM1MTVhKQogICAgICAgIDsKCiAgICAgICAgCiAgICAKICAgIAogICAgICAgICAgICB2YXIgbWFya2VyXzkxYWFhMDFmNDVhNjRlMDFhODQxYzhjMDAyNTA3OGExID0gTC5tYXJrZXIoCiAgICAgICAgICAgICAgICBbNDMuMDA4MDM3NjY3MDAwMDcsIC03Ni4xNjc5MDIxODE5OTk5Nl0sCiAgICAgICAgICAgICAgICB7fQogICAgICAgICAgICApLmFkZFRvKG1hcmtlcl9jbHVzdGVyX2QyNTczMGI4ZGVhZjRkN2M4MmZkZDBiZDg0NzcyMmNkKTsKICAgICAgICAKICAgIAogICAgICAgIHZhciBwb3B1cF9mM2ZlY2FlN2Q1ZWQ0MjJkYTIwYWNkYjQ0ZTg5NjA4ZSA9IEwucG9wdXAoeyJtYXhXaWR0aCI6ICIxMDAlIn0pOwoKICAgICAgICAKICAgICAgICAgICAgdmFyIGh0bWxfZjE2MGMwNGQ3YjczNDA0YTkxYjViZDczOTNjNGFjYzkgPSAkKGA8ZGl2IGlkPSJodG1sX2YxNjBjMDRkN2I3MzQwNGE5MWI1YmQ3MzkzYzRhY2M5IiBzdHlsZT0id2lkdGg6IDEwMC4wJTsgaGVpZ2h0OiAxMDAuMCU7Ij5VUFNUQVRFIFVOSVZFUlNJVFkgSE9TUElUQUwgLSBDT01NVU5JVFkgQ0FNUFVTPC9kaXY+YClbMF07CiAgICAgICAgICAgIHBvcHVwX2YzZmVjYWU3ZDVlZDQyMmRhMjBhY2RiNDRlODk2MDhlLnNldENvbnRlbnQoaHRtbF9mMTYwYzA0ZDdiNzM0MDRhOTFiNWJkNzM5M2M0YWNjOSk7CiAgICAgICAgCgogICAgICAgIG1hcmtlcl85MWFhYTAxZjQ1YTY0ZTAxYTg0MWM4YzAwMjUwNzhhMS5iaW5kUG9wdXAocG9wdXBfZjNmZWNhZTdkNWVkNDIyZGEyMGFjZGI0NGU4OTYwOGUpCiAgICAgICAgOwoKICAgICAgICAKICAgIAogICAgCiAgICAgICAgICAgIHZhciBtYXJrZXJfOTBiNTdhNmM1OTE1NGQ2NGJiN2M0N2UxNzgxZGRlYTAgPSBMLm1hcmtlcigKICAgICAgICAgICAgICAgIFs0Mi44NzY0NjA0ODEwMDAwMywgLTc2Ljk4Nzc2ODM2OTk5OTk4XSwKICAgICAgICAgICAgICAgIHt9CiAgICAgICAgICAgICkuYWRkVG8obWFya2VyX2NsdXN0ZXJfZDI1NzMwYjhkZWFmNGQ3YzgyZmRkMGJkODQ3NzIyY2QpOwogICAgICAgIAogICAgCiAgICAgICAgdmFyIHBvcHVwXzhkNzg3YzA4MDc5MjQzNmZiMjM2NDdiNGRkNWYwYjYxID0gTC5wb3B1cCh7Im1heFdpZHRoIjogIjEwMCUifSk7CgogICAgICAgIAogICAgICAgICAgICB2YXIgaHRtbF84ODdkNDJlODg5Njg0NDcwYTE0MmMwMmNiYzUxMTdiOCA9ICQoYDxkaXYgaWQ9Imh0bWxfODg3ZDQyZTg4OTY4NDQ3MGExNDJjMDJjYmM1MTE3YjgiIHN0eWxlPSJ3aWR0aDogMTAwLjAlOyBoZWlnaHQ6IDEwMC4wJTsiPkdFTkVWQSBHRU5FUkFMIEhPU1BJVEFMPC9kaXY+YClbMF07CiAgICAgICAgICAgIHBvcHVwXzhkNzg3YzA4MDc5MjQzNmZiMjM2NDdiNGRkNWYwYjYxLnNldENvbnRlbnQoaHRtbF84ODdkNDJlODg5Njg0NDcwYTE0MmMwMmNiYzUxMTdiOCk7CiAgICAgICAgCgogICAgICAgIG1hcmtlcl85MGI1N2E2YzU5MTU0ZDY0YmI3YzQ3ZTE3ODFkZGVhMC5iaW5kUG9wdXAocG9wdXBfOGQ3ODdjMDgwNzkyNDM2ZmIyMzY0N2I0ZGQ1ZjBiNjEpCiAgICAgICAgOwoKICAgICAgICAKICAgIAogICAgCiAgICAgICAgICAgIHZhciBtYXJrZXJfZWU5NWMwMjkxMmU2NDliMWE4ODNhMjlkYzUwZjU5OGQgPSBMLm1hcmtlcigKICAgICAgICAgICAgICAgIFs0MS40MzUyNTEzNjIwMDAwNCwgLTc0LjA0MjMyMTEzOTk5OTk2XSwKICAgICAgICAgICAgICAgIHt9CiAgICAgICAgICAgICkuYWRkVG8obWFya2VyX2NsdXN0ZXJfZDI1NzMwYjhkZWFmNGQ3YzgyZmRkMGJkODQ3NzIyY2QpOwogICAgICAgIAogICAgCiAgICAgICAgdmFyIHBvcHVwXzk1NmYyMzk0Njk0NzRlZjQ4ODMyNGRlOWJmMWE5ZmEyID0gTC5wb3B1cCh7Im1heFdpZHRoIjogIjEwMCUifSk7CgogICAgICAgIAogICAgICAgICAgICB2YXIgaHRtbF82OWFkZDk2OGRkYjk0ZTNlYWFjOGFmMDA4MzkxZTRkYyA9ICQoYDxkaXYgaWQ9Imh0bWxfNjlhZGQ5NjhkZGI5NGUzZWFhYzhhZjAwODM5MWU0ZGMiIHN0eWxlPSJ3aWR0aDogMTAwLjAlOyBoZWlnaHQ6IDEwMC4wJTsiPlNULiBMVUtFJ1MgQ09STldBTEwgSE9TUElUQUwgLSBDT1JOV0FMTCBDQU1QVVM8L2Rpdj5gKVswXTsKICAgICAgICAgICAgcG9wdXBfOTU2ZjIzOTQ2OTQ3NGVmNDg4MzI0ZGU5YmYxYTlmYTIuc2V0Q29udGVudChodG1sXzY5YWRkOTY4ZGRiOTRlM2VhYWM4YWYwMDgzOTFlNGRjKTsKICAgICAgICAKCiAgICAgICAgbWFya2VyX2VlOTVjMDI5MTJlNjQ5YjFhODgzYTI5ZGM1MGY1OThkLmJpbmRQb3B1cChwb3B1cF85NTZmMjM5NDY5NDc0ZWY0ODgzMjRkZTliZjFhOWZhMikKICAgICAgICA7CgogICAgICAgIAogICAgCiAgICAKICAgICAgICAgICAgdmFyIG1hcmtlcl8zYzRjNmI5OTRhMWY0NDg1ODA1MjVlOGFmMDIzNDkwOSA9IEwubWFya2VyKAogICAgICAgICAgICAgICAgWzQyLjg3NjAxNDk1ODAwMDAzLCAtNzcuMjkwMjQ0MzAzOTk5OTRdLAogICAgICAgICAgICAgICAge30KICAgICAgICAgICAgKS5hZGRUbyhtYXJrZXJfY2x1c3Rlcl9kMjU3MzBiOGRlYWY0ZDdjODJmZGQwYmQ4NDc3MjJjZCk7CiAgICAgICAgCiAgICAKICAgICAgICB2YXIgcG9wdXBfMmMxZDIwYjk1NjQ5NGNkMzk4MzYyODk4MTI4ZmE3MWEgPSBMLnBvcHVwKHsibWF4V2lkdGgiOiAiMTAwJSJ9KTsKCiAgICAgICAgCiAgICAgICAgICAgIHZhciBodG1sXzdkYzA3NWZkZDZlYjRlNzdhMWU3NThhZmFkNWExMjIxID0gJChgPGRpdiBpZD0iaHRtbF83ZGMwNzVmZGQ2ZWI0ZTc3YTFlNzU4YWZhZDVhMTIyMSIgc3R5bGU9IndpZHRoOiAxMDAuMCU7IGhlaWdodDogMTAwLjAlOyI+RkYgVEhPTVBTT04gSE9TUElUQUw8L2Rpdj5gKVswXTsKICAgICAgICAgICAgcG9wdXBfMmMxZDIwYjk1NjQ5NGNkMzk4MzYyODk4MTI4ZmE3MWEuc2V0Q29udGVudChodG1sXzdkYzA3NWZkZDZlYjRlNzdhMWU3NThhZmFkNWExMjIxKTsKICAgICAgICAKCiAgICAgICAgbWFya2VyXzNjNGM2Yjk5NGExZjQ0ODU4MDUyNWU4YWYwMjM0OTA5LmJpbmRQb3B1cChwb3B1cF8yYzFkMjBiOTU2NDk0Y2QzOTgzNjI4OTgxMjhmYTcxYSkKICAgICAgICA7CgogICAgICAgIAogICAgCiAgICAKICAgICAgICAgICAgdmFyIG1hcmtlcl9kZjRjOTFmNmIzMDg0MTUwYmYyZjQzZTk5YWUyZmM2YiA9IEwubWFya2VyKAogICAgICAgICAgICAgICAgWzQxLjI2MTM2MjkyMTAwMDAzNSwgLTc0LjM1NzQ2MjE0ODk5OTk0XSwKICAgICAgICAgICAgICAgIHt9CiAgICAgICAgICAgICkuYWRkVG8obWFya2VyX2NsdXN0ZXJfZDI1NzMwYjhkZWFmNGQ3YzgyZmRkMGJkODQ3NzIyY2QpOwogICAgICAgIAogICAgCiAgICAgICAgdmFyIHBvcHVwXzk1OWFlMmQwOGQ1YjQ0YjFhYjU1NDgyMTkxZDBmNTQ4ID0gTC5wb3B1cCh7Im1heFdpZHRoIjogIjEwMCUifSk7CgogICAgICAgIAogICAgICAgICAgICB2YXIgaHRtbF9iMjI1ZTQ2YWRkYWI0MDQ2ODczMGVlYWJiMWYxMzQ2ZCA9ICQoYDxkaXYgaWQ9Imh0bWxfYjIyNWU0NmFkZGFiNDA0Njg3MzBlZWFiYjFmMTM0NmQiIHN0eWxlPSJ3aWR0aDogMTAwLjAlOyBoZWlnaHQ6IDEwMC4wJTsiPlNUIEFOVEhPTlkgQ09NTVVOSVRZIEhPU1BJVEFMPC9kaXY+YClbMF07CiAgICAgICAgICAgIHBvcHVwXzk1OWFlMmQwOGQ1YjQ0YjFhYjU1NDgyMTkxZDBmNTQ4LnNldENvbnRlbnQoaHRtbF9iMjI1ZTQ2YWRkYWI0MDQ2ODczMGVlYWJiMWYxMzQ2ZCk7CiAgICAgICAgCgogICAgICAgIG1hcmtlcl9kZjRjOTFmNmIzMDg0MTUwYmYyZjQzZTk5YWUyZmM2Yi5iaW5kUG9wdXAocG9wdXBfOTU5YWUyZDA4ZDViNDRiMWFiNTU0ODIxOTFkMGY1NDgpCiAgICAgICAgOwoKICAgICAgICAKICAgIAogICAgCiAgICAgICAgICAgIHZhciBtYXJrZXJfYTY4OWNiODgwZTQwNDFmZDkyYjQyNDhkZDAxZGU1YWYgPSBMLm1hcmtlcigKICAgICAgICAgICAgICAgIFs0MS4zNjc2MzU3MDAwMDAwNSwgLTc0LjY4MTU5NzE4NTk5OTk2XSwKICAgICAgICAgICAgICAgIHt9CiAgICAgICAgICAgICkuYWRkVG8obWFya2VyX2NsdXN0ZXJfZDI1NzMwYjhkZWFmNGQ3YzgyZmRkMGJkODQ3NzIyY2QpOwogICAgICAgIAogICAgCiAgICAgICAgdmFyIHBvcHVwXzdkMzI5ZGJjNjM5ODQ2ZWI5ZGFmZTNkODYxYWU2Yjg0ID0gTC5wb3B1cCh7Im1heFdpZHRoIjogIjEwMCUifSk7CgogICAgICAgIAogICAgICAgICAgICB2YXIgaHRtbF9kMWEzNmUwNmI4ZTk0YzgwODBhMWIwNmU4MjkxZGQzOSA9ICQoYDxkaXYgaWQ9Imh0bWxfZDFhMzZlMDZiOGU5NGM4MDgwYTFiMDZlODI5MWRkMzkiIHN0eWxlPSJ3aWR0aDogMTAwLjAlOyBoZWlnaHQ6IDEwMC4wJTsiPkJPTiBTRUNPVVJTIENPTU1VTklUWSBIT1NQSVRBTDwvZGl2PmApWzBdOwogICAgICAgICAgICBwb3B1cF83ZDMyOWRiYzYzOTg0NmViOWRhZmUzZDg2MWFlNmI4NC5zZXRDb250ZW50KGh0bWxfZDFhMzZlMDZiOGU5NGM4MDgwYTFiMDZlODI5MWRkMzkpOwogICAgICAgIAoKICAgICAgICBtYXJrZXJfYTY4OWNiODgwZTQwNDFmZDkyYjQyNDhkZDAxZGU1YWYuYmluZFBvcHVwKHBvcHVwXzdkMzI5ZGJjNjM5ODQ2ZWI5ZGFmZTNkODYxYWU2Yjg0KQogICAgICAgIDsKCiAgICAgICAgCiAgICAKICAgIAogICAgICAgICAgICB2YXIgbWFya2VyXzU0OTcxMGQ1ZTAyYjQ3MWE4MDZlZGVmMDRmNGNmNWIwID0gTC5tYXJrZXIoCiAgICAgICAgICAgICAgICBbNDEuMzgyNjI3MTIyMDAwMDIsIC03My42NjI5NzU3MTM5OTk5N10sCiAgICAgICAgICAgICAgICB7fQogICAgICAgICAgICApLmFkZFRvKG1hcmtlcl9jbHVzdGVyX2QyNTczMGI4ZGVhZjRkN2M4MmZkZDBiZDg0NzcyMmNkKTsKICAgICAgICAKICAgIAogICAgICAgIHZhciBwb3B1cF80MWMyNDBmYjg4YjM0NmVmYTVhZDUzNTViYjhlZmZhMCA9IEwucG9wdXAoeyJtYXhXaWR0aCI6ICIxMDAlIn0pOwoKICAgICAgICAKICAgICAgICAgICAgdmFyIGh0bWxfNzA1MzFmYzI1MzEzNGUyZDkxOTU2YzA3ZjAwOTY2NDUgPSAkKGA8ZGl2IGlkPSJodG1sXzcwNTMxZmMyNTMxMzRlMmQ5MTk1NmMwN2YwMDk2NjQ1IiBzdHlsZT0id2lkdGg6IDEwMC4wJTsgaGVpZ2h0OiAxMDAuMCU7Ij5QVVROQU0gSE9TUElUQUwgQ0VOVEVSPC9kaXY+YClbMF07CiAgICAgICAgICAgIHBvcHVwXzQxYzI0MGZiODhiMzQ2ZWZhNWFkNTM1NWJiOGVmZmEwLnNldENvbnRlbnQoaHRtbF83MDUzMWZjMjUzMTM0ZTJkOTE5NTZjMDdmMDA5NjY0NSk7CiAgICAgICAgCgogICAgICAgIG1hcmtlcl81NDk3MTBkNWUwMmI0NzFhODA2ZWRlZjA0ZjRjZjViMC5iaW5kUG9wdXAocG9wdXBfNDFjMjQwZmI4OGIzNDZlZmE1YWQ1MzU1YmI4ZWZmYTApCiAgICAgICAgOwoKICAgICAgICAKICAgIAogICAgCiAgICAgICAgICAgIHZhciBtYXJrZXJfMWEwOWUwMGRlNmI0NGU0MjhjODZhMGQ3Y2RlNzhlMTggPSBMLm1hcmtlcigKICAgICAgICAgICAgICAgIFs0Mi43NDI3MjA1MDcwMDAwNywgLTczLjY3NjQyMzk2Njk5OTkzXSwKICAgICAgICAgICAgICAgIHt9CiAgICAgICAgICAgICkuYWRkVG8obWFya2VyX2NsdXN0ZXJfZDI1NzMwYjhkZWFmNGQ3YzgyZmRkMGJkODQ3NzIyY2QpOwogICAgICAgIAogICAgCiAgICAgICAgdmFyIHBvcHVwXzYzYzhjYjI4OTdjMDQ2ZjE5ZWZhNmU5YTg2YTU4Zjk4ID0gTC5wb3B1cCh7Im1heFdpZHRoIjogIjEwMCUifSk7CgogICAgICAgIAogICAgICAgICAgICB2YXIgaHRtbF84ZjIwY2VmZTE3NmE0MmVhYmU1MTM0ZTk0ZTQ1MDQxMSA9ICQoYDxkaXYgaWQ9Imh0bWxfOGYyMGNlZmUxNzZhNDJlYWJlNTEzNGU5NGU0NTA0MTEiIHN0eWxlPSJ3aWR0aDogMTAwLjAlOyBoZWlnaHQ6IDEwMC4wJTsiPlNUIE1BUlknUyBIT1NQSVRBTDwvZGl2PmApWzBdOwogICAgICAgICAgICBwb3B1cF82M2M4Y2IyODk3YzA0NmYxOWVmYTZlOWE4NmE1OGY5OC5zZXRDb250ZW50KGh0bWxfOGYyMGNlZmUxNzZhNDJlYWJlNTEzNGU5NGU0NTA0MTEpOwogICAgICAgIAoKICAgICAgICBtYXJrZXJfMWEwOWUwMGRlNmI0NGU0MjhjODZhMGQ3Y2RlNzhlMTguYmluZFBvcHVwKHBvcHVwXzYzYzhjYjI4OTdjMDQ2ZjE5ZWZhNmU5YTg2YTU4Zjk4KQogICAgICAgIDsKCiAgICAgICAgCiAgICAKICAgIAogICAgICAgICAgICB2YXIgbWFya2VyXzg1YTBhOGVhMTQ5MTRiMmQ4NjZmYWRjYzlkOWNmNDMxID0gTC5tYXJrZXIoCiAgICAgICAgICAgICAgICBbNDEuMTU5MDc1NTY2MDAwMDcsIC03NC4wMzgwNjE4Mzk5OTk5NV0sCiAgICAgICAgICAgICAgICB7fQogICAgICAgICAgICApLmFkZFRvKG1hcmtlcl9jbHVzdGVyX2QyNTczMGI4ZGVhZjRkN2M4MmZkZDBiZDg0NzcyMmNkKTsKICAgICAgICAKICAgIAogICAgICAgIHZhciBwb3B1cF82Yjg2NzQ0M2RiMTM0NDE5OTZkZDcxOWU0OTZmZDM3MiA9IEwucG9wdXAoeyJtYXhXaWR0aCI6ICIxMDAlIn0pOwoKICAgICAgICAKICAgICAgICAgICAgdmFyIGh0bWxfZmE1OWMzOTdlOWEzNGRjYmE1ZDVhZjRhNGM4ODIzODIgPSAkKGA8ZGl2IGlkPSJodG1sX2ZhNTljMzk3ZTlhMzRkY2JhNWQ1YWY0YTRjODgyMzgyIiBzdHlsZT0id2lkdGg6IDEwMC4wJTsgaGVpZ2h0OiAxMDAuMCU7Ij5TVU1NSVQgUEFSSyBIT1NQSVRBTCAmIE5VUlNJTkcgQ0FSRSBDRU5URVI8L2Rpdj5gKVswXTsKICAgICAgICAgICAgcG9wdXBfNmI4Njc0NDNkYjEzNDQxOTk2ZGQ3MTllNDk2ZmQzNzIuc2V0Q29udGVudChodG1sX2ZhNTljMzk3ZTlhMzRkY2JhNWQ1YWY0YTRjODgyMzgyKTsKICAgICAgICAKCiAgICAgICAgbWFya2VyXzg1YTBhOGVhMTQ5MTRiMmQ4NjZmYWRjYzlkOWNmNDMxLmJpbmRQb3B1cChwb3B1cF82Yjg2NzQ0M2RiMTM0NDE5OTZkZDcxOWU0OTZmZDM3MikKICAgICAgICA7CgogICAgICAgIAogICAgCiAgICAKICAgICAgICAgICAgdmFyIG1hcmtlcl9kZmYxZWFkMGUyMWQ0NzMxYTJlMjM1OWJiNTllYmM4MyA9IEwubWFya2VyKAogICAgICAgICAgICAgICAgWzQ0LjY5MTU5MDY1MzAwMDA0LCAtNzUuNDk5ODg3Nzc5OTk5OTRdLAogICAgICAgICAgICAgICAge30KICAgICAgICAgICAgKS5hZGRUbyhtYXJrZXJfY2x1c3Rlcl9kMjU3MzBiOGRlYWY0ZDdjODJmZGQwYmQ4NDc3MjJjZCk7CiAgICAgICAgCiAgICAKICAgICAgICB2YXIgcG9wdXBfZTVmYmNmYjdiZGMxNDMyM2FiMDVjYzRlNTg3MDMwNmEgPSBMLnBvcHVwKHsibWF4V2lkdGgiOiAiMTAwJSJ9KTsKCiAgICAgICAgCiAgICAgICAgICAgIHZhciBodG1sXzA4OWQzOThlZTk1YjQyYzg4MmI0OTY4OGI2MmY0MTI0ID0gJChgPGRpdiBpZD0iaHRtbF8wODlkMzk4ZWU5NWI0MmM4ODJiNDk2ODhiNjJmNDEyNCIgc3R5bGU9IndpZHRoOiAxMDAuMCU7IGhlaWdodDogMTAwLjAlOyI+Q0xBWFRPTi1IRVBCVVJOIE1FRElDQUwgQ0VOVEVSPC9kaXY+YClbMF07CiAgICAgICAgICAgIHBvcHVwX2U1ZmJjZmI3YmRjMTQzMjNhYjA1Y2M0ZTU4NzAzMDZhLnNldENvbnRlbnQoaHRtbF8wODlkMzk4ZWU5NWI0MmM4ODJiNDk2ODhiNjJmNDEyNCk7CiAgICAgICAgCgogICAgICAgIG1hcmtlcl9kZmYxZWFkMGUyMWQ0NzMxYTJlMjM1OWJiNTllYmM4My5iaW5kUG9wdXAocG9wdXBfZTVmYmNmYjdiZGMxNDMyM2FiMDVjYzRlNTg3MDMwNmEpCiAgICAgICAgOwoKICAgICAgICAKICAgIAogICAgCiAgICAgICAgICAgIHZhciBtYXJrZXJfOTg4M2ZkZjgyYzQ0NGIxZWJhMTI5YjliNDlkOTYxMzYgPSBMLm1hcmtlcigKICAgICAgICAgICAgICAgIFs0NC4zMzc1MjUzNDgwMDAwNCwgLTc1LjQ3NDg0ODcyNDk5OTk3XSwKICAgICAgICAgICAgICAgIHt9CiAgICAgICAgICAgICkuYWRkVG8obWFya2VyX2NsdXN0ZXJfZDI1NzMwYjhkZWFmNGQ3YzgyZmRkMGJkODQ3NzIyY2QpOwogICAgICAgIAogICAgCiAgICAgICAgdmFyIHBvcHVwXzQ0Y2YwMWFhZTcwYzQ0Zjc4MmUwZTA4ZDUzNjQzOGEzID0gTC5wb3B1cCh7Im1heFdpZHRoIjogIjEwMCUifSk7CgogICAgICAgIAogICAgICAgICAgICB2YXIgaHRtbF9lMzExMGY2MmNmNDE0NTljODNlZDNkNDk4YmI5NmFkNyA9ICQoYDxkaXYgaWQ9Imh0bWxfZTMxMTBmNjJjZjQxNDU5YzgzZWQzZDQ5OGJiOTZhZDciIHN0eWxlPSJ3aWR0aDogMTAwLjAlOyBoZWlnaHQ6IDEwMC4wJTsiPkVEV0FSRCBKT0hOIE5PQkxFIEhPU1BJVEFMIE9GIEdPVVZFUk5FVVI8L2Rpdj5gKVswXTsKICAgICAgICAgICAgcG9wdXBfNDRjZjAxYWFlNzBjNDRmNzgyZTBlMDhkNTM2NDM4YTMuc2V0Q29udGVudChodG1sX2UzMTEwZjYyY2Y0MTQ1OWM4M2VkM2Q0OThiYjk2YWQ3KTsKICAgICAgICAKCiAgICAgICAgbWFya2VyXzk4ODNmZGY4MmM0NDRiMWViYTEyOWI5YjQ5ZDk2MTM2LmJpbmRQb3B1cChwb3B1cF80NGNmMDFhYWU3MGM0NGY3ODJlMGUwOGQ1MzY0MzhhMykKICAgICAgICA7CgogICAgICAgIAogICAgCiAgICAKICAgICAgICAgICAgdmFyIG1hcmtlcl85NzEwMmUxYjYzNmM0MWJiYjg1OGNiNDAxMDM2YzI2MiA9IEwubWFya2VyKAogICAgICAgICAgICAgICAgWzQ0LjE2MjQwNzA0MDAwMDA1NSwgLTc1LjA1NjMwNDAyMTk5OTk1XSwKICAgICAgICAgICAgICAgIHt9CiAgICAgICAgICAgICkuYWRkVG8obWFya2VyX2NsdXN0ZXJfZDI1NzMwYjhkZWFmNGQ3YzgyZmRkMGJkODQ3NzIyY2QpOwogICAgICAgIAogICAgCiAgICAgICAgdmFyIHBvcHVwXzNjYTk0NWY1MDVhNzQxOGI4NjY3NDY3NTMzMGRhYmVjID0gTC5wb3B1cCh7Im1heFdpZHRoIjogIjEwMCUifSk7CgogICAgICAgIAogICAgICAgICAgICB2YXIgaHRtbF85NmNlYzRmMjEzNDI0ODc3OGExNmExN2Q1MTlhYWQ0MiA9ICQoYDxkaXYgaWQ9Imh0bWxfOTZjZWM0ZjIxMzQyNDg3NzhhMTZhMTdkNTE5YWFkNDIiIHN0eWxlPSJ3aWR0aDogMTAwLjAlOyBoZWlnaHQ6IDEwMC4wJTsiPkNMSUZUT04tRklORSBIT1NQSVRBTDwvZGl2PmApWzBdOwogICAgICAgICAgICBwb3B1cF8zY2E5NDVmNTA1YTc0MThiODY2NzQ2NzUzMzBkYWJlYy5zZXRDb250ZW50KGh0bWxfOTZjZWM0ZjIxMzQyNDg3NzhhMTZhMTdkNTE5YWFkNDIpOwogICAgICAgIAoKICAgICAgICBtYXJrZXJfOTcxMDJlMWI2MzZjNDFiYmI4NThjYjQwMTAzNmMyNjIuYmluZFBvcHVwKHBvcHVwXzNjYTk0NWY1MDVhNzQxOGI4NjY3NDY3NTMzMGRhYmVjKQogICAgICAgIDsKCiAgICAgICAgCiAgICAKICAgIAogICAgICAgICAgICB2YXIgbWFya2VyXzQ3M2VkMmY0NDRjNDQ2YzBhY2YzYWQ1ZDQ1MTQ5ZjEwID0gTC5tYXJrZXIoCiAgICAgICAgICAgICAgICBbNDIuODIwMTcxNDE4MDAwMDE1LCAtNzMuOTE2MzEyNTAwOTk5OTRdLAogICAgICAgICAgICAgICAge30KICAgICAgICAgICAgKS5hZGRUbyhtYXJrZXJfY2x1c3Rlcl9kMjU3MzBiOGRlYWY0ZDdjODJmZGQwYmQ4NDc3MjJjZCk7CiAgICAgICAgCiAgICAKICAgICAgICB2YXIgcG9wdXBfYWIzOTQ1YTZlMDcwNGMwOGEyYTQ0ZjI0NmQ4YTY0NjAgPSBMLnBvcHVwKHsibWF4V2lkdGgiOiAiMTAwJSJ9KTsKCiAgICAgICAgCiAgICAgICAgICAgIHZhciBodG1sX2JhN2YzZTJjZTA4NTQwMTVhNmI2OGVhYmVhOGRiY2QyID0gJChgPGRpdiBpZD0iaHRtbF9iYTdmM2UyY2UwODU0MDE1YTZiNjhlYWJlYThkYmNkMiIgc3R5bGU9IndpZHRoOiAxMDAuMCU7IGhlaWdodDogMTAwLjAlOyI+U1VOTllWSUVXIFJFSEFCSUxJVEFUSU9OIEhPU1BJVEFMPC9kaXY+YClbMF07CiAgICAgICAgICAgIHBvcHVwX2FiMzk0NWE2ZTA3MDRjMDhhMmE0NGYyNDZkOGE2NDYwLnNldENvbnRlbnQoaHRtbF9iYTdmM2UyY2UwODU0MDE1YTZiNjhlYWJlYThkYmNkMik7CiAgICAgICAgCgogICAgICAgIG1hcmtlcl80NzNlZDJmNDQ0YzQ0NmMwYWNmM2FkNWQ0NTE0OWYxMC5iaW5kUG9wdXAocG9wdXBfYWIzOTQ1YTZlMDcwNGMwOGEyYTQ0ZjI0NmQ4YTY0NjApCiAgICAgICAgOwoKICAgICAgICAKICAgIAogICAgCiAgICAgICAgICAgIHZhciBtYXJrZXJfYzEzMmM4NjZhNWY5NGViNTlhYmZkODg1YjI2MGM2ZTUgPSBMLm1hcmtlcigKICAgICAgICAgICAgICAgIFs0Mi42ODY5Mjk1MDEwMDAwNywgLTc0LjQ4MTc5ODY2MTk5OTk1XSwKICAgICAgICAgICAgICAgIHt9CiAgICAgICAgICAgICkuYWRkVG8obWFya2VyX2NsdXN0ZXJfZDI1NzMwYjhkZWFmNGQ3YzgyZmRkMGJkODQ3NzIyY2QpOwogICAgICAgIAogICAgCiAgICAgICAgdmFyIHBvcHVwX2M5NDA0M2VlNzRhMzQwYWVhZWM1OWQ3MTdkMWYyYmJjID0gTC5wb3B1cCh7Im1heFdpZHRoIjogIjEwMCUifSk7CgogICAgICAgIAogICAgICAgICAgICB2YXIgaHRtbF9jNzg0OTU2NTBkODc0NTMzYTI3YmI3YzUwM2RlMjdhYyA9ICQoYDxkaXYgaWQ9Imh0bWxfYzc4NDk1NjUwZDg3NDUzM2EyN2JiN2M1MDNkZTI3YWMiIHN0eWxlPSJ3aWR0aDogMTAwLjAlOyBoZWlnaHQ6IDEwMC4wJTsiPkNPQkxFU0tJTEwgUkVHSU9OQUwgSE9TUElUQUw8L2Rpdj5gKVswXTsKICAgICAgICAgICAgcG9wdXBfYzk0MDQzZWU3NGEzNDBhZWFlYzU5ZDcxN2QxZjJiYmMuc2V0Q29udGVudChodG1sX2M3ODQ5NTY1MGQ4NzQ1MzNhMjdiYjdjNTAzZGUyN2FjKTsKICAgICAgICAKCiAgICAgICAgbWFya2VyX2MxMzJjODY2YTVmOTRlYjU5YWJmZDg4NWIyNjBjNmU1LmJpbmRQb3B1cChwb3B1cF9jOTQwNDNlZTc0YTM0MGFlYWVjNTlkNzE3ZDFmMmJiYykKICAgICAgICA7CgogICAgICAgIAogICAgCiAgICAKICAgICAgICAgICAgdmFyIG1hcmtlcl85OWY2NzQ4OWZlZDQ0ZTdhOGYxMjBjNmQ4ZGI4ZjVkZSA9IEwubWFya2VyKAogICAgICAgICAgICAgICAgWzQyLjM1MjQ1ODc1NDAwMDA1LCAtNzYuODU5OTcwNTg1XSwKICAgICAgICAgICAgICAgIHt9CiAgICAgICAgICAgICkuYWRkVG8obWFya2VyX2NsdXN0ZXJfZDI1NzMwYjhkZWFmNGQ3YzgyZmRkMGJkODQ3NzIyY2QpOwogICAgICAgIAogICAgCiAgICAgICAgdmFyIHBvcHVwXzhhYTQyNTIyOTZlNDQ3NzFiM2U5OTk2ZjY2OThiY2VhID0gTC5wb3B1cCh7Im1heFdpZHRoIjogIjEwMCUifSk7CgogICAgICAgIAogICAgICAgICAgICB2YXIgaHRtbF8yZTc1MWNmYWVkMzc0YmExOWFlOTU5MmFjMjczMDlkNSA9ICQoYDxkaXYgaWQ9Imh0bWxfMmU3NTFjZmFlZDM3NGJhMTlhZTk1OTJhYzI3MzA5ZDUiIHN0eWxlPSJ3aWR0aDogMTAwLjAlOyBoZWlnaHQ6IDEwMC4wJTsiPlNDSFVZTEVSIEhPU1BJVEFMPC9kaXY+YClbMF07CiAgICAgICAgICAgIHBvcHVwXzhhYTQyNTIyOTZlNDQ3NzFiM2U5OTk2ZjY2OThiY2VhLnNldENvbnRlbnQoaHRtbF8yZTc1MWNmYWVkMzc0YmExOWFlOTU5MmFjMjczMDlkNSk7CiAgICAgICAgCgogICAgICAgIG1hcmtlcl85OWY2NzQ4OWZlZDQ0ZTdhOGYxMjBjNmQ4ZGI4ZjVkZS5iaW5kUG9wdXAocG9wdXBfOGFhNDI1MjI5NmU0NDc3MWIzZTk5OTZmNjY5OGJjZWEpCiAgICAgICAgOwoKICAgICAgICAKICAgIAogICAgCiAgICAgICAgICAgIHZhciBtYXJrZXJfYzUyODAxMzZhYzI3NDdiM2EwY2ZkMjE0YTc2MmY3OWIgPSBMLm1hcmtlcigKICAgICAgICAgICAgICAgIFs0MS45MjE0OTQxNTcwMDAwNCwgLTczLjk5OTY4NzEyMTk5OTk1XSwKICAgICAgICAgICAgICAgIHt9CiAgICAgICAgICAgICkuYWRkVG8obWFya2VyX2NsdXN0ZXJfZDI1NzMwYjhkZWFmNGQ3YzgyZmRkMGJkODQ3NzIyY2QpOwogICAgICAgIAogICAgCiAgICAgICAgdmFyIHBvcHVwXzNkZGJmMTdkOThlNDQ5ZTZhZWFhOWIwOTVhNDQzMmExID0gTC5wb3B1cCh7Im1heFdpZHRoIjogIjEwMCUifSk7CgogICAgICAgIAogICAgICAgICAgICB2YXIgaHRtbF81ZDA0YTU5Y2ZhNWU0YzFhOGJjZWU3OTQyYzkxNTUxMSA9ICQoYDxkaXYgaWQ9Imh0bWxfNWQwNGE1OWNmYTVlNGMxYThiY2VlNzk0MmM5MTU1MTEiIHN0eWxlPSJ3aWR0aDogMTAwLjAlOyBoZWlnaHQ6IDEwMC4wJTsiPkhFQUxUSEFMTElBTkNFIEhPU1BJVEFMIC0gTUFSWSdTIEFWRU5VRSBDQU1QU1U8L2Rpdj5gKVswXTsKICAgICAgICAgICAgcG9wdXBfM2RkYmYxN2Q5OGU0NDllNmFlYWE5YjA5NWE0NDMyYTEuc2V0Q29udGVudChodG1sXzVkMDRhNTljZmE1ZTRjMWE4YmNlZTc5NDJjOTE1NTExKTsKICAgICAgICAKCiAgICAgICAgbWFya2VyX2M1MjgwMTM2YWMyNzQ3YjNhMGNmZDIxNGE3NjJmNzliLmJpbmRQb3B1cChwb3B1cF8zZGRiZjE3ZDk4ZTQ0OWU2YWVhYTliMDk1YTQ0MzJhMSkKICAgICAgICA7CgogICAgICAgIAogICAgCiAgICAKICAgICAgICAgICAgdmFyIG1hcmtlcl8zZGQ0MTk4MmEzMzg0NTg0YjExNGQ2NDk0ZTg4MmJhYSA9IEwubWFya2VyKAogICAgICAgICAgICAgICAgWzQxLjAyNTU5NDMxMDAwMDAyLCAtNzMuNzY5MzA1MDk3OTk5OThdLAogICAgICAgICAgICAgICAge30KICAgICAgICAgICAgKS5hZGRUbyhtYXJrZXJfY2x1c3Rlcl9kMjU3MzBiOGRlYWY0ZDdjODJmZGQwYmQ4NDc3MjJjZCk7CiAgICAgICAgCiAgICAKICAgICAgICB2YXIgcG9wdXBfYjNmZGQwNGYxYTg3NDAxNWExZjhhZmZmMjQ5MWMxZGIgPSBMLnBvcHVwKHsibWF4V2lkdGgiOiAiMTAwJSJ9KTsKCiAgICAgICAgCiAgICAgICAgICAgIHZhciBodG1sX2QzZTFhNzk1MTgzMDQ4ZTI5YjdhMTgwOTE2ZTU0OTEwID0gJChgPGRpdiBpZD0iaHRtbF9kM2UxYTc5NTE4MzA0OGUyOWI3YTE4MDkxNmU1NDkxMCIgc3R5bGU9IndpZHRoOiAxMDAuMCU7IGhlaWdodDogMTAwLjAlOyI+V0hJVEUgUExBSU5TIEhPU1BJVEFMIENFTlRFUjwvZGl2PmApWzBdOwogICAgICAgICAgICBwb3B1cF9iM2ZkZDA0ZjFhODc0MDE1YTFmOGFmZmYyNDkxYzFkYi5zZXRDb250ZW50KGh0bWxfZDNlMWE3OTUxODMwNDhlMjliN2ExODA5MTZlNTQ5MTApOwogICAgICAgIAoKICAgICAgICBtYXJrZXJfM2RkNDE5ODJhMzM4NDU4NGIxMTRkNjQ5NGU4ODJiYWEuYmluZFBvcHVwKHBvcHVwX2IzZmRkMDRmMWE4NzQwMTVhMWY4YWZmZjI0OTFjMWRiKQogICAgICAgIDsKCiAgICAgICAgCiAgICAKICAgIAogICAgICAgICAgICB2YXIgbWFya2VyXzA2Yzk0ZTlmZmZmMjRlZjhhYzMwNTUyYWE4MWJjNjQ4ID0gTC5tYXJrZXIoCiAgICAgICAgICAgICAgICBbNDAuOTQyMDkwODcxMDAwMDYsIC03My44MzY1NjQyMDI5OTk5N10sCiAgICAgICAgICAgICAgICB7fQogICAgICAgICAgICApLmFkZFRvKG1hcmtlcl9jbHVzdGVyX2QyNTczMGI4ZGVhZjRkN2M4MmZkZDBiZDg0NzcyMmNkKTsKICAgICAgICAKICAgIAogICAgICAgIHZhciBwb3B1cF82NGU4NDdlMDQwNjQ0NTBmOGQ1MTNhZjQ0YjlkZmQ3YSA9IEwucG9wdXAoeyJtYXhXaWR0aCI6ICIxMDAlIn0pOwoKICAgICAgICAKICAgICAgICAgICAgdmFyIGh0bWxfMGIzZTZkOTdlZDdmNGFlNTg5NDBkMGUwZTg4Y2Y4ZjggPSAkKGA8ZGl2IGlkPSJodG1sXzBiM2U2ZDk3ZWQ3ZjRhZTU4OTQwZDBlMGU4OGNmOGY4IiBzdHlsZT0id2lkdGg6IDEwMC4wJTsgaGVpZ2h0OiAxMDAuMCU7Ij5ORVcgWU9SSy1QUkVTQllURVJJQU4vTEFXUkVOQ0UgSE9TUElUQUw8L2Rpdj5gKVswXTsKICAgICAgICAgICAgcG9wdXBfNjRlODQ3ZTA0MDY0NDUwZjhkNTEzYWY0NGI5ZGZkN2Euc2V0Q29udGVudChodG1sXzBiM2U2ZDk3ZWQ3ZjRhZTU4OTQwZDBlMGU4OGNmOGY4KTsKICAgICAgICAKCiAgICAgICAgbWFya2VyXzA2Yzk0ZTlmZmZmMjRlZjhhYzMwNTUyYWE4MWJjNjQ4LmJpbmRQb3B1cChwb3B1cF82NGU4NDdlMDQwNjQ0NTBmOGQ1MTNhZjQ0YjlkZmQ3YSkKICAgICAgICA7CgogICAgICAgIAogICAgCiAgICAKICAgICAgICAgICAgdmFyIG1hcmtlcl84YjNhZmMwNTE1MTM0MWJiYmNhMjA4ZTFlMjY3MTliYSA9IEwubWFya2VyKAogICAgICAgICAgICAgICAgWzQyLjY3MTQwMDY2NjAwMDA3LCAtNzcuMDYxMTk5NTc1XSwKICAgICAgICAgICAgICAgIHt9CiAgICAgICAgICAgICkuYWRkVG8obWFya2VyX2NsdXN0ZXJfZDI1NzMwYjhkZWFmNGQ3YzgyZmRkMGJkODQ3NzIyY2QpOwogICAgICAgIAogICAgCiAgICAgICAgdmFyIHBvcHVwXzZjMjc1M2I0MTc4ODQ0NzI4MmI2ZjAyM2FkMmE2NTI2ID0gTC5wb3B1cCh7Im1heFdpZHRoIjogIjEwMCUifSk7CgogICAgICAgIAogICAgICAgICAgICB2YXIgaHRtbF8zZWVmZmUyNDRjOWQ0NGMyOWUzYzQ4NTMwNzZlN2M1NiA9ICQoYDxkaXYgaWQ9Imh0bWxfM2VlZmZlMjQ0YzlkNDRjMjllM2M0ODUzMDc2ZTdjNTYiIHN0eWxlPSJ3aWR0aDogMTAwLjAlOyBoZWlnaHQ6IDEwMC4wJTsiPlNPTERJRVJTIEFORCBTQUlMT1JTIE1FTU9SSUFMIEhPU1BJVEFMPC9kaXY+YClbMF07CiAgICAgICAgICAgIHBvcHVwXzZjMjc1M2I0MTc4ODQ0NzI4MmI2ZjAyM2FkMmE2NTI2LnNldENvbnRlbnQoaHRtbF8zZWVmZmUyNDRjOWQ0NGMyOWUzYzQ4NTMwNzZlN2M1Nik7CiAgICAgICAgCgogICAgICAgIG1hcmtlcl84YjNhZmMwNTE1MTM0MWJiYmNhMjA4ZTFlMjY3MTliYS5iaW5kUG9wdXAocG9wdXBfNmMyNzUzYjQxNzg4NDQ3MjgyYjZmMDIzYWQyYTY1MjYpCiAgICAgICAgOwoKICAgICAgICAKICAgIAogICAgCiAgICAgICAgICAgIHZhciBtYXJrZXJfNGM3ZjE4ZTljODVlNGI3MDk4NGVmYjVhNmM2MzM3OGYgPSBMLm1hcmtlcigKICAgICAgICAgICAgICAgIFs0MC44MzE3MTQ3ODkwMDAwNDYsIC03My45MDQwNTY5ODM5OTk5Nl0sCiAgICAgICAgICAgICAgICB7fQogICAgICAgICAgICApLmFkZFRvKG1hcmtlcl9jbHVzdGVyX2QyNTczMGI4ZGVhZjRkN2M4MmZkZDBiZDg0NzcyMmNkKTsKICAgICAgICAKICAgIAogICAgICAgIHZhciBwb3B1cF9jNWE2MTMwY2U0MDE0NzhjYjllMWVhODljNjYzYTQwNiA9IEwucG9wdXAoeyJtYXhXaWR0aCI6ICIxMDAlIn0pOwoKICAgICAgICAKICAgICAgICAgICAgdmFyIGh0bWxfZWFkNGJlZTY5Y2YxNGU5NDlhMGRhNjI5YWIzZjgxMjkgPSAkKGA8ZGl2IGlkPSJodG1sX2VhZDRiZWU2OWNmMTRlOTQ5YTBkYTYyOWFiM2Y4MTI5IiBzdHlsZT0id2lkdGg6IDEwMC4wJTsgaGVpZ2h0OiAxMDAuMCU7Ij5CUk9OWC1MRUJBTk9OIEhPU1BJVEFMIENFTlRFUiAtIEZVTFRPTiBESVZJU0lPTjwvZGl2PmApWzBdOwogICAgICAgICAgICBwb3B1cF9jNWE2MTMwY2U0MDE0NzhjYjllMWVhODljNjYzYTQwNi5zZXRDb250ZW50KGh0bWxfZWFkNGJlZTY5Y2YxNGU5NDlhMGRhNjI5YWIzZjgxMjkpOwogICAgICAgIAoKICAgICAgICBtYXJrZXJfNGM3ZjE4ZTljODVlNGI3MDk4NGVmYjVhNmM2MzM3OGYuYmluZFBvcHVwKHBvcHVwX2M1YTYxMzBjZTQwMTQ3OGNiOWUxZWE4OWM2NjNhNDA2KQogICAgICAgIDsKCiAgICAgICAgCiAgICAKICAgIAogICAgICAgICAgICB2YXIgbWFya2VyXzdhYWZkOWI2OTQ4MjQyYWE4OTk1Mzc3OTFjNWFiMWQyID0gTC5tYXJrZXIoCiAgICAgICAgICAgICAgICBbNDIuNzU0MzAwMDM1MDAwMDE0LCAtNzguMTMxMDcyNTAzOTk5OTddLAogICAgICAgICAgICAgICAge30KICAgICAgICAgICAgKS5hZGRUbyhtYXJrZXJfY2x1c3Rlcl9kMjU3MzBiOGRlYWY0ZDdjODJmZGQwYmQ4NDc3MjJjZCk7CiAgICAgICAgCiAgICAKICAgICAgICB2YXIgcG9wdXBfNTU4NTA1NTAxODdiNGI0NjkyODI4ODhmOGJmZmM5MTQgPSBMLnBvcHVwKHsibWF4V2lkdGgiOiAiMTAwJSJ9KTsKCiAgICAgICAgCiAgICAgICAgICAgIHZhciBodG1sX2FjOTVlZjlkZjQxNjRmNTc4NTZlOGY5NWMxMzUzNGY5ID0gJChgPGRpdiBpZD0iaHRtbF9hYzk1ZWY5ZGY0MTY0ZjU3ODU2ZThmOTVjMTM1MzRmOSIgc3R5bGU9IndpZHRoOiAxMDAuMCU7IGhlaWdodDogMTAwLjAlOyI+V1lPTUlORyBDT1VOVFkgQ09NTVVOSVRZIEhPU1BJVEFMPC9kaXY+YClbMF07CiAgICAgICAgICAgIHBvcHVwXzU1ODUwNTUwMTg3YjRiNDY5MjgyODg4ZjhiZmZjOTE0LnNldENvbnRlbnQoaHRtbF9hYzk1ZWY5ZGY0MTY0ZjU3ODU2ZThmOTVjMTM1MzRmOSk7CiAgICAgICAgCgogICAgICAgIG1hcmtlcl83YWFmZDliNjk0ODI0MmFhODk5NTM3NzkxYzVhYjFkMi5iaW5kUG9wdXAocG9wdXBfNTU4NTA1NTAxODdiNGI0NjkyODI4ODhmOGJmZmM5MTQpCiAgICAgICAgOwoKICAgICAgICAKICAgIAogICAgCiAgICAgICAgICAgIHZhciBtYXJrZXJfMDE0MGM0NjVjOTVmNGQwY2I2OWYyMTVjZmM5NTI5NzkgPSBMLm1hcmtlcigKICAgICAgICAgICAgICAgIFs0MC43MDM5NjQwNDEwMDAwNiwgLTczLjkxNzc2MzY5Njk5OTk0XSwKICAgICAgICAgICAgICAgIHt9CiAgICAgICAgICAgICkuYWRkVG8obWFya2VyX2NsdXN0ZXJfZDI1NzMwYjhkZWFmNGQ3YzgyZmRkMGJkODQ3NzIyY2QpOwogICAgICAgIAogICAgCiAgICAgICAgdmFyIHBvcHVwX2IxZWQ3ODQwOGM2OTRhMzA4MDg5OGIwM2Q1MDIwNGE3ID0gTC5wb3B1cCh7Im1heFdpZHRoIjogIjEwMCUifSk7CgogICAgICAgIAogICAgICAgICAgICB2YXIgaHRtbF9jMTExMGZhYWM1NDk0YjZhYjAzZjE2ZDhlMmQ3M2Y4MyA9ICQoYDxkaXYgaWQ9Imh0bWxfYzExMTBmYWFjNTQ5NGI2YWIwM2YxNmQ4ZTJkNzNmODMiIHN0eWxlPSJ3aWR0aDogMTAwLjAlOyBoZWlnaHQ6IDEwMC4wJTsiPldZQ0tPRkYgSEVJR0hUUyBNRURJQ0FMIENFTlRFUjwvZGl2PmApWzBdOwogICAgICAgICAgICBwb3B1cF9iMWVkNzg0MDhjNjk0YTMwODA4OThiMDNkNTAyMDRhNy5zZXRDb250ZW50KGh0bWxfYzExMTBmYWFjNTQ5NGI2YWIwM2YxNmQ4ZTJkNzNmODMpOwogICAgICAgIAoKICAgICAgICBtYXJrZXJfMDE0MGM0NjVjOTVmNGQwY2I2OWYyMTVjZmM5NTI5NzkuYmluZFBvcHVwKHBvcHVwX2IxZWQ3ODQwOGM2OTRhMzA4MDg5OGIwM2Q1MDIwNGE3KQogICAgICAgIDsKCiAgICAgICAgCiAgICAKICAgIAogICAgICAgICAgICB2YXIgbWFya2VyXzc2NTg2NjYyZWM1NTQ3YjhiNTkxODM4OTcxZjdhYTQ0ID0gTC5tYXJrZXIoCiAgICAgICAgICAgICAgICBbNDAuNzczNzAyNjgxMDAwMDMsIC03My45NjA4OTA3NzE5OTk5N10sCiAgICAgICAgICAgICAgICB7fQogICAgICAgICAgICApLmFkZFRvKG1hcmtlcl9jbHVzdGVyX2QyNTczMGI4ZGVhZjRkN2M4MmZkZDBiZDg0NzcyMmNkKTsKICAgICAgICAKICAgIAogICAgICAgIHZhciBwb3B1cF82ZmQ2MDcwZjQ1ZDU0MDFhOGJmYmIwYTA0ZWI4MmJjOCA9IEwucG9wdXAoeyJtYXhXaWR0aCI6ICIxMDAlIn0pOwoKICAgICAgICAKICAgICAgICAgICAgdmFyIGh0bWxfYzdmMzVhMmFjOTQ2NDk3NmIxNjkzYzYxNzQxNDUzNDAgPSAkKGA8ZGl2IGlkPSJodG1sX2M3ZjM1YTJhYzk0NjQ5NzZiMTY5M2M2MTc0MTQ1MzQwIiBzdHlsZT0id2lkdGg6IDEwMC4wJTsgaGVpZ2h0OiAxMDAuMCU7Ij5MRU5PWCBISUxMIEhPU1BJVEFMPC9kaXY+YClbMF07CiAgICAgICAgICAgIHBvcHVwXzZmZDYwNzBmNDVkNTQwMWE4YmZiYjBhMDRlYjgyYmM4LnNldENvbnRlbnQoaHRtbF9jN2YzNWEyYWM5NDY0OTc2YjE2OTNjNjE3NDE0NTM0MCk7CiAgICAgICAgCgogICAgICAgIG1hcmtlcl83NjU4NjY2MmVjNTU0N2I4YjU5MTgzODk3MWY3YWE0NC5iaW5kUG9wdXAocG9wdXBfNmZkNjA3MGY0NWQ1NDAxYThiZmJiMGEwNGViODJiYzgpCiAgICAgICAgOwoKICAgICAgICAKICAgIAogICAgCiAgICAgICAgICAgIHZhciBtYXJrZXJfNjNiZTVlMmNkMzJiNGQ4MDhmN2YyZTA0Y2I2MjViYjUgPSBMLm1hcmtlcigKICAgICAgICAgICAgICAgIFs0MC42MjI0Mjc4MjIwMDAwOCwgLTc0LjA3NTM1NDU5NDk5OTk2XSwKICAgICAgICAgICAgICAgIHt9CiAgICAgICAgICAgICkuYWRkVG8obWFya2VyX2NsdXN0ZXJfZDI1NzMwYjhkZWFmNGQ3YzgyZmRkMGJkODQ3NzIyY2QpOwogICAgICAgIAogICAgCiAgICAgICAgdmFyIHBvcHVwXzRkYTIzNmQ5NThmNzQ1YTBiYzQzZjMwODllMWQ2NWFkID0gTC5wb3B1cCh7Im1heFdpZHRoIjogIjEwMCUifSk7CgogICAgICAgIAogICAgICAgICAgICB2YXIgaHRtbF9mMTZkZjFlODA0OTg0ZjAzODhiYWY4ZDE1YWFjOTFjMyA9ICQoYDxkaXYgaWQ9Imh0bWxfZjE2ZGYxZTgwNDk4NGYwMzg4YmFmOGQxNWFhYzkxYzMiIHN0eWxlPSJ3aWR0aDogMTAwLjAlOyBoZWlnaHQ6IDEwMC4wJTsiPlJJQ0hNT05EIFVOSVZFUlNJVFkgTUVESUNBTCBDRU5URVIgLSBCQVlMRVkgU0VUT04gQ0FNUFVTPC9kaXY+YClbMF07CiAgICAgICAgICAgIHBvcHVwXzRkYTIzNmQ5NThmNzQ1YTBiYzQzZjMwODllMWQ2NWFkLnNldENvbnRlbnQoaHRtbF9mMTZkZjFlODA0OTg0ZjAzODhiYWY4ZDE1YWFjOTFjMyk7CiAgICAgICAgCgogICAgICAgIG1hcmtlcl82M2JlNWUyY2QzMmI0ZDgwOGY3ZjJlMDRjYjYyNWJiNS5iaW5kUG9wdXAocG9wdXBfNGRhMjM2ZDk1OGY3NDVhMGJjNDNmMzA4OWUxZDY1YWQpCiAgICAgICAgOwoKICAgICAgICAKICAgIAogICAgCiAgICAgICAgICAgIHZhciBtYXJrZXJfYzljMTRhOWRhZmY5NDdjOGE1NTdmNmFhZmUxOTc3NGEgPSBMLm1hcmtlcigKICAgICAgICAgICAgICAgIFs0MC43NTU0MDk5MjMwMDAwNDUsIC03My44MTY0NjU1MTc5OTk5N10sCiAgICAgICAgICAgICAgICB7fQogICAgICAgICAgICApLmFkZFRvKG1hcmtlcl9jbHVzdGVyX2QyNTczMGI4ZGVhZjRkN2M4MmZkZDBiZDg0NzcyMmNkKTsKICAgICAgICAKICAgIAogICAgICAgIHZhciBwb3B1cF9kNTQ0NDJlYmFlNzY0NDA0YWE1YmQ5MmQyZTk3MzU4ZiA9IEwucG9wdXAoeyJtYXhXaWR0aCI6ICIxMDAlIn0pOwoKICAgICAgICAKICAgICAgICAgICAgdmFyIGh0bWxfODliNzVjZGRkMTIzNGY5M2E0YzQ0ZjZhNzllMzUyNjMgPSAkKGA8ZGl2IGlkPSJodG1sXzg5Yjc1Y2RkZDEyMzRmOTNhNGM0NGY2YTc5ZTM1MjYzIiBzdHlsZT0id2lkdGg6IDEwMC4wJTsgaGVpZ2h0OiAxMDAuMCU7Ij5GTFVTSElORyBIT1NQSVRBTCBNRURJQ0FMIENFTlRFUjwvZGl2PmApWzBdOwogICAgICAgICAgICBwb3B1cF9kNTQ0NDJlYmFlNzY0NDA0YWE1YmQ5MmQyZTk3MzU4Zi5zZXRDb250ZW50KGh0bWxfODliNzVjZGRkMTIzNGY5M2E0YzQ0ZjZhNzllMzUyNjMpOwogICAgICAgIAoKICAgICAgICBtYXJrZXJfYzljMTRhOWRhZmY5NDdjOGE1NTdmNmFhZmUxOTc3NGEuYmluZFBvcHVwKHBvcHVwX2Q1NDQ0MmViYWU3NjQ0MDRhYTViZDkyZDJlOTczNThmKQogICAgICAgIDsKCiAgICAgICAgCiAgICAKICAgIAogICAgICAgICAgICB2YXIgbWFya2VyXzNhNTAzY2RkZTIwODRmMDk5ZGY0N2QwOGIzZjM0ZmI3ID0gTC5tYXJrZXIoCiAgICAgICAgICAgICAgICBbNDAuNTk4NzA3OTg0MDAwMDM2LCAtNzMuNzUzNTUwNjE1OTk5OThdLAogICAgICAgICAgICAgICAge30KICAgICAgICAgICAgKS5hZGRUbyhtYXJrZXJfY2x1c3Rlcl9kMjU3MzBiOGRlYWY0ZDdjODJmZGQwYmQ4NDc3MjJjZCk7CiAgICAgICAgCiAgICAKICAgICAgICB2YXIgcG9wdXBfMjUzN2JmNjUyOTZhNGZmZWI3NDFmYTJjZTVlNGIyNDcgPSBMLnBvcHVwKHsibWF4V2lkdGgiOiAiMTAwJSJ9KTsKCiAgICAgICAgCiAgICAgICAgICAgIHZhciBodG1sX2U4MzczYzc5Njg2NjQ1NzBhN2ViNTZkY2JmODM0NWUyID0gJChgPGRpdiBpZD0iaHRtbF9lODM3M2M3OTY4NjY0NTcwYTdlYjU2ZGNiZjgzNDVlMiIgc3R5bGU9IndpZHRoOiAxMDAuMCU7IGhlaWdodDogMTAwLjAlOyI+U1QuIEpPSE4nUyBFUElTQ09QQUwgSE9TUElUQUwtU09VVEggU0hPUkU8L2Rpdj5gKVswXTsKICAgICAgICAgICAgcG9wdXBfMjUzN2JmNjUyOTZhNGZmZWI3NDFmYTJjZTVlNGIyNDcuc2V0Q29udGVudChodG1sX2U4MzczYzc5Njg2NjQ1NzBhN2ViNTZkY2JmODM0NWUyKTsKICAgICAgICAKCiAgICAgICAgbWFya2VyXzNhNTAzY2RkZTIwODRmMDk5ZGY0N2QwOGIzZjM0ZmI3LmJpbmRQb3B1cChwb3B1cF8yNTM3YmY2NTI5NmE0ZmZlYjc0MWZhMmNlNWU0YjI0NykKICAgICAgICA7CgogICAgICAgIAogICAgCiAgICAKICAgICAgICAgICAgdmFyIG1hcmtlcl81NTQ0ZGZhYjMzODU0MzRlOTVlOTkxZmM2ZGEyNDRhMiA9IEwubWFya2VyKAogICAgICAgICAgICAgICAgWzQwLjg0MzQ5MjU1MDAwMDA1LCAtNzMuOTExMTQ2OTQ0OTk5OThdLAogICAgICAgICAgICAgICAge30KICAgICAgICAgICAgKS5hZGRUbyhtYXJrZXJfY2x1c3Rlcl9kMjU3MzBiOGRlYWY0ZDdjODJmZGQwYmQ4NDc3MjJjZCk7CiAgICAgICAgCiAgICAKICAgICAgICB2YXIgcG9wdXBfOGRiNGY2MTA3Y2RkNDAxOWJiMWZjYjNhOTZkMDhiYTYgPSBMLnBvcHVwKHsibWF4V2lkdGgiOiAiMTAwJSJ9KTsKCiAgICAgICAgCiAgICAgICAgICAgIHZhciBodG1sXzcwN2Y0NTJjMTkzNTRkM2E4Y2ExOWM5MDJkMTIwMzNhID0gJChgPGRpdiBpZD0iaHRtbF83MDdmNDUyYzE5MzU0ZDNhOGNhMTljOTAyZDEyMDMzYSIgc3R5bGU9IndpZHRoOiAxMDAuMCU7IGhlaWdodDogMTAwLjAlOyI+QlJPTlgtTEVCQU5PTiBIT1NQSVRBTCBDRU5URVIgLSBDT05DT1VSU0UgRElWSVNJT048L2Rpdj5gKVswXTsKICAgICAgICAgICAgcG9wdXBfOGRiNGY2MTA3Y2RkNDAxOWJiMWZjYjNhOTZkMDhiYTYuc2V0Q29udGVudChodG1sXzcwN2Y0NTJjMTkzNTRkM2E4Y2ExOWM5MDJkMTIwMzNhKTsKICAgICAgICAKCiAgICAgICAgbWFya2VyXzU1NDRkZmFiMzM4NTQzNGU5NWU5OTFmYzZkYTI0NGEyLmJpbmRQb3B1cChwb3B1cF84ZGI0ZjYxMDdjZGQ0MDE5YmIxZmNiM2E5NmQwOGJhNikKICAgICAgICA7CgogICAgICAgIAogICAgCiAgICAKICAgICAgICAgICAgdmFyIG1hcmtlcl9lOWVmYjU3NTRkYjg0ZmY2ODljNjVlNDk1NjhlMTRiNiA9IEwubWFya2VyKAogICAgICAgICAgICAgICAgWzQyLjgxOTg1NzYxNjAwMDAyLCAtNzMuOTE3MzE4MDkwOTk5OTddLAogICAgICAgICAgICAgICAge30KICAgICAgICAgICAgKS5hZGRUbyhtYXJrZXJfY2x1c3Rlcl9kMjU3MzBiOGRlYWY0ZDdjODJmZGQwYmQ4NDc3MjJjZCk7CiAgICAgICAgCiAgICAKICAgICAgICB2YXIgcG9wdXBfNjlkNGViYTZmN2FiNGM5MjhiYWViMTUzNzlhOTNmZDIgPSBMLnBvcHVwKHsibWF4V2lkdGgiOiAiMTAwJSJ9KTsKCiAgICAgICAgCiAgICAgICAgICAgIHZhciBodG1sX2M5M2JhZTI5YjE4NTQwOWFhYTVlM2M0ZDE0ZGRiY2IyID0gJChgPGRpdiBpZD0iaHRtbF9jOTNiYWUyOWIxODU0MDlhYWE1ZTNjNGQxNGRkYmNiMiIgc3R5bGU9IndpZHRoOiAxMDAuMCU7IGhlaWdodDogMTAwLjAlOyI+RUxMSVMgSE9TUElUQUw8L2Rpdj5gKVswXTsKICAgICAgICAgICAgcG9wdXBfNjlkNGViYTZmN2FiNGM5MjhiYWViMTUzNzlhOTNmZDIuc2V0Q29udGVudChodG1sX2M5M2JhZTI5YjE4NTQwOWFhYTVlM2M0ZDE0ZGRiY2IyKTsKICAgICAgICAKCiAgICAgICAgbWFya2VyX2U5ZWZiNTc1NGRiODRmZjY4OWM2NWU0OTU2OGUxNGI2LmJpbmRQb3B1cChwb3B1cF82OWQ0ZWJhNmY3YWI0YzkyOGJhZWIxNTM3OWE5M2ZkMikKICAgICAgICA7CgogICAgICAgIAogICAgCiAgICAKICAgICAgICAgICAgdmFyIG1hcmtlcl9kM2JlMDhkMThlY2Q0ZjMyOTVjNDU0MjI5ZDMyNWU1MyA9IEwubWFya2VyKAogICAgICAgICAgICAgICAgWzQyLjc4MDU0NTA5MzAwMDA2LCAtNzguNzcyNTcyNzg3OTk5OTJdLAogICAgICAgICAgICAgICAge30KICAgICAgICAgICAgKS5hZGRUbyhtYXJrZXJfY2x1c3Rlcl9kMjU3MzBiOGRlYWY0ZDdjODJmZGQwYmQ4NDc3MjJjZCk7CiAgICAgICAgCiAgICAKICAgICAgICB2YXIgcG9wdXBfMjgwYWM3MDk1MGM1NDA5NDk5NDhmMjZjNDlmNWQ1MzMgPSBMLnBvcHVwKHsibWF4V2lkdGgiOiAiMTAwJSJ9KTsKCiAgICAgICAgCiAgICAgICAgICAgIHZhciBodG1sXzlkZmVkMmE5ZTZkMDQ5ZDY5NzBlMGRkOTE0ZWExYmQ5ID0gJChgPGRpdiBpZD0iaHRtbF85ZGZlZDJhOWU2ZDA0OWQ2OTcwZTBkZDkxNGVhMWJkOSIgc3R5bGU9IndpZHRoOiAxMDAuMCU7IGhlaWdodDogMTAwLjAlOyI+TUVSQ1kgSE9TUElUQUwgLSBNRVJDWSBIT1NQSVRBTCBPUkNIQVJEIFBBUksgRElWSVNJT048L2Rpdj5gKVswXTsKICAgICAgICAgICAgcG9wdXBfMjgwYWM3MDk1MGM1NDA5NDk5NDhmMjZjNDlmNWQ1MzMuc2V0Q29udGVudChodG1sXzlkZmVkMmE5ZTZkMDQ5ZDY5NzBlMGRkOTE0ZWExYmQ5KTsKICAgICAgICAKCiAgICAgICAgbWFya2VyX2QzYmUwOGQxOGVjZDRmMzI5NWM0NTQyMjlkMzI1ZTUzLmJpbmRQb3B1cChwb3B1cF8yODBhYzcwOTUwYzU0MDk0OTk0OGYyNmM0OWY1ZDUzMykKICAgICAgICA7CgogICAgICAgIAogICAgCiAgICAKICAgICAgICAgICAgdmFyIG1hcmtlcl8zODdlOWNmYmFkYWI0NzBiYjZjMDEwOTZlZTcxYmVlNSA9IEwubWFya2VyKAogICAgICAgICAgICAgICAgWzQwLjg3MzI3NTIzNzAwMDAzLCAtNzMuOTEzMDUwMzI1OTk5OTZdLAogICAgICAgICAgICAgICAge30KICAgICAgICAgICAgKS5hZGRUbyhtYXJrZXJfY2x1c3Rlcl9kMjU3MzBiOGRlYWY0ZDdjODJmZGQwYmQ4NDc3MjJjZCk7CiAgICAgICAgCiAgICAKICAgICAgICB2YXIgcG9wdXBfYzM0ZjY1YWIyYTE3NGZkOGJlMzA1ZWJlYzBjN2I3YWEgPSBMLnBvcHVwKHsibWF4V2lkdGgiOiAiMTAwJSJ9KTsKCiAgICAgICAgCiAgICAgICAgICAgIHZhciBodG1sX2MzODlkMTY0MzMzMzQzMThhNmEwMjBjMjUzZTQ2NmU5ID0gJChgPGRpdiBpZD0iaHRtbF9jMzg5ZDE2NDMzMzM0MzE4YTZhMDIwYzI1M2U0NjZlOSIgc3R5bGU9IndpZHRoOiAxMDAuMCU7IGhlaWdodDogMTAwLjAlOyI+TkVXIFlPUksgUFJFU0JZVEVSSUFOIEhPU1BJVEFMIC0gQUxMRU4gSE9TUElUQUw8L2Rpdj5gKVswXTsKICAgICAgICAgICAgcG9wdXBfYzM0ZjY1YWIyYTE3NGZkOGJlMzA1ZWJlYzBjN2I3YWEuc2V0Q29udGVudChodG1sX2MzODlkMTY0MzMzMzQzMThhNmEwMjBjMjUzZTQ2NmU5KTsKICAgICAgICAKCiAgICAgICAgbWFya2VyXzM4N2U5Y2ZiYWRhYjQ3MGJiNmMwMTA5NmVlNzFiZWU1LmJpbmRQb3B1cChwb3B1cF9jMzRmNjVhYjJhMTc0ZmQ4YmUzMDVlYmVjMGM3YjdhYSkKICAgICAgICA7CgogICAgICAgIAogICAgCiAgICAKICAgICAgICAgICAgdmFyIG1hcmtlcl8yNTg1NWFlYjcxM2M0MTk4ODU4NjZhMjg2NWQwMDRiNiA9IEwubWFya2VyKAogICAgICAgICAgICAgICAgWzQxLjI5MjQ2NDY2MDAwMDA2NCwgLTczLjg5MjYwMDk4Nzk5OTk3XSwKICAgICAgICAgICAgICAgIHt9CiAgICAgICAgICAgICkuYWRkVG8obWFya2VyX2NsdXN0ZXJfZDI1NzMwYjhkZWFmNGQ3YzgyZmRkMGJkODQ3NzIyY2QpOwogICAgICAgIAogICAgCiAgICAgICAgdmFyIHBvcHVwXzBkMTIwOTQ2ZGViYjQwMTE5NmM1NjdhNGIwNTYyZDUzID0gTC5wb3B1cCh7Im1heFdpZHRoIjogIjEwMCUifSk7CgogICAgICAgIAogICAgICAgICAgICB2YXIgaHRtbF8yM2Y0ZWRkN2FkZWE0OTFiYmMzZDhiYmE1MDkwZWU0MyA9ICQoYDxkaXYgaWQ9Imh0bWxfMjNmNGVkZDdhZGVhNDkxYmJjM2Q4YmJhNTA5MGVlNDMiIHN0eWxlPSJ3aWR0aDogMTAwLjAlOyBoZWlnaHQ6IDEwMC4wJTsiPk5FV1lPUkstUFJFU0JZVEVSSUFOL0hVRFNPTiBWQUxMRVkgSE9TUElUQUw8L2Rpdj5gKVswXTsKICAgICAgICAgICAgcG9wdXBfMGQxMjA5NDZkZWJiNDAxMTk2YzU2N2E0YjA1NjJkNTMuc2V0Q29udGVudChodG1sXzIzZjRlZGQ3YWRlYTQ5MWJiYzNkOGJiYTUwOTBlZTQzKTsKICAgICAgICAKCiAgICAgICAgbWFya2VyXzI1ODU1YWViNzEzYzQxOTg4NTg2NmEyODY1ZDAwNGI2LmJpbmRQb3B1cChwb3B1cF8wZDEyMDk0NmRlYmI0MDExOTZjNTY3YTRiMDU2MmQ1MykKICAgICAgICA7CgogICAgICAgIAogICAgCiAgICAKICAgICAgICAgICAgdmFyIG1hcmtlcl83M2QyZjgxZmM5Nzc0NDk3YmNjMjZkNjFiMjQxYTJjMSA9IEwubWFya2VyKAogICAgICAgICAgICAgICAgWzQyLjU1MzAyNTI1NDAwMDAyNiwgLTc3LjY5Nzc3MDc4Mzk5OTk0XSwKICAgICAgICAgICAgICAgIHt9CiAgICAgICAgICAgICkuYWRkVG8obWFya2VyX2NsdXN0ZXJfZDI1NzMwYjhkZWFmNGQ3YzgyZmRkMGJkODQ3NzIyY2QpOwogICAgICAgIAogICAgCiAgICAgICAgdmFyIHBvcHVwX2MxZTdlYjBjNDc2NTQ3NDc4MjVmZTY1MDNjNjQyYzc1ID0gTC5wb3B1cCh7Im1heFdpZHRoIjogIjEwMCUifSk7CgogICAgICAgIAogICAgICAgICAgICB2YXIgaHRtbF8zZDA0ODg1MGFlNWU0ZDFkODQyMmIzYzJiZDgwODFiMiA9ICQoYDxkaXYgaWQ9Imh0bWxfM2QwNDg4NTBhZTVlNGQxZDg0MjJiM2MyYmQ4MDgxYjIiIHN0eWxlPSJ3aWR0aDogMTAwLjAlOyBoZWlnaHQ6IDEwMC4wJTsiPk5JQ0hPTEFTIEggTk9ZRVMgTUVNT1JJQUwgSE9TUElUQUw8L2Rpdj5gKVswXTsKICAgICAgICAgICAgcG9wdXBfYzFlN2ViMGM0NzY1NDc0NzgyNWZlNjUwM2M2NDJjNzUuc2V0Q29udGVudChodG1sXzNkMDQ4ODUwYWU1ZTRkMWQ4NDIyYjNjMmJkODA4MWIyKTsKICAgICAgICAKCiAgICAgICAgbWFya2VyXzczZDJmODFmYzk3NzQ0OTdiY2MyNmQ2MWIyNDFhMmMxLmJpbmRQb3B1cChwb3B1cF9jMWU3ZWIwYzQ3NjU0NzQ3ODI1ZmU2NTAzYzY0MmM3NSkKICAgICAgICA7CgogICAgICAgIAogICAgCiAgICAKICAgICAgICAgICAgdmFyIG1hcmtlcl8yYjdmOWU5OGVhZGU0NzUyYTk0NjA4MzIxODI3OGRiYSA9IEwubWFya2VyKAogICAgICAgICAgICAgICAgWzQxLjkzNTQ3MDAzODAwMDA1NSwgLTczLjkxMzE5NTgyN10sCiAgICAgICAgICAgICAgICB7fQogICAgICAgICAgICApLmFkZFRvKG1hcmtlcl9jbHVzdGVyX2QyNTczMGI4ZGVhZjRkN2M4MmZkZDBiZDg0NzcyMmNkKTsKICAgICAgICAKICAgIAogICAgICAgIHZhciBwb3B1cF83MjM0N2M0OTA0ZDY0ZmM5OGYwYjNhNGNmZDJlNmQ2NCA9IEwucG9wdXAoeyJtYXhXaWR0aCI6ICIxMDAlIn0pOwoKICAgICAgICAKICAgICAgICAgICAgdmFyIGh0bWxfMTk0NDA4NzgwZWJlNDU5Y2FmNTAwNjJkYTYxZDZmY2QgPSAkKGA8ZGl2IGlkPSJodG1sXzE5NDQwODc4MGViZTQ1OWNhZjUwMDYyZGE2MWQ2ZmNkIiBzdHlsZT0id2lkdGg6IDEwMC4wJTsgaGVpZ2h0OiAxMDAuMCU7Ij5OT1JUSEVSTiBEVVRDSEVTUyBIT1NQSVRBTDwvZGl2PmApWzBdOwogICAgICAgICAgICBwb3B1cF83MjM0N2M0OTA0ZDY0ZmM5OGYwYjNhNGNmZDJlNmQ2NC5zZXRDb250ZW50KGh0bWxfMTk0NDA4NzgwZWJlNDU5Y2FmNTAwNjJkYTYxZDZmY2QpOwogICAgICAgIAoKICAgICAgICBtYXJrZXJfMmI3ZjllOThlYWRlNDc1MmE5NDYwODMyMTgyNzhkYmEuYmluZFBvcHVwKHBvcHVwXzcyMzQ3YzQ5MDRkNjRmYzk4ZjBiM2E0Y2ZkMmU2ZDY0KQogICAgICAgIDsKCiAgICAgICAgCiAgICAKICAgIAogICAgICAgICAgICB2YXIgbWFya2VyX2UwMDBkYzUzNjkxOTRlNjhhY2Q5NDYzMTc5NjU2YmZlID0gTC5tYXJrZXIoCiAgICAgICAgICAgICAgICBbNDMuNDQ4NTYxOTk5MDAwMDM0LCAtNzYuNDg5OTE2ODU2OTk5OThdLAogICAgICAgICAgICAgICAge30KICAgICAgICAgICAgKS5hZGRUbyhtYXJrZXJfY2x1c3Rlcl9kMjU3MzBiOGRlYWY0ZDdjODJmZGQwYmQ4NDc3MjJjZCk7CiAgICAgICAgCiAgICAKICAgICAgICB2YXIgcG9wdXBfYzUxY2Q4N2U2ZWJhNGUyYTg0NDc3MDY1MzJiYjViMDMgPSBMLnBvcHVwKHsibWF4V2lkdGgiOiAiMTAwJSJ9KTsKCiAgICAgICAgCiAgICAgICAgICAgIHZhciBodG1sXzZiODlmOWU2NWJjNjQxNjM4OWNjZTljM2U1MjMzYzgwID0gJChgPGRpdiBpZD0iaHRtbF82Yjg5ZjllNjViYzY0MTYzODljY2U5YzNlNTIzM2M4MCIgc3R5bGU9IndpZHRoOiAxMDAuMCU7IGhlaWdodDogMTAwLjAlOyI+T1NXRUdPIEhPU1BJVEFMIC0gQUxWSU4gTCBLUkFLQVUgQ09NTSBNVEwgSEVBTFRIIENFTlRFUiBESVY8L2Rpdj5gKVswXTsKICAgICAgICAgICAgcG9wdXBfYzUxY2Q4N2U2ZWJhNGUyYTg0NDc3MDY1MzJiYjViMDMuc2V0Q29udGVudChodG1sXzZiODlmOWU2NWJjNjQxNjM4OWNjZTljM2U1MjMzYzgwKTsKICAgICAgICAKCiAgICAgICAgbWFya2VyX2UwMDBkYzUzNjkxOTRlNjhhY2Q5NDYzMTc5NjU2YmZlLmJpbmRQb3B1cChwb3B1cF9jNTFjZDg3ZTZlYmE0ZTJhODQ0NzcwNjUzMmJiNWIwMykKICAgICAgICA7CgogICAgICAgIAogICAgCiAgICAKICAgICAgICAgICAgdmFyIG1hcmtlcl8xNGQxMTk3ZjFhYzM0NTNkYjI2MWRkODY0YzJiNmM1YiA9IEwubWFya2VyKAogICAgICAgICAgICAgICAgWzQwLjc2MzA0NzQ0NDAwMDA1LCAtNzMuOTU0NjIzMTcxOTk5OTddLAogICAgICAgICAgICAgICAge30KICAgICAgICAgICAgKS5hZGRUbyhtYXJrZXJfY2x1c3Rlcl9kMjU3MzBiOGRlYWY0ZDdjODJmZGQwYmQ4NDc3MjJjZCk7CiAgICAgICAgCiAgICAKICAgICAgICB2YXIgcG9wdXBfNzEzNWJmOGM2OTMzNGRiNDhlY2VmNDgyMjM0MzFiYTAgPSBMLnBvcHVwKHsibWF4V2lkdGgiOiAiMTAwJSJ9KTsKCiAgICAgICAgCiAgICAgICAgICAgIHZhciBodG1sX2RmZjUxMDQxYTEwMDQ2MzI5ZGJmYzRmY2Q2NGQxMTdhID0gJChgPGRpdiBpZD0iaHRtbF9kZmY1MTA0MWExMDA0NjMyOWRiZmM0ZmNkNjRkMTE3YSIgc3R5bGU9IndpZHRoOiAxMDAuMCU7IGhlaWdodDogMTAwLjAlOyI+Uk9DS0VGRUxMRVIgVU5JVkVSU0lUWSBIT1NQSVRBTDwvZGl2PmApWzBdOwogICAgICAgICAgICBwb3B1cF83MTM1YmY4YzY5MzM0ZGI0OGVjZWY0ODIyMzQzMWJhMC5zZXRDb250ZW50KGh0bWxfZGZmNTEwNDFhMTAwNDYzMjlkYmZjNGZjZDY0ZDExN2EpOwogICAgICAgIAoKICAgICAgICBtYXJrZXJfMTRkMTE5N2YxYWMzNDUzZGIyNjFkZDg2NGMyYjZjNWIuYmluZFBvcHVwKHBvcHVwXzcxMzViZjhjNjkzMzRkYjQ4ZWNlZjQ4MjIzNDMxYmEwKQogICAgICAgIDsKCiAgICAgICAgCiAgICAKICAgIAogICAgICAgICAgICB2YXIgbWFya2VyXzY1NmJlYjExYTdiMzQ2ZDM4YzhhZmVmNzQ1NzAyMjczID0gTC5tYXJrZXIoCiAgICAgICAgICAgICAgICBbNDAuNzY5ODIwNjA3MDAwMDQsIC03My45ODc0MDE4OTg5OTk5Nl0sCiAgICAgICAgICAgICAgICB7fQogICAgICAgICAgICApLmFkZFRvKG1hcmtlcl9jbHVzdGVyX2QyNTczMGI4ZGVhZjRkN2M4MmZkZDBiZDg0NzcyMmNkKTsKICAgICAgICAKICAgIAogICAgICAgIHZhciBwb3B1cF81NTQzMzcwYjMwM2Y0ZWU2OGUzODExZmIwMzlmNzBlMCA9IEwucG9wdXAoeyJtYXhXaWR0aCI6ICIxMDAlIn0pOwoKICAgICAgICAKICAgICAgICAgICAgdmFyIGh0bWxfNDI4MGExMmEyMzEyNDI4NjhkZGM0NDE4MGU3ZjliZTggPSAkKGA8ZGl2IGlkPSJodG1sXzQyODBhMTJhMjMxMjQyODY4ZGRjNDQxODBlN2Y5YmU4IiBzdHlsZT0id2lkdGg6IDEwMC4wJTsgaGVpZ2h0OiAxMDAuMCU7Ij5NT1VOVCBTSU5BSSBXRVNUPC9kaXY+YClbMF07CiAgICAgICAgICAgIHBvcHVwXzU1NDMzNzBiMzAzZjRlZTY4ZTM4MTFmYjAzOWY3MGUwLnNldENvbnRlbnQoaHRtbF80MjgwYTEyYTIzMTI0Mjg2OGRkYzQ0MTgwZTdmOWJlOCk7CiAgICAgICAgCgogICAgICAgIG1hcmtlcl82NTZiZWIxMWE3YjM0NmQzOGM4YWZlZjc0NTcwMjI3My5iaW5kUG9wdXAocG9wdXBfNTU0MzM3MGIzMDNmNGVlNjhlMzgxMWZiMDM5ZjcwZTApCiAgICAgICAgOwoKICAgICAgICAKICAgIAogICAgCiAgICAgICAgICAgIHZhciBtYXJrZXJfMjA3ZGI1ZDVhZjM4NGU4NDlmN2IwNDY0Y2JmY2UzOWEgPSBMLm1hcmtlcigKICAgICAgICAgICAgICAgIFs0MC43MTA1MTY3ODgwMDAwNCwgLTc0LjAwNTI5NzgyNTk5OTkzXSwKICAgICAgICAgICAgICAgIHt9CiAgICAgICAgICAgICkuYWRkVG8obWFya2VyX2NsdXN0ZXJfZDI1NzMwYjhkZWFmNGQ3YzgyZmRkMGJkODQ3NzIyY2QpOwogICAgICAgIAogICAgCiAgICAgICAgdmFyIHBvcHVwX2MyODQxNTc2ZWY2NjQxMjhhZGNiODM1NWU5MDY4NmUyID0gTC5wb3B1cCh7Im1heFdpZHRoIjogIjEwMCUifSk7CgogICAgICAgIAogICAgICAgICAgICB2YXIgaHRtbF8zNWE4YmY4NjQ0Mzg0NTRkOGIyMzM3MTJkYThmMTc0OCA9ICQoYDxkaXYgaWQ9Imh0bWxfMzVhOGJmODY0NDM4NDU0ZDhiMjMzNzEyZGE4ZjE3NDgiIHN0eWxlPSJ3aWR0aDogMTAwLjAlOyBoZWlnaHQ6IDEwMC4wJTsiPk5FVyBZT1JLLVBSRVNCWVRFUklBTi9MT1dFUiBNQU5IQVRUQU4gSE9TUElUQUw8L2Rpdj5gKVswXTsKICAgICAgICAgICAgcG9wdXBfYzI4NDE1NzZlZjY2NDEyOGFkY2I4MzU1ZTkwNjg2ZTIuc2V0Q29udGVudChodG1sXzM1YThiZjg2NDQzODQ1NGQ4YjIzMzcxMmRhOGYxNzQ4KTsKICAgICAgICAKCiAgICAgICAgbWFya2VyXzIwN2RiNWQ1YWYzODRlODQ5ZjdiMDQ2NGNiZmNlMzlhLmJpbmRQb3B1cChwb3B1cF9jMjg0MTU3NmVmNjY0MTI4YWRjYjgzNTVlOTA2ODZlMikKICAgICAgICA7CgogICAgICAgIAogICAgCiAgICAKICAgICAgICAgICAgdmFyIG1hcmtlcl9hMjc1Nzc3ZWRmN2Y0ZGNmOWE5MGQ5MDY5YWYzNGMyOCA9IEwubWFya2VyKAogICAgICAgICAgICAgICAgWzQxLjAxNjgwODY4MTAwMDAzNiwgLTczLjc1MTUwNTQ5NTk5OTk0XSwKICAgICAgICAgICAgICAgIHt9CiAgICAgICAgICAgICkuYWRkVG8obWFya2VyX2NsdXN0ZXJfZDI1NzMwYjhkZWFmNGQ3YzgyZmRkMGJkODQ3NzIyY2QpOwogICAgICAgIAogICAgCiAgICAgICAgdmFyIHBvcHVwX2Q2Yjk4ZTBjNjJkNzQ5YTRiOTlhNGMxOWNkZGU1N2NhID0gTC5wb3B1cCh7Im1heFdpZHRoIjogIjEwMCUifSk7CgogICAgICAgIAogICAgICAgICAgICB2YXIgaHRtbF84MDQ5ODkwOTMxMTM0ODVlOGI0OGI1YmJkMGM1ZGVkNyA9ICQoYDxkaXYgaWQ9Imh0bWxfODA0OTg5MDkzMTEzNDg1ZThiNDhiNWJiZDBjNWRlZDciIHN0eWxlPSJ3aWR0aDogMTAwLjAlOyBoZWlnaHQ6IDEwMC4wJTsiPldJTklGUkVEIE1BU1RFUlNPTiBCVVJLRSBSRUhBQklMSVRBVElPTiBIT1NQSVRBTDwvZGl2PmApWzBdOwogICAgICAgICAgICBwb3B1cF9kNmI5OGUwYzYyZDc0OWE0Yjk5YTRjMTljZGRlNTdjYS5zZXRDb250ZW50KGh0bWxfODA0OTg5MDkzMTEzNDg1ZThiNDhiNWJiZDBjNWRlZDcpOwogICAgICAgIAoKICAgICAgICBtYXJrZXJfYTI3NTc3N2VkZjdmNGRjZjlhOTBkOTA2OWFmMzRjMjguYmluZFBvcHVwKHBvcHVwX2Q2Yjk4ZTBjNjJkNzQ5YTRiOTlhNGMxOWNkZGU1N2NhKQogICAgICAgIDsKCiAgICAgICAgCiAgICAKICAgIAogICAgICAgICAgICB2YXIgbWFya2VyX2NiZTg2NmE3MzJkNjQ2YzNiZDRmZDc3NTU5NGMxOTI2ID0gTC5tYXJrZXIoCiAgICAgICAgICAgICAgICBbNDIuMzQ3NDg3NzQwMDAwMDc2LCAtNzcuNjYzMDk3OTA1OTk5OTZdLAogICAgICAgICAgICAgICAge30KICAgICAgICAgICAgKS5hZGRUbyhtYXJrZXJfY2x1c3Rlcl9kMjU3MzBiOGRlYWY0ZDdjODJmZGQwYmQ4NDc3MjJjZCk7CiAgICAgICAgCiAgICAKICAgICAgICB2YXIgcG9wdXBfZTI4MDhlNGY1M2Y3NDM5YzhhMTFkNjAwNTVmZDhmOWIgPSBMLnBvcHVwKHsibWF4V2lkdGgiOiAiMTAwJSJ9KTsKCiAgICAgICAgCiAgICAgICAgICAgIHZhciBodG1sXzU2OTQwZTU2NDhmOTRmOTA4YjczMDE1MzA1ZDkwNzFkID0gJChgPGRpdiBpZD0iaHRtbF81Njk0MGU1NjQ4Zjk0ZjkwOGI3MzAxNTMwNWQ5MDcxZCIgc3R5bGU9IndpZHRoOiAxMDAuMCU7IGhlaWdodDogMTAwLjAlOyI+U1QgSkFNRVMgTUVSQ1kgSE9TUElUQUwgLSBNRVJDWUNBUkU8L2Rpdj5gKVswXTsKICAgICAgICAgICAgcG9wdXBfZTI4MDhlNGY1M2Y3NDM5YzhhMTFkNjAwNTVmZDhmOWIuc2V0Q29udGVudChodG1sXzU2OTQwZTU2NDhmOTRmOTA4YjczMDE1MzA1ZDkwNzFkKTsKICAgICAgICAKCiAgICAgICAgbWFya2VyX2NiZTg2NmE3MzJkNjQ2YzNiZDRmZDc3NTU5NGMxOTI2LmJpbmRQb3B1cChwb3B1cF9lMjgwOGU0ZjUzZjc0MzljOGExMWQ2MDA1NWZkOGY5YikKICAgICAgICA7CgogICAgICAgIAogICAgCiAgICAKICAgICAgICAgICAgdmFyIG1hcmtlcl9kYjNlYmQyMDQ5NDM0MzFiODQyMTI5Nzg2M2UzZTczNCA9IEwubWFya2VyKAogICAgICAgICAgICAgICAgWzQyLjEzNTM1MDc5MDAwMDA2LCAtNzYuOTY5NTE3NzY3OTk5OTNdLAogICAgICAgICAgICAgICAge30KICAgICAgICAgICAgKS5hZGRUbyhtYXJrZXJfY2x1c3Rlcl9kMjU3MzBiOGRlYWY0ZDdjODJmZGQwYmQ4NDc3MjJjZCk7CiAgICAgICAgCiAgICAKICAgICAgICB2YXIgcG9wdXBfN2Q1MjEzODY1OTlkNDYzZTk0YWM2MjUwMGViMWUxNWYgPSBMLnBvcHVwKHsibWF4V2lkdGgiOiAiMTAwJSJ9KTsKCiAgICAgICAgCiAgICAgICAgICAgIHZhciBodG1sXzEyOGY4NTdjNTRiOTRiYzRiZDhiYmM3MGUyYmZiMzEzID0gJChgPGRpdiBpZD0iaHRtbF8xMjhmODU3YzU0Yjk0YmM0YmQ4YmJjNzBlMmJmYjMxMyIgc3R5bGU9IndpZHRoOiAxMDAuMCU7IGhlaWdodDogMTAwLjAlOyI+Q09STklORyBIT1NQSVRBTDwvZGl2PmApWzBdOwogICAgICAgICAgICBwb3B1cF83ZDUyMTM4NjU5OWQ0NjNlOTRhYzYyNTAwZWIxZTE1Zi5zZXRDb250ZW50KGh0bWxfMTI4Zjg1N2M1NGI5NGJjNGJkOGJiYzcwZTJiZmIzMTMpOwogICAgICAgIAoKICAgICAgICBtYXJrZXJfZGIzZWJkMjA0OTQzNDMxYjg0MjEyOTc4NjNlM2U3MzQuYmluZFBvcHVwKHBvcHVwXzdkNTIxMzg2NTk5ZDQ2M2U5NGFjNjI1MDBlYjFlMTVmKQogICAgICAgIDsKCiAgICAgICAgCiAgICAKICAgIAogICAgICAgICAgICB2YXIgbWFya2VyX2MyNTJiMGFjYzBhZjQ1ODZhYzAyNjYzM2I2YWI1Nzc0ID0gTC5tYXJrZXIoCiAgICAgICAgICAgICAgICBbNDEuMjM3MDE4ODA2MDAwMDQsIC03My45MjkyODIwNDI5OTk5M10sCiAgICAgICAgICAgICAgICB7fQogICAgICAgICAgICApLmFkZFRvKG1hcmtlcl9jbHVzdGVyX2QyNTczMGI4ZGVhZjRkN2M4MmZkZDBiZDg0NzcyMmNkKTsKICAgICAgICAKICAgIAogICAgICAgIHZhciBwb3B1cF9lZTdhYTJlYjZkZTc0NmY3YjY1MjU4NTI0YjJlMDc4MSA9IEwucG9wdXAoeyJtYXhXaWR0aCI6ICIxMDAlIn0pOwoKICAgICAgICAKICAgICAgICAgICAgdmFyIGh0bWxfZjJjZTczOWJmNmNkNGE1ZDljOTI1Njc2OWEyZWZjYjkgPSAkKGA8ZGl2IGlkPSJodG1sX2YyY2U3MzliZjZjZDRhNWQ5YzkyNTY3NjlhMmVmY2I5IiBzdHlsZT0id2lkdGg6IDEwMC4wJTsgaGVpZ2h0OiAxMDAuMCU7Ij5WQSBNRURJQ0FMIENFTlRFUiAtIE1PTlRST1NFIENBTVBVUzwvZGl2PmApWzBdOwogICAgICAgICAgICBwb3B1cF9lZTdhYTJlYjZkZTc0NmY3YjY1MjU4NTI0YjJlMDc4MS5zZXRDb250ZW50KGh0bWxfZjJjZTczOWJmNmNkNGE1ZDljOTI1Njc2OWEyZWZjYjkpOwogICAgICAgIAoKICAgICAgICBtYXJrZXJfYzI1MmIwYWNjMGFmNDU4NmFjMDI2NjMzYjZhYjU3NzQuYmluZFBvcHVwKHBvcHVwX2VlN2FhMmViNmRlNzQ2ZjdiNjUyNTg1MjRiMmUwNzgxKQogICAgICAgIDsKCiAgICAgICAgCiAgICAKICAgIAogICAgICAgICAgICB2YXIgbWFya2VyX2MwYzU3OTc1NzU3ZjRiYjJiNDBkMDBkNGRiMDYyOWEzID0gTC5tYXJrZXIoCiAgICAgICAgICAgICAgICBbNDMuMDM4ODMxMTk4MDAwMDEsIC03Ni4xMzg5NTQxNzY5OTk5N10sCiAgICAgICAgICAgICAgICB7fQogICAgICAgICAgICApLmFkZFRvKG1hcmtlcl9jbHVzdGVyX2QyNTczMGI4ZGVhZjRkN2M4MmZkZDBiZDg0NzcyMmNkKTsKICAgICAgICAKICAgIAogICAgICAgIHZhciBwb3B1cF8zMmFmMzc5N2I4N2E0ZTA4Yjk1NjNiODI3ZjkzOWZmMiA9IEwucG9wdXAoeyJtYXhXaWR0aCI6ICIxMDAlIn0pOwoKICAgICAgICAKICAgICAgICAgICAgdmFyIGh0bWxfMDNmMzAxYzE3Mjc0NDU2YzkxODNkMWU2MWM5YjE1YjAgPSAkKGA8ZGl2IGlkPSJodG1sXzAzZjMwMWMxNzI3NDQ1NmM5MTgzZDFlNjFjOWIxNWIwIiBzdHlsZT0id2lkdGg6IDEwMC4wJTsgaGVpZ2h0OiAxMDAuMCU7Ij5WQSBNRURJQ0FMIENFTlRFUiAtIFNZUkFDVVNFPC9kaXY+YClbMF07CiAgICAgICAgICAgIHBvcHVwXzMyYWYzNzk3Yjg3YTRlMDhiOTU2M2I4MjdmOTM5ZmYyLnNldENvbnRlbnQoaHRtbF8wM2YzMDFjMTcyNzQ0NTZjOTE4M2QxZTYxYzliMTViMCk7CiAgICAgICAgCgogICAgICAgIG1hcmtlcl9jMGM1Nzk3NTc1N2Y0YmIyYjQwZDAwZDRkYjA2MjlhMy5iaW5kUG9wdXAocG9wdXBfMzJhZjM3OTdiODdhNGUwOGI5NTYzYjgyN2Y5MzlmZjIpCiAgICAgICAgOwoKICAgICAgICAKICAgIAogICAgCiAgICAgICAgICAgIHZhciBtYXJrZXJfZmI1ZWJlNjVlZTc0NDQ4NGFiZmYzZTEyZDEyZjc1ODkgPSBMLm1hcmtlcigKICAgICAgICAgICAgICAgIFs0Mi42NTQ0OTA3MTMwMDAwNCwgLTczLjc4MDIwMjg1Mzk5OTk4XSwKICAgICAgICAgICAgICAgIHt9CiAgICAgICAgICAgICkuYWRkVG8obWFya2VyX2NsdXN0ZXJfZDI1NzMwYjhkZWFmNGQ3YzgyZmRkMGJkODQ3NzIyY2QpOwogICAgICAgIAogICAgCiAgICAgICAgdmFyIHBvcHVwX2NmZGJjODk2YjZmNDRiZWY4OGIwN2Q4ZDBiODE3MzFlID0gTC5wb3B1cCh7Im1heFdpZHRoIjogIjEwMCUifSk7CgogICAgICAgIAogICAgICAgICAgICB2YXIgaHRtbF8yMzU5NTk4NTUxYmI0YjA1OWU2MzFjZmIyOTg0ZjgwNCA9ICQoYDxkaXYgaWQ9Imh0bWxfMjM1OTU5ODU1MWJiNGIwNTllNjMxY2ZiMjk4NGY4MDQiIHN0eWxlPSJ3aWR0aDogMTAwLjAlOyBoZWlnaHQ6IDEwMC4wJTsiPkNBUElUQUwgRElTVFJJQ1QgUFNZQ0hJQVRSSUMgQ0VOVEVSPC9kaXY+YClbMF07CiAgICAgICAgICAgIHBvcHVwX2NmZGJjODk2YjZmNDRiZWY4OGIwN2Q4ZDBiODE3MzFlLnNldENvbnRlbnQoaHRtbF8yMzU5NTk4NTUxYmI0YjA1OWU2MzFjZmIyOTg0ZjgwNCk7CiAgICAgICAgCgogICAgICAgIG1hcmtlcl9mYjVlYmU2NWVlNzQ0NDg0YWJmZjNlMTJkMTJmNzU4OS5iaW5kUG9wdXAocG9wdXBfY2ZkYmM4OTZiNmY0NGJlZjg4YjA3ZDhkMGI4MTczMWUpCiAgICAgICAgOwoKICAgICAgICAKICAgIAogICAgCiAgICAgICAgICAgIHZhciBtYXJrZXJfNzU0ZDg3ZWVlMDQxNDU3ODljYzBlMzg2OWRlMWU3YmYgPSBMLm1hcmtlcigKICAgICAgICAgICAgICAgIFs0MC42ODUyMzY2MDgwMDAwMjUsIC03My40MjExNDUzNTA5OTk5NV0sCiAgICAgICAgICAgICAgICB7fQogICAgICAgICAgICApLmFkZFRvKG1hcmtlcl9jbHVzdGVyX2QyNTczMGI4ZGVhZjRkN2M4MmZkZDBiZDg0NzcyMmNkKTsKICAgICAgICAKICAgIAogICAgICAgIHZhciBwb3B1cF9kMTI3YWEwOTAyYjA0OTgzYWM0ZDFmNzIxOWY1NDI3NyA9IEwucG9wdXAoeyJtYXhXaWR0aCI6ICIxMDAlIn0pOwoKICAgICAgICAKICAgICAgICAgICAgdmFyIGh0bWxfMTI2OWY5NTQ3MjQwNGUxMTgyYjkzZGJlZGZkZWNlYmEgPSAkKGA8ZGl2IGlkPSJodG1sXzEyNjlmOTU0NzI0MDRlMTE4MmI5M2RiZWRmZGVjZWJhIiBzdHlsZT0id2lkdGg6IDEwMC4wJTsgaGVpZ2h0OiAxMDAuMCU7Ij5CUlVOU1dJQ0sgSE9TUElUQUwgQ0VOVEVSLCBJTkM8L2Rpdj5gKVswXTsKICAgICAgICAgICAgcG9wdXBfZDEyN2FhMDkwMmIwNDk4M2FjNGQxZjcyMTlmNTQyNzcuc2V0Q29udGVudChodG1sXzEyNjlmOTU0NzI0MDRlMTE4MmI5M2RiZWRmZGVjZWJhKTsKICAgICAgICAKCiAgICAgICAgbWFya2VyXzc1NGQ4N2VlZTA0MTQ1Nzg5Y2MwZTM4NjlkZTFlN2JmLmJpbmRQb3B1cChwb3B1cF9kMTI3YWEwOTAyYjA0OTgzYWM0ZDFmNzIxOWY1NDI3NykKICAgICAgICA7CgogICAgICAgIAogICAgCiAgICAKICAgICAgICAgICAgdmFyIG1hcmtlcl9mYTg1YjQzODlmNjU0NWJhOGU0YWE4MzYwYWI3M2VjNCA9IEwubWFya2VyKAogICAgICAgICAgICAgICAgWzQyLjY1NTk2NzcyMzAwMDA0NiwgLTczLjgwMzY1NTk3Mzk5OTk4XSwKICAgICAgICAgICAgICAgIHt9CiAgICAgICAgICAgICkuYWRkVG8obWFya2VyX2NsdXN0ZXJfZDI1NzMwYjhkZWFmNGQ3YzgyZmRkMGJkODQ3NzIyY2QpOwogICAgICAgIAogICAgCiAgICAgICAgdmFyIHBvcHVwX2EwZTdjMzI4ZWY5MzQzYTFhMjUyNmU4ZDQ2YjZiYzI3ID0gTC5wb3B1cCh7Im1heFdpZHRoIjogIjEwMCUifSk7CgogICAgICAgIAogICAgICAgICAgICB2YXIgaHRtbF9hMGNlNTJhMTg2NDg0M2I1OWYyNzRhMWU2Y2QzNGZjMiA9ICQoYDxkaXYgaWQ9Imh0bWxfYTBjZTUyYTE4NjQ4NDNiNTlmMjc0YTFlNmNkMzRmYzIiIHN0eWxlPSJ3aWR0aDogMTAwLjAlOyBoZWlnaHQ6IDEwMC4wJTsiPlNULiBQRVRFUidTIEhPU1BJVEFMPC9kaXY+YClbMF07CiAgICAgICAgICAgIHBvcHVwX2EwZTdjMzI4ZWY5MzQzYTFhMjUyNmU4ZDQ2YjZiYzI3LnNldENvbnRlbnQoaHRtbF9hMGNlNTJhMTg2NDg0M2I1OWYyNzRhMWU2Y2QzNGZjMik7CiAgICAgICAgCgogICAgICAgIG1hcmtlcl9mYTg1YjQzODlmNjU0NWJhOGU0YWE4MzYwYWI3M2VjNC5iaW5kUG9wdXAocG9wdXBfYTBlN2MzMjhlZjkzNDNhMWEyNTI2ZThkNDZiNmJjMjcpCiAgICAgICAgOwoKICAgICAgICAKICAgIAogICAgCiAgICAgICAgICAgIHZhciBtYXJrZXJfNzhmOGQ1MmQzMjIyNGJlZTk5ZjRiMmRjMmFmNWU0ZjYgPSBMLm1hcmtlcigKICAgICAgICAgICAgICAgIFs0Mi4yMTI5MjI0NzIwMDAwNDUsIC03OC4yODc4NjMzODM5OTk5M10sCiAgICAgICAgICAgICAgICB7fQogICAgICAgICAgICApLmFkZFRvKG1hcmtlcl9jbHVzdGVyX2QyNTczMGI4ZGVhZjRkN2M4MmZkZDBiZDg0NzcyMmNkKTsKICAgICAgICAKICAgIAogICAgICAgIHZhciBwb3B1cF8yOWRkZjQ4Yjk1MjI0NDVkYTZkNWNlNDA3YjY1NTc4ZCA9IEwucG9wdXAoeyJtYXhXaWR0aCI6ICIxMDAlIn0pOwoKICAgICAgICAKICAgICAgICAgICAgdmFyIGh0bWxfMjlkMTk5OWMxYWQzNDJkYmE4ZTk5N2ZjMDI1MjRjOTkgPSAkKGA8ZGl2IGlkPSJodG1sXzI5ZDE5OTljMWFkMzQyZGJhOGU5OTdmYzAyNTI0Yzk5IiBzdHlsZT0id2lkdGg6IDEwMC4wJTsgaGVpZ2h0OiAxMDAuMCU7Ij5DVUJBIE1FTU9SSUFMIEhPU1BJVEFMPC9kaXY+YClbMF07CiAgICAgICAgICAgIHBvcHVwXzI5ZGRmNDhiOTUyMjQ0NWRhNmQ1Y2U0MDdiNjU1NzhkLnNldENvbnRlbnQoaHRtbF8yOWQxOTk5YzFhZDM0MmRiYThlOTk3ZmMwMjUyNGM5OSk7CiAgICAgICAgCgogICAgICAgIG1hcmtlcl83OGY4ZDUyZDMyMjI0YmVlOTlmNGIyZGMyYWY1ZTRmNi5iaW5kUG9wdXAocG9wdXBfMjlkZGY0OGI5NTIyNDQ1ZGE2ZDVjZTQwN2I2NTU3OGQpCiAgICAgICAgOwoKICAgICAgICAKICAgIAogICAgCiAgICAgICAgICAgIHZhciBtYXJrZXJfNTcwZmZjYmQyMDI1NDhlOWE5MDZiNTBjODJjZWI4YmIgPSBMLm1hcmtlcigKICAgICAgICAgICAgICAgIFs0MC42MTM3NzA5OTIwMDAwNywgLTczLjk0ODcxMDc4MTk5OTk2XSwKICAgICAgICAgICAgICAgIHt9CiAgICAgICAgICAgICkuYWRkVG8obWFya2VyX2NsdXN0ZXJfZDI1NzMwYjhkZWFmNGQ3YzgyZmRkMGJkODQ3NzIyY2QpOwogICAgICAgIAogICAgCiAgICAgICAgdmFyIHBvcHVwXzE5MjYyM2NiNGYwMTRiODU4NzMzYWY3ODA3M2MwMTBhID0gTC5wb3B1cCh7Im1heFdpZHRoIjogIjEwMCUifSk7CgogICAgICAgIAogICAgICAgICAgICB2YXIgaHRtbF82OWVhMzgzYzU2NTI0ZTkwODExNTNmZmZiNjgwMWEwZCA9ICQoYDxkaXYgaWQ9Imh0bWxfNjllYTM4M2M1NjUyNGU5MDgxMTUzZmZmYjY4MDFhMGQiIHN0eWxlPSJ3aWR0aDogMTAwLjAlOyBoZWlnaHQ6IDEwMC4wJTsiPk5FVyBZT1JLIENPTU1VTklUWSBIT1NQSVRBTDwvZGl2PmApWzBdOwogICAgICAgICAgICBwb3B1cF8xOTI2MjNjYjRmMDE0Yjg1ODczM2FmNzgwNzNjMDEwYS5zZXRDb250ZW50KGh0bWxfNjllYTM4M2M1NjUyNGU5MDgxMTUzZmZmYjY4MDFhMGQpOwogICAgICAgIAoKICAgICAgICBtYXJrZXJfNTcwZmZjYmQyMDI1NDhlOWE5MDZiNTBjODJjZWI4YmIuYmluZFBvcHVwKHBvcHVwXzE5MjYyM2NiNGYwMTRiODU4NzMzYWY3ODA3M2MwMTBhKQogICAgICAgIDsKCiAgICAgICAgCiAgICAKICAgIAogICAgICAgICAgICB2YXIgbWFya2VyX2Y5ZmNhMGE0MzQyMzQ3NjNiOGNhNjlkMjE4NTRiNjlkID0gTC5tYXJrZXIoCiAgICAgICAgICAgICAgICBbNDEuNjkzODU4OTM5MDAwMDUsIC03My45MzU3ODYxMTM5OTk5NV0sCiAgICAgICAgICAgICAgICB7fQogICAgICAgICAgICApLmFkZFRvKG1hcmtlcl9jbHVzdGVyX2QyNTczMGI4ZGVhZjRkN2M4MmZkZDBiZDg0NzcyMmNkKTsKICAgICAgICAKICAgIAogICAgICAgIHZhciBwb3B1cF85MjQwOTZjMTJjYmM0YjE4YTk2YTJkOTU4YjIwNjFiMiA9IEwucG9wdXAoeyJtYXhXaWR0aCI6ICIxMDAlIn0pOwoKICAgICAgICAKICAgICAgICAgICAgdmFyIGh0bWxfZDg5NmYyNDc4ZGFmNDdmYmIzZTA2MTcxMThkMjkzM2QgPSAkKGA8ZGl2IGlkPSJodG1sX2Q4OTZmMjQ3OGRhZjQ3ZmJiM2UwNjE3MTE4ZDI5MzNkIiBzdHlsZT0id2lkdGg6IDEwMC4wJTsgaGVpZ2h0OiAxMDAuMCU7Ij5WQVNTQVIgQlJPVEhFUlMgTUVESUNBTCBDRU5URVI8L2Rpdj5gKVswXTsKICAgICAgICAgICAgcG9wdXBfOTI0MDk2YzEyY2JjNGIxOGE5NmEyZDk1OGIyMDYxYjIuc2V0Q29udGVudChodG1sX2Q4OTZmMjQ3OGRhZjQ3ZmJiM2UwNjE3MTE4ZDI5MzNkKTsKICAgICAgICAKCiAgICAgICAgbWFya2VyX2Y5ZmNhMGE0MzQyMzQ3NjNiOGNhNjlkMjE4NTRiNjlkLmJpbmRQb3B1cChwb3B1cF85MjQwOTZjMTJjYmM0YjE4YTk2YTJkOTU4YjIwNjFiMikKICAgICAgICA7CgogICAgICAgIAogICAgCiAgICAKICAgICAgICAgICAgdmFyIG1hcmtlcl84YmY4MDY1MjkwMDA0NzFmOGRiZGVkMGUxZmVjMDgwYSA9IEwubWFya2VyKAogICAgICAgICAgICAgICAgWzQyLjkyNTA3NzEwMDAwMDA2LCAtNzguODMxMTQ1NzY3OTk5OTRdLAogICAgICAgICAgICAgICAge30KICAgICAgICAgICAgKS5hZGRUbyhtYXJrZXJfY2x1c3Rlcl9kMjU3MzBiOGRlYWY0ZDdjODJmZGQwYmQ4NDc3MjJjZCk7CiAgICAgICAgCiAgICAKICAgICAgICB2YXIgcG9wdXBfN2YyZDM0MWY2ZTcyNDdmNGJjYjU1NDhjNjE4NmJmYjMgPSBMLnBvcHVwKHsibWF4V2lkdGgiOiAiMTAwJSJ9KTsKCiAgICAgICAgCiAgICAgICAgICAgIHZhciBodG1sXzIxY2U4ZDQwMDdhYjQ3NTM4YWI5NWE0MTkzOTYxYTY2ID0gJChgPGRpdiBpZD0iaHRtbF8yMWNlOGQ0MDA3YWI0NzUzOGFiOTVhNDE5Mzk2MWE2NiIgc3R5bGU9IndpZHRoOiAxMDAuMCU7IGhlaWdodDogMTAwLjAlOyI+RVJJRSBDT1VOVFkgTUVESUNBTCBDRU5URVI8L2Rpdj5gKVswXTsKICAgICAgICAgICAgcG9wdXBfN2YyZDM0MWY2ZTcyNDdmNGJjYjU1NDhjNjE4NmJmYjMuc2V0Q29udGVudChodG1sXzIxY2U4ZDQwMDdhYjQ3NTM4YWI5NWE0MTkzOTYxYTY2KTsKICAgICAgICAKCiAgICAgICAgbWFya2VyXzhiZjgwNjUyOTAwMDQ3MWY4ZGJkZWQwZTFmZWMwODBhLmJpbmRQb3B1cChwb3B1cF83ZjJkMzQxZjZlNzI0N2Y0YmNiNTU0OGM2MTg2YmZiMykKICAgICAgICA7CgogICAgICAgIAogICAgCiAgICAKICAgICAgICAgICAgdmFyIG1hcmtlcl8xZjg3ZDcwMDM0OTI0MmI1YWI3MThlNWQ0ZjgyYjVhNyA9IEwubWFya2VyKAogICAgICAgICAgICAgICAgWzQzLjEyMjgwODg3MzAwMDA1LCAtNzcuNjI0MjU5NDI3OTk5OTddLAogICAgICAgICAgICAgICAge30KICAgICAgICAgICAgKS5hZGRUbyhtYXJrZXJfY2x1c3Rlcl9kMjU3MzBiOGRlYWY0ZDdjODJmZGQwYmQ4NDc3MjJjZCk7CiAgICAgICAgCiAgICAKICAgICAgICB2YXIgcG9wdXBfNDQwMzM1MTEzY2ZkNGQ5YTliMTBhZTczMTI5MWFkMmMgPSBMLnBvcHVwKHsibWF4V2lkdGgiOiAiMTAwJSJ9KTsKCiAgICAgICAgCiAgICAgICAgICAgIHZhciBodG1sXzQ2YzA2MGRkNDgwNjQyZDk4NjI4NGY4ZTM5ZjI0YjE2ID0gJChgPGRpdiBpZD0iaHRtbF80NmMwNjBkZDQ4MDY0MmQ5ODYyODRmOGUzOWYyNGIxNiIgc3R5bGU9IndpZHRoOiAxMDAuMCU7IGhlaWdodDogMTAwLjAlOyI+U1RST05HIE1FTU9SSUFMIEhPU1BJVEFMPC9kaXY+YClbMF07CiAgICAgICAgICAgIHBvcHVwXzQ0MDMzNTExM2NmZDRkOWE5YjEwYWU3MzEyOTFhZDJjLnNldENvbnRlbnQoaHRtbF80NmMwNjBkZDQ4MDY0MmQ5ODYyODRmOGUzOWYyNGIxNik7CiAgICAgICAgCgogICAgICAgIG1hcmtlcl8xZjg3ZDcwMDM0OTI0MmI1YWI3MThlNWQ0ZjgyYjVhNy5iaW5kUG9wdXAocG9wdXBfNDQwMzM1MTEzY2ZkNGQ5YTliMTBhZTczMTI5MWFkMmMpCiAgICAgICAgOwoKICAgICAgICAKICAgIAogICAgCiAgICAgICAgICAgIHZhciBtYXJrZXJfZWNjYTQ1ZTk0MTIwNDNlZTk0NTBkMTBlZWEyMGQ2ZmIgPSBMLm1hcmtlcigKICAgICAgICAgICAgICAgIFs0MC43Nzc2MzU5MjAwMDAwNywgLTczLjcwMTYxMDk0Mzk5OTk4XSwKICAgICAgICAgICAgICAgIHt9CiAgICAgICAgICAgICkuYWRkVG8obWFya2VyX2NsdXN0ZXJfZDI1NzMwYjhkZWFmNGQ3YzgyZmRkMGJkODQ3NzIyY2QpOwogICAgICAgIAogICAgCiAgICAgICAgdmFyIHBvcHVwX2QxOWRlZWQ1OWZiNjQxMWE4YmE0ZWE5NWVkYWNiM2MzID0gTC5wb3B1cCh7Im1heFdpZHRoIjogIjEwMCUifSk7CgogICAgICAgIAogICAgICAgICAgICB2YXIgaHRtbF81MmQ1M2IyODk2ZmU0MzgwYjI2MzdkZjUzMzU2MzFkZSA9ICQoYDxkaXYgaWQ9Imh0bWxfNTJkNTNiMjg5NmZlNDM4MGIyNjM3ZGY1MzM1NjMxZGUiIHN0eWxlPSJ3aWR0aDogMTAwLjAlOyBoZWlnaHQ6IDEwMC4wJTsiPk5PUlRIIFNIT1JFIFVOSVZFUlNJVFkgSE9TUElUQUw8L2Rpdj5gKVswXTsKICAgICAgICAgICAgcG9wdXBfZDE5ZGVlZDU5ZmI2NDExYThiYTRlYTk1ZWRhY2IzYzMuc2V0Q29udGVudChodG1sXzUyZDUzYjI4OTZmZTQzODBiMjYzN2RmNTMzNTYzMWRlKTsKICAgICAgICAKCiAgICAgICAgbWFya2VyX2VjY2E0NWU5NDEyMDQzZWU5NDUwZDEwZWVhMjBkNmZiLmJpbmRQb3B1cChwb3B1cF9kMTlkZWVkNTlmYjY0MTFhOGJhNGVhOTVlZGFjYjNjMykKICAgICAgICA7CgogICAgICAgIAogICAgCiAgICAKICAgICAgICAgICAgdmFyIG1hcmtlcl9lMmQ1ZGY1NjU5ODM0MDA2OTI5YzIxMzQ4NDBlOWY5NiA9IEwubWFya2VyKAogICAgICAgICAgICAgICAgWzQwLjcyNjI1NTUxMzAwMDA2LCAtNzMuNTUzNzM4MDE0OTk5OTZdLAogICAgICAgICAgICAgICAge30KICAgICAgICAgICAgKS5hZGRUbyhtYXJrZXJfY2x1c3Rlcl9kMjU3MzBiOGRlYWY0ZDdjODJmZGQwYmQ4NDc3MjJjZCk7CiAgICAgICAgCiAgICAKICAgICAgICB2YXIgcG9wdXBfMWJjMDlhOWQ0OGYxNGE1OWJhZjA0MTIyODc0MGM2ZDQgPSBMLnBvcHVwKHsibWF4V2lkdGgiOiAiMTAwJSJ9KTsKCiAgICAgICAgCiAgICAgICAgICAgIHZhciBodG1sXzFhNzczMjRiY2E2NzQ2YjI5NzI3Y2YyMzQyZjRhZTkwID0gJChgPGRpdiBpZD0iaHRtbF8xYTc3MzI0YmNhNjc0NmIyOTcyN2NmMjM0MmY0YWU5MCIgc3R5bGU9IndpZHRoOiAxMDAuMCU7IGhlaWdodDogMTAwLjAlOyI+TkFTU0FVIFVOSVZFUlNJVFkgTUVESUNBTCBDRU5URVI8L2Rpdj5gKVswXTsKICAgICAgICAgICAgcG9wdXBfMWJjMDlhOWQ0OGYxNGE1OWJhZjA0MTIyODc0MGM2ZDQuc2V0Q29udGVudChodG1sXzFhNzczMjRiY2E2NzQ2YjI5NzI3Y2YyMzQyZjRhZTkwKTsKICAgICAgICAKCiAgICAgICAgbWFya2VyX2UyZDVkZjU2NTk4MzQwMDY5MjljMjEzNDg0MGU5Zjk2LmJpbmRQb3B1cChwb3B1cF8xYmMwOWE5ZDQ4ZjE0YTU5YmFmMDQxMjI4NzQwYzZkNCkKICAgICAgICA7CgogICAgICAgIAogICAgCiAgICAKICAgICAgICAgICAgdmFyIG1hcmtlcl9lMjI3MzdkMjU1MWM0NjNiODNlOGRiMjUzMzA4MDNmMCA9IEwubWFya2VyKAogICAgICAgICAgICAgICAgWzQwLjY1MDk5Nzk5NTAwMDA3LCAtNzMuNjMwODM5NDM3OTk5OTVdLAogICAgICAgICAgICAgICAge30KICAgICAgICAgICAgKS5hZGRUbyhtYXJrZXJfY2x1c3Rlcl9kMjU3MzBiOGRlYWY0ZDdjODJmZGQwYmQ4NDc3MjJjZCk7CiAgICAgICAgCiAgICAKICAgICAgICB2YXIgcG9wdXBfYzg5YWVhZTYzYzMxNDdjOWI4Y2I1MDU2MmIyMmM2YzEgPSBMLnBvcHVwKHsibWF4V2lkdGgiOiAiMTAwJSJ9KTsKCiAgICAgICAgCiAgICAgICAgICAgIHZhciBodG1sXzdmOTk0NWU0ODk0ZjRjMzQ4MjFlMGFjOWFlNWVmOTI2ID0gJChgPGRpdiBpZD0iaHRtbF83Zjk5NDVlNDg5NGY0YzM0ODIxZTBhYzlhZTVlZjkyNiIgc3R5bGU9IndpZHRoOiAxMDAuMCU7IGhlaWdodDogMTAwLjAlOyI+U09VVEggTkFTU0FVIENPTU1VTklUSUVTIEhPU1BJVEFMPC9kaXY+YClbMF07CiAgICAgICAgICAgIHBvcHVwX2M4OWFlYWU2M2MzMTQ3YzliOGNiNTA1NjJiMjJjNmMxLnNldENvbnRlbnQoaHRtbF83Zjk5NDVlNDg5NGY0YzM0ODIxZTBhYzlhZTVlZjkyNik7CiAgICAgICAgCgogICAgICAgIG1hcmtlcl9lMjI3MzdkMjU1MWM0NjNiODNlOGRiMjUzMzA4MDNmMC5iaW5kUG9wdXAocG9wdXBfYzg5YWVhZTYzYzMxNDdjOWI4Y2I1MDU2MmIyMmM2YzEpCiAgICAgICAgOwoKICAgICAgICAKICAgIAogICAgCiAgICAgICAgICAgIHZhciBtYXJrZXJfMmZiOWRiOGFlZmIxNDc1OTkwYTJjODJmNzMzODhhY2MgPSBMLm1hcmtlcigKICAgICAgICAgICAgICAgIFs0My4wNDE4OTczMTcwMDAwNCwgLTc2LjEzOTgzMDQ2Mjk5OTk1XSwKICAgICAgICAgICAgICAgIHt9CiAgICAgICAgICAgICkuYWRkVG8obWFya2VyX2NsdXN0ZXJfZDI1NzMwYjhkZWFmNGQ3YzgyZmRkMGJkODQ3NzIyY2QpOwogICAgICAgIAogICAgCiAgICAgICAgdmFyIHBvcHVwX2Q2Yjk2NWI5MTI3MTQ0ZGFiOWU5ZjdmYzJlMjQwZDJjID0gTC5wb3B1cCh7Im1heFdpZHRoIjogIjEwMCUifSk7CgogICAgICAgIAogICAgICAgICAgICB2YXIgaHRtbF9iZWU5MTdiNTlkM2I0NTk0YjE3YzA1OTBlZjVhNzhjZSA9ICQoYDxkaXYgaWQ9Imh0bWxfYmVlOTE3YjU5ZDNiNDU5NGIxN2MwNTkwZWY1YTc4Y2UiIHN0eWxlPSJ3aWR0aDogMTAwLjAlOyBoZWlnaHQ6IDEwMC4wJTsiPlVQU1RBVEUgVU5JVkVSU0lUWSBIT1NQSVRBTCAtIERPV05UT1dOIENBTVBVUzwvZGl2PmApWzBdOwogICAgICAgICAgICBwb3B1cF9kNmI5NjViOTEyNzE0NGRhYjllOWY3ZmMyZTI0MGQyYy5zZXRDb250ZW50KGh0bWxfYmVlOTE3YjU5ZDNiNDU5NGIxN2MwNTkwZWY1YTc4Y2UpOwogICAgICAgIAoKICAgICAgICBtYXJrZXJfMmZiOWRiOGFlZmIxNDc1OTkwYTJjODJmNzMzODhhY2MuYmluZFBvcHVwKHBvcHVwX2Q2Yjk2NWI5MTI3MTQ0ZGFiOWU5ZjdmYzJlMjQwZDJjKQogICAgICAgIDsKCiAgICAgICAgCiAgICAKICAgIAogICAgICAgICAgICB2YXIgbWFya2VyX2I4YWRjYTFmZDk4ZDQ5MTliZmMxNTdmOWJkNTRlMGJhID0gTC5tYXJrZXIoCiAgICAgICAgICAgICAgICBbNDEuNTAzNDI0ODQ5MDAwMDU1LCAtNzQuMDE0NTY1NTc3OTk5OTddLAogICAgICAgICAgICAgICAge30KICAgICAgICAgICAgKS5hZGRUbyhtYXJrZXJfY2x1c3Rlcl9kMjU3MzBiOGRlYWY0ZDdjODJmZGQwYmQ4NDc3MjJjZCk7CiAgICAgICAgCiAgICAKICAgICAgICB2YXIgcG9wdXBfODBlOTMxOGQ5YTUwNGRlNjg0MDQyMTI3ZDFhMjcxZDggPSBMLnBvcHVwKHsibWF4V2lkdGgiOiAiMTAwJSJ9KTsKCiAgICAgICAgCiAgICAgICAgICAgIHZhciBodG1sXzU3MjQwM2UxOWRiZDRjNjVhZGZjNGI2MTNmZWU5MjkwID0gJChgPGRpdiBpZD0iaHRtbF81NzI0MDNlMTlkYmQ0YzY1YWRmYzRiNjEzZmVlOTI5MCIgc3R5bGU9IndpZHRoOiAxMDAuMCU7IGhlaWdodDogMTAwLjAlOyI+U1QuIExVS0UnUyBDT1JOV0FMTCBIT1NQSVRBTCAtIE5FV0JVUkdIIENBTVBVUzwvZGl2PmApWzBdOwogICAgICAgICAgICBwb3B1cF84MGU5MzE4ZDlhNTA0ZGU2ODQwNDIxMjdkMWEyNzFkOC5zZXRDb250ZW50KGh0bWxfNTcyNDAzZTE5ZGJkNGM2NWFkZmM0YjYxM2ZlZTkyOTApOwogICAgICAgIAoKICAgICAgICBtYXJrZXJfYjhhZGNhMWZkOThkNDkxOWJmYzE1N2Y5YmQ1NGUwYmEuYmluZFBvcHVwKHBvcHVwXzgwZTkzMThkOWE1MDRkZTY4NDA0MjEyN2QxYTI3MWQ4KQogICAgICAgIDsKCiAgICAgICAgCiAgICAKICAgIAogICAgICAgICAgICB2YXIgbWFya2VyXzAyMGYwYzMzZjVkNTQwNDJhMzRlNTQ3ZjgzNTVhNzM5ID0gTC5tYXJrZXIoCiAgICAgICAgICAgICAgICBbNDEuNDQxOTE0MDgzMDAwMDE1LCAtNzQuMzY4MzEyMjY0OTk5OTldLAogICAgICAgICAgICAgICAge30KICAgICAgICAgICAgKS5hZGRUbyhtYXJrZXJfY2x1c3Rlcl9kMjU3MzBiOGRlYWY0ZDdjODJmZGQwYmQ4NDc3MjJjZCk7CiAgICAgICAgCiAgICAKICAgICAgICB2YXIgcG9wdXBfNjkwNTNlZTYzZDVkNGM4M2IzYzRjOTRiNjJjYTIxNmEgPSBMLnBvcHVwKHsibWF4V2lkdGgiOiAiMTAwJSJ9KTsKCiAgICAgICAgCiAgICAgICAgICAgIHZhciBodG1sXzExOGYzYzY5ZDUyZTQ4Mzk4YTAwZmYzMWQ1M2YyMTY5ID0gJChgPGRpdiBpZD0iaHRtbF8xMThmM2M2OWQ1MmU0ODM5OGEwMGZmMzFkNTNmMjE2OSIgc3R5bGU9IndpZHRoOiAxMDAuMCU7IGhlaWdodDogMTAwLjAlOyI+T1JBTkdFIFJFR0lPTkFMIE1FRElDQUwgQ0VOVEVSPC9kaXY+YClbMF07CiAgICAgICAgICAgIHBvcHVwXzY5MDUzZWU2M2Q1ZDRjODNiM2M0Yzk0YjYyY2EyMTZhLnNldENvbnRlbnQoaHRtbF8xMThmM2M2OWQ1MmU0ODM5OGEwMGZmMzFkNTNmMjE2OSk7CiAgICAgICAgCgogICAgICAgIG1hcmtlcl8wMjBmMGMzM2Y1ZDU0MDQyYTM0ZTU0N2Y4MzU1YTczOS5iaW5kUG9wdXAocG9wdXBfNjkwNTNlZTYzZDVkNGM4M2IzYzRjOTRiNjJjYTIxNmEpCiAgICAgICAgOwoKICAgICAgICAKICAgIAogICAgCiAgICAgICAgICAgIHZhciBtYXJrZXJfMzg0MzAzMGEwMzg2NDA5MmEwZTg5NTgzMDI3OWVlYTAgPSBMLm1hcmtlcigKICAgICAgICAgICAgICAgIFs0Mi43MzMyOTI0ODUwMDAwMzUsIC03My42NzIxNjM5OTU5OTk5NF0sCiAgICAgICAgICAgICAgICB7fQogICAgICAgICAgICApLmFkZFRvKG1hcmtlcl9jbHVzdGVyX2QyNTczMGI4ZGVhZjRkN2M4MmZkZDBiZDg0NzcyMmNkKTsKICAgICAgICAKICAgIAogICAgICAgIHZhciBwb3B1cF9jZWJiYmJlNTVmNzk0MGYxODY3ZjZkMzIyMjllNzY1MSA9IEwucG9wdXAoeyJtYXhXaWR0aCI6ICIxMDAlIn0pOwoKICAgICAgICAKICAgICAgICAgICAgdmFyIGh0bWxfNjhiN2IzZDRkMWU2NDBkOGI0NGM0NmIwNmE5YjBhNjYgPSAkKGA8ZGl2IGlkPSJodG1sXzY4YjdiM2Q0ZDFlNjQwZDhiNDRjNDZiMDZhOWIwYTY2IiBzdHlsZT0id2lkdGg6IDEwMC4wJTsgaGVpZ2h0OiAxMDAuMCU7Ij5TQU1BUklUQU4gSE9TUElUQUw8L2Rpdj5gKVswXTsKICAgICAgICAgICAgcG9wdXBfY2ViYmJiZTU1Zjc5NDBmMTg2N2Y2ZDMyMjI5ZTc2NTEuc2V0Q29udGVudChodG1sXzY4YjdiM2Q0ZDFlNjQwZDhiNDRjNDZiMDZhOWIwYTY2KTsKICAgICAgICAKCiAgICAgICAgbWFya2VyXzM4NDMwMzBhMDM4NjQwOTJhMGU4OTU4MzAyNzllZWEwLmJpbmRQb3B1cChwb3B1cF9jZWJiYmJlNTVmNzk0MGYxODY3ZjZkMzIyMjllNzY1MSkKICAgICAgICA7CgogICAgICAgIAogICAgCiAgICAKICAgICAgICAgICAgdmFyIG1hcmtlcl83MTk0ZjljMGRiN2E0ZmIxODhkMzE3ODRhYmRlNjBkOSA9IEwubWFya2VyKAogICAgICAgICAgICAgICAgWzQxLjA5NjIxMTQ3MTAwMDA2LCAtNzMuOTI2MDE4MTMxOTk5OTddLAogICAgICAgICAgICAgICAge30KICAgICAgICAgICAgKS5hZGRUbyhtYXJrZXJfY2x1c3Rlcl9kMjU3MzBiOGRlYWY0ZDdjODJmZGQwYmQ4NDc3MjJjZCk7CiAgICAgICAgCiAgICAKICAgICAgICB2YXIgcG9wdXBfZDkyOGI1MDFmNjU2NGVhYWFhYmZlNGE2OTBiYWRlN2IgPSBMLnBvcHVwKHsibWF4V2lkdGgiOiAiMTAwJSJ9KTsKCiAgICAgICAgCiAgICAgICAgICAgIHZhciBodG1sXzIzZjNhZjM0YTMzOTQxZTY5ZmZiNjJiMTJiMTNjYWExID0gJChgPGRpdiBpZD0iaHRtbF8yM2YzYWYzNGEzMzk0MWU2OWZmYjYyYjEyYjEzY2FhMSIgc3R5bGU9IndpZHRoOiAxMDAuMCU7IGhlaWdodDogMTAwLjAlOyI+TllBQ0sgSE9TUElUQUw8L2Rpdj5gKVswXTsKICAgICAgICAgICAgcG9wdXBfZDkyOGI1MDFmNjU2NGVhYWFhYmZlNGE2OTBiYWRlN2Iuc2V0Q29udGVudChodG1sXzIzZjNhZjM0YTMzOTQxZTY5ZmZiNjJiMTJiMTNjYWExKTsKICAgICAgICAKCiAgICAgICAgbWFya2VyXzcxOTRmOWMwZGI3YTRmYjE4OGQzMTc4NGFiZGU2MGQ5LmJpbmRQb3B1cChwb3B1cF9kOTI4YjUwMWY2NTY0ZWFhYWFiZmU0YTY5MGJhZGU3YikKICAgICAgICA7CgogICAgICAgIAogICAgCiAgICAKICAgICAgICAgICAgdmFyIG1hcmtlcl9hNGFkYzQ1NGQwNTQ0OTAwYWJiNWUzYmJlODQ2MThkZSA9IEwubWFya2VyKAogICAgICAgICAgICAgICAgWzQ0LjY3NjUxMDYyMzAwMDA3LCAtNzQuOTgyMTE2MzE1OTk5OTZdLAogICAgICAgICAgICAgICAge30KICAgICAgICAgICAgKS5hZGRUbyhtYXJrZXJfY2x1c3Rlcl9kMjU3MzBiOGRlYWY0ZDdjODJmZGQwYmQ4NDc3MjJjZCk7CiAgICAgICAgCiAgICAKICAgICAgICB2YXIgcG9wdXBfZjE1Y2MyODMxYWYxNGExMjk3MTczZDBhYmYzNmE1OGYgPSBMLnBvcHVwKHsibWF4V2lkdGgiOiAiMTAwJSJ9KTsKCiAgICAgICAgCiAgICAgICAgICAgIHZhciBodG1sXzE3ZDA0MGRkZWRlZjQ0YjM5YWRmYTk1ZjU3ZTIxZmJhID0gJChgPGRpdiBpZD0iaHRtbF8xN2QwNDBkZGVkZWY0NGIzOWFkZmE5NWY1N2UyMWZiYSIgc3R5bGU9IndpZHRoOiAxMDAuMCU7IGhlaWdodDogMTAwLjAlOyI+Q0FOVE9OLVBPVFNEQU0gSE9TUElUQUw8L2Rpdj5gKVswXTsKICAgICAgICAgICAgcG9wdXBfZjE1Y2MyODMxYWYxNGExMjk3MTczZDBhYmYzNmE1OGYuc2V0Q29udGVudChodG1sXzE3ZDA0MGRkZWRlZjQ0YjM5YWRmYTk1ZjU3ZTIxZmJhKTsKICAgICAgICAKCiAgICAgICAgbWFya2VyX2E0YWRjNDU0ZDA1NDQ5MDBhYmI1ZTNiYmU4NDYxOGRlLmJpbmRQb3B1cChwb3B1cF9mMTVjYzI4MzFhZjE0YTEyOTcxNzNkMGFiZjM2YTU4ZikKICAgICAgICA7CgogICAgICAgIAogICAgCiAgICAKICAgICAgICAgICAgdmFyIG1hcmtlcl85MDIxNjY0YjExZDU0MGI3YjY1ODYwNjhjNTQ5NTQ3OCA9IEwubWFya2VyKAogICAgICAgICAgICAgICAgWzQzLjA4NTg4MDIxOTAwMDAzLCAtNzMuNzk2NzgyNzMyOTk5OTldLAogICAgICAgICAgICAgICAge30KICAgICAgICAgICAgKS5hZGRUbyhtYXJrZXJfY2x1c3Rlcl9kMjU3MzBiOGRlYWY0ZDdjODJmZGQwYmQ4NDc3MjJjZCk7CiAgICAgICAgCiAgICAKICAgICAgICB2YXIgcG9wdXBfYjc2ODc0ZWQ4MDFiNDU4YmE3NzFjOTc1MjQwNjc3MTIgPSBMLnBvcHVwKHsibWF4V2lkdGgiOiAiMTAwJSJ9KTsKCiAgICAgICAgCiAgICAgICAgICAgIHZhciBodG1sXzkyM2Y1MjhjNGRkNzRkNjg4NDFmNTNlMGE5NjFhODk4ID0gJChgPGRpdiBpZD0iaHRtbF85MjNmNTI4YzRkZDc0ZDY4ODQxZjUzZTBhOTYxYTg5OCIgc3R5bGU9IndpZHRoOiAxMDAuMCU7IGhlaWdodDogMTAwLjAlOyI+U0FSQVRPR0EgSE9TUElUQUw8L2Rpdj5gKVswXTsKICAgICAgICAgICAgcG9wdXBfYjc2ODc0ZWQ4MDFiNDU4YmE3NzFjOTc1MjQwNjc3MTIuc2V0Q29udGVudChodG1sXzkyM2Y1MjhjNGRkNzRkNjg4NDFmNTNlMGE5NjFhODk4KTsKICAgICAgICAKCiAgICAgICAgbWFya2VyXzkwMjE2NjRiMTFkNTQwYjdiNjU4NjA2OGM1NDk1NDc4LmJpbmRQb3B1cChwb3B1cF9iNzY4NzRlZDgwMWI0NThiYTc3MWM5NzUyNDA2NzcxMikKICAgICAgICA7CgogICAgICAgIAogICAgCiAgICAKICAgICAgICAgICAgdmFyIG1hcmtlcl8yY2M0ZTUzYTE4NjM0Y2JjYWUwODIzMjRhNTAxZjRhYiA9IEwubWFya2VyKAogICAgICAgICAgICAgICAgWzQyLjMxMzg3MzI3MzAwMDA3LCAtNzcuNjYwNjEzMTAzOTk5OTVdLAogICAgICAgICAgICAgICAge30KICAgICAgICAgICAgKS5hZGRUbyhtYXJrZXJfY2x1c3Rlcl9kMjU3MzBiOGRlYWY0ZDdjODJmZGQwYmQ4NDc3MjJjZCk7CiAgICAgICAgCiAgICAKICAgICAgICB2YXIgcG9wdXBfYjZmNDkyZjExZjRhNGY2YWFjZTEyMWJjODcwZTE4MjYgPSBMLnBvcHVwKHsibWF4V2lkdGgiOiAiMTAwJSJ9KTsKCiAgICAgICAgCiAgICAgICAgICAgIHZhciBodG1sXzIzZjA0ZmYxOWRjYjQ4NzdiMDFkYWI4ZmQzNDdmN2QwID0gJChgPGRpdiBpZD0iaHRtbF8yM2YwNGZmMTlkY2I0ODc3YjAxZGFiOGZkMzQ3ZjdkMCIgc3R5bGU9IndpZHRoOiAxMDAuMCU7IGhlaWdodDogMTAwLjAlOyI+U1QuIEpBTUVTIE1FUkNZIEhFQUxUSCBTWVNURU08L2Rpdj5gKVswXTsKICAgICAgICAgICAgcG9wdXBfYjZmNDkyZjExZjRhNGY2YWFjZTEyMWJjODcwZTE4MjYuc2V0Q29udGVudChodG1sXzIzZjA0ZmYxOWRjYjQ4NzdiMDFkYWI4ZmQzNDdmN2QwKTsKICAgICAgICAKCiAgICAgICAgbWFya2VyXzJjYzRlNTNhMTg2MzRjYmNhZTA4MjMyNGE1MDFmNGFiLmJpbmRQb3B1cChwb3B1cF9iNmY0OTJmMTFmNGE0ZjZhYWNlMTIxYmM4NzBlMTgyNikKICAgICAgICA7CgogICAgICAgIAogICAgCiAgICAKICAgICAgICAgICAgdmFyIG1hcmtlcl80M2YxNjY5MTNmNjE0YTQxYWJlMDY0ZjE4YjBlNTA5ZCA9IEwubWFya2VyKAogICAgICAgICAgICAgICAgWzQwLjc4MDA1NzE4ODAwMDA2LCAtNzIuOTc3MTQwNjQ4OTk5OTZdLAogICAgICAgICAgICAgICAge30KICAgICAgICAgICAgKS5hZGRUbyhtYXJrZXJfY2x1c3Rlcl9kMjU3MzBiOGRlYWY0ZDdjODJmZGQwYmQ4NDc3MjJjZCk7CiAgICAgICAgCiAgICAKICAgICAgICB2YXIgcG9wdXBfYzMzOWRlNDkyMThhNDBhM2E4NWE1OWVmZDVmNzZiMzQgPSBMLnBvcHVwKHsibWF4V2lkdGgiOiAiMTAwJSJ9KTsKCiAgICAgICAgCiAgICAgICAgICAgIHZhciBodG1sX2IyMTVhNTk3NGNkZTQ3NDk5NDZkYTZkYmJiOWU5Yjk4ID0gJChgPGRpdiBpZD0iaHRtbF9iMjE1YTU5NzRjZGU0NzQ5OTQ2ZGE2ZGJiYjllOWI5OCIgc3R5bGU9IndpZHRoOiAxMDAuMCU7IGhlaWdodDogMTAwLjAlOyI+QlJPT0tIQVZFTiBNRU1PUklBTCBIT1NQSVRBTCBNRURJQ0FMIENFTlRFUjwvZGl2PmApWzBdOwogICAgICAgICAgICBwb3B1cF9jMzM5ZGU0OTIxOGE0MGEzYTg1YTU5ZWZkNWY3NmIzNC5zZXRDb250ZW50KGh0bWxfYjIxNWE1OTc0Y2RlNDc0OTk0NmRhNmRiYmI5ZTliOTgpOwogICAgICAgIAoKICAgICAgICBtYXJrZXJfNDNmMTY2OTEzZjYxNGE0MWFiZTA2NGYxOGIwZTUwOWQuYmluZFBvcHVwKHBvcHVwX2MzMzlkZTQ5MjE4YTQwYTNhODVhNTllZmQ1Zjc2YjM0KQogICAgICAgIDsKCiAgICAgICAgCiAgICAKICAgIAogICAgICAgICAgICB2YXIgbWFya2VyXzU5YWU0YmVjOThjZjRlMmRiYWE3YmE1OTNhZmY0NTFiID0gTC5tYXJrZXIoCiAgICAgICAgICAgICAgICBbNDAuODg1MDU5NzM1MDAwMDMsIC03Mi4zNzk5NDQwNjM5OTk5N10sCiAgICAgICAgICAgICAgICB7fQogICAgICAgICAgICApLmFkZFRvKG1hcmtlcl9jbHVzdGVyX2QyNTczMGI4ZGVhZjRkN2M4MmZkZDBiZDg0NzcyMmNkKTsKICAgICAgICAKICAgIAogICAgICAgIHZhciBwb3B1cF9iNTljNGYwYTkzMWQ0NjhiODBlMTJlODQ2N2Y3NWUxZSA9IEwucG9wdXAoeyJtYXhXaWR0aCI6ICIxMDAlIn0pOwoKICAgICAgICAKICAgICAgICAgICAgdmFyIGh0bWxfYWU3MTJjODUyYzcwNDUyYmJlOTI2OTg1NWRiMjA5NWYgPSAkKGA8ZGl2IGlkPSJodG1sX2FlNzEyYzg1MmM3MDQ1MmJiZTkyNjk4NTVkYjIwOTVmIiBzdHlsZT0id2lkdGg6IDEwMC4wJTsgaGVpZ2h0OiAxMDAuMCU7Ij5TT1VUSEFNUFRPTiBIT1NQSVRBTDwvZGl2PmApWzBdOwogICAgICAgICAgICBwb3B1cF9iNTljNGYwYTkzMWQ0NjhiODBlMTJlODQ2N2Y3NWUxZS5zZXRDb250ZW50KGh0bWxfYWU3MTJjODUyYzcwNDUyYmJlOTI2OTg1NWRiMjA5NWYpOwogICAgICAgIAoKICAgICAgICBtYXJrZXJfNTlhZTRiZWM5OGNmNGUyZGJhYTdiYTU5M2FmZjQ1MWIuYmluZFBvcHVwKHBvcHVwX2I1OWM0ZjBhOTMxZDQ2OGI4MGUxMmU4NDY3Zjc1ZTFlKQogICAgICAgIDsKCiAgICAgICAgCiAgICAKICAgIAogICAgICAgICAgICB2YXIgbWFya2VyXzk1YzZkMjc3YjEzMTQzMTZiNTAwMzg1ZTFmNDg4ODg1ID0gTC5tYXJrZXIoCiAgICAgICAgICAgICAgICBbNDEuMTEwMzYwNTcwMDAwMDYsIC03Mi4zNjExMjczMTg5OTk5M10sCiAgICAgICAgICAgICAgICB7fQogICAgICAgICAgICApLmFkZFRvKG1hcmtlcl9jbHVzdGVyX2QyNTczMGI4ZGVhZjRkN2M4MmZkZDBiZDg0NzcyMmNkKTsKICAgICAgICAKICAgIAogICAgICAgIHZhciBwb3B1cF9kYjRkYWViZmNlMDY0NjgwYjRmYjM5MTkyMzU5ZGQ5YiA9IEwucG9wdXAoeyJtYXhXaWR0aCI6ICIxMDAlIn0pOwoKICAgICAgICAKICAgICAgICAgICAgdmFyIGh0bWxfMzY5NzZkY2Q3MWRiNDg5OTlhNmI0MDQxOTA1ZDI2YWIgPSAkKGA8ZGl2IGlkPSJodG1sXzM2OTc2ZGNkNzFkYjQ4OTk5YTZiNDA0MTkwNWQyNmFiIiBzdHlsZT0id2lkdGg6IDEwMC4wJTsgaGVpZ2h0OiAxMDAuMCU7Ij5FQVNURVJOIExPTkcgSVNMQU5EIEhPU1BJVEFMPC9kaXY+YClbMF07CiAgICAgICAgICAgIHBvcHVwX2RiNGRhZWJmY2UwNjQ2ODBiNGZiMzkxOTIzNTlkZDliLnNldENvbnRlbnQoaHRtbF8zNjk3NmRjZDcxZGI0ODk5OWE2YjQwNDE5MDVkMjZhYik7CiAgICAgICAgCgogICAgICAgIG1hcmtlcl85NWM2ZDI3N2IxMzE0MzE2YjUwMDM4NWUxZjQ4ODg4NS5iaW5kUG9wdXAocG9wdXBfZGI0ZGFlYmZjZTA2NDY4MGI0ZmIzOTE5MjM1OWRkOWIpCiAgICAgICAgOwoKICAgICAgICAKICAgIAogICAgCiAgICAgICAgICAgIHZhciBtYXJrZXJfMzY1ZTAwYTZmNDc4NDRlZjk4NTdhNDNlOGRlZWZhYzYgPSBMLm1hcmtlcigKICAgICAgICAgICAgICAgIFs0MC44NzkzMjkyNDEwMDAwNCwgLTczLjQxNjE5OTUzMTk5OTk1XSwKICAgICAgICAgICAgICAgIHt9CiAgICAgICAgICAgICkuYWRkVG8obWFya2VyX2NsdXN0ZXJfZDI1NzMwYjhkZWFmNGQ3YzgyZmRkMGJkODQ3NzIyY2QpOwogICAgICAgIAogICAgCiAgICAgICAgdmFyIHBvcHVwX2M3MjM4ZGUwZTkxYzQzMzA5ZjA4ZWViY2I0NDc5ZGNiID0gTC5wb3B1cCh7Im1heFdpZHRoIjogIjEwMCUifSk7CgogICAgICAgIAogICAgICAgICAgICB2YXIgaHRtbF8xYTIwOTE3YTQ1YWI0ZjZkYjk2NDMzY2QwZDdmMjU1NCA9ICQoYDxkaXYgaWQ9Imh0bWxfMWEyMDkxN2E0NWFiNGY2ZGI5NjQzM2NkMGQ3ZjI1NTQiIHN0eWxlPSJ3aWR0aDogMTAwLjAlOyBoZWlnaHQ6IDEwMC4wJTsiPkhVTlRJTkdUT04gSE9TUElUQUw8L2Rpdj5gKVswXTsKICAgICAgICAgICAgcG9wdXBfYzcyMzhkZTBlOTFjNDMzMDlmMDhlZWJjYjQ0NzlkY2Iuc2V0Q29udGVudChodG1sXzFhMjA5MTdhNDVhYjRmNmRiOTY0MzNjZDBkN2YyNTU0KTsKICAgICAgICAKCiAgICAgICAgbWFya2VyXzM2NWUwMGE2ZjQ3ODQ0ZWY5ODU3YTQzZThkZWVmYWM2LmJpbmRQb3B1cChwb3B1cF9jNzIzOGRlMGU5MWM0MzMwOWYwOGVlYmNiNDQ3OWRjYikKICAgICAgICA7CgogICAgICAgIAogICAgCiAgICAKICAgICAgICAgICAgdmFyIG1hcmtlcl83MWY5M2U0MmRkOWY0YmY0YTNiM2FkNTBmZWQ2OGYwZCA9IEwubWFya2VyKAogICAgICAgICAgICAgICAgWzQwLjcyNTk2MDE0ODAwMDA3LCAtNzMuMjQxMTU4NjM3OTk5OTNdLAogICAgICAgICAgICAgICAge30KICAgICAgICAgICAgKS5hZGRUbyhtYXJrZXJfY2x1c3Rlcl9kMjU3MzBiOGRlYWY0ZDdjODJmZGQwYmQ4NDc3MjJjZCk7CiAgICAgICAgCiAgICAKICAgICAgICB2YXIgcG9wdXBfYjlkYWEyMzUzYjZlNGUzZDhlOTQ1NDM2MzZhOTUwNzYgPSBMLnBvcHVwKHsibWF4V2lkdGgiOiAiMTAwJSJ9KTsKCiAgICAgICAgCiAgICAgICAgICAgIHZhciBodG1sXzBjYTkzMGMyMDRjNzRkMzJhNDQ1ZmY4YWRmNjc5NzIxID0gJChgPGRpdiBpZD0iaHRtbF8wY2E5MzBjMjA0Yzc0ZDMyYTQ0NWZmOGFkZjY3OTcyMSIgc3R5bGU9IndpZHRoOiAxMDAuMCU7IGhlaWdodDogMTAwLjAlOyI+U09VVEhTSURFIEhPU1BJVEFMPC9kaXY+YClbMF07CiAgICAgICAgICAgIHBvcHVwX2I5ZGFhMjM1M2I2ZTRlM2Q4ZTk0NTQzNjM2YTk1MDc2LnNldENvbnRlbnQoaHRtbF8wY2E5MzBjMjA0Yzc0ZDMyYTQ0NWZmOGFkZjY3OTcyMSk7CiAgICAgICAgCgogICAgICAgIG1hcmtlcl83MWY5M2U0MmRkOWY0YmY0YTNiM2FkNTBmZWQ2OGYwZC5iaW5kUG9wdXAocG9wdXBfYjlkYWEyMzUzYjZlNGUzZDhlOTQ1NDM2MzZhOTUwNzYpCiAgICAgICAgOwoKICAgICAgICAKICAgIAogICAgCiAgICAgICAgICAgIHZhciBtYXJrZXJfYTVmMmI0Y2UyMjMxNDk0ZGIyYzlhZTM1MDBhOWJlNzkgPSBMLm1hcmtlcigKICAgICAgICAgICAgICAgIFs0MC42OTM4ODAxMjkwMDAwMiwgLTczLjI5NDM5NDYxNTk5OTk2XSwKICAgICAgICAgICAgICAgIHt9CiAgICAgICAgICAgICkuYWRkVG8obWFya2VyX2NsdXN0ZXJfZDI1NzMwYjhkZWFmNGQ3YzgyZmRkMGJkODQ3NzIyY2QpOwogICAgICAgIAogICAgCiAgICAgICAgdmFyIHBvcHVwXzYyMTA0ZDZiOWNlYjQyYTRhNjZkZmQ4MDM1NWNkMjk1ID0gTC5wb3B1cCh7Im1heFdpZHRoIjogIjEwMCUifSk7CgogICAgICAgIAogICAgICAgICAgICB2YXIgaHRtbF82YzUyMjU4MzJjYzE0ZDc4OTM2ZWUyMzcwMDM3ZmNmZSA9ICQoYDxkaXYgaWQ9Imh0bWxfNmM1MjI1ODMyY2MxNGQ3ODkzNmVlMjM3MDAzN2ZjZmUiIHN0eWxlPSJ3aWR0aDogMTAwLjAlOyBoZWlnaHQ6IDEwMC4wJTsiPkdPT0QgU0FNQVJJVEFOIEhPU1BJVEFMIC0gV0VTVCBJU0xJUDwvZGl2PmApWzBdOwogICAgICAgICAgICBwb3B1cF82MjEwNGQ2YjljZWI0MmE0YTY2ZGZkODAzNTVjZDI5NS5zZXRDb250ZW50KGh0bWxfNmM1MjI1ODMyY2MxNGQ3ODkzNmVlMjM3MDAzN2ZjZmUpOwogICAgICAgIAoKICAgICAgICBtYXJrZXJfYTVmMmI0Y2UyMjMxNDk0ZGIyYzlhZTM1MDBhOWJlNzkuYmluZFBvcHVwKHBvcHVwXzYyMTA0ZDZiOWNlYjQyYTRhNjZkZmQ4MDM1NWNkMjk1KQogICAgICAgIDsKCiAgICAgICAgCiAgICAKICAgIAogICAgICAgICAgICB2YXIgbWFya2VyX2Q4MmQzOTllZTMzMDQ0MGFiMmY1ZGIyMjlhOGEwMWM5ID0gTC5tYXJrZXIoCiAgICAgICAgICAgICAgICBbNDEuOTI2NjU4NDA3MDAwMDUsIC03My45OTQ4NDIwNjddLAogICAgICAgICAgICAgICAge30KICAgICAgICAgICAgKS5hZGRUbyhtYXJrZXJfY2x1c3Rlcl9kMjU3MzBiOGRlYWY0ZDdjODJmZGQwYmQ4NDc3MjJjZCk7CiAgICAgICAgCiAgICAKICAgICAgICB2YXIgcG9wdXBfM2ZhN2U3NzM4MDQ5NDE1YWFmNzgzNWNmM2JiYzc5OGMgPSBMLnBvcHVwKHsibWF4V2lkdGgiOiAiMTAwJSJ9KTsKCiAgICAgICAgCiAgICAgICAgICAgIHZhciBodG1sX2Y4MDg0NDgzNDI5OTRmMjE5NGMyNGQwZWVkZThkZTJjID0gJChgPGRpdiBpZD0iaHRtbF9mODA4NDQ4MzQyOTk0ZjIxOTRjMjRkMGVlZGU4ZGUyYyIgc3R5bGU9IndpZHRoOiAxMDAuMCU7IGhlaWdodDogMTAwLjAlOyI+SEVBTFRIQUxMSUFOQ0UgSE9TUElUQUwgLSBCUk9BRFdBWSBDQU1QVVM8L2Rpdj5gKVswXTsKICAgICAgICAgICAgcG9wdXBfM2ZhN2U3NzM4MDQ5NDE1YWFmNzgzNWNmM2JiYzc5OGMuc2V0Q29udGVudChodG1sX2Y4MDg0NDgzNDI5OTRmMjE5NGMyNGQwZWVkZThkZTJjKTsKICAgICAgICAKCiAgICAgICAgbWFya2VyX2Q4MmQzOTllZTMzMDQ0MGFiMmY1ZGIyMjlhOGEwMWM5LmJpbmRQb3B1cChwb3B1cF8zZmE3ZTc3MzgwNDk0MTVhYWY3ODM1Y2YzYmJjNzk4YykKICAgICAgICA7CgogICAgICAgIAogICAgCiAgICAKICAgICAgICAgICAgdmFyIG1hcmtlcl82OGQ4NWEyZmMzM2E0NDgxOWM3MGVkYTFhYTkxOThhMSA9IEwubWFya2VyKAogICAgICAgICAgICAgICAgWzQxLjczMjYyOTc5MjAwMDA4LCAtNzQuMzc5MDM0OTc0OTk5OTddLAogICAgICAgICAgICAgICAge30KICAgICAgICAgICAgKS5hZGRUbyhtYXJrZXJfY2x1c3Rlcl9kMjU3MzBiOGRlYWY0ZDdjODJmZGQwYmQ4NDc3MjJjZCk7CiAgICAgICAgCiAgICAKICAgICAgICB2YXIgcG9wdXBfNTM5YmE3NWQ1ZmVhNDk0NWEyY2ZlNjg2NDI5Nzk2ZTMgPSBMLnBvcHVwKHsibWF4V2lkdGgiOiAiMTAwJSJ9KTsKCiAgICAgICAgCiAgICAgICAgICAgIHZhciBodG1sXzdiMTAzZjkzOWNiMDQ2NTZhMzEzNzQ4M2UxZjJmMTNhID0gJChgPGRpdiBpZD0iaHRtbF83YjEwM2Y5MzljYjA0NjU2YTMxMzc0ODNlMWYyZjEzYSIgc3R5bGU9IndpZHRoOiAxMDAuMCU7IGhlaWdodDogMTAwLjAlOyI+RUxMRU5WSUxMRSBSRUdJT05BTCBIT1NQSVRBTDwvZGl2PmApWzBdOwogICAgICAgICAgICBwb3B1cF81MzliYTc1ZDVmZWE0OTQ1YTJjZmU2ODY0Mjk3OTZlMy5zZXRDb250ZW50KGh0bWxfN2IxMDNmOTM5Y2IwNDY1NmEzMTM3NDgzZTFmMmYxM2EpOwogICAgICAgIAoKICAgICAgICBtYXJrZXJfNjhkODVhMmZjMzNhNDQ4MTljNzBlZGExYWE5MTk4YTEuYmluZFBvcHVwKHBvcHVwXzUzOWJhNzVkNWZlYTQ5NDVhMmNmZTY4NjQyOTc5NmUzKQogICAgICAgIDsKCiAgICAgICAgCiAgICAKICAgIAogICAgICAgICAgICB2YXIgbWFya2VyXzNhZTcwZDgxOTRhNjQyNWJhNWU2YzNhN2RiN2Q0YWJkID0gTC5tYXJrZXIoCiAgICAgICAgICAgICAgICBbNDMuMDYwNDk5Mzc4MDAwMDMsIC03Ny4xMDE2Njk5MTE5OTk5Nl0sCiAgICAgICAgICAgICAgICB7fQogICAgICAgICAgICApLmFkZFRvKG1hcmtlcl9jbHVzdGVyX2QyNTczMGI4ZGVhZjRkN2M4MmZkZDBiZDg0NzcyMmNkKTsKICAgICAgICAKICAgIAogICAgICAgIHZhciBwb3B1cF9mMWJlZDk5YmE0Yjk0ZmFiOGI2OWNhOGVhYzUyM2RiZSA9IEwucG9wdXAoeyJtYXhXaWR0aCI6ICIxMDAlIn0pOwoKICAgICAgICAKICAgICAgICAgICAgdmFyIGh0bWxfNTBjYmQ2ZjY2YWQ0NDA1ZmFjY2Q2ODQxNjI5OTFkYTMgPSAkKGA8ZGl2IGlkPSJodG1sXzUwY2JkNmY2NmFkNDQwNWZhY2NkNjg0MTYyOTkxZGEzIiBzdHlsZT0id2lkdGg6IDEwMC4wJTsgaGVpZ2h0OiAxMDAuMCU7Ij5ORVdBUkstV0FZTkUgQ09NTVVOSVRZIEhPU1BJVEFMPC9kaXY+YClbMF07CiAgICAgICAgICAgIHBvcHVwX2YxYmVkOTliYTRiOTRmYWI4YjY5Y2E4ZWFjNTIzZGJlLnNldENvbnRlbnQoaHRtbF81MGNiZDZmNjZhZDQ0MDVmYWNjZDY4NDE2Mjk5MWRhMyk7CiAgICAgICAgCgogICAgICAgIG1hcmtlcl8zYWU3MGQ4MTk0YTY0MjViYTVlNmMzYTdkYjdkNGFiZC5iaW5kUG9wdXAocG9wdXBfZjFiZWQ5OWJhNGI5NGZhYjhiNjljYThlYWM1MjNkYmUpCiAgICAgICAgOwoKICAgICAgICAKICAgIAogICAgCiAgICAgICAgICAgIHZhciBtYXJrZXJfNTBjYjJkNDQ4MmM1NDE2NTkwYjUxOTczN2RhNjFjMzEgPSBMLm1hcmtlcigKICAgICAgICAgICAgICAgIFs0MS4wMTQzOTIyNDgwMDAwNCwgLTczLjg2MTkxOTY0ODk5OTk3XSwKICAgICAgICAgICAgICAgIHt9CiAgICAgICAgICAgICkuYWRkVG8obWFya2VyX2NsdXN0ZXJfZDI1NzMwYjhkZWFmNGQ3YzgyZmRkMGJkODQ3NzIyY2QpOwogICAgICAgIAogICAgCiAgICAgICAgdmFyIHBvcHVwXzQxNjI5NTAyYzdkZjQ2YzQ4ZDJlOGIwOGE1OGZmZGZmID0gTC5wb3B1cCh7Im1heFdpZHRoIjogIjEwMCUifSk7CgogICAgICAgIAogICAgICAgICAgICB2YXIgaHRtbF8wNTU1MmYwMjdkNjM0NTIxYjdhODQ3NWYzNzU2MWRmYSA9ICQoYDxkaXYgaWQ9Imh0bWxfMDU1NTJmMDI3ZDYzNDUyMWI3YTg0NzVmMzc1NjFkZmEiIHN0eWxlPSJ3aWR0aDogMTAwLjAlOyBoZWlnaHQ6IDEwMC4wJTsiPlNULiBKT0hOJ1MgUklWRVJTSURFIEhPU1BJVEFMIC0gRE9CQlMgRkVSUlk8L2Rpdj5gKVswXTsKICAgICAgICAgICAgcG9wdXBfNDE2Mjk1MDJjN2RmNDZjNDhkMmU4YjA4YTU4ZmZkZmYuc2V0Q29udGVudChodG1sXzA1NTUyZjAyN2Q2MzQ1MjFiN2E4NDc1ZjM3NTYxZGZhKTsKICAgICAgICAKCiAgICAgICAgbWFya2VyXzUwY2IyZDQ0ODJjNTQxNjU5MGI1MTk3MzdkYTYxYzMxLmJpbmRQb3B1cChwb3B1cF80MTYyOTUwMmM3ZGY0NmM0OGQyZThiMDhhNThmZmRmZikKICAgICAgICA7CgogICAgICAgIAogICAgCiAgICAKICAgICAgICAgICAgdmFyIG1hcmtlcl9iODExOGFjY2Q0MzY0MGEzODAzZWFhYmVlYzJjNDI0NSA9IEwubWFya2VyKAogICAgICAgICAgICAgICAgWzQxLjEwOTAwNzA1NTAwMDA1LCAtNzMuODYzMDg3NzYzOTk5OTRdLAogICAgICAgICAgICAgICAge30KICAgICAgICAgICAgKS5hZGRUbyhtYXJrZXJfY2x1c3Rlcl9kMjU3MzBiOGRlYWY0ZDdjODJmZGQwYmQ4NDc3MjJjZCk7CiAgICAgICAgCiAgICAKICAgICAgICB2YXIgcG9wdXBfZjhlNWU3MzI2YzBjNGVkZWJmOTUxOTlhOGQ5NzMyNjAgPSBMLnBvcHVwKHsibWF4V2lkdGgiOiAiMTAwJSJ9KTsKCiAgICAgICAgCiAgICAgICAgICAgIHZhciBodG1sX2EzMmQ1Yjc3OWY1YTRlYjFiOWE5ZDgyZTU3ODgxNTU0ID0gJChgPGRpdiBpZD0iaHRtbF9hMzJkNWI3NzlmNWE0ZWIxYjlhOWQ4MmU1Nzg4MTU1NCIgc3R5bGU9IndpZHRoOiAxMDAuMCU7IGhlaWdodDogMTAwLjAlOyI+UEhFTFBTIE1FTU9SSUFMIEhPU1BJVEFMIENFTlRFUjwvZGl2PmApWzBdOwogICAgICAgICAgICBwb3B1cF9mOGU1ZTczMjZjMGM0ZWRlYmY5NTE5OWE4ZDk3MzI2MC5zZXRDb250ZW50KGh0bWxfYTMyZDViNzc5ZjVhNGViMWI5YTlkODJlNTc4ODE1NTQpOwogICAgICAgIAoKICAgICAgICBtYXJrZXJfYjgxMThhY2NkNDM2NDBhMzgwM2VhYWJlZWMyYzQyNDUuYmluZFBvcHVwKHBvcHVwX2Y4ZTVlNzMyNmMwYzRlZGViZjk1MTk5YThkOTczMjYwKQogICAgICAgIDsKCiAgICAgICAgCiAgICAKICAgIAogICAgICAgICAgICB2YXIgbWFya2VyXzRlNDk2YzI5YzExZTQyN2ZhZWMzNmJkYmZiNjllYmU5ID0gTC5tYXJrZXIoCiAgICAgICAgICAgICAgICBbNDEuMDc0ODQ3NTQxMDAwMDUsIC03My43OTk5NzIyMzY5OTk5Nl0sCiAgICAgICAgICAgICAgICB7fQogICAgICAgICAgICApLmFkZFRvKG1hcmtlcl9jbHVzdGVyX2QyNTczMGI4ZGVhZjRkN2M4MmZkZDBiZDg0NzcyMmNkKTsKICAgICAgICAKICAgIAogICAgICAgIHZhciBwb3B1cF8zYzQzNTk3N2NkMmU0ZjZhYmU3MjNmZGNiOTE4NWNkZiA9IEwucG9wdXAoeyJtYXhXaWR0aCI6ICIxMDAlIn0pOwoKICAgICAgICAKICAgICAgICAgICAgdmFyIGh0bWxfMzk5MmI4ODA1MTY2NDI2NmE4OTM3ZTM2YTRhNDAwZmUgPSAkKGA8ZGl2IGlkPSJodG1sXzM5OTJiODgwNTE2NjQyNjZhODkzN2UzNmE0YTQwMGZlIiBzdHlsZT0id2lkdGg6IDEwMC4wJTsgaGVpZ2h0OiAxMDAuMCU7Ij5CTFlUSEVEQUxFIENISUxEUkVOJ1MgSE9TUElUQUw8L2Rpdj5gKVswXTsKICAgICAgICAgICAgcG9wdXBfM2M0MzU5NzdjZDJlNGY2YWJlNzIzZmRjYjkxODVjZGYuc2V0Q29udGVudChodG1sXzM5OTJiODgwNTE2NjQyNjZhODkzN2UzNmE0YTQwMGZlKTsKICAgICAgICAKCiAgICAgICAgbWFya2VyXzRlNDk2YzI5YzExZTQyN2ZhZWMzNmJkYmZiNjllYmU5LmJpbmRQb3B1cChwb3B1cF8zYzQzNTk3N2NkMmU0ZjZhYmU3MjNmZGNiOTE4NWNkZikKICAgICAgICA7CgogICAgICAgIAogICAgCiAgICAKICAgICAgICAgICAgdmFyIG1hcmtlcl83M2Y1MDE1NTA4YjU0MDU1OWRhYWRjYzU4ODRkNDZjMCA9IEwubWFya2VyKAogICAgICAgICAgICAgICAgWzQxLjA4NjA5MDc1MjAwMDA4LCAtNzMuODA0OTU0Nzc0OTk5OTNdLAogICAgICAgICAgICAgICAge30KICAgICAgICAgICAgKS5hZGRUbyhtYXJrZXJfY2x1c3Rlcl9kMjU3MzBiOGRlYWY0ZDdjODJmZGQwYmQ4NDc3MjJjZCk7CiAgICAgICAgCiAgICAKICAgICAgICB2YXIgcG9wdXBfNTEyY2QxYzNiOWZjNDk3NmIwYTZkMWU0ZDFmODE3MTMgPSBMLnBvcHVwKHsibWF4V2lkdGgiOiAiMTAwJSJ9KTsKCiAgICAgICAgCiAgICAgICAgICAgIHZhciBodG1sXzJlNGYxMjkxZTMwMzQ3OWZiYWJhYTZkOGI0NmViODJhID0gJChgPGRpdiBpZD0iaHRtbF8yZTRmMTI5MWUzMDM0NzlmYmFiYWE2ZDhiNDZlYjgyYSIgc3R5bGU9IndpZHRoOiAxMDAuMCU7IGhlaWdodDogMTAwLjAlOyI+V0VTVENIRVNURVIgTUVESUNBTCBDRU5URVI8L2Rpdj5gKVswXTsKICAgICAgICAgICAgcG9wdXBfNTEyY2QxYzNiOWZjNDk3NmIwYTZkMWU0ZDFmODE3MTMuc2V0Q29udGVudChodG1sXzJlNGYxMjkxZTMwMzQ3OWZiYWJhYTZkOGI0NmViODJhKTsKICAgICAgICAKCiAgICAgICAgbWFya2VyXzczZjUwMTU1MDhiNTQwNTU5ZGFhZGNjNTg4NGQ0NmMwLmJpbmRQb3B1cChwb3B1cF81MTJjZDFjM2I5ZmM0OTc2YjBhNmQxZTRkMWY4MTcxMykKICAgICAgICA7CgogICAgICAgIAogICAgCiAgICAKICAgICAgICAgICAgdmFyIG1hcmtlcl8yOGY0NjBjOWE2MmI0Y2Y0YmYwZmVjNmU2ODkyYWY1NyA9IEwubWFya2VyKAogICAgICAgICAgICAgICAgWzQwLjg1NjI5ODM1NzAwMDA2NCwgLTczLjg0NzUxMjE0Njk5OTk3XSwKICAgICAgICAgICAgICAgIHt9CiAgICAgICAgICAgICkuYWRkVG8obWFya2VyX2NsdXN0ZXJfZDI1NzMwYjhkZWFmNGQ3YzgyZmRkMGJkODQ3NzIyY2QpOwogICAgICAgIAogICAgCiAgICAgICAgdmFyIHBvcHVwX2M2MTg0NTE4ODQ4OTQ0MmQ5M2MwZmYyNzMwODFmZmY0ID0gTC5wb3B1cCh7Im1heFdpZHRoIjogIjEwMCUifSk7CgogICAgICAgIAogICAgICAgICAgICB2YXIgaHRtbF9kNjk5YjM4Y2RjNTE0MmI1OGI0NzU1MTc1N2UyMWFiMyA9ICQoYDxkaXYgaWQ9Imh0bWxfZDY5OWIzOGNkYzUxNDJiNThiNDc1NTE3NTdlMjFhYjMiIHN0eWxlPSJ3aWR0aDogMTAwLjAlOyBoZWlnaHQ6IDEwMC4wJTsiPkpBQ09CSSBNRURJQ0FMIENFTlRFUjwvZGl2PmApWzBdOwogICAgICAgICAgICBwb3B1cF9jNjE4NDUxODg0ODk0NDJkOTNjMGZmMjczMDgxZmZmNC5zZXRDb250ZW50KGh0bWxfZDY5OWIzOGNkYzUxNDJiNThiNDc1NTE3NTdlMjFhYjMpOwogICAgICAgIAoKICAgICAgICBtYXJrZXJfMjhmNDYwYzlhNjJiNGNmNGJmMGZlYzZlNjg5MmFmNTcuYmluZFBvcHVwKHBvcHVwX2M2MTg0NTE4ODQ4OTQ0MmQ5M2MwZmYyNzMwODFmZmY0KQogICAgICAgIDsKCiAgICAgICAgCiAgICAKICAgIAogICAgICAgICAgICB2YXIgbWFya2VyXzljZTQwODY3Y2NkODQxMDk5MGI5NmMzNjMyZjExMjVjID0gTC5tYXJrZXIoCiAgICAgICAgICAgICAgICBbNDAuODgwMDc5MjU2MDAwMDQ1LCAtNzMuODc5ODI2Njk4OTk5OTZdLAogICAgICAgICAgICAgICAge30KICAgICAgICAgICAgKS5hZGRUbyhtYXJrZXJfY2x1c3Rlcl9kMjU3MzBiOGRlYWY0ZDdjODJmZGQwYmQ4NDc3MjJjZCk7CiAgICAgICAgCiAgICAKICAgICAgICB2YXIgcG9wdXBfMWIwZWY3NzUzMDM5NDkzYWEwZmY0OTg0NTdkMWU1ODQgPSBMLnBvcHVwKHsibWF4V2lkdGgiOiAiMTAwJSJ9KTsKCiAgICAgICAgCiAgICAgICAgICAgIHZhciBodG1sXzk3ZjIxOGFiMmI2NzRmNWQ5MmI4MjM4YTI0NmM3YjU2ID0gJChgPGRpdiBpZD0iaHRtbF85N2YyMThhYjJiNjc0ZjVkOTJiODIzOGEyNDZjN2I1NiIgc3R5bGU9IndpZHRoOiAxMDAuMCU7IGhlaWdodDogMTAwLjAlOyI+TU9OVEVGSU9SRSBNRURJQ0FMIENFTlRFUiAtIE1PU0VTIERJVklTSU9OPC9kaXY+YClbMF07CiAgICAgICAgICAgIHBvcHVwXzFiMGVmNzc1MzAzOTQ5M2FhMGZmNDk4NDU3ZDFlNTg0LnNldENvbnRlbnQoaHRtbF85N2YyMThhYjJiNjc0ZjVkOTJiODIzOGEyNDZjN2I1Nik7CiAgICAgICAgCgogICAgICAgIG1hcmtlcl85Y2U0MDg2N2NjZDg0MTA5OTBiOTZjMzYzMmYxMTI1Yy5iaW5kUG9wdXAocG9wdXBfMWIwZWY3NzUzMDM5NDkzYWEwZmY0OTg0NTdkMWU1ODQpCiAgICAgICAgOwoKICAgICAgICAKICAgIAogICAgCiAgICAgICAgICAgIHZhciBtYXJrZXJfMzI4ODgwMDZkMDdjNGNmZGE3YTczMzA4MGY5MDdmZjkgPSBMLm1hcmtlcigKICAgICAgICAgICAgICAgIFs0MC44ODAzNjU2MDEwMDAwNDQsIC03My44ODEwNTcxMDU5OTk5Nl0sCiAgICAgICAgICAgICAgICB7fQogICAgICAgICAgICApLmFkZFRvKG1hcmtlcl9jbHVzdGVyX2QyNTczMGI4ZGVhZjRkN2M4MmZkZDBiZDg0NzcyMmNkKTsKICAgICAgICAKICAgIAogICAgICAgIHZhciBwb3B1cF80YzRmMWM5YmY0MmU0MmZjYmJhYzg4YTFhNzI1OTI3MiA9IEwucG9wdXAoeyJtYXhXaWR0aCI6ICIxMDAlIn0pOwoKICAgICAgICAKICAgICAgICAgICAgdmFyIGh0bWxfOWZjYjMzMGFmYzI2NDRiYThiYWI3YmQ4YzViZDllYTcgPSAkKGA8ZGl2IGlkPSJodG1sXzlmY2IzMzBhZmMyNjQ0YmE4YmFiN2JkOGM1YmQ5ZWE3IiBzdHlsZT0id2lkdGg6IDEwMC4wJTsgaGVpZ2h0OiAxMDAuMCU7Ij5OT1JUSCBDRU5UUkFMIEJST05YIEhPU1BJVEFMPC9kaXY+YClbMF07CiAgICAgICAgICAgIHBvcHVwXzRjNGYxYzliZjQyZTQyZmNiYmFjODhhMWE3MjU5MjcyLnNldENvbnRlbnQoaHRtbF85ZmNiMzMwYWZjMjY0NGJhOGJhYjdiZDhjNWJkOWVhNyk7CiAgICAgICAgCgogICAgICAgIG1hcmtlcl8zMjg4ODAwNmQwN2M0Y2ZkYTdhNzMzMDgwZjkwN2ZmOS5iaW5kUG9wdXAocG9wdXBfNGM0ZjFjOWJmNDJlNDJmY2JiYWM4OGExYTcyNTkyNzIpCiAgICAgICAgOwoKICAgICAgICAKICAgIAogICAgCiAgICAgICAgICAgIHZhciBtYXJrZXJfMDA0YjI4NDFhODg0NGYxYWI2YjFlMzBmOTcyOTFjYzQgPSBMLm1hcmtlcigKICAgICAgICAgICAgICAgIFs0MC42NTUyNjkxMDIwMDAwMzQsIC03My45MTI1NTY1MzE5OTk5NF0sCiAgICAgICAgICAgICAgICB7fQogICAgICAgICAgICApLmFkZFRvKG1hcmtlcl9jbHVzdGVyX2QyNTczMGI4ZGVhZjRkN2M4MmZkZDBiZDg0NzcyMmNkKTsKICAgICAgICAKICAgIAogICAgICAgIHZhciBwb3B1cF9jMTk4M2I3NjJiYWM0ZWMxYWRmZjcxYzgyNjcyNWNlNiA9IEwucG9wdXAoeyJtYXhXaWR0aCI6ICIxMDAlIn0pOwoKICAgICAgICAKICAgICAgICAgICAgdmFyIGh0bWxfMDExMjIwN2IyZmM3NDA2MWE4MDFhNmI2YmRhMTI2ODYgPSAkKGA8ZGl2IGlkPSJodG1sXzAxMTIyMDdiMmZjNzQwNjFhODAxYTZiNmJkYTEyNjg2IiBzdHlsZT0id2lkdGg6IDEwMC4wJTsgaGVpZ2h0OiAxMDAuMCU7Ij5CUk9PS0RBTEUgSE9TUElUQUwgTUVESUNBTCBDRU5URVI8L2Rpdj5gKVswXTsKICAgICAgICAgICAgcG9wdXBfYzE5ODNiNzYyYmFjNGVjMWFkZmY3MWM4MjY3MjVjZTYuc2V0Q29udGVudChodG1sXzAxMTIyMDdiMmZjNzQwNjFhODAxYTZiNmJkYTEyNjg2KTsKICAgICAgICAKCiAgICAgICAgbWFya2VyXzAwNGIyODQxYTg4NDRmMWFiNmIxZTMwZjk3MjkxY2M0LmJpbmRQb3B1cChwb3B1cF9jMTk4M2I3NjJiYWM0ZWMxYWRmZjcxYzgyNjcyNWNlNikKICAgICAgICA7CgogICAgICAgIAogICAgCiAgICAKICAgICAgICAgICAgdmFyIG1hcmtlcl8yNGM0Y2UyMTFhYjc0MzdiOGY5NDQ1MzI1ZjAwNmExYyA9IEwubWFya2VyKAogICAgICAgICAgICAgICAgWzQwLjY5MDU3MjUwODAwMDA1LCAtNzMuOTc3ODgzNzY0OTk5OTNdLAogICAgICAgICAgICAgICAge30KICAgICAgICAgICAgKS5hZGRUbyhtYXJrZXJfY2x1c3Rlcl9kMjU3MzBiOGRlYWY0ZDdjODJmZGQwYmQ4NDc3MjJjZCk7CiAgICAgICAgCiAgICAKICAgICAgICB2YXIgcG9wdXBfYWVkNzQyYWUwNmFkNDdiMTljOGY0ZWRjMzQ3OWVhNzkgPSBMLnBvcHVwKHsibWF4V2lkdGgiOiAiMTAwJSJ9KTsKCiAgICAgICAgCiAgICAgICAgICAgIHZhciBodG1sXzVmNGQwODRlZTJiYjRlMmY4NzhmZjI4MTAxMDFiODQxID0gJChgPGRpdiBpZD0iaHRtbF81ZjRkMDg0ZWUyYmI0ZTJmODc4ZmYyODEwMTAxYjg0MSIgc3R5bGU9IndpZHRoOiAxMDAuMCU7IGhlaWdodDogMTAwLjAlOyI+QlJPT0tMWU4gSE9TUElUQUwgQ0VOVEVSPC9kaXY+YClbMF07CiAgICAgICAgICAgIHBvcHVwX2FlZDc0MmFlMDZhZDQ3YjE5YzhmNGVkYzM0NzllYTc5LnNldENvbnRlbnQoaHRtbF81ZjRkMDg0ZWUyYmI0ZTJmODc4ZmYyODEwMTAxYjg0MSk7CiAgICAgICAgCgogICAgICAgIG1hcmtlcl8yNGM0Y2UyMTFhYjc0MzdiOGY5NDQ1MzI1ZjAwNmExYy5iaW5kUG9wdXAocG9wdXBfYWVkNzQyYWUwNmFkNDdiMTljOGY0ZWRjMzQ3OWVhNzkpCiAgICAgICAgOwoKICAgICAgICAKICAgIAogICAgCiAgICAgICAgICAgIHZhciBtYXJrZXJfMjZlODliYzgwMTNmNGVkZmEyYzFiMTE2ODgxNWRlYzYgPSBMLm1hcmtlcigKICAgICAgICAgICAgICAgIFs0MC44NDA3NDMxMTEwMDAwNDUsIC03My44NDg1MTc1MzA5OTk5N10sCiAgICAgICAgICAgICAgICB7fQogICAgICAgICAgICApLmFkZFRvKG1hcmtlcl9jbHVzdGVyX2QyNTczMGI4ZGVhZjRkN2M4MmZkZDBiZDg0NzcyMmNkKTsKICAgICAgICAKICAgIAogICAgICAgIHZhciBwb3B1cF9lYjY4Y2ZlM2QzYmI0YWFmYjQwOWRkODUzNjJhNzE4ZSA9IEwucG9wdXAoeyJtYXhXaWR0aCI6ICIxMDAlIn0pOwoKICAgICAgICAKICAgICAgICAgICAgdmFyIGh0bWxfYTQzMTVmMTJlMjJlNGE2YThmN2U2N2M3MWJkMzBhMTEgPSAkKGA8ZGl2IGlkPSJodG1sX2E0MzE1ZjEyZTIyZTRhNmE4ZjdlNjdjNzFiZDMwYTExIiBzdHlsZT0id2lkdGg6IDEwMC4wJTsgaGVpZ2h0OiAxMDAuMCU7Ij5NT05URUZJT1JFIFdFU1RDSEVTVEVSIFNRVUFSRSBNRURJQ0FMIENFTlRFUjwvZGl2PmApWzBdOwogICAgICAgICAgICBwb3B1cF9lYjY4Y2ZlM2QzYmI0YWFmYjQwOWRkODUzNjJhNzE4ZS5zZXRDb250ZW50KGh0bWxfYTQzMTVmMTJlMjJlNGE2YThmN2U2N2M3MWJkMzBhMTEpOwogICAgICAgIAoKICAgICAgICBtYXJrZXJfMjZlODliYzgwMTNmNGVkZmEyYzFiMTE2ODgxNWRlYzYuYmluZFBvcHVwKHBvcHVwX2ViNjhjZmUzZDNiYjRhYWZiNDA5ZGQ4NTM2MmE3MThlKQogICAgICAgIDsKCiAgICAgICAgCiAgICAKICAgIAogICAgICAgICAgICB2YXIgbWFya2VyX2EyM2NmZGI5OWEyOTRmOGJhZDhiNWM1OGFkNzI3ZTUyID0gTC5tYXJrZXIoCiAgICAgICAgICAgICAgICBbNDAuNjU2NjE2MzgxMDAwMDUsIC03My45NDQ2OTA3ODk5OTk5OF0sCiAgICAgICAgICAgICAgICB7fQogICAgICAgICAgICApLmFkZFRvKG1hcmtlcl9jbHVzdGVyX2QyNTczMGI4ZGVhZjRkN2M4MmZkZDBiZDg0NzcyMmNkKTsKICAgICAgICAKICAgIAogICAgICAgIHZhciBwb3B1cF8xYTEyYTE2ZWNjNjE0MjAwYTI5MWM4MmY2OTI2ZjFhMCA9IEwucG9wdXAoeyJtYXhXaWR0aCI6ICIxMDAlIn0pOwoKICAgICAgICAKICAgICAgICAgICAgdmFyIGh0bWxfNTgzYjhkZGIxM2ZiNDEzY2JjOGM1Nzk4MGEwNjIwMzMgPSAkKGA8ZGl2IGlkPSJodG1sXzU4M2I4ZGRiMTNmYjQxM2NiYzhjNTc5ODBhMDYyMDMzIiBzdHlsZT0id2lkdGg6IDEwMC4wJTsgaGVpZ2h0OiAxMDAuMCU7Ij5LSU5HUyBDT1VOVFkgSE9TUElUQUwgQ0VOVEVSPC9kaXY+YClbMF07CiAgICAgICAgICAgIHBvcHVwXzFhMTJhMTZlY2M2MTQyMDBhMjkxYzgyZjY5MjZmMWEwLnNldENvbnRlbnQoaHRtbF81ODNiOGRkYjEzZmI0MTNjYmM4YzU3OTgwYTA2MjAzMyk7CiAgICAgICAgCgogICAgICAgIG1hcmtlcl9hMjNjZmRiOTlhMjk0ZjhiYWQ4YjVjNThhZDcyN2U1Mi5iaW5kUG9wdXAocG9wdXBfMWExMmExNmVjYzYxNDIwMGEyOTFjODJmNjkyNmYxYTApCiAgICAgICAgOwoKICAgICAgICAKICAgIAogICAgCiAgICAgICAgICAgIHZhciBtYXJrZXJfNWEzODg0M2Y4ZDdmNDI4MTk0YjUyOTE5ZWU2NTdkNzkgPSBMLm1hcmtlcigKICAgICAgICAgICAgICAgIFs0MC41ODU0MTQzODEwMDAwNywgLTczLjk2NTMzMjQzMzk5OTkzXSwKICAgICAgICAgICAgICAgIHt9CiAgICAgICAgICAgICkuYWRkVG8obWFya2VyX2NsdXN0ZXJfZDI1NzMwYjhkZWFmNGQ3YzgyZmRkMGJkODQ3NzIyY2QpOwogICAgICAgIAogICAgCiAgICAgICAgdmFyIHBvcHVwXzNkYTU4ZmM5YTJhZDQwYzdiNGRkMDRhMGU4Mjc4OGE5ID0gTC5wb3B1cCh7Im1heFdpZHRoIjogIjEwMCUifSk7CgogICAgICAgIAogICAgICAgICAgICB2YXIgaHRtbF9iODg0MWM1MDFlMTQ0MTY5YjQ2NmZiZDRhYTMyY2I2ZSA9ICQoYDxkaXYgaWQ9Imh0bWxfYjg4NDFjNTAxZTE0NDE2OWI0NjZmYmQ0YWEzMmNiNmUiIHN0eWxlPSJ3aWR0aDogMTAwLjAlOyBoZWlnaHQ6IDEwMC4wJTsiPkNPTkVZIElTTEFORCBIT1NQSVRBTDwvZGl2PmApWzBdOwogICAgICAgICAgICBwb3B1cF8zZGE1OGZjOWEyYWQ0MGM3YjRkZDA0YTBlODI3ODhhOS5zZXRDb250ZW50KGh0bWxfYjg4NDFjNTAxZTE0NDE2OWI0NjZmYmQ0YWEzMmNiNmUpOwogICAgICAgIAoKICAgICAgICBtYXJrZXJfNWEzODg0M2Y4ZDdmNDI4MTk0YjUyOTE5ZWU2NTdkNzkuYmluZFBvcHVwKHBvcHVwXzNkYTU4ZmM5YTJhZDQwYzdiNGRkMDRhMGU4Mjc4OGE5KQogICAgICAgIDsKCiAgICAgICAgCiAgICAKICAgIAogICAgICAgICAgICB2YXIgbWFya2VyXzdjZWZjMWFhMmM2YTQyZGViYTQ3ZWQ0N2ZhNmI5NjMxID0gTC5tYXJrZXIoCiAgICAgICAgICAgICAgICBbNDAuNjkwNTk1MjY4MDAwMDMsIC03My45OTc4Nzc1NTg5OTk5NV0sCiAgICAgICAgICAgICAgICB7fQogICAgICAgICAgICApLmFkZFRvKG1hcmtlcl9jbHVzdGVyX2QyNTczMGI4ZGVhZjRkN2M4MmZkZDBiZDg0NzcyMmNkKTsKICAgICAgICAKICAgIAogICAgICAgIHZhciBwb3B1cF9hY2M0YjA5YzZkZDc0YzlkYTY5NjM5MGZhZDA2OWRlYyA9IEwucG9wdXAoeyJtYXhXaWR0aCI6ICIxMDAlIn0pOwoKICAgICAgICAKICAgICAgICAgICAgdmFyIGh0bWxfODBkNTM0N2Y3YjY5NGJhZmE2ZDAzODc4MDc3MmY2NTggPSAkKGA8ZGl2IGlkPSJodG1sXzgwZDUzNDdmN2I2OTRiYWZhNmQwMzg3ODA3NzJmNjU4IiBzdHlsZT0id2lkdGg6IDEwMC4wJTsgaGVpZ2h0OiAxMDAuMCU7Ij5MT05HIElTTEFORCBDT0xMRUdFIEhPU1BJVEFMPC9kaXY+YClbMF07CiAgICAgICAgICAgIHBvcHVwX2FjYzRiMDljNmRkNzRjOWRhNjk2MzkwZmFkMDY5ZGVjLnNldENvbnRlbnQoaHRtbF84MGQ1MzQ3ZjdiNjk0YmFmYTZkMDM4NzgwNzcyZjY1OCk7CiAgICAgICAgCgogICAgICAgIG1hcmtlcl83Y2VmYzFhYTJjNmE0MmRlYmE0N2VkNDdmYTZiOTYzMS5iaW5kUG9wdXAocG9wdXBfYWNjNGIwOWM2ZGQ3NGM5ZGE2OTYzOTBmYWQwNjlkZWMpCiAgICAgICAgOwoKICAgICAgICAKICAgIAogICAgCiAgICAgICAgICAgIHZhciBtYXJrZXJfNWY2ZmQyOWQ2ZGQ5NDAxODkxOGE1OTkxYWViY2ZjMDkgPSBMLm1hcmtlcigKICAgICAgICAgICAgICAgIFs0MC42NDY1NjM5OTQwMDAwNzYsIC03NC4wMjA5MTQ2OTE5OTk5Nl0sCiAgICAgICAgICAgICAgICB7fQogICAgICAgICAgICApLmFkZFRvKG1hcmtlcl9jbHVzdGVyX2QyNTczMGI4ZGVhZjRkN2M4MmZkZDBiZDg0NzcyMmNkKTsKICAgICAgICAKICAgIAogICAgICAgIHZhciBwb3B1cF8wNzNkZGI1OTk3MmE0YTZhYWI4ODA3MGFhOGVlNjhiMiA9IEwucG9wdXAoeyJtYXhXaWR0aCI6ICIxMDAlIn0pOwoKICAgICAgICAKICAgICAgICAgICAgdmFyIGh0bWxfMmExOGMwMDMyN2UwNGVjNGIyMTRiYTRiMzY4Yjg4YmUgPSAkKGA8ZGl2IGlkPSJodG1sXzJhMThjMDAzMjdlMDRlYzRiMjE0YmE0YjM2OGI4OGJlIiBzdHlsZT0id2lkdGg6IDEwMC4wJTsgaGVpZ2h0OiAxMDAuMCU7Ij5OWVUgTFVUSEVSQU4gTUVESUNBTCBDRU5URVI8L2Rpdj5gKVswXTsKICAgICAgICAgICAgcG9wdXBfMDczZGRiNTk5NzJhNGE2YWFiODgwNzBhYThlZTY4YjIuc2V0Q29udGVudChodG1sXzJhMThjMDAzMjdlMDRlYzRiMjE0YmE0YjM2OGI4OGJlKTsKICAgICAgICAKCiAgICAgICAgbWFya2VyXzVmNmZkMjlkNmRkOTQwMTg5MThhNTk5MWFlYmNmYzA5LmJpbmRQb3B1cChwb3B1cF8wNzNkZGI1OTk3MmE0YTZhYWI4ODA3MGFhOGVlNjhiMikKICAgICAgICA7CgogICAgICAgIAogICAgCiAgICAKICAgICAgICAgICAgdmFyIG1hcmtlcl8zNGRhODBiZjA3Y2Q0ZmE0ODBhYTk5NWI2MGNmNWQxZCA9IEwubWFya2VyKAogICAgICAgICAgICAgICAgWzQwLjY2Nzc2MTcwMTAwMDA4LCAtNzMuOTc4OTkwNTIwOTk5OTZdLAogICAgICAgICAgICAgICAge30KICAgICAgICAgICAgKS5hZGRUbyhtYXJrZXJfY2x1c3Rlcl9kMjU3MzBiOGRlYWY0ZDdjODJmZGQwYmQ4NDc3MjJjZCk7CiAgICAgICAgCiAgICAKICAgICAgICB2YXIgcG9wdXBfNGM4ZGJmNDRiNTRiNDhmYmIwMmZlMDk4YjIwZDZhMDEgPSBMLnBvcHVwKHsibWF4V2lkdGgiOiAiMTAwJSJ9KTsKCiAgICAgICAgCiAgICAgICAgICAgIHZhciBodG1sXzkzOTgwNTQ0MjE0NjRiZWJiMjZlMmM3MzljNjE2ZWIyID0gJChgPGRpdiBpZD0iaHRtbF85Mzk4MDU0NDIxNDY0YmViYjI2ZTJjNzM5YzYxNmViMiIgc3R5bGU9IndpZHRoOiAxMDAuMCU7IGhlaWdodDogMTAwLjAlOyI+TkVXIFlPUksgTUVUSE9ESVNUIEhPU1BJVEFMPC9kaXY+YClbMF07CiAgICAgICAgICAgIHBvcHVwXzRjOGRiZjQ0YjU0YjQ4ZmJiMDJmZTA5OGIyMGQ2YTAxLnNldENvbnRlbnQoaHRtbF85Mzk4MDU0NDIxNDY0YmViYjI2ZTJjNzM5YzYxNmViMik7CiAgICAgICAgCgogICAgICAgIG1hcmtlcl8zNGRhODBiZjA3Y2Q0ZmE0ODBhYTk5NWI2MGNmNWQxZC5iaW5kUG9wdXAocG9wdXBfNGM4ZGJmNDRiNTRiNDhmYmIwMmZlMDk4YjIwZDZhMDEpCiAgICAgICAgOwoKICAgICAgICAKICAgIAogICAgCiAgICAgICAgICAgIHZhciBtYXJrZXJfYWIyYzkzMzYyMjA5NDYwNTgyYmFhZmE3YWIwNDk2MWMgPSBMLm1hcmtlcigKICAgICAgICAgICAgICAgIFs0MC43MzQ0MzE2ODcwMDAwMywgLTczLjk4Mjk5OTk2MTk5OTk1XSwKICAgICAgICAgICAgICAgIHt9CiAgICAgICAgICAgICkuYWRkVG8obWFya2VyX2NsdXN0ZXJfZDI1NzMwYjhkZWFmNGQ3YzgyZmRkMGJkODQ3NzIyY2QpOwogICAgICAgIAogICAgCiAgICAgICAgdmFyIHBvcHVwXzViZmY0OTNmY2I4ZDRlOTRhZWJkNDY5NmUwNDBlNjJlID0gTC5wb3B1cCh7Im1heFdpZHRoIjogIjEwMCUifSk7CgogICAgICAgIAogICAgICAgICAgICB2YXIgaHRtbF80MmM2YzU1NDVmZmY0YWQ5OWQyYTM0ZDgxZGY3NDQ1MiA9ICQoYDxkaXYgaWQ9Imh0bWxfNDJjNmM1NTQ1ZmZmNGFkOTlkMmEzNGQ4MWRmNzQ0NTIiIHN0eWxlPSJ3aWR0aDogMTAwLjAlOyBoZWlnaHQ6IDEwMC4wJTsiPk5ZVSBIT1NQSVRBTCBGT1IgSk9JTlQgRElTRUFTRVM8L2Rpdj5gKVswXTsKICAgICAgICAgICAgcG9wdXBfNWJmZjQ5M2ZjYjhkNGU5NGFlYmQ0Njk2ZTA0MGU2MmUuc2V0Q29udGVudChodG1sXzQyYzZjNTU0NWZmZjRhZDk5ZDJhMzRkODFkZjc0NDUyKTsKICAgICAgICAKCiAgICAgICAgbWFya2VyX2FiMmM5MzM2MjIwOTQ2MDU4MmJhYWZhN2FiMDQ5NjFjLmJpbmRQb3B1cChwb3B1cF81YmZmNDkzZmNiOGQ0ZTk0YWViZDQ2OTZlMDQwZTYyZSkKICAgICAgICA7CgogICAgICAgIAogICAgCiAgICAKICAgICAgICAgICAgdmFyIG1hcmtlcl9kODRlMTBjMTc3Zjk0NmY5YTM3ZDAyY2VjNzNhYzcxYiA9IEwubWFya2VyKAogICAgICAgICAgICAgICAgWzQwLjgzOTc2MzI1OTAwMDA1LCAtNzMuOTQxMjgyNTc3XSwKICAgICAgICAgICAgICAgIHt9CiAgICAgICAgICAgICkuYWRkVG8obWFya2VyX2NsdXN0ZXJfZDI1NzMwYjhkZWFmNGQ3YzgyZmRkMGJkODQ3NzIyY2QpOwogICAgICAgIAogICAgCiAgICAgICAgdmFyIHBvcHVwXzc1ZjYyNDQyMDk0MDQzZWE4NmY5Mzk3NmI3YjhkM2M5ID0gTC5wb3B1cCh7Im1heFdpZHRoIjogIjEwMCUifSk7CgogICAgICAgIAogICAgICAgICAgICB2YXIgaHRtbF84ZmExYWI2YzI1ZTY0ZDlmYTc2MmYwNDBkMzQyMjNmNyA9ICQoYDxkaXYgaWQ9Imh0bWxfOGZhMWFiNmMyNWU2NGQ5ZmE3NjJmMDQwZDM0MjIzZjciIHN0eWxlPSJ3aWR0aDogMTAwLjAlOyBoZWlnaHQ6IDEwMC4wJTsiPk5FVyBZT1JLIFBSRVNCWVRFUklBTiBNT1JHQU4gU1RBTkxFWSBDSElMRFJFTidTIEhPU1BJVEFMPC9kaXY+YClbMF07CiAgICAgICAgICAgIHBvcHVwXzc1ZjYyNDQyMDk0MDQzZWE4NmY5Mzk3NmI3YjhkM2M5LnNldENvbnRlbnQoaHRtbF84ZmExYWI2YzI1ZTY0ZDlmYTc2MmYwNDBkMzQyMjNmNyk7CiAgICAgICAgCgogICAgICAgIG1hcmtlcl9kODRlMTBjMTc3Zjk0NmY5YTM3ZDAyY2VjNzNhYzcxYi5iaW5kUG9wdXAocG9wdXBfNzVmNjI0NDIwOTQwNDNlYTg2ZjkzOTc2YjdiOGQzYzkpCiAgICAgICAgOwoKICAgICAgICAKICAgIAogICAgCiAgICAgICAgICAgIHZhciBtYXJrZXJfYmM0ZWEwOTk5Y2ZmNGE3YTkzNmIwNDAwNWYwN2NkNzkgPSBMLm1hcmtlcigKICAgICAgICAgICAgICAgIFs0MC43Njk0MTIxMzAwMDAwMzUsIC03My45ODY4MDgzOTQ5OTk5OF0sCiAgICAgICAgICAgICAgICB7fQogICAgICAgICAgICApLmFkZFRvKG1hcmtlcl9jbHVzdGVyX2QyNTczMGI4ZGVhZjRkN2M4MmZkZDBiZDg0NzcyMmNkKTsKICAgICAgICAKICAgIAogICAgICAgIHZhciBwb3B1cF83NTcwNDI1NjMxODU0NmIwYTk5ODY3ZmNkZTQyYmY2MiA9IEwucG9wdXAoeyJtYXhXaWR0aCI6ICIxMDAlIn0pOwoKICAgICAgICAKICAgICAgICAgICAgdmFyIGh0bWxfNTM5YTUwNmMzNDM4NDFiNzk5YWU4NzNmZTVkZDZlNTIgPSAkKGA8ZGl2IGlkPSJodG1sXzUzOWE1MDZjMzQzODQxYjc5OWFlODczZmU1ZGQ2ZTUyIiBzdHlsZT0id2lkdGg6IDEwMC4wJTsgaGVpZ2h0OiAxMDAuMCU7Ij5USEUgQURESUNUSU9OIElOU1RJVFVURSBPRiBORVcgWU9SSzwvZGl2PmApWzBdOwogICAgICAgICAgICBwb3B1cF83NTcwNDI1NjMxODU0NmIwYTk5ODY3ZmNkZTQyYmY2Mi5zZXRDb250ZW50KGh0bWxfNTM5YTUwNmMzNDM4NDFiNzk5YWU4NzNmZTVkZDZlNTIpOwogICAgICAgIAoKICAgICAgICBtYXJrZXJfYmM0ZWEwOTk5Y2ZmNGE3YTkzNmIwNDAwNWYwN2NkNzkuYmluZFBvcHVwKHBvcHVwXzc1NzA0MjU2MzE4NTQ2YjBhOTk4NjdmY2RlNDJiZjYyKQogICAgICAgIDsKCiAgICAgICAgCiAgICAKICAgIAogICAgICAgICAgICB2YXIgbWFya2VyX2M4ZjBlM2U0NDk0NTQwOTc5MzQ4OTkyZDIxNjQxOGIyID0gTC5tYXJrZXIoCiAgICAgICAgICAgICAgICBbNDAuNzQ0ODI3MzYzMDAwMDU2LCAtNzMuODg2MDc5NjY0OTk5OTVdLAogICAgICAgICAgICAgICAge30KICAgICAgICAgICAgKS5hZGRUbyhtYXJrZXJfY2x1c3Rlcl9kMjU3MzBiOGRlYWY0ZDdjODJmZGQwYmQ4NDc3MjJjZCk7CiAgICAgICAgCiAgICAKICAgICAgICB2YXIgcG9wdXBfNGE1NDJkNDM2MDQ4NGU2NzljZWYzODMzYjQxOTYxNjAgPSBMLnBvcHVwKHsibWF4V2lkdGgiOiAiMTAwJSJ9KTsKCiAgICAgICAgCiAgICAgICAgICAgIHZhciBodG1sXzMxZDk5Y2Y4ZjMyNzRlMjE5YTk3Y2EwMDA5YzhkZjI3ID0gJChgPGRpdiBpZD0iaHRtbF8zMWQ5OWNmOGYzMjc0ZTIxOWE5N2NhMDAwOWM4ZGYyNyIgc3R5bGU9IndpZHRoOiAxMDAuMCU7IGhlaWdodDogMTAwLjAlOyI+RUxNSFVSU1QgSE9TUElUQUwgQ0VOVEVSPC9kaXY+YClbMF07CiAgICAgICAgICAgIHBvcHVwXzRhNTQyZDQzNjA0ODRlNjc5Y2VmMzgzM2I0MTk2MTYwLnNldENvbnRlbnQoaHRtbF8zMWQ5OWNmOGYzMjc0ZTIxOWE5N2NhMDAwOWM4ZGYyNyk7CiAgICAgICAgCgogICAgICAgIG1hcmtlcl9jOGYwZTNlNDQ5NDU0MDk3OTM0ODk5MmQyMTY0MThiMi5iaW5kUG9wdXAocG9wdXBfNGE1NDJkNDM2MDQ4NGU2NzljZWYzODMzYjQxOTYxNjApCiAgICAgICAgOwoKICAgICAgICAKICAgIAogICAgCiAgICAgICAgICAgIHZhciBtYXJrZXJfMTQ3MmE1N2IwYjU0NDQ4NThkYjIyN2M2MGVhOTFkMDcgPSBMLm1hcmtlcigKICAgICAgICAgICAgICAgIFs0MC43MDAxMDM2NDcwMDAwNSwgLTczLjgxNjExNDg5MTk5OTk3XSwKICAgICAgICAgICAgICAgIHt9CiAgICAgICAgICAgICkuYWRkVG8obWFya2VyX2NsdXN0ZXJfZDI1NzMwYjhkZWFmNGQ3YzgyZmRkMGJkODQ3NzIyY2QpOwogICAgICAgIAogICAgCiAgICAgICAgdmFyIHBvcHVwX2Q1MzRiZTNlZmYyZjQ2MjM5NDk2ZTFkNzY5ZjI2ZjVhID0gTC5wb3B1cCh7Im1heFdpZHRoIjogIjEwMCUifSk7CgogICAgICAgIAogICAgICAgICAgICB2YXIgaHRtbF9iMDg2ZDE3MDM2Y2U0MjVmYWUwMDBiNjkxY2YzOTYzNSA9ICQoYDxkaXYgaWQ9Imh0bWxfYjA4NmQxNzAzNmNlNDI1ZmFlMDAwYjY5MWNmMzk2MzUiIHN0eWxlPSJ3aWR0aDogMTAwLjAlOyBoZWlnaHQ6IDEwMC4wJTsiPkpBTUFJQ0EgSE9TUElUQUwgTUVESUNBTCBDRU5URVI8L2Rpdj5gKVswXTsKICAgICAgICAgICAgcG9wdXBfZDUzNGJlM2VmZjJmNDYyMzk0OTZlMWQ3NjlmMjZmNWEuc2V0Q29udGVudChodG1sX2IwODZkMTcwMzZjZTQyNWZhZTAwMGI2OTFjZjM5NjM1KTsKICAgICAgICAKCiAgICAgICAgbWFya2VyXzE0NzJhNTdiMGI1NDQ0ODU4ZGIyMjdjNjBlYTkxZDA3LmJpbmRQb3B1cChwb3B1cF9kNTM0YmUzZWZmMmY0NjIzOTQ5NmUxZDc2OWYyNmY1YSkKICAgICAgICA7CgogICAgICAgIAogICAgCiAgICAKICAgICAgICAgICAgdmFyIG1hcmtlcl9lYjkyYjI3ZDIzNDc0YTI2YmRlNDZlYmYxN2U3YWYyMiA9IEwubWFya2VyKAogICAgICAgICAgICAgICAgWzQwLjc0Njc3MjI3NjAwMDA2LCAtNzMuODI1NDE2MzgyOTk5OTNdLAogICAgICAgICAgICAgICAge30KICAgICAgICAgICAgKS5hZGRUbyhtYXJrZXJfY2x1c3Rlcl9kMjU3MzBiOGRlYWY0ZDdjODJmZGQwYmQ4NDc3MjJjZCk7CiAgICAgICAgCiAgICAKICAgICAgICB2YXIgcG9wdXBfZTEyNGU1MjU0OWU2NDdlYzlhNWYzN2QzOWQzNTQ1YzkgPSBMLnBvcHVwKHsibWF4V2lkdGgiOiAiMTAwJSJ9KTsKCiAgICAgICAgCiAgICAgICAgICAgIHZhciBodG1sXzViMmI4Y2ZkN2RmMzQ2NWFiNjJhMWU4OGU2MzczMTgzID0gJChgPGRpdiBpZD0iaHRtbF81YjJiOGNmZDdkZjM0NjVhYjYyYTFlODhlNjM3MzE4MyIgc3R5bGU9IndpZHRoOiAxMDAuMCU7IGhlaWdodDogMTAwLjAlOyI+TkVXIFlPUksgSE9TUElUQUwgUVVFRU5TPC9kaXY+YClbMF07CiAgICAgICAgICAgIHBvcHVwX2UxMjRlNTI1NDllNjQ3ZWM5YTVmMzdkMzlkMzU0NWM5LnNldENvbnRlbnQoaHRtbF81YjJiOGNmZDdkZjM0NjVhYjYyYTFlODhlNjM3MzE4Myk7CiAgICAgICAgCgogICAgICAgIG1hcmtlcl9lYjkyYjI3ZDIzNDc0YTI2YmRlNDZlYmYxN2U3YWYyMi5iaW5kUG9wdXAocG9wdXBfZTEyNGU1MjU0OWU2NDdlYzlhNWYzN2QzOWQzNTQ1YzkpCiAgICAgICAgOwoKICAgICAgICAKICAgIAogICAgCiAgICAgICAgICAgIHZhciBtYXJrZXJfNjljN2I0OThiNWQ5NDBjMzk2ZWE2NDQ3OTFiNTFiMGUgPSBMLm1hcmtlcigKICAgICAgICAgICAgICAgIFs0MC42MzU5MDI0MDcwMDAwNDYsIC03NC4xMDU5Mzc4MDI5OTk5N10sCiAgICAgICAgICAgICAgICB7fQogICAgICAgICAgICApLmFkZFRvKG1hcmtlcl9jbHVzdGVyX2QyNTczMGI4ZGVhZjRkN2M4MmZkZDBiZDg0NzcyMmNkKTsKICAgICAgICAKICAgIAogICAgICAgIHZhciBwb3B1cF9iYThiYTFkYzg0ZWI0N2M0OGMxZTVlNTMxZjhmNDlmZCA9IEwucG9wdXAoeyJtYXhXaWR0aCI6ICIxMDAlIn0pOwoKICAgICAgICAKICAgICAgICAgICAgdmFyIGh0bWxfODYyMDcxYmY3ZGUyNDFlZWE2NmE3MzhmZjVkNDFlNjUgPSAkKGA8ZGl2IGlkPSJodG1sXzg2MjA3MWJmN2RlMjQxZWVhNjZhNzM4ZmY1ZDQxZTY1IiBzdHlsZT0id2lkdGg6IDEwMC4wJTsgaGVpZ2h0OiAxMDAuMCU7Ij5SSUNITU9ORCBVTklWRVJTSVRZIE1FRElDQUwgQ0VOVEVSIC0gTUFJTiBDQU1QVVM8L2Rpdj5gKVswXTsKICAgICAgICAgICAgcG9wdXBfYmE4YmExZGM4NGViNDdjNDhjMWU1ZTUzMWY4ZjQ5ZmQuc2V0Q29udGVudChodG1sXzg2MjA3MWJmN2RlMjQxZWVhNjZhNzM4ZmY1ZDQxZTY1KTsKICAgICAgICAKCiAgICAgICAgbWFya2VyXzY5YzdiNDk4YjVkOTQwYzM5NmVhNjQ0NzkxYjUxYjBlLmJpbmRQb3B1cChwb3B1cF9iYThiYTFkYzg0ZWI0N2M0OGMxZTVlNTMxZjhmNDlmZCkKICAgICAgICA7CgogICAgICAgIAogICAgCiAgICAKICAgICAgICAgICAgdmFyIG1hcmtlcl9jMjA2ZmEwMjUyYmQ0ZTIxYjQyNGEwMDI5M2U5ZDUwZiA9IEwubWFya2VyKAogICAgICAgICAgICAgICAgWzQwLjU4NDk4NDYxMzAwMDA3LCAtNzQuMDg2MjE5ODg1OTk5OThdLAogICAgICAgICAgICAgICAge30KICAgICAgICAgICAgKS5hZGRUbyhtYXJrZXJfY2x1c3Rlcl9kMjU3MzBiOGRlYWY0ZDdjODJmZGQwYmQ4NDc3MjJjZCk7CiAgICAgICAgCiAgICAKICAgICAgICB2YXIgcG9wdXBfNTZhMmQyZjI3YjBmNDNmNmEzODVmMDgwMjE2OGM2YzkgPSBMLnBvcHVwKHsibWF4V2lkdGgiOiAiMTAwJSJ9KTsKCiAgICAgICAgCiAgICAgICAgICAgIHZhciBodG1sXzlmOGIxZTMzODczYTQzZjI4N2QwY2UyODFkOGMyOWIyID0gJChgPGRpdiBpZD0iaHRtbF85ZjhiMWUzMzg3M2E0M2YyODdkMGNlMjgxZDhjMjliMiIgc3R5bGU9IndpZHRoOiAxMDAuMCU7IGhlaWdodDogMTAwLjAlOyI+U1RBVEVOIElTTEFORCBVTklWRVJTSVRZIEhPU1BJVEFMIC0gTk9SVEg8L2Rpdj5gKVswXTsKICAgICAgICAgICAgcG9wdXBfNTZhMmQyZjI3YjBmNDNmNmEzODVmMDgwMjE2OGM2Yzkuc2V0Q29udGVudChodG1sXzlmOGIxZTMzODczYTQzZjI4N2QwY2UyODFkOGMyOWIyKTsKICAgICAgICAKCiAgICAgICAgbWFya2VyX2MyMDZmYTAyNTJiZDRlMjFiNDI0YTAwMjkzZTlkNTBmLmJpbmRQb3B1cChwb3B1cF81NmEyZDJmMjdiMGY0M2Y2YTM4NWYwODAyMTY4YzZjOSkKICAgICAgICA7CgogICAgICAgIAogICAgCiAgICAKICAgICAgICAgICAgdmFyIG1hcmtlcl8wM2Q1ZDk5NTQzNDA0NDUyOTk1YjdjOTY4MmNmZTYyOSA9IEwubWFya2VyKAogICAgICAgICAgICAgICAgWzQwLjczOTMyMDA5NTAwMDA0NiwgLTczLjk3NTM4MTc0NTk5OTk4XSwKICAgICAgICAgICAgICAgIHt9CiAgICAgICAgICAgICkuYWRkVG8obWFya2VyX2NsdXN0ZXJfZDI1NzMwYjhkZWFmNGQ3YzgyZmRkMGJkODQ3NzIyY2QpOwogICAgICAgIAogICAgCiAgICAgICAgdmFyIHBvcHVwXzM4OWY3NzkzYjY2MDRlNjk4OGJjY2M3NDMzYjYwNjE1ID0gTC5wb3B1cCh7Im1heFdpZHRoIjogIjEwMCUifSk7CgogICAgICAgIAogICAgICAgICAgICB2YXIgaHRtbF84Y2UwNzhkMDM2M2U0MTNjODg1NzNhZjI5ZDIwNjRmNyA9ICQoYDxkaXYgaWQ9Imh0bWxfOGNlMDc4ZDAzNjNlNDEzYzg4NTczYWYyOWQyMDY0ZjciIHN0eWxlPSJ3aWR0aDogMTAwLjAlOyBoZWlnaHQ6IDEwMC4wJTsiPkJFTExFVlVFIEhPU1BJVEFMIENFTlRFUjwvZGl2PmApWzBdOwogICAgICAgICAgICBwb3B1cF8zODlmNzc5M2I2NjA0ZTY5ODhiY2NjNzQzM2I2MDYxNS5zZXRDb250ZW50KGh0bWxfOGNlMDc4ZDAzNjNlNDEzYzg4NTczYWYyOWQyMDY0ZjcpOwogICAgICAgIAoKICAgICAgICBtYXJrZXJfMDNkNWQ5OTU0MzQwNDQ1Mjk5NWI3Yzk2ODJjZmU2MjkuYmluZFBvcHVwKHBvcHVwXzM4OWY3NzkzYjY2MDRlNjk4OGJjY2M3NDMzYjYwNjE1KQogICAgICAgIDsKCiAgICAgICAgCiAgICAKICAgIAogICAgICAgICAgICB2YXIgbWFya2VyXzZjYjlhYmRlMDVjNzQ0ZDY5ZGIwYTZhYTc4ZTM5NDBlID0gTC5tYXJrZXIoCiAgICAgICAgICAgICAgICBbNDAuODcxMDAxMzk3MDAwMDQsIC03My42MjIzODU2NjU5OTk5Nl0sCiAgICAgICAgICAgICAgICB7fQogICAgICAgICAgICApLmFkZFRvKG1hcmtlcl9jbHVzdGVyX2QyNTczMGI4ZGVhZjRkN2M4MmZkZDBiZDg0NzcyMmNkKTsKICAgICAgICAKICAgIAogICAgICAgIHZhciBwb3B1cF8yZGU1NjRhNWIzZDA0MGYwOThhZTc5ZmU3M2UxMmYwMSA9IEwucG9wdXAoeyJtYXhXaWR0aCI6ICIxMDAlIn0pOwoKICAgICAgICAKICAgICAgICAgICAgdmFyIGh0bWxfNWM3YmM0MzZhNmYyNDg2ZTkxYWQ5YTY1MjdmYTJhZTMgPSAkKGA8ZGl2IGlkPSJodG1sXzVjN2JjNDM2YTZmMjQ4NmU5MWFkOWE2NTI3ZmEyYWUzIiBzdHlsZT0id2lkdGg6IDEwMC4wJTsgaGVpZ2h0OiAxMDAuMCU7Ij5HTEVOIENPVkUgSE9TUElUQUw8L2Rpdj5gKVswXTsKICAgICAgICAgICAgcG9wdXBfMmRlNTY0YTViM2QwNDBmMDk4YWU3OWZlNzNlMTJmMDEuc2V0Q29udGVudChodG1sXzVjN2JjNDM2YTZmMjQ4NmU5MWFkOWE2NTI3ZmEyYWUzKTsKICAgICAgICAKCiAgICAgICAgbWFya2VyXzZjYjlhYmRlMDVjNzQ0ZDY5ZGIwYTZhYTc4ZTM5NDBlLmJpbmRQb3B1cChwb3B1cF8yZGU1NjRhNWIzZDA0MGYwOThhZTc5ZmU3M2UxMmYwMSkKICAgICAgICA7CgogICAgICAgIAogICAgCiAgICAKICAgICAgICAgICAgdmFyIG1hcmtlcl84ZTA3NTk4N2Y4ODg0MzU2YTk5ZDY0ODNkMTM1N2Y2OCA9IEwubWFya2VyKAogICAgICAgICAgICAgICAgWzQzLjA4MTQ5MDQ1NzAwMDAxNSwgLTc1LjI2NjYwMTcwNTk5OTk2XSwKICAgICAgICAgICAgICAgIHt9CiAgICAgICAgICAgICkuYWRkVG8obWFya2VyX2NsdXN0ZXJfZDI1NzMwYjhkZWFmNGQ3YzgyZmRkMGJkODQ3NzIyY2QpOwogICAgICAgIAogICAgCiAgICAgICAgdmFyIHBvcHVwXzk4Y2Y5YjE3ZTk2NTRjN2FiNzAxNmNhYTVlMDA0MjhkID0gTC5wb3B1cCh7Im1heFdpZHRoIjogIjEwMCUifSk7CgogICAgICAgIAogICAgICAgICAgICB2YXIgaHRtbF8xZjVhZGU1ZThmMjc0ZTZkYTlmYjlhNjFlM2MxOTA0MSA9ICQoYDxkaXYgaWQ9Imh0bWxfMWY1YWRlNWU4ZjI3NGU2ZGE5ZmI5YTYxZTNjMTkwNDEiIHN0eWxlPSJ3aWR0aDogMTAwLjAlOyBoZWlnaHQ6IDEwMC4wJTsiPk1PSEFXSyBWQUxMRVkgSEVBUlQgSU5TVElUVVRFLCBJTkM8L2Rpdj5gKVswXTsKICAgICAgICAgICAgcG9wdXBfOThjZjliMTdlOTY1NGM3YWI3MDE2Y2FhNWUwMDQyOGQuc2V0Q29udGVudChodG1sXzFmNWFkZTVlOGYyNzRlNmRhOWZiOWE2MWUzYzE5MDQxKTsKICAgICAgICAKCiAgICAgICAgbWFya2VyXzhlMDc1OTg3Zjg4ODQzNTZhOTlkNjQ4M2QxMzU3ZjY4LmJpbmRQb3B1cChwb3B1cF85OGNmOWIxN2U5NjU0YzdhYjcwMTZjYWE1ZTAwNDI4ZCkKICAgICAgICA7CgogICAgICAgIAogICAgCiAgICAKICAgICAgICAgICAgdmFyIG1hcmtlcl9iOTE3ZDdiMDVlOTk0OTY0YWNhMTE0OGI4YTgzM2ZmNCA9IEwubWFya2VyKAogICAgICAgICAgICAgICAgWzQwLjkxMjgwNjA1OTAwMDA1LCAtNzMuNzg3NzYyNjAwOTk5OTRdLAogICAgICAgICAgICAgICAge30KICAgICAgICAgICAgKS5hZGRUbyhtYXJrZXJfY2x1c3Rlcl9kMjU3MzBiOGRlYWY0ZDdjODJmZGQwYmQ4NDc3MjJjZCk7CiAgICAgICAgCiAgICAKICAgICAgICB2YXIgcG9wdXBfYzFiZjI1NjNjMzBmNGNiMzk4MDdlNzA3YThkMzY4NDIgPSBMLnBvcHVwKHsibWF4V2lkdGgiOiAiMTAwJSJ9KTsKCiAgICAgICAgCiAgICAgICAgICAgIHZhciBodG1sX2M5NjViMWQ5ZTc5NjQ2ZDQ5NDE3ZDFmYzMxZDQ0ZGRiID0gJChgPGRpdiBpZD0iaHRtbF9jOTY1YjFkOWU3OTY0NmQ0OTQxN2QxZmMzMWQ0NGRkYiIgc3R5bGU9IndpZHRoOiAxMDAuMCU7IGhlaWdodDogMTAwLjAlOyI+TU9OVEVGSU9SRSBORVcgUk9DSEVMTEUgSE9TUElUQUw8L2Rpdj5gKVswXTsKICAgICAgICAgICAgcG9wdXBfYzFiZjI1NjNjMzBmNGNiMzk4MDdlNzA3YThkMzY4NDIuc2V0Q29udGVudChodG1sX2M5NjViMWQ5ZTc5NjQ2ZDQ5NDE3ZDFmYzMxZDQ0ZGRiKTsKICAgICAgICAKCiAgICAgICAgbWFya2VyX2I5MTdkN2IwNWU5OTQ5NjRhY2ExMTQ4YjhhODMzZmY0LmJpbmRQb3B1cChwb3B1cF9jMWJmMjU2M2MzMGY0Y2IzOTgwN2U3MDdhOGQzNjg0MikKICAgICAgICA7CgogICAgICAgIAogICAgCiAgICAKICAgICAgICAgICAgdmFyIG1hcmtlcl83NDNiNDY1NzZlODA0YTQxYjRkODNiMjNhNjcwZmQ0NSA9IEwubWFya2VyKAogICAgICAgICAgICAgICAgWzQwLjYxODgyMDEwMzAwMDA3NiwgLTczLjk0MjkwMTIzOTk5OTk4XSwKICAgICAgICAgICAgICAgIHt9CiAgICAgICAgICAgICkuYWRkVG8obWFya2VyX2NsdXN0ZXJfZDI1NzMwYjhkZWFmNGQ3YzgyZmRkMGJkODQ3NzIyY2QpOwogICAgICAgIAogICAgCiAgICAgICAgdmFyIHBvcHVwXzVlZDhkNGJiNWIyMzRhYWM5OGEyY2ZhMzJiZWY4OWQ4ID0gTC5wb3B1cCh7Im1heFdpZHRoIjogIjEwMCUifSk7CgogICAgICAgIAogICAgICAgICAgICB2YXIgaHRtbF80MDlkMTRjNjJiMWM0NmI4OGUyMWQ4MzM5MTRjYTQ1NiA9ICQoYDxkaXYgaWQ9Imh0bWxfNDA5ZDE0YzYyYjFjNDZiODhlMjFkODMzOTE0Y2E0NTYiIHN0eWxlPSJ3aWR0aDogMTAwLjAlOyBoZWlnaHQ6IDEwMC4wJTsiPk1PVU5UIFNJTkFJIEJFVEggSVNSQUVMIEJST09LTFlOPC9kaXY+YClbMF07CiAgICAgICAgICAgIHBvcHVwXzVlZDhkNGJiNWIyMzRhYWM5OGEyY2ZhMzJiZWY4OWQ4LnNldENvbnRlbnQoaHRtbF80MDlkMTRjNjJiMWM0NmI4OGUyMWQ4MzM5MTRjYTQ1Nik7CiAgICAgICAgCgogICAgICAgIG1hcmtlcl83NDNiNDY1NzZlODA0YTQxYjRkODNiMjNhNjcwZmQ0NS5iaW5kUG9wdXAocG9wdXBfNWVkOGQ0YmI1YjIzNGFhYzk4YTJjZmEzMmJlZjg5ZDgpCiAgICAgICAgOwoKICAgICAgICAKICAgIAogICAgCiAgICAgICAgICAgIHZhciBtYXJrZXJfZjZkMGRjZDA4OTBmNGVmMDkzMWM3OGVmMTVmMzQyMTIgPSBMLm1hcmtlcigKICAgICAgICAgICAgICAgIFs0MS4wMjc1Nzk1MTEwMDAwNTYsIC03My43NTM5MDk4ODI5OTk5NV0sCiAgICAgICAgICAgICAgICB7fQogICAgICAgICAgICApLmFkZFRvKG1hcmtlcl9jbHVzdGVyX2QyNTczMGI4ZGVhZjRkN2M4MmZkZDBiZDg0NzcyMmNkKTsKICAgICAgICAKICAgIAogICAgICAgIHZhciBwb3B1cF83MzFmNzA4MjllNzg0NWJkOTA0NWM0NTYyZWZlM2YzNyA9IEwucG9wdXAoeyJtYXhXaWR0aCI6ICIxMDAlIn0pOwoKICAgICAgICAKICAgICAgICAgICAgdmFyIGh0bWxfMmFjNWQwZWE0ZGExNDY1MWI1Y2I0NDM2ZGE0MjA2NzAgPSAkKGA8ZGl2IGlkPSJodG1sXzJhYzVkMGVhNGRhMTQ2NTFiNWNiNDQzNmRhNDIwNjcwIiBzdHlsZT0id2lkdGg6IDEwMC4wJTsgaGVpZ2h0OiAxMDAuMCU7Ij5ORVcgWU9SSyBQUkVTQllURVJJQU4gSE9TUElUQUwgLSBXRVNUQ0hFU1RFUiBESVZJU0lPTjwvZGl2PmApWzBdOwogICAgICAgICAgICBwb3B1cF83MzFmNzA4MjllNzg0NWJkOTA0NWM0NTYyZWZlM2YzNy5zZXRDb250ZW50KGh0bWxfMmFjNWQwZWE0ZGExNDY1MWI1Y2I0NDM2ZGE0MjA2NzApOwogICAgICAgIAoKICAgICAgICBtYXJrZXJfZjZkMGRjZDA4OTBmNGVmMDkzMWM3OGVmMTVmMzQyMTIuYmluZFBvcHVwKHBvcHVwXzczMWY3MDgyOWU3ODQ1YmQ5MDQ1YzQ1NjJlZmUzZjM3KQogICAgICAgIDsKCiAgICAgICAgCiAgICAKICAgIAogICAgICAgICAgICB2YXIgbWFya2VyX2EzMTQ4MGVjNjZhYzQwODc5M2ZhYmIwNTg0ZjQ4ZGFlID0gTC5tYXJrZXIoCiAgICAgICAgICAgICAgICBbNDAuODE0MjY0OTMwMDAwMDM2LCAtNzMuOTM5ODYxMjYwOTk5OTZdLAogICAgICAgICAgICAgICAge30KICAgICAgICAgICAgKS5hZGRUbyhtYXJrZXJfY2x1c3Rlcl9kMjU3MzBiOGRlYWY0ZDdjODJmZGQwYmQ4NDc3MjJjZCk7CiAgICAgICAgCiAgICAKICAgICAgICB2YXIgcG9wdXBfZTY2NDgwMDdiNjdlNGU0YmFhYmVkM2MyN2M1NzdlOTYgPSBMLnBvcHVwKHsibWF4V2lkdGgiOiAiMTAwJSJ9KTsKCiAgICAgICAgCiAgICAgICAgICAgIHZhciBodG1sXzJlMTE0Y2JlNzM0NjQ5MDhhM2VmYzMwOWFiOWNhZDIzID0gJChgPGRpdiBpZD0iaHRtbF8yZTExNGNiZTczNDY0OTA4YTNlZmMzMDlhYjljYWQyMyIgc3R5bGU9IndpZHRoOiAxMDAuMCU7IGhlaWdodDogMTAwLjAlOyI+SEFSTEVNIEhPU1BJVEFMIENFTlRFUjwvZGl2PmApWzBdOwogICAgICAgICAgICBwb3B1cF9lNjY0ODAwN2I2N2U0ZTRiYWFiZWQzYzI3YzU3N2U5Ni5zZXRDb250ZW50KGh0bWxfMmUxMTRjYmU3MzQ2NDkwOGEzZWZjMzA5YWI5Y2FkMjMpOwogICAgICAgIAoKICAgICAgICBtYXJrZXJfYTMxNDgwZWM2NmFjNDA4NzkzZmFiYjA1ODRmNDhkYWUuYmluZFBvcHVwKHBvcHVwX2U2NjQ4MDA3YjY3ZTRlNGJhYWJlZDNjMjdjNTc3ZTk2KQogICAgICAgIDsKCiAgICAgICAgCiAgICAKICAgIAogICAgICAgICAgICB2YXIgbWFya2VyXzgxZmU4MGIwMWE1ODRiYjJhNGRiMWFmZTRmYjZkODAyID0gTC5tYXJrZXIoCiAgICAgICAgICAgICAgICBbNDAuODAzMjg1MTEwMDAwMDUsIC03My45NDE2MjM4NTM5OTk5NF0sCiAgICAgICAgICAgICAgICB7fQogICAgICAgICAgICApLmFkZFRvKG1hcmtlcl9jbHVzdGVyX2QyNTczMGI4ZGVhZjRkN2M4MmZkZDBiZDg0NzcyMmNkKTsKICAgICAgICAKICAgIAogICAgICAgIHZhciBwb3B1cF9hN2FmMDBkZDQ1Y2E0YmUwODNlZWI5ZGI2NzU0ZmYyNiA9IEwucG9wdXAoeyJtYXhXaWR0aCI6ICIxMDAlIn0pOwoKICAgICAgICAKICAgICAgICAgICAgdmFyIGh0bWxfNDVjNmZjNzkxMTM3NGYzMjg0YTI2NmQzMWQyNDM3YmYgPSAkKGA8ZGl2IGlkPSJodG1sXzQ1YzZmYzc5MTEzNzRmMzI4NGEyNjZkMzFkMjQzN2JmIiBzdHlsZT0id2lkdGg6IDEwMC4wJTsgaGVpZ2h0OiAxMDAuMCU7Ij5IRU5SWSBKLiBDQVJURVIgU1BFQ0lBTFRZIEhPU1BJVEFMPC9kaXY+YClbMF07CiAgICAgICAgICAgIHBvcHVwX2E3YWYwMGRkNDVjYTRiZTA4M2VlYjlkYjY3NTRmZjI2LnNldENvbnRlbnQoaHRtbF80NWM2ZmM3OTExMzc0ZjMyODRhMjY2ZDMxZDI0MzdiZik7CiAgICAgICAgCgogICAgICAgIG1hcmtlcl84MWZlODBiMDFhNTg0YmIyYTRkYjFhZmU0ZmI2ZDgwMi5iaW5kUG9wdXAocG9wdXBfYTdhZjAwZGQ0NWNhNGJlMDgzZWViOWRiNjc1NGZmMjYpCiAgICAgICAgOwoKICAgICAgICAKICAgIAogICAgCiAgICAgICAgICAgIHZhciBtYXJrZXJfNGFjZDE5YzhhNTg0NDljZjgyNTk1YWNiMGQyYWVhMGQgPSBMLm1hcmtlcigKICAgICAgICAgICAgICAgIFs0MC44NTI2ODkwMDYwMDAwNSwgLTczLjg5MTM2Mjg3NTk5OTk2XSwKICAgICAgICAgICAgICAgIHt9CiAgICAgICAgICAgICkuYWRkVG8obWFya2VyX2NsdXN0ZXJfZDI1NzMwYjhkZWFmNGQ3YzgyZmRkMGJkODQ3NzIyY2QpOwogICAgICAgIAogICAgCiAgICAgICAgdmFyIHBvcHVwXzliOTk2NmE1NzA0OTQ4ODNhNjU1ODkwYzUyOWMyNjk3ID0gTC5wb3B1cCh7Im1heFdpZHRoIjogIjEwMCUifSk7CgogICAgICAgIAogICAgICAgICAgICB2YXIgaHRtbF83YTMzMmNjYzUxODM0Njk4ODk5YWEwNDRhMzA1MTM5NiA9ICQoYDxkaXYgaWQ9Imh0bWxfN2EzMzJjY2M1MTgzNDY5ODg5OWFhMDQ0YTMwNTEzOTYiIHN0eWxlPSJ3aWR0aDogMTAwLjAlOyBoZWlnaHQ6IDEwMC4wJTsiPlNCSCBIRUFMVEggU1lTVEVNPC9kaXY+YClbMF07CiAgICAgICAgICAgIHBvcHVwXzliOTk2NmE1NzA0OTQ4ODNhNjU1ODkwYzUyOWMyNjk3LnNldENvbnRlbnQoaHRtbF83YTMzMmNjYzUxODM0Njk4ODk5YWEwNDRhMzA1MTM5Nik7CiAgICAgICAgCgogICAgICAgIG1hcmtlcl80YWNkMTljOGE1ODQ0OWNmODI1OTVhY2IwZDJhZWEwZC5iaW5kUG9wdXAocG9wdXBfOWI5OTY2YTU3MDQ5NDg4M2E2NTU4OTBjNTI5YzI2OTcpCiAgICAgICAgOwoKICAgICAgICAKICAgIAogICAgCiAgICAgICAgICAgIHZhciBtYXJrZXJfZDEzZjczZjRiZTUyNDk1MmE1MjM1OTFhZTA3NTkwODMgPSBMLm1hcmtlcigKICAgICAgICAgICAgICAgIFs0Mi4zNzQzMjkyMDAwMDAwMzQsIC03Ny4yNzg5MDY2Mjc5OTk5N10sCiAgICAgICAgICAgICAgICB7fQogICAgICAgICAgICApLmFkZFRvKG1hcmtlcl9jbHVzdGVyX2QyNTczMGI4ZGVhZjRkN2M4MmZkZDBiZDg0NzcyMmNkKTsKICAgICAgICAKICAgIAogICAgICAgIHZhciBwb3B1cF9iNjIzY2VhZDJjZDA0NGJkODdmOTczMjhiMzk3ZjA0NSA9IEwucG9wdXAoeyJtYXhXaWR0aCI6ICIxMDAlIn0pOwoKICAgICAgICAKICAgICAgICAgICAgdmFyIGh0bWxfOTI1ZTRkZjA4YzUzNDAwMjkzNzExNzI4YmRiMzU1NWIgPSAkKGA8ZGl2IGlkPSJodG1sXzkyNWU0ZGYwOGM1MzQwMDI5MzcxMTcyOGJkYjM1NTViIiBzdHlsZT0id2lkdGg6IDEwMC4wJTsgaGVpZ2h0OiAxMDAuMCU7Ij5JUkEgREFWRU5QT1JUIE1FTU9SSUFMIEhPU1BJVEFMIElOQzwvZGl2PmApWzBdOwogICAgICAgICAgICBwb3B1cF9iNjIzY2VhZDJjZDA0NGJkODdmOTczMjhiMzk3ZjA0NS5zZXRDb250ZW50KGh0bWxfOTI1ZTRkZjA4YzUzNDAwMjkzNzExNzI4YmRiMzU1NWIpOwogICAgICAgIAoKICAgICAgICBtYXJrZXJfZDEzZjczZjRiZTUyNDk1MmE1MjM1OTFhZTA3NTkwODMuYmluZFBvcHVwKHBvcHVwX2I2MjNjZWFkMmNkMDQ0YmQ4N2Y5NzMyOGIzOTdmMDQ1KQogICAgICAgIDsKCiAgICAgICAgCiAgICAKICAgIAogICAgICAgICAgICB2YXIgbWFya2VyX2I4OWMzNmFlZmQ4YzQyM2ViMmEwZTFlNzdmMWRjMGE2ID0gTC5tYXJrZXIoCiAgICAgICAgICAgICAgICBbNDIuOTU5MDY1MTc0MDAwMDMsIC03NC4xODcxMjI5MjQ5OTk5OF0sCiAgICAgICAgICAgICAgICB7fQogICAgICAgICAgICApLmFkZFRvKG1hcmtlcl9jbHVzdGVyX2QyNTczMGI4ZGVhZjRkN2M4MmZkZDBiZDg0NzcyMmNkKTsKICAgICAgICAKICAgIAogICAgICAgIHZhciBwb3B1cF9lNDE1ZTQyODhkZDQ0ODg5YmFiNmMxNmYwZjllYTlmMCA9IEwucG9wdXAoeyJtYXhXaWR0aCI6ICIxMDAlIn0pOwoKICAgICAgICAKICAgICAgICAgICAgdmFyIGh0bWxfOGE1YTdhOTJlNTFjNDg2ZGI5YmFhNTRlNDlhZWViZjIgPSAkKGA8ZGl2IGlkPSJodG1sXzhhNWE3YTkyZTUxYzQ4NmRiOWJhYTU0ZTQ5YWVlYmYyIiBzdHlsZT0id2lkdGg6IDEwMC4wJTsgaGVpZ2h0OiAxMDAuMCU7Ij5TVC4gTUFSWSdTIEhFQUxUSENBUkUgLSBBTVNURVJEQU0gTUVNT1JJQUwgQ0FNUFVTPC9kaXY+YClbMF07CiAgICAgICAgICAgIHBvcHVwX2U0MTVlNDI4OGRkNDQ4ODliYWI2YzE2ZjBmOWVhOWYwLnNldENvbnRlbnQoaHRtbF84YTVhN2E5MmU1MWM0ODZkYjliYWE1NGU0OWFlZWJmMik7CiAgICAgICAgCgogICAgICAgIG1hcmtlcl9iODljMzZhZWZkOGM0MjNlYjJhMGUxZTc3ZjFkYzBhNi5iaW5kUG9wdXAocG9wdXBfZTQxNWU0Mjg4ZGQ0NDg4OWJhYjZjMTZmMGY5ZWE5ZjApCiAgICAgICAgOwoKICAgICAgICAKICAgIAogICAgCiAgICAgICAgICAgIHZhciBtYXJrZXJfMzI2MDZmZTIyZGI5NGZiODgwMDg3NTg5ZTY0YTFjYTQgPSBMLm1hcmtlcigKICAgICAgICAgICAgICAgIFs0Mi43MzMzNTc3NTEwMDAwMiwgLTczLjY3MjY2NjA3Njk5OTk3XSwKICAgICAgICAgICAgICAgIHt9CiAgICAgICAgICAgICkuYWRkVG8obWFya2VyX2NsdXN0ZXJfZDI1NzMwYjhkZWFmNGQ3YzgyZmRkMGJkODQ3NzIyY2QpOwogICAgICAgIAogICAgCiAgICAgICAgdmFyIHBvcHVwX2YzNGU1ZDJhMDFjMjQ0NWE5ZTExZWI0ZTg3M2MxMTljID0gTC5wb3B1cCh7Im1heFdpZHRoIjogIjEwMCUifSk7CgogICAgICAgIAogICAgICAgICAgICB2YXIgaHRtbF8wMDdjYzE4MmY3MGM0MzQ1OGNlNDg2YTI2ZTFhNThmMiA9ICQoYDxkaXYgaWQ9Imh0bWxfMDA3Y2MxODJmNzBjNDM0NThjZTQ4NmEyNmUxYTU4ZjIiIHN0eWxlPSJ3aWR0aDogMTAwLjAlOyBoZWlnaHQ6IDEwMC4wJTsiPlRIRSBCVVJERVRUIENBUkUgQ0VOVEVSPC9kaXY+YClbMF07CiAgICAgICAgICAgIHBvcHVwX2YzNGU1ZDJhMDFjMjQ0NWE5ZTExZWI0ZTg3M2MxMTljLnNldENvbnRlbnQoaHRtbF8wMDdjYzE4MmY3MGM0MzQ1OGNlNDg2YTI2ZTFhNThmMik7CiAgICAgICAgCgogICAgICAgIG1hcmtlcl8zMjYwNmZlMjJkYjk0ZmI4ODAwODc1ODllNjRhMWNhNC5iaW5kUG9wdXAocG9wdXBfZjM0ZTVkMmEwMWMyNDQ1YTllMTFlYjRlODczYzExOWMpCiAgICAgICAgOwoKICAgICAgICAKICAgIAogICAgCiAgICAgICAgICAgIHZhciBtYXJrZXJfZmE5ZWE1N2E0OWIyNDNkZThmMDdjYWM3NmI4OWVmYTQgPSBMLm1hcmtlcigKICAgICAgICAgICAgICAgIFs0NC43MDA0NDMwNDQwMDAwMywgLTczLjQ2OTQxOTg2NDk5OTk4XSwKICAgICAgICAgICAgICAgIHt9CiAgICAgICAgICAgICkuYWRkVG8obWFya2VyX2NsdXN0ZXJfZDI1NzMwYjhkZWFmNGQ3YzgyZmRkMGJkODQ3NzIyY2QpOwogICAgICAgIAogICAgCiAgICAgICAgdmFyIHBvcHVwX2E5OTk3MDEwZTViYzQ5YjU4YmVmYjI1Y2RmNjU2OTg0ID0gTC5wb3B1cCh7Im1heFdpZHRoIjogIjEwMCUifSk7CgogICAgICAgIAogICAgICAgICAgICB2YXIgaHRtbF82MDNlY2Y2ZDNjNTk0MGY1OGQxMDRkZjA2YWNiNzAyZSA9ICQoYDxkaXYgaWQ9Imh0bWxfNjAzZWNmNmQzYzU5NDBmNThkMTA0ZGYwNmFjYjcwMmUiIHN0eWxlPSJ3aWR0aDogMTAwLjAlOyBoZWlnaHQ6IDEwMC4wJTsiPlRIRSBVTklWRVJTSVRZIE9GIFZFUk1PTlQgSEVBTFRIIE5FVFdPUksgLSBDSEFNUExBSU4gVkFMTEVZIFBIWVNJQ0lBTlMgSE9TUElUQUw8L2Rpdj5gKVswXTsKICAgICAgICAgICAgcG9wdXBfYTk5OTcwMTBlNWJjNDliNThiZWZiMjVjZGY2NTY5ODQuc2V0Q29udGVudChodG1sXzYwM2VjZjZkM2M1OTQwZjU4ZDEwNGRmMDZhY2I3MDJlKTsKICAgICAgICAKCiAgICAgICAgbWFya2VyX2ZhOWVhNTdhNDliMjQzZGU4ZjA3Y2FjNzZiODllZmE0LmJpbmRQb3B1cChwb3B1cF9hOTk5NzAxMGU1YmM0OWI1OGJlZmIyNWNkZjY1Njk4NCkKICAgICAgICA7CgogICAgICAgIAogICAgCiAgICAKICAgICAgICAgICAgdmFyIG1hcmtlcl80YTM1ODJiODliZGE0OWE3OWJlNjMwOGRjZGM0OTI5NyA9IEwubWFya2VyKAogICAgICAgICAgICAgICAgWzQwLjg5MzY5NzE3MTAwMDAyLCAtNzMuODYxMTkxMTg4OTk5OTVdLAogICAgICAgICAgICAgICAge30KICAgICAgICAgICAgKS5hZGRUbyhtYXJrZXJfY2x1c3Rlcl9kMjU3MzBiOGRlYWY0ZDdjODJmZGQwYmQ4NDc3MjJjZCk7CiAgICAgICAgCiAgICAKICAgICAgICB2YXIgcG9wdXBfNjUxMTBhMmY2ZTAyNGY1Yzg4YjVlNGM5N2UxNzVkM2MgPSBMLnBvcHVwKHsibWF4V2lkdGgiOiAiMTAwJSJ9KTsKCiAgICAgICAgCiAgICAgICAgICAgIHZhciBodG1sXzA5OGIyNWJmMjhlNjQwNDJiZDhhOWI4ZDU0Mzc3ZDgwID0gJChgPGRpdiBpZD0iaHRtbF8wOThiMjViZjI4ZTY0MDQyYmQ4YTliOGQ1NDM3N2Q4MCIgc3R5bGU9IndpZHRoOiAxMDAuMCU7IGhlaWdodDogMTAwLjAlOyI+TU9OVEVGSU9SRSBNRURJQ0FMIENFTlRFUi1XQUtFRklFTEQgSE9TUElUQUw8L2Rpdj5gKVswXTsKICAgICAgICAgICAgcG9wdXBfNjUxMTBhMmY2ZTAyNGY1Yzg4YjVlNGM5N2UxNzVkM2Muc2V0Q29udGVudChodG1sXzA5OGIyNWJmMjhlNjQwNDJiZDhhOWI4ZDU0Mzc3ZDgwKTsKICAgICAgICAKCiAgICAgICAgbWFya2VyXzRhMzU4MmI4OWJkYTQ5YTc5YmU2MzA4ZGNkYzQ5Mjk3LmJpbmRQb3B1cChwb3B1cF82NTExMGEyZjZlMDI0ZjVjODhiNWU0Yzk3ZTE3NWQzYykKICAgICAgICA7CgogICAgICAgIAogICAgCiAgICAKICAgICAgICAgICAgdmFyIG1hcmtlcl8xMzUxOGQ2MmYxZTc0M2YxODQ4OWM2ZDA4N2QwNjBiNiA9IEwubWFya2VyKAogICAgICAgICAgICAgICAgWzQwLjgwNDkyMjU0MzAwMDAzLCAtNzMuOTYxNTkwMzUxOTk5OTddLAogICAgICAgICAgICAgICAge30KICAgICAgICAgICAgKS5hZGRUbyhtYXJrZXJfY2x1c3Rlcl9kMjU3MzBiOGRlYWY0ZDdjODJmZGQwYmQ4NDc3MjJjZCk7CiAgICAgICAgCiAgICAKICAgICAgICB2YXIgcG9wdXBfZmVjYjU0MDM0MDE4NDM1N2FmNjhjMzE2MmU3NjZlOGEgPSBMLnBvcHVwKHsibWF4V2lkdGgiOiAiMTAwJSJ9KTsKCiAgICAgICAgCiAgICAgICAgICAgIHZhciBodG1sXzhjNzlkOGU3MmZjNTQ1Y2M5ODcyMDQ2OGM0YWVlOTc0ID0gJChgPGRpdiBpZD0iaHRtbF84Yzc5ZDhlNzJmYzU0NWNjOTg3MjA0NjhjNGFlZTk3NCIgc3R5bGU9IndpZHRoOiAxMDAuMCU7IGhlaWdodDogMTAwLjAlOyI+TU9VTlQgU0lOQUkgU1QuIExVS0UnUzwvZGl2PmApWzBdOwogICAgICAgICAgICBwb3B1cF9mZWNiNTQwMzQwMTg0MzU3YWY2OGMzMTYyZTc2NmU4YS5zZXRDb250ZW50KGh0bWxfOGM3OWQ4ZTcyZmM1NDVjYzk4NzIwNDY4YzRhZWU5NzQpOwogICAgICAgIAoKICAgICAgICBtYXJrZXJfMTM1MThkNjJmMWU3NDNmMTg0ODljNmQwODdkMDYwYjYuYmluZFBvcHVwKHBvcHVwX2ZlY2I1NDAzNDAxODQzNTdhZjY4YzMxNjJlNzY2ZThhKQogICAgICAgIDsKCiAgICAgICAgCiAgICAKICAgIAogICAgICAgICAgICB2YXIgbWFya2VyXzA5Y2M1YjRlYzMyOTQ0NWZiMGQ1OGFjODMzYjZjNTYxID0gTC5tYXJrZXIoCiAgICAgICAgICAgICAgICBbNDAuODQxMDUyODgyMDAwMDIsIC03My45NDA2ODY1MjE5OTk5Nl0sCiAgICAgICAgICAgICAgICB7fQogICAgICAgICAgICApLmFkZFRvKG1hcmtlcl9jbHVzdGVyX2QyNTczMGI4ZGVhZjRkN2M4MmZkZDBiZDg0NzcyMmNkKTsKICAgICAgICAKICAgIAogICAgICAgIHZhciBwb3B1cF9kMzg5Njc0OTVmZmE0YTYwYTE0OWMxMGRhODc1NGE4ZCA9IEwucG9wdXAoeyJtYXhXaWR0aCI6ICIxMDAlIn0pOwoKICAgICAgICAKICAgICAgICAgICAgdmFyIGh0bWxfY2E0MTM2MTA2MGNhNDY5M2IzZTBhMDNlMWQ1ZjcxNjMgPSAkKGA8ZGl2IGlkPSJodG1sX2NhNDEzNjEwNjBjYTQ2OTNiM2UwYTAzZTFkNWY3MTYzIiBzdHlsZT0id2lkdGg6IDEwMC4wJTsgaGVpZ2h0OiAxMDAuMCU7Ij5ORVcgWU9SSyBQUkVTQllURVJJQU4gSE9TUElUQUwgLSBDT0xVTUJJQSBQUkVTQllURVJJQU4gQ0VOVEVSPC9kaXY+YClbMF07CiAgICAgICAgICAgIHBvcHVwX2QzODk2NzQ5NWZmYTRhNjBhMTQ5YzEwZGE4NzU0YThkLnNldENvbnRlbnQoaHRtbF9jYTQxMzYxMDYwY2E0NjkzYjNlMGEwM2UxZDVmNzE2Myk7CiAgICAgICAgCgogICAgICAgIG1hcmtlcl8wOWNjNWI0ZWMzMjk0NDVmYjBkNThhYzgzM2I2YzU2MS5iaW5kUG9wdXAocG9wdXBfZDM4OTY3NDk1ZmZhNGE2MGExNDljMTBkYTg3NTRhOGQpCiAgICAgICAgOwoKICAgICAgICAKICAgIAogICAgCiAgICAgICAgICAgIHZhciBtYXJrZXJfMjg0NmMwMjA4ZDE1NDg1NmE4YTZjMDJjZTI2ZjAxN2UgPSBMLm1hcmtlcigKICAgICAgICAgICAgICAgIFs0MC43NjQ1NDk5NDAwMDAwNDUsIC03My45NTQzMzIyNjJdLAogICAgICAgICAgICAgICAge30KICAgICAgICAgICAgKS5hZGRUbyhtYXJrZXJfY2x1c3Rlcl9kMjU3MzBiOGRlYWY0ZDdjODJmZGQwYmQ4NDc3MjJjZCk7CiAgICAgICAgCiAgICAKICAgICAgICB2YXIgcG9wdXBfNmY0Yzk5YWYyNDkwNDk4MjhiMmQ0MTAwY2QxMmIyNmYgPSBMLnBvcHVwKHsibWF4V2lkdGgiOiAiMTAwJSJ9KTsKCiAgICAgICAgCiAgICAgICAgICAgIHZhciBodG1sXzgwMWM5MmQ0ODQyMTQ0ZWFiZWY2ZjcwZWI4YTczZjAxID0gJChgPGRpdiBpZD0iaHRtbF84MDFjOTJkNDg0MjE0NGVhYmVmNmY3MGViOGE3M2YwMSIgc3R5bGU9IndpZHRoOiAxMDAuMCU7IGhlaWdodDogMTAwLjAlOyI+TkVXIFlPUksgUFJFU0JZVEVSSUFOIEhPU1BJVEFMIC0gTkVXIFlPUksgV0VJTEwgQ09STkVMTCBDRU5URVI8L2Rpdj5gKVswXTsKICAgICAgICAgICAgcG9wdXBfNmY0Yzk5YWYyNDkwNDk4MjhiMmQ0MTAwY2QxMmIyNmYuc2V0Q29udGVudChodG1sXzgwMWM5MmQ0ODQyMTQ0ZWFiZWY2ZjcwZWI4YTczZjAxKTsKICAgICAgICAKCiAgICAgICAgbWFya2VyXzI4NDZjMDIwOGQxNTQ4NTZhOGE2YzAyY2UyNmYwMTdlLmJpbmRQb3B1cChwb3B1cF82ZjRjOTlhZjI0OTA0OTgyOGIyZDQxMDBjZDEyYjI2ZikKICAgICAgICA7CgogICAgICAgIAogICAgCiAgICAKICAgICAgICAgICAgdmFyIG1hcmtlcl9hNjI4ZDRlYTM4NDU0NjJjOGNiZTRkYmVlZTkyMDBkNSA9IEwubWFya2VyKAogICAgICAgICAgICAgICAgWzQwLjY4OTg3MzQyMTAwMDA3LCAtNzMuOTk3NzY1NzEzOTk5OTddLAogICAgICAgICAgICAgICAge30KICAgICAgICAgICAgKS5hZGRUbyhtYXJrZXJfY2x1c3Rlcl9kMjU3MzBiOGRlYWY0ZDdjODJmZGQwYmQ4NDc3MjJjZCk7CiAgICAgICAgCiAgICAKICAgICAgICB2YXIgcG9wdXBfYmRlZWYwNGE3YjcxNDQ3ZjllMDU3ZDY0ZGFlNzY3YTEgPSBMLnBvcHVwKHsibWF4V2lkdGgiOiAiMTAwJSJ9KTsKCiAgICAgICAgCiAgICAgICAgICAgIHZhciBodG1sXzQ2NGNlZjBlYTI1ZjQwMTZhYzFlMTNkN2M5MDZmMjViID0gJChgPGRpdiBpZD0iaHRtbF80NjRjZWYwZWEyNWY0MDE2YWMxZTEzZDdjOTA2ZjI1YiIgc3R5bGU9IndpZHRoOiAxMDAuMCU7IGhlaWdodDogMTAwLjAlOyI+TllVTE1DIC0gQ09CQkxFIEhJTEw8L2Rpdj5gKVswXTsKICAgICAgICAgICAgcG9wdXBfYmRlZWYwNGE3YjcxNDQ3ZjllMDU3ZDY0ZGFlNzY3YTEuc2V0Q29udGVudChodG1sXzQ2NGNlZjBlYTI1ZjQwMTZhYzFlMTNkN2M5MDZmMjViKTsKICAgICAgICAKCiAgICAgICAgbWFya2VyX2E2MjhkNGVhMzg0NTQ2MmM4Y2JlNGRiZWVlOTIwMGQ1LmJpbmRQb3B1cChwb3B1cF9iZGVlZjA0YTdiNzE0NDdmOWUwNTdkNjRkYWU3NjdhMSkKICAgICAgICA7CgogICAgICAgIAogICAgCiAgICAKICAgICAgICAgICAgdmFyIG1hcmtlcl9lMjZmZWQ5ZTY0Nzc0NjU3YjJjYjEwOWI0MmM4MWUxMyA9IEwubWFya2VyKAogICAgICAgICAgICAgICAgWzQzLjIyMTYxMTc4MjAwMDAyLCAtNzcuOTQ0NTc1MTA4OTk5OTddLAogICAgICAgICAgICAgICAge30KICAgICAgICAgICAgKS5hZGRUbyhtYXJrZXJfY2x1c3Rlcl9kMjU3MzBiOGRlYWY0ZDdjODJmZGQwYmQ4NDc3MjJjZCk7CiAgICAgICAgCiAgICAKICAgICAgICB2YXIgcG9wdXBfZGIzZDIxOTZjNzUyNDRkOWE0ZTlmZGVhZmE4Y2YxM2UgPSBMLnBvcHVwKHsibWF4V2lkdGgiOiAiMTAwJSJ9KTsKCiAgICAgICAgCiAgICAgICAgICAgIHZhciBodG1sXzNjZGViNzI0MGEwNjRkOWRhYzI4ZGZjYmI3ZWM1ZGE1ID0gJChgPGRpdiBpZD0iaHRtbF8zY2RlYjcyNDBhMDY0ZDlkYWMyOGRmY2JiN2VjNWRhNSIgc3R5bGU9IndpZHRoOiAxMDAuMCU7IGhlaWdodDogMTAwLjAlOyI+VVJNQyBTVFJPTkcgV0VTVDwvZGl2PmApWzBdOwogICAgICAgICAgICBwb3B1cF9kYjNkMjE5NmM3NTI0NGQ5YTRlOWZkZWFmYThjZjEzZS5zZXRDb250ZW50KGh0bWxfM2NkZWI3MjQwYTA2NGQ5ZGFjMjhkZmNiYjdlYzVkYTUpOwogICAgICAgIAoKICAgICAgICBtYXJrZXJfZTI2ZmVkOWU2NDc3NDY1N2IyY2IxMDliNDJjODFlMTMuYmluZFBvcHVwKHBvcHVwX2RiM2QyMTk2Yzc1MjQ0ZDlhNGU5ZmRlYWZhOGNmMTNlKQogICAgICAgIDsKCiAgICAgICAgCiAgICAKICAgIAogICAgICAgICAgICB2YXIgbWFya2VyXzczZTY4Njk2OTFkMzQ3ODQ4MmIzN2JlNWVmMjI2Mzg2ID0gTC5tYXJrZXIoCiAgICAgICAgICAgICAgICBbNDIuOTA5MjA4NTA5MDAwMDQ1LCAtNzguODc1MjA5MDE0OTk5OTVdLAogICAgICAgICAgICAgICAge30KICAgICAgICAgICAgKS5hZGRUbyhtYXJrZXJfY2x1c3Rlcl9kMjU3MzBiOGRlYWY0ZDdjODJmZGQwYmQ4NDc3MjJjZCk7CiAgICAgICAgCiAgICAKICAgICAgICB2YXIgcG9wdXBfZDE4ZWZiZGZmMjZmNDQwYWJmYWU1NGIwMTQwODJmYjkgPSBMLnBvcHVwKHsibWF4V2lkdGgiOiAiMTAwJSJ9KTsKCiAgICAgICAgCiAgICAgICAgICAgIHZhciBodG1sXzZmMmIwZmQ3YjExYTRiYmNiZGU2NTdlZDBjNWJjNmU4ID0gJChgPGRpdiBpZD0iaHRtbF82ZjJiMGZkN2IxMWE0YmJjYmRlNjU3ZWQwYzViYzZlOCIgc3R5bGU9IndpZHRoOiAxMDAuMCU7IGhlaWdodDogMTAwLjAlOyI+V09NRU4gQU5EIENISUxEUkVOJ1MgSE9TUElUQUwgT0YgQlVGRkFMTzwvZGl2PmApWzBdOwogICAgICAgICAgICBwb3B1cF9kMThlZmJkZmYyNmY0NDBhYmZhZTU0YjAxNDA4MmZiOS5zZXRDb250ZW50KGh0bWxfNmYyYjBmZDdiMTFhNGJiY2JkZTY1N2VkMGM1YmM2ZTgpOwogICAgICAgIAoKICAgICAgICBtYXJrZXJfNzNlNjg2OTY5MWQzNDc4NDgyYjM3YmU1ZWYyMjYzODYuYmluZFBvcHVwKHBvcHVwX2QxOGVmYmRmZjI2ZjQ0MGFiZmFlNTRiMDE0MDgyZmI5KQogICAgICAgIDsKCiAgICAgICAgCiAgICAKICAgIAogICAgICAgICAgICB2YXIgbWFya2VyXzk4Yzc3YTA1NzM1YzQwYmU4MDhmM2IxOWM2ODYxMGEwID0gTC5tYXJrZXIoCiAgICAgICAgICAgICAgICBbNDAuNzQwNjk3NDc4MDAwMDY1LCAtNzMuNjQzMDA4Mzk4OTk5OTVdLAogICAgICAgICAgICAgICAge30KICAgICAgICAgICAgKS5hZGRUbyhtYXJrZXJfY2x1c3Rlcl9kMjU3MzBiOGRlYWY0ZDdjODJmZGQwYmQ4NDc3MjJjZCk7CiAgICAgICAgCiAgICAKICAgICAgICB2YXIgcG9wdXBfYzg2NDIwY2JhNzk0NDJjYjg3ZWZkODMzNTExOTM4ZTggPSBMLnBvcHVwKHsibWF4V2lkdGgiOiAiMTAwJSJ9KTsKCiAgICAgICAgCiAgICAgICAgICAgIHZhciBodG1sXzYyNmMxNTI2YTE1OTQwMmViNDJhNzU5OTBkODU5MjNmID0gJChgPGRpdiBpZD0iaHRtbF82MjZjMTUyNmExNTk0MDJlYjQyYTc1OTkwZDg1OTIzZiIgc3R5bGU9IndpZHRoOiAxMDAuMCU7IGhlaWdodDogMTAwLjAlOyI+V0lOVEhST1AtVU5JVkVSU0lUWSBIT1NQSVRBTDwvZGl2PmApWzBdOwogICAgICAgICAgICBwb3B1cF9jODY0MjBjYmE3OTQ0MmNiODdlZmQ4MzM1MTE5MzhlOC5zZXRDb250ZW50KGh0bWxfNjI2YzE1MjZhMTU5NDAyZWI0MmE3NTk5MGQ4NTkyM2YpOwogICAgICAgIAoKICAgICAgICBtYXJrZXJfOThjNzdhMDU3MzVjNDBiZTgwOGYzYjE5YzY4NjEwYTAuYmluZFBvcHVwKHBvcHVwX2M4NjQyMGNiYTc5NDQyY2I4N2VmZDgzMzUxMTkzOGU4KQogICAgICAgIDsKCiAgICAgICAgCiAgICAKICAgIAogICAgICAgICAgICB2YXIgbWFya2VyXzk3ZjdhNDU5ZmQ0YzRhMDE4MTZhNWIxZmFkOGI1M2RhID0gTC5tYXJrZXIoCiAgICAgICAgICAgICAgICBbNDIuMDkxMTY3MjQwMDAwMDUsIC03OS4yNDUzNjU4MzU5OTk5Nl0sCiAgICAgICAgICAgICAgICB7fQogICAgICAgICAgICApLmFkZFRvKG1hcmtlcl9jbHVzdGVyX2QyNTczMGI4ZGVhZjRkN2M4MmZkZDBiZDg0NzcyMmNkKTsKICAgICAgICAKICAgIAogICAgICAgIHZhciBwb3B1cF8wNjg3ZGRjNjk5ZTI0MzUwOGE2NGMxNDZjOTkyMDliYyA9IEwucG9wdXAoeyJtYXhXaWR0aCI6ICIxMDAlIn0pOwoKICAgICAgICAKICAgICAgICAgICAgdmFyIGh0bWxfZGI5YmMzMmVmZjEwNDk3Y2IzYjA3NGM4YzBkYTI5YTEgPSAkKGA8ZGl2IGlkPSJodG1sX2RiOWJjMzJlZmYxMDQ5N2NiM2IwNzRjOGMwZGEyOWExIiBzdHlsZT0id2lkdGg6IDEwMC4wJTsgaGVpZ2h0OiAxMDAuMCU7Ij5XT01BTlMgQ0hSSVNUSUFOIEFTU09DIEhPU1BJVEFMIC0gV0NBIEhPU1AgQVQgSk9ORVMgTUVNT1JJQUwgSEVBTFRIIENFTlRFUjwvZGl2PmApWzBdOwogICAgICAgICAgICBwb3B1cF8wNjg3ZGRjNjk5ZTI0MzUwOGE2NGMxNDZjOTkyMDliYy5zZXRDb250ZW50KGh0bWxfZGI5YmMzMmVmZjEwNDk3Y2IzYjA3NGM4YzBkYTI5YTEpOwogICAgICAgIAoKICAgICAgICBtYXJrZXJfOTdmN2E0NTlmZDRjNGEwMTgxNmE1YjFmYWQ4YjUzZGEuYmluZFBvcHVwKHBvcHVwXzA2ODdkZGM2OTllMjQzNTA4YTY0YzE0NmM5OTIwOWJjKQogICAgICAgIDsKCiAgICAgICAgCiAgICAKICAgIAogICAgICAgICAgICB2YXIgbWFya2VyXzExY2M4NGUzOGJkNjQzYzlhNDVhMjlkNjcwMDIxOWIwID0gTC5tYXJrZXIoCiAgICAgICAgICAgICAgICBbNDIuNjk1MjU1MTQxMDAwMDYsIC03NC45MjI5NTU1NzM5OTk5NF0sCiAgICAgICAgICAgICAgICB7fQogICAgICAgICAgICApLmFkZFRvKG1hcmtlcl9jbHVzdGVyX2QyNTczMGI4ZGVhZjRkN2M4MmZkZDBiZDg0NzcyMmNkKTsKICAgICAgICAKICAgIAogICAgICAgIHZhciBwb3B1cF9lYTQ0ZDE5YzFhZGY0MzUxYmZiMWQwODAxMjFlMDUyNyA9IEwucG9wdXAoeyJtYXhXaWR0aCI6ICIxMDAlIn0pOwoKICAgICAgICAKICAgICAgICAgICAgdmFyIGh0bWxfOGFhOTk1ZWQ1OTUyNGIyYjhjZDc2NjRkMGVjNWJmOGYgPSAkKGA8ZGl2IGlkPSJodG1sXzhhYTk5NWVkNTk1MjRiMmI4Y2Q3NjY0ZDBlYzViZjhmIiBzdHlsZT0id2lkdGg6IDEwMC4wJTsgaGVpZ2h0OiAxMDAuMCU7Ij5NQVJZIElNT0dFTkUgQkFTU0VUVCBIT1NQSVRBTDwvZGl2PmApWzBdOwogICAgICAgICAgICBwb3B1cF9lYTQ0ZDE5YzFhZGY0MzUxYmZiMWQwODAxMjFlMDUyNy5zZXRDb250ZW50KGh0bWxfOGFhOTk1ZWQ1OTUyNGIyYjhjZDc2NjRkMGVjNWJmOGYpOwogICAgICAgIAoKICAgICAgICBtYXJrZXJfMTFjYzg0ZTM4YmQ2NDNjOWE0NWEyOWQ2NzAwMjE5YjAuYmluZFBvcHVwKHBvcHVwX2VhNDRkMTljMWFkZjQzNTFiZmIxZDA4MDEyMWUwNTI3KQogICAgICAgIDsKCiAgICAgICAgCiAgICAKICAgIAogICAgICAgICAgICB2YXIgbWFya2VyX2Q2YWExYjE5MjhhYTRjMjJhNjM4NDc3ZDJjYWYzYTA5ID0gTC5tYXJrZXIoCiAgICAgICAgICAgICAgICBbNDAuOTQwMzg2MDY5MDAwMDYsIC03My44OTE2NTIzOTM5OTk5M10sCiAgICAgICAgICAgICAgICB7fQogICAgICAgICAgICApLmFkZFRvKG1hcmtlcl9jbHVzdGVyX2QyNTczMGI4ZGVhZjRkN2M4MmZkZDBiZDg0NzcyMmNkKTsKICAgICAgICAKICAgIAogICAgICAgIHZhciBwb3B1cF82ZTU1NjgxOTEwZjQ0M2I2OWNmZTY2ZDcxOTM0YTU2NyA9IEwucG9wdXAoeyJtYXhXaWR0aCI6ICIxMDAlIn0pOwoKICAgICAgICAKICAgICAgICAgICAgdmFyIGh0bWxfYzUxZTZkNTg4YTdkNDA5NDk3MzMxODk0N2I3NWQ1MjEgPSAkKGA8ZGl2IGlkPSJodG1sX2M1MWU2ZDU4OGE3ZDQwOTQ5NzMzMTg5NDdiNzVkNTIxIiBzdHlsZT0id2lkdGg6IDEwMC4wJTsgaGVpZ2h0OiAxMDAuMCU7Ij5TSlJIIC0gUEFSSyBDQVJFIFBBVklMSU9OPC9kaXY+YClbMF07CiAgICAgICAgICAgIHBvcHVwXzZlNTU2ODE5MTBmNDQzYjY5Y2ZlNjZkNzE5MzRhNTY3LnNldENvbnRlbnQoaHRtbF9jNTFlNmQ1ODhhN2Q0MDk0OTczMzE4OTQ3Yjc1ZDUyMSk7CiAgICAgICAgCgogICAgICAgIG1hcmtlcl9kNmFhMWIxOTI4YWE0YzIyYTYzODQ3N2QyY2FmM2EwOS5iaW5kUG9wdXAocG9wdXBfNmU1NTY4MTkxMGY0NDNiNjljZmU2NmQ3MTkzNGE1NjcpCiAgICAgICAgOwoKICAgICAgICAKICAgIAogICAgCiAgICAgICAgICAgIHZhciBtYXJrZXJfNTc1OTgwNDNjNGJhNGFlNjgwMjQ3YmEyMGYxNGY4ZWUgPSBMLm1hcmtlcigKICAgICAgICAgICAgICAgIFs0Mi4zNDQwNTI0MTMwMDAwNCwgLTc3LjM0NzUwOTE4ODk5OTk0XSwKICAgICAgICAgICAgICAgIHt9CiAgICAgICAgICAgICkuYWRkVG8obWFya2VyX2NsdXN0ZXJfZDI1NzMwYjhkZWFmNGQ3YzgyZmRkMGJkODQ3NzIyY2QpOwogICAgICAgIAogICAgCiAgICAgICAgdmFyIHBvcHVwXzM5MmE1Mjg0NjVmYzQ0NzFhODQwMDAxZTA5NjE2ZjA1ID0gTC5wb3B1cCh7Im1heFdpZHRoIjogIjEwMCUifSk7CgogICAgICAgIAogICAgICAgICAgICB2YXIgaHRtbF85OTk1MGY0NWU5NTI0YTE0ODY4MjgzYWI3MjNjM2U5NCA9ICQoYDxkaXYgaWQ9Imh0bWxfOTk5NTBmNDVlOTUyNGExNDg2ODI4M2FiNzIzYzNlOTQiIHN0eWxlPSJ3aWR0aDogMTAwLjAlOyBoZWlnaHQ6IDEwMC4wJTsiPlZBIE1FRElDQUwgQ0VOVEVSIC0gQkFUSDwvZGl2PmApWzBdOwogICAgICAgICAgICBwb3B1cF8zOTJhNTI4NDY1ZmM0NDcxYTg0MDAwMWUwOTYxNmYwNS5zZXRDb250ZW50KGh0bWxfOTk5NTBmNDVlOTUyNGExNDg2ODI4M2FiNzIzYzNlOTQpOwogICAgICAgIAoKICAgICAgICBtYXJrZXJfNTc1OTgwNDNjNGJhNGFlNjgwMjQ3YmEyMGYxNGY4ZWUuYmluZFBvcHVwKHBvcHVwXzM5MmE1Mjg0NjVmYzQ0NzFhODQwMDAxZTA5NjE2ZjA1KQogICAgICAgIDsKCiAgICAgICAgCiAgICAKICAgIAogICAgICAgICAgICB2YXIgbWFya2VyX2NiZmFiOTcyZjg1YjRhNWI5YWI2MzYyMjA0Mjk5ZmJmID0gTC5tYXJrZXIoCiAgICAgICAgICAgICAgICBbNDIuOTAxMjM3NDM5MDAwMDUsIC03Ny4yNjk2MzYwNjM5OTk5NF0sCiAgICAgICAgICAgICAgICB7fQogICAgICAgICAgICApLmFkZFRvKG1hcmtlcl9jbHVzdGVyX2QyNTczMGI4ZGVhZjRkN2M4MmZkZDBiZDg0NzcyMmNkKTsKICAgICAgICAKICAgIAogICAgICAgIHZhciBwb3B1cF9lMzAyODg5YTIxMDk0YWFlOTFiMTFhNjFlZWRhMDMwMSA9IEwucG9wdXAoeyJtYXhXaWR0aCI6ICIxMDAlIn0pOwoKICAgICAgICAKICAgICAgICAgICAgdmFyIGh0bWxfZjRkMjA2MzY1ZmZmNGQ5ZmFhYjhiODdmZGM4Zjc4MDQgPSAkKGA8ZGl2IGlkPSJodG1sX2Y0ZDIwNjM2NWZmZjRkOWZhYWI4Yjg3ZmRjOGY3ODA0IiBzdHlsZT0id2lkdGg6IDEwMC4wJTsgaGVpZ2h0OiAxMDAuMCU7Ij5WQSBNRURJQ0FMIENFTlRFUiAtIENBTkFOREFJR1VBPC9kaXY+YClbMF07CiAgICAgICAgICAgIHBvcHVwX2UzMDI4ODlhMjEwOTRhYWU5MWIxMWE2MWVlZGEwMzAxLnNldENvbnRlbnQoaHRtbF9mNGQyMDYzNjVmZmY0ZDlmYWFiOGI4N2ZkYzhmNzgwNCk7CiAgICAgICAgCgogICAgICAgIG1hcmtlcl9jYmZhYjk3MmY4NWI0YTViOWFiNjM2MjIwNDI5OWZiZi5iaW5kUG9wdXAocG9wdXBfZTMwMjg4OWEyMTA5NGFhZTkxYjExYTYxZWVkYTAzMDEpCiAgICAgICAgOwoKICAgICAgICAKICAgIAogICAgCiAgICAgICAgICAgIHZhciBtYXJrZXJfZjE4YzNiMjNiOGVhNDk4YmIwNjRiMGUzMDk5ZmFjZDUgPSBMLm1hcmtlcigKICAgICAgICAgICAgICAgIFs0MC44NjczNDg2NTgwMDAwMjYsIC03My45MDYzODIwODU5OTk5NV0sCiAgICAgICAgICAgICAgICB7fQogICAgICAgICAgICApLmFkZFRvKG1hcmtlcl9jbHVzdGVyX2QyNTczMGI4ZGVhZjRkN2M4MmZkZDBiZDg0NzcyMmNkKTsKICAgICAgICAKICAgIAogICAgICAgIHZhciBwb3B1cF8yNTFlN2MyYmQ3N2Y0ZWNjYmZjNTgyODAzNGM1MjFiMSA9IEwucG9wdXAoeyJtYXhXaWR0aCI6ICIxMDAlIn0pOwoKICAgICAgICAKICAgICAgICAgICAgdmFyIGh0bWxfMWE3MTFkM2ZjZWNmNGViNmJlMmM2M2JhN2NmNmQ5ZjQgPSAkKGA8ZGl2IGlkPSJodG1sXzFhNzExZDNmY2VjZjRlYjZiZTJjNjNiYTdjZjZkOWY0IiBzdHlsZT0id2lkdGg6IDEwMC4wJTsgaGVpZ2h0OiAxMDAuMCU7Ij5KQU1FUyBKLiBQRVRFUlMgVkEgTUVESUNBTCBDRU5URVI8L2Rpdj5gKVswXTsKICAgICAgICAgICAgcG9wdXBfMjUxZTdjMmJkNzdmNGVjY2JmYzU4MjgwMzRjNTIxYjEuc2V0Q29udGVudChodG1sXzFhNzExZDNmY2VjZjRlYjZiZTJjNjNiYTdjZjZkOWY0KTsKICAgICAgICAKCiAgICAgICAgbWFya2VyX2YxOGMzYjIzYjhlYTQ5OGJiMDY0YjBlMzA5OWZhY2Q1LmJpbmRQb3B1cChwb3B1cF8yNTFlN2MyYmQ3N2Y0ZWNjYmZjNTgyODAzNGM1MjFiMSkKICAgICAgICA7CgogICAgICAgIAogICAgCiAgICAKICAgICAgICAgICAgdmFyIG1hcmtlcl9iYWQ0MDUyOGVjNDY0NzhkYWRiZDgxMjUyMmZkYmZiZiA9IEwubWFya2VyKAogICAgICAgICAgICAgICAgWzQxLjI2NjM5MTMxNzAwMDA0LCAtNzMuNjIwNzE3NTEzOTk5OTZdLAogICAgICAgICAgICAgICAge30KICAgICAgICAgICAgKS5hZGRUbyhtYXJrZXJfY2x1c3Rlcl9kMjU3MzBiOGRlYWY0ZDdjODJmZGQwYmQ4NDc3MjJjZCk7CiAgICAgICAgCiAgICAKICAgICAgICB2YXIgcG9wdXBfNmI1ZDFkYjU5Nzk5NDA5Y2IxOTFhOTZhMWUzOGQyNDUgPSBMLnBvcHVwKHsibWF4V2lkdGgiOiAiMTAwJSJ9KTsKCiAgICAgICAgCiAgICAgICAgICAgIHZhciBodG1sXzBlYWEyNzcxOTA4ODRmYzVhNWNmMGJjZTRlZDhjZTQ2ID0gJChgPGRpdiBpZD0iaHRtbF8wZWFhMjc3MTkwODg0ZmM1YTVjZjBiY2U0ZWQ4Y2U0NiIgc3R5bGU9IndpZHRoOiAxMDAuMCU7IGhlaWdodDogMTAwLjAlOyI+Rk9VUiBXSU5EUyBIT1NQSVRBTCBXRVNUQ0hFU1RFUjwvZGl2PmApWzBdOwogICAgICAgICAgICBwb3B1cF82YjVkMWRiNTk3OTk0MDljYjE5MWE5NmExZTM4ZDI0NS5zZXRDb250ZW50KGh0bWxfMGVhYTI3NzE5MDg4NGZjNWE1Y2YwYmNlNGVkOGNlNDYpOwogICAgICAgIAoKICAgICAgICBtYXJrZXJfYmFkNDA1MjhlYzQ2NDc4ZGFkYmQ4MTI1MjJmZGJmYmYuYmluZFBvcHVwKHBvcHVwXzZiNWQxZGI1OTc5OTQwOWNiMTkxYTk2YTFlMzhkMjQ1KQogICAgICAgIDsKCiAgICAgICAgCiAgICAKICAgIAogICAgICAgICAgICB2YXIgbWFya2VyXzY3NWY4N2UwNTI3MTRmMmRhMjI2M2UzMDU4NmJlNDQ2ID0gTC5tYXJrZXIoCiAgICAgICAgICAgICAgICBbNDMuMDU4MTMwNDY5MDAwMDM0LCAtNzMuNzg1Mzk2MDU5OTk5OThdLAogICAgICAgICAgICAgICAge30KICAgICAgICAgICAgKS5hZGRUbyhtYXJrZXJfY2x1c3Rlcl9kMjU3MzBiOGRlYWY0ZDdjODJmZGQwYmQ4NDc3MjJjZCk7CiAgICAgICAgCiAgICAKICAgICAgICB2YXIgcG9wdXBfODc0ZjlkNGEyNjQ3NDQ0MGI1N2JkNDBhMjE1YmJiMDIgPSBMLnBvcHVwKHsibWF4V2lkdGgiOiAiMTAwJSJ9KTsKCiAgICAgICAgCiAgICAgICAgICAgIHZhciBodG1sX2Q5NTVjYTc0NzI3ZDQ4MzM5MDlhNDExYmZlZjVmMTFlID0gJChgPGRpdiBpZD0iaHRtbF9kOTU1Y2E3NDcyN2Q0ODMzOTA5YTQxMWJmZWY1ZjExZSIgc3R5bGU9IndpZHRoOiAxMDAuMCU7IGhlaWdodDogMTAwLjAlOyI+Rk9VUiBXSU5EUyBIT1NQSVRBTCBTQVJBVE9HQTwvZGl2PmApWzBdOwogICAgICAgICAgICBwb3B1cF84NzRmOWQ0YTI2NDc0NDQwYjU3YmQ0MGEyMTViYmIwMi5zZXRDb250ZW50KGh0bWxfZDk1NWNhNzQ3MjdkNDgzMzkwOWE0MTFiZmVmNWYxMWUpOwogICAgICAgIAoKICAgICAgICBtYXJrZXJfNjc1Zjg3ZTA1MjcxNGYyZGEyMjYzZTMwNTg2YmU0NDYuYmluZFBvcHVwKHBvcHVwXzg3NGY5ZDRhMjY0NzQ0NDBiNTdiZDQwYTIxNWJiYjAyKQogICAgICAgIDsKCiAgICAgICAgCiAgICAKICAgIAogICAgICAgICAgICB2YXIgbWFya2VyXzQwMWNiMWNiY2Q0ZDQwYWU4NGFkNGNhZDQwNmIzZjg4ID0gTC5tYXJrZXIoCiAgICAgICAgICAgICAgICBbNDMuMDQ1MTkzNzU0MDAwMDIsIC03Ni4xNDA1NDQ0NTA5OTk5OF0sCiAgICAgICAgICAgICAgICB7fQogICAgICAgICAgICApLmFkZFRvKG1hcmtlcl9jbHVzdGVyX2QyNTczMGI4ZGVhZjRkN2M4MmZkZDBiZDg0NzcyMmNkKTsKICAgICAgICAKICAgIAogICAgICAgIHZhciBwb3B1cF8yYWY5MmI2MzYwOTg0OGYyOWU1ODM5OTNiYWM2MGJjOSA9IEwucG9wdXAoeyJtYXhXaWR0aCI6ICIxMDAlIn0pOwoKICAgICAgICAKICAgICAgICAgICAgdmFyIGh0bWxfMDQ4NTNlNjk0OGIwNGJmOWFkMzY4NjYzZTBkZTNmNTEgPSAkKGA8ZGl2IGlkPSJodG1sXzA0ODUzZTY5NDhiMDRiZjlhZDM2ODY2M2UwZGUzZjUxIiBzdHlsZT0id2lkdGg6IDEwMC4wJTsgaGVpZ2h0OiAxMDAuMCU7Ij5IVVRDSElOR1MgUFNZQ0hJQVRSSUMgQ0VOVEVSPC9kaXY+YClbMF07CiAgICAgICAgICAgIHBvcHVwXzJhZjkyYjYzNjA5ODQ4ZjI5ZTU4Mzk5M2JhYzYwYmM5LnNldENvbnRlbnQoaHRtbF8wNDg1M2U2OTQ4YjA0YmY5YWQzNjg2NjNlMGRlM2Y1MSk7CiAgICAgICAgCgogICAgICAgIG1hcmtlcl80MDFjYjFjYmNkNGQ0MGFlODRhZDRjYWQ0MDZiM2Y4OC5iaW5kUG9wdXAocG9wdXBfMmFmOTJiNjM2MDk4NDhmMjllNTgzOTkzYmFjNjBiYzkpCiAgICAgICAgOwoKICAgICAgICAKICAgIAogICAgCiAgICAgICAgICAgIHZhciBtYXJrZXJfZWQxNGFkMWQ3N2IwNDNiZTk3YjcwZGI5NzIyYjViOWMgPSBMLm1hcmtlcigKICAgICAgICAgICAgICAgIFs0MC41MTY1NjkyODAwMDAwNSwgLTc0LjE5NjQ2NjA4OTk5OTkzXSwKICAgICAgICAgICAgICAgIHt9CiAgICAgICAgICAgICkuYWRkVG8obWFya2VyX2NsdXN0ZXJfZDI1NzMwYjhkZWFmNGQ3YzgyZmRkMGJkODQ3NzIyY2QpOwogICAgICAgIAogICAgCiAgICAgICAgdmFyIHBvcHVwX2E2MmIzY2JkYWQxMTRmYmM5NGUzODUzODdhMDFjMWQxID0gTC5wb3B1cCh7Im1heFdpZHRoIjogIjEwMCUifSk7CgogICAgICAgIAogICAgICAgICAgICB2YXIgaHRtbF81YTJhOWU4YjM3NGI0NTYyOTg4MTVkZWQyNzFhMWFmYSA9ICQoYDxkaXYgaWQ9Imh0bWxfNWEyYTllOGIzNzRiNDU2Mjk4ODE1ZGVkMjcxYTFhZmEiIHN0eWxlPSJ3aWR0aDogMTAwLjAlOyBoZWlnaHQ6IDEwMC4wJTsiPlNUQVRFTiBJU0xBTkQgVU5JVkVSU0lUWSBIT1NQSVRBTCAtIFNPVVRIPC9kaXY+YClbMF07CiAgICAgICAgICAgIHBvcHVwX2E2MmIzY2JkYWQxMTRmYmM5NGUzODUzODdhMDFjMWQxLnNldENvbnRlbnQoaHRtbF81YTJhOWU4YjM3NGI0NTYyOTg4MTVkZWQyNzFhMWFmYSk7CiAgICAgICAgCgogICAgICAgIG1hcmtlcl9lZDE0YWQxZDc3YjA0M2JlOTdiNzBkYjk3MjJiNWI5Yy5iaW5kUG9wdXAocG9wdXBfYTYyYjNjYmRhZDExNGZiYzk0ZTM4NTM4N2EwMWMxZDEpCiAgICAgICAgOwoKICAgICAgICAKICAgIAogICAgCiAgICAgICAgICAgIHZhciBtYXJrZXJfYzAzOTRkNWU5N2M2NGE0ZWEwYjBmMWMzNGFlOTJlNjUgPSBMLm1hcmtlcigKICAgICAgICAgICAgICAgIFs0MC43NjQyNzQzMTcwMDAwNiwgLTczLjk1NjU5NTUxNjk5OTk4XSwKICAgICAgICAgICAgICAgIHt9CiAgICAgICAgICAgICkuYWRkVG8obWFya2VyX2NsdXN0ZXJfZDI1NzMwYjhkZWFmNGQ3YzgyZmRkMGJkODQ3NzIyY2QpOwogICAgICAgIAogICAgCiAgICAgICAgdmFyIHBvcHVwXzU1NTY1ODRlNzIyNDRiYTRhYTNkNGU1MjA2NTk0MWNiID0gTC5wb3B1cCh7Im1heFdpZHRoIjogIjEwMCUifSk7CgogICAgICAgIAogICAgICAgICAgICB2YXIgaHRtbF8zN2YwZGY2MDZjMGU0NjdmYWFiMzMwYWExOWM2YWRmNiA9ICQoYDxkaXYgaWQ9Imh0bWxfMzdmMGRmNjA2YzBlNDY3ZmFhYjMzMGFhMTljNmFkZjYiIHN0eWxlPSJ3aWR0aDogMTAwLjAlOyBoZWlnaHQ6IDEwMC4wJTsiPk1FTU9SSUFMIEhPU1BJVEFMIEZPUiBDQU5DRVIgQU5EIEFMTElFRCBESVNFQVNFUzwvZGl2PmApWzBdOwogICAgICAgICAgICBwb3B1cF81NTU2NTg0ZTcyMjQ0YmE0YWEzZDRlNTIwNjU5NDFjYi5zZXRDb250ZW50KGh0bWxfMzdmMGRmNjA2YzBlNDY3ZmFhYjMzMGFhMTljNmFkZjYpOwogICAgICAgIAoKICAgICAgICBtYXJrZXJfYzAzOTRkNWU5N2M2NGE0ZWEwYjBmMWMzNGFlOTJlNjUuYmluZFBvcHVwKHBvcHVwXzU1NTY1ODRlNzIyNDRiYTRhYTNkNGU1MjA2NTk0MWNiKQogICAgICAgIDsKCiAgICAgICAgCiAgICAKICAgIAogICAgICAgICAgICB2YXIgbWFya2VyXzQ1M2E1NjY5ZTQzNjQzOTc4YjUyMWQ1Njg0NjVmYzJkID0gTC5tYXJrZXIoCiAgICAgICAgICAgICAgICBbNDIuMTIyNDIxMDgxMDAwMDM0LCAtNzcuOTUwOTAxMzAzOTk5OTRdLAogICAgICAgICAgICAgICAge30KICAgICAgICAgICAgKS5hZGRUbyhtYXJrZXJfY2x1c3Rlcl9kMjU3MzBiOGRlYWY0ZDdjODJmZGQwYmQ4NDc3MjJjZCk7CiAgICAgICAgCiAgICAKICAgICAgICB2YXIgcG9wdXBfZjVkMjMxOWRhM2M4NDllYzgwZGMxMTgwZDlhOGVkZmIgPSBMLnBvcHVwKHsibWF4V2lkdGgiOiAiMTAwJSJ9KTsKCiAgICAgICAgCiAgICAgICAgICAgIHZhciBodG1sXzFmODMzNTc2NDY3ZjQwNWQ4Y2RiYTRmMjgxM2YyMzM3ID0gJChgPGRpdiBpZD0iaHRtbF8xZjgzMzU3NjQ2N2Y0MDVkOGNkYmE0ZjI4MTNmMjMzNyIgc3R5bGU9IndpZHRoOiAxMDAuMCU7IGhlaWdodDogMTAwLjAlOyI+Sk9ORVMgTUVNT1JJQUwgSE9TUElUQUw8L2Rpdj5gKVswXTsKICAgICAgICAgICAgcG9wdXBfZjVkMjMxOWRhM2M4NDllYzgwZGMxMTgwZDlhOGVkZmIuc2V0Q29udGVudChodG1sXzFmODMzNTc2NDY3ZjQwNWQ4Y2RiYTRmMjgxM2YyMzM3KTsKICAgICAgICAKCiAgICAgICAgbWFya2VyXzQ1M2E1NjY5ZTQzNjQzOTc4YjUyMWQ1Njg0NjVmYzJkLmJpbmRQb3B1cChwb3B1cF9mNWQyMzE5ZGEzYzg0OWVjODBkYzExODBkOWE4ZWRmYikKICAgICAgICA7CgogICAgICAgIAogICAgCiAgICAKICAgICAgICAgICAgdmFyIG1hcmtlcl81NjEwYjY3ZmExOWE0NzU3OTE4YjhmZGI0YzQ0ZDBhOSA9IEwubWFya2VyKAogICAgICAgICAgICAgICAgWzQyLjI0NjM0NDc2NzAwMDAyNSwgLTczLjc3NzQ1MjUyNTk5OTkzXSwKICAgICAgICAgICAgICAgIHt9CiAgICAgICAgICAgICkuYWRkVG8obWFya2VyX2NsdXN0ZXJfZDI1NzMwYjhkZWFmNGQ3YzgyZmRkMGJkODQ3NzIyY2QpOwogICAgICAgIAogICAgCiAgICAgICAgdmFyIHBvcHVwXzFjNGIwYjM0YTgyMzRiMTM5OGMzMDNlMzg5N2I2YTAyID0gTC5wb3B1cCh7Im1heFdpZHRoIjogIjEwMCUifSk7CgogICAgICAgIAogICAgICAgICAgICB2YXIgaHRtbF9iOTgyNTg3MGI0ZWY0YzZhODRjYWE1MDYyMDJhMmFjNCA9ICQoYDxkaXYgaWQ9Imh0bWxfYjk4MjU4NzBiNGVmNGM2YTg0Y2FhNTA2MjAyYTJhYzQiIHN0eWxlPSJ3aWR0aDogMTAwLjAlOyBoZWlnaHQ6IDEwMC4wJTsiPkNPTFVNQklBIE1FTU9SSUFMIEhPU1BJVEFMPC9kaXY+YClbMF07CiAgICAgICAgICAgIHBvcHVwXzFjNGIwYjM0YTgyMzRiMTM5OGMzMDNlMzg5N2I2YTAyLnNldENvbnRlbnQoaHRtbF9iOTgyNTg3MGI0ZWY0YzZhODRjYWE1MDYyMDJhMmFjNCk7CiAgICAgICAgCgogICAgICAgIG1hcmtlcl81NjEwYjY3ZmExOWE0NzU3OTE4YjhmZGI0YzQ0ZDBhOS5iaW5kUG9wdXAocG9wdXBfMWM0YjBiMzRhODIzNGIxMzk4YzMwM2UzODk3YjZhMDIpCiAgICAgICAgOwoKICAgICAgICAKICAgIAogICAgCiAgICAgICAgICAgIHZhciBtYXJrZXJfNzI5YzQ0ZTg5MWYyNDQxYmFkZDQ2MGZkNjRhYTcwMjYgPSBMLm1hcmtlcigKICAgICAgICAgICAgICAgIFs0Mi4xNDA2MDAzNjMwMDAwMiwgLTc3LjA0NzQxMDM5NDk5OTk5XSwKICAgICAgICAgICAgICAgIHt9CiAgICAgICAgICAgICkuYWRkVG8obWFya2VyX2NsdXN0ZXJfZDI1NzMwYjhkZWFmNGQ3YzgyZmRkMGJkODQ3NzIyY2QpOwogICAgICAgIAogICAgCiAgICAgICAgdmFyIHBvcHVwXzc2NmU4NGU2N2JlYzRhMWY5OWEzNWVkMmU5MWQzZWNhID0gTC5wb3B1cCh7Im1heFdpZHRoIjogIjEwMCUifSk7CgogICAgICAgIAogICAgICAgICAgICB2YXIgaHRtbF82NjQ2YjNiNTQwNmE0YzA2OTdjYTFlMDIwNzNlMjhiMSA9ICQoYDxkaXYgaWQ9Imh0bWxfNjY0NmIzYjU0MDZhNGMwNjk3Y2ExZTAyMDczZTI4YjEiIHN0eWxlPSJ3aWR0aDogMTAwLjAlOyBoZWlnaHQ6IDEwMC4wJTsiPkdVVEhSSUUgQ09STklORyBIT1NQSVRBTDwvZGl2PmApWzBdOwogICAgICAgICAgICBwb3B1cF83NjZlODRlNjdiZWM0YTFmOTlhMzVlZDJlOTFkM2VjYS5zZXRDb250ZW50KGh0bWxfNjY0NmIzYjU0MDZhNGMwNjk3Y2ExZTAyMDczZTI4YjEpOwogICAgICAgIAoKICAgICAgICBtYXJrZXJfNzI5YzQ0ZTg5MWYyNDQxYmFkZDQ2MGZkNjRhYTcwMjYuYmluZFBvcHVwKHBvcHVwXzc2NmU4NGU2N2JlYzRhMWY5OWEzNWVkMmU5MWQzZWNhKQogICAgICAgIDsKCiAgICAgICAgCiAgICAKICAgIAogICAgICAgICAgICB2YXIgbWFya2VyXzNkNjI4YWJmMDI4MzQwZmU4Y2FlOWQ2OTlkY2FlMTA5ID0gTC5tYXJrZXIoCiAgICAgICAgICAgICAgICBbNDAuOTM0MjYzOTg1MDAwMDQsIC03Mi42NzM2MjQ5NDg5OTk5OV0sCiAgICAgICAgICAgICAgICB7fQogICAgICAgICAgICApLmFkZFRvKG1hcmtlcl9jbHVzdGVyX2QyNTczMGI4ZGVhZjRkN2M4MmZkZDBiZDg0NzcyMmNkKTsKICAgICAgICAKICAgIAogICAgICAgIHZhciBwb3B1cF84Nzk1NTBjNzc1YWU0NjBjYjFjNTg0MzJhZGQyZTIxNSA9IEwucG9wdXAoeyJtYXhXaWR0aCI6ICIxMDAlIn0pOwoKICAgICAgICAKICAgICAgICAgICAgdmFyIGh0bWxfZjRlNjc0YzgxMzE4NGVjOTljYjNlN2I1YjdjNjcxMWIgPSAkKGA8ZGl2IGlkPSJodG1sX2Y0ZTY3NGM4MTMxODRlYzk5Y2IzZTdiNWI3YzY3MTFiIiBzdHlsZT0id2lkdGg6IDEwMC4wJTsgaGVpZ2h0OiAxMDAuMCU7Ij5QRUNPTklDIEJBWSBNRURJQ0FMIENFTlRFUjwvZGl2PmApWzBdOwogICAgICAgICAgICBwb3B1cF84Nzk1NTBjNzc1YWU0NjBjYjFjNTg0MzJhZGQyZTIxNS5zZXRDb250ZW50KGh0bWxfZjRlNjc0YzgxMzE4NGVjOTljYjNlN2I1YjdjNjcxMWIpOwogICAgICAgIAoKICAgICAgICBtYXJrZXJfM2Q2MjhhYmYwMjgzNDBmZThjYWU5ZDY5OWRjYWUxMDkuYmluZFBvcHVwKHBvcHVwXzg3OTU1MGM3NzVhZTQ2MGNiMWM1ODQzMmFkZDJlMjE1KQogICAgICAgIDsKCiAgICAgICAgCiAgICAKPC9zY3JpcHQ+\" style=\"position:absolute;width:100%;height:100%;left:0;top:0;border:none !important;\" allowfullscreen webkitallowfullscreen mozallowfullscreen></iframe></div></div>"
      ],
      "text/plain": [
       "<folium.folium.Map at 0x7faf00d2b190>"
      ]
     },
     "execution_count": 168,
     "metadata": {},
     "output_type": "execute_result"
    }
   ],
   "source": [
    "# Reference: # Source https://medium.com/@bobhaffner/folium-markerclusters-and-fastmarkerclusters-1e03b01cb7b1\n",
    "\n",
    "from folium.plugins import MarkerCluster\n",
    "\n",
    "m = folium.Map(\n",
    "    location=[\n",
    "        ny_hosp['Y'].mean(), \n",
    "        ny_hosp['X'].mean()\n",
    "    ], \n",
    "    zoom_start=6,\n",
    ")\n",
    "\n",
    "mc = MarkerCluster()\n",
    "\n",
    "#creating a Marker for each point in df_sample. Each point will get a popup with their zip\n",
    "for row in ny_hosp.itertuples():\n",
    "    mc.add_child(\n",
    "        folium.Marker(\n",
    "            location=[row.Y,  row.X],\n",
    "            popup=row.NAME))\n",
    " \n",
    "    m.add_child(mc)\n",
    "    \n",
    "m   "
   ]
  },
  {
   "cell_type": "code",
   "execution_count": null,
   "metadata": {},
   "outputs": [],
   "source": [
    "m.save"
   ]
  }
 ],
 "metadata": {
  "kernelspec": {
   "display_name": "Python 3",
   "language": "python",
   "name": "python3"
  },
  "language_info": {
   "codemirror_mode": {
    "name": "ipython",
    "version": 3
   },
   "file_extension": ".py",
   "mimetype": "text/x-python",
   "name": "python",
   "nbconvert_exporter": "python",
   "pygments_lexer": "ipython3",
   "version": "3.7.4"
  },
  "toc": {
   "base_numbering": 1,
   "nav_menu": {},
   "number_sections": false,
   "sideBar": true,
   "skip_h1_title": false,
   "title_cell": "Table of Contents",
   "title_sidebar": "Contents",
   "toc_cell": true,
   "toc_position": {
    "height": "calc(100% - 180px)",
    "left": "10px",
    "top": "150px",
    "width": "165px"
   },
   "toc_section_display": true,
   "toc_window_display": true
  }
 },
 "nbformat": 4,
 "nbformat_minor": 2
}
